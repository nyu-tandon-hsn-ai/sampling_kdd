{
 "cells": [
  {
   "cell_type": "code",
   "execution_count": 63,
   "metadata": {
    "collapsed": true
   },
   "outputs": [],
   "source": [
    "import pandas as pd"
   ]
  },
  {
   "cell_type": "code",
   "execution_count": 65,
   "metadata": {},
   "outputs": [],
   "source": [
    "df = pd.read_csv(\"/Users/tsaiflow/Desktop/NN&Sampling/data/PKT_sampling/dos_PKT_sampling@50%.csv\", header=None)"
   ]
  },
  {
   "cell_type": "code",
   "execution_count": 66,
   "metadata": {},
   "outputs": [
    {
     "data": {
      "text/html": [
       "<div>\n",
       "<style>\n",
       "    .dataframe thead tr:only-child th {\n",
       "        text-align: right;\n",
       "    }\n",
       "\n",
       "    .dataframe thead th {\n",
       "        text-align: left;\n",
       "    }\n",
       "\n",
       "    .dataframe tbody tr th {\n",
       "        vertical-align: top;\n",
       "    }\n",
       "</style>\n",
       "<table border=\"1\" class=\"dataframe\">\n",
       "  <thead>\n",
       "    <tr style=\"text-align: right;\">\n",
       "      <th></th>\n",
       "      <th>0</th>\n",
       "      <th>1</th>\n",
       "      <th>2</th>\n",
       "      <th>3</th>\n",
       "    </tr>\n",
       "  </thead>\n",
       "  <tbody>\n",
       "    <tr>\n",
       "      <th>0</th>\n",
       "      <td>0</td>\n",
       "      <td>1032</td>\n",
       "      <td>0</td>\n",
       "      <td>dos</td>\n",
       "    </tr>\n",
       "    <tr>\n",
       "      <th>1</th>\n",
       "      <td>0</td>\n",
       "      <td>1032</td>\n",
       "      <td>0</td>\n",
       "      <td>dos</td>\n",
       "    </tr>\n",
       "    <tr>\n",
       "      <th>2</th>\n",
       "      <td>0</td>\n",
       "      <td>1032</td>\n",
       "      <td>0</td>\n",
       "      <td>dos</td>\n",
       "    </tr>\n",
       "    <tr>\n",
       "      <th>3</th>\n",
       "      <td>0</td>\n",
       "      <td>520</td>\n",
       "      <td>0</td>\n",
       "      <td>dos</td>\n",
       "    </tr>\n",
       "    <tr>\n",
       "      <th>4</th>\n",
       "      <td>0</td>\n",
       "      <td>520</td>\n",
       "      <td>0</td>\n",
       "      <td>dos</td>\n",
       "    </tr>\n",
       "  </tbody>\n",
       "</table>\n",
       "</div>"
      ],
      "text/plain": [
       "   0     1  2    3\n",
       "0  0  1032  0  dos\n",
       "1  0  1032  0  dos\n",
       "2  0  1032  0  dos\n",
       "3  0   520  0  dos\n",
       "4  0   520  0  dos"
      ]
     },
     "execution_count": 66,
     "metadata": {},
     "output_type": "execute_result"
    }
   ],
   "source": [
    "df.head(5)"
   ]
  },
  {
   "cell_type": "code",
   "execution_count": 67,
   "metadata": {},
   "outputs": [
    {
     "name": "stdout",
     "output_type": "stream",
     "text": [
      "Read 17240 rows.\n"
     ]
    }
   ],
   "source": [
    "print(\"Read {} rows.\".format(len(df)))"
   ]
  },
  {
   "cell_type": "code",
   "execution_count": 68,
   "metadata": {
    "collapsed": true
   },
   "outputs": [],
   "source": [
    "df.columns = ['duration', 'forw_byte', 'back_byte','outcome']"
   ]
  },
  {
   "cell_type": "code",
   "execution_count": 69,
   "metadata": {
    "collapsed": true
   },
   "outputs": [],
   "source": [
    "df['total_byte']=df['forw_byte'] + df['back_byte']"
   ]
  },
  {
   "cell_type": "code",
   "execution_count": 70,
   "metadata": {
    "collapsed": true
   },
   "outputs": [],
   "source": [
    "cols = ['duration', 'forw_byte', 'back_byte','total_byte','outcome']\n",
    "df = df[cols]"
   ]
  },
  {
   "cell_type": "code",
   "execution_count": 71,
   "metadata": {
    "collapsed": true
   },
   "outputs": [],
   "source": [
    "#del df['total_byte']"
   ]
  },
  {
   "cell_type": "code",
   "execution_count": 72,
   "metadata": {
    "collapsed": true
   },
   "outputs": [],
   "source": [
    "df1 = df[df.total_byte!=0]"
   ]
  },
  {
   "cell_type": "code",
   "execution_count": 73,
   "metadata": {},
   "outputs": [
    {
     "name": "stdout",
     "output_type": "stream",
     "text": [
      "Read 12462 rows.\n"
     ]
    }
   ],
   "source": [
    "print(\"Read {} rows.\".format(len(df1)))"
   ]
  },
  {
   "cell_type": "code",
   "execution_count": 74,
   "metadata": {},
   "outputs": [
    {
     "data": {
      "text/html": [
       "<div>\n",
       "<style>\n",
       "    .dataframe thead tr:only-child th {\n",
       "        text-align: right;\n",
       "    }\n",
       "\n",
       "    .dataframe thead th {\n",
       "        text-align: left;\n",
       "    }\n",
       "\n",
       "    .dataframe tbody tr th {\n",
       "        vertical-align: top;\n",
       "    }\n",
       "</style>\n",
       "<table border=\"1\" class=\"dataframe\">\n",
       "  <thead>\n",
       "    <tr style=\"text-align: right;\">\n",
       "      <th></th>\n",
       "      <th>duration</th>\n",
       "      <th>forw_byte</th>\n",
       "      <th>back_byte</th>\n",
       "      <th>total_byte</th>\n",
       "      <th>outcome</th>\n",
       "    </tr>\n",
       "  </thead>\n",
       "  <tbody>\n",
       "    <tr>\n",
       "      <th>0</th>\n",
       "      <td>0</td>\n",
       "      <td>1032</td>\n",
       "      <td>0</td>\n",
       "      <td>1032</td>\n",
       "      <td>dos</td>\n",
       "    </tr>\n",
       "    <tr>\n",
       "      <th>1</th>\n",
       "      <td>0</td>\n",
       "      <td>1032</td>\n",
       "      <td>0</td>\n",
       "      <td>1032</td>\n",
       "      <td>dos</td>\n",
       "    </tr>\n",
       "    <tr>\n",
       "      <th>2</th>\n",
       "      <td>0</td>\n",
       "      <td>1032</td>\n",
       "      <td>0</td>\n",
       "      <td>1032</td>\n",
       "      <td>dos</td>\n",
       "    </tr>\n",
       "    <tr>\n",
       "      <th>3</th>\n",
       "      <td>0</td>\n",
       "      <td>520</td>\n",
       "      <td>0</td>\n",
       "      <td>520</td>\n",
       "      <td>dos</td>\n",
       "    </tr>\n",
       "    <tr>\n",
       "      <th>4</th>\n",
       "      <td>0</td>\n",
       "      <td>520</td>\n",
       "      <td>0</td>\n",
       "      <td>520</td>\n",
       "      <td>dos</td>\n",
       "    </tr>\n",
       "    <tr>\n",
       "      <th>5</th>\n",
       "      <td>0</td>\n",
       "      <td>1032</td>\n",
       "      <td>0</td>\n",
       "      <td>1032</td>\n",
       "      <td>dos</td>\n",
       "    </tr>\n",
       "    <tr>\n",
       "      <th>6</th>\n",
       "      <td>0</td>\n",
       "      <td>1032</td>\n",
       "      <td>0</td>\n",
       "      <td>1032</td>\n",
       "      <td>dos</td>\n",
       "    </tr>\n",
       "    <tr>\n",
       "      <th>7</th>\n",
       "      <td>0</td>\n",
       "      <td>1032</td>\n",
       "      <td>0</td>\n",
       "      <td>1032</td>\n",
       "      <td>dos</td>\n",
       "    </tr>\n",
       "    <tr>\n",
       "      <th>10</th>\n",
       "      <td>0</td>\n",
       "      <td>1032</td>\n",
       "      <td>0</td>\n",
       "      <td>1032</td>\n",
       "      <td>dos</td>\n",
       "    </tr>\n",
       "    <tr>\n",
       "      <th>12</th>\n",
       "      <td>0</td>\n",
       "      <td>1032</td>\n",
       "      <td>0</td>\n",
       "      <td>1032</td>\n",
       "      <td>dos</td>\n",
       "    </tr>\n",
       "  </tbody>\n",
       "</table>\n",
       "</div>"
      ],
      "text/plain": [
       "    duration  forw_byte  back_byte  total_byte outcome\n",
       "0          0       1032          0        1032     dos\n",
       "1          0       1032          0        1032     dos\n",
       "2          0       1032          0        1032     dos\n",
       "3          0        520          0         520     dos\n",
       "4          0        520          0         520     dos\n",
       "5          0       1032          0        1032     dos\n",
       "6          0       1032          0        1032     dos\n",
       "7          0       1032          0        1032     dos\n",
       "10         0       1032          0        1032     dos\n",
       "12         0       1032          0        1032     dos"
      ]
     },
     "execution_count": 74,
     "metadata": {},
     "output_type": "execute_result"
    }
   ],
   "source": [
    "df1.head(10)"
   ]
  },
  {
   "cell_type": "code",
   "execution_count": 75,
   "metadata": {
    "collapsed": true
   },
   "outputs": [],
   "source": [
    "# df_normal = pd.read_csv(\"/Users/tsaiflow/Desktop/NN&Sampling/data/normal/flow_100_.csv\", header=None)"
   ]
  },
  {
   "cell_type": "code",
   "execution_count": 76,
   "metadata": {
    "collapsed": true
   },
   "outputs": [],
   "source": [
    "df_normal = pd.read_csv(\"/Users/tsaiflow/Desktop/NN&Sampling/data/PKT_sampling/rand/packet_rand_20.csv\", header=None)"
   ]
  },
  {
   "cell_type": "code",
   "execution_count": 77,
   "metadata": {},
   "outputs": [
    {
     "data": {
      "text/html": [
       "<div>\n",
       "<style>\n",
       "    .dataframe thead tr:only-child th {\n",
       "        text-align: right;\n",
       "    }\n",
       "\n",
       "    .dataframe thead th {\n",
       "        text-align: left;\n",
       "    }\n",
       "\n",
       "    .dataframe tbody tr th {\n",
       "        vertical-align: top;\n",
       "    }\n",
       "</style>\n",
       "<table border=\"1\" class=\"dataframe\">\n",
       "  <thead>\n",
       "    <tr style=\"text-align: right;\">\n",
       "      <th></th>\n",
       "      <th>0</th>\n",
       "      <th>1</th>\n",
       "      <th>2</th>\n",
       "      <th>3</th>\n",
       "      <th>4</th>\n",
       "      <th>5</th>\n",
       "      <th>6</th>\n",
       "      <th>7</th>\n",
       "      <th>8</th>\n",
       "      <th>9</th>\n",
       "      <th>10</th>\n",
       "      <th>11</th>\n",
       "      <th>12</th>\n",
       "    </tr>\n",
       "  </thead>\n",
       "  <tbody>\n",
       "    <tr>\n",
       "      <th>0</th>\n",
       "      <td>back_byte</td>\n",
       "      <td>back_pkt</td>\n",
       "      <td>tot_byte</td>\n",
       "      <td>dst_ip</td>\n",
       "      <td>dst_port</td>\n",
       "      <td>duration</td>\n",
       "      <td>forw_byte</td>\n",
       "      <td>forw_pkt</td>\n",
       "      <td>inter_arrival_time_summed</td>\n",
       "      <td>tot_packet</td>\n",
       "      <td>rel_start</td>\n",
       "      <td>src_ip</td>\n",
       "      <td>src_port</td>\n",
       "    </tr>\n",
       "    <tr>\n",
       "      <th>1</th>\n",
       "      <td>0</td>\n",
       "      <td>0</td>\n",
       "      <td>280105672</td>\n",
       "      <td>10.2.4.146</td>\n",
       "      <td>9876</td>\n",
       "      <td>48.289395</td>\n",
       "      <td>280105672</td>\n",
       "      <td>191893</td>\n",
       "      <td>48.289395</td>\n",
       "      <td>191893</td>\n",
       "      <td>0.000152</td>\n",
       "      <td>10.2.4.179</td>\n",
       "      <td>40920</td>\n",
       "    </tr>\n",
       "    <tr>\n",
       "      <th>2</th>\n",
       "      <td>1740</td>\n",
       "      <td>3</td>\n",
       "      <td>2020</td>\n",
       "      <td>10.2.25.108</td>\n",
       "      <td>60788</td>\n",
       "      <td>0.003993</td>\n",
       "      <td>280</td>\n",
       "      <td>2</td>\n",
       "      <td>0.003993</td>\n",
       "      <td>5</td>\n",
       "      <td>0.000154</td>\n",
       "      <td>10.2.253.247</td>\n",
       "      <td>51127</td>\n",
       "    </tr>\n",
       "    <tr>\n",
       "      <th>3</th>\n",
       "      <td>9720</td>\n",
       "      <td>15</td>\n",
       "      <td>14712</td>\n",
       "      <td>10.2.27.29</td>\n",
       "      <td>1571</td>\n",
       "      <td>48.000223</td>\n",
       "      <td>4992</td>\n",
       "      <td>45</td>\n",
       "      <td>48.000223</td>\n",
       "      <td>60</td>\n",
       "      <td>0.00031</td>\n",
       "      <td>10.2.27.33</td>\n",
       "      <td>55467</td>\n",
       "    </tr>\n",
       "    <tr>\n",
       "      <th>4</th>\n",
       "      <td>1038</td>\n",
       "      <td>61</td>\n",
       "      <td>257520</td>\n",
       "      <td>10.2.1.37</td>\n",
       "      <td>43634</td>\n",
       "      <td>37.432623</td>\n",
       "      <td>256482</td>\n",
       "      <td>189</td>\n",
       "      <td>37.432623</td>\n",
       "      <td>250</td>\n",
       "      <td>0.000314</td>\n",
       "      <td>10.2.1.32</td>\n",
       "      <td>1433</td>\n",
       "    </tr>\n",
       "  </tbody>\n",
       "</table>\n",
       "</div>"
      ],
      "text/plain": [
       "          0         1          2            3         4          5   \\\n",
       "0  back_byte  back_pkt   tot_byte       dst_ip  dst_port   duration   \n",
       "1          0         0  280105672   10.2.4.146      9876  48.289395   \n",
       "2       1740         3       2020  10.2.25.108     60788   0.003993   \n",
       "3       9720        15      14712   10.2.27.29      1571  48.000223   \n",
       "4       1038        61     257520    10.2.1.37     43634  37.432623   \n",
       "\n",
       "          6         7                          8           9          10  \\\n",
       "0  forw_byte  forw_pkt  inter_arrival_time_summed  tot_packet  rel_start   \n",
       "1  280105672    191893                  48.289395      191893   0.000152   \n",
       "2        280         2                   0.003993           5   0.000154   \n",
       "3       4992        45                  48.000223          60    0.00031   \n",
       "4     256482       189                  37.432623         250   0.000314   \n",
       "\n",
       "             11        12  \n",
       "0        src_ip  src_port  \n",
       "1    10.2.4.179     40920  \n",
       "2  10.2.253.247     51127  \n",
       "3    10.2.27.33     55467  \n",
       "4     10.2.1.32      1433  "
      ]
     },
     "execution_count": 77,
     "metadata": {},
     "output_type": "execute_result"
    }
   ],
   "source": [
    "df_normal.head(5)"
   ]
  },
  {
   "cell_type": "code",
   "execution_count": 78,
   "metadata": {},
   "outputs": [
    {
     "name": "stdout",
     "output_type": "stream",
     "text": [
      "Read 14474 rows.\n"
     ]
    }
   ],
   "source": [
    "print(\"Read {} rows.\".format(len(df_normal)))"
   ]
  },
  {
   "cell_type": "code",
   "execution_count": 79,
   "metadata": {
    "collapsed": true
   },
   "outputs": [],
   "source": [
    "# df_nc = df_normal[[0,3,4,8]]\n",
    "df_nc = df_normal[[5,6,0,2]]\n",
    "df_nr = df_nc.drop(df_normal.index[0])"
   ]
  },
  {
   "cell_type": "code",
   "execution_count": 80,
   "metadata": {
    "collapsed": true
   },
   "outputs": [],
   "source": [
    "# df_nr.drop([2])"
   ]
  },
  {
   "cell_type": "code",
   "execution_count": 81,
   "metadata": {},
   "outputs": [
    {
     "data": {
      "text/html": [
       "<div>\n",
       "<style>\n",
       "    .dataframe thead tr:only-child th {\n",
       "        text-align: right;\n",
       "    }\n",
       "\n",
       "    .dataframe thead th {\n",
       "        text-align: left;\n",
       "    }\n",
       "\n",
       "    .dataframe tbody tr th {\n",
       "        vertical-align: top;\n",
       "    }\n",
       "</style>\n",
       "<table border=\"1\" class=\"dataframe\">\n",
       "  <thead>\n",
       "    <tr style=\"text-align: right;\">\n",
       "      <th></th>\n",
       "      <th>5</th>\n",
       "      <th>6</th>\n",
       "      <th>0</th>\n",
       "      <th>2</th>\n",
       "    </tr>\n",
       "  </thead>\n",
       "  <tbody>\n",
       "    <tr>\n",
       "      <th>1</th>\n",
       "      <td>48.289395</td>\n",
       "      <td>280105672</td>\n",
       "      <td>0</td>\n",
       "      <td>280105672</td>\n",
       "    </tr>\n",
       "    <tr>\n",
       "      <th>2</th>\n",
       "      <td>0.003993</td>\n",
       "      <td>280</td>\n",
       "      <td>1740</td>\n",
       "      <td>2020</td>\n",
       "    </tr>\n",
       "    <tr>\n",
       "      <th>3</th>\n",
       "      <td>48.000223</td>\n",
       "      <td>4992</td>\n",
       "      <td>9720</td>\n",
       "      <td>14712</td>\n",
       "    </tr>\n",
       "    <tr>\n",
       "      <th>4</th>\n",
       "      <td>37.432623</td>\n",
       "      <td>256482</td>\n",
       "      <td>1038</td>\n",
       "      <td>257520</td>\n",
       "    </tr>\n",
       "    <tr>\n",
       "      <th>5</th>\n",
       "      <td>44.850561</td>\n",
       "      <td>150501</td>\n",
       "      <td>102046</td>\n",
       "      <td>252547</td>\n",
       "    </tr>\n",
       "  </tbody>\n",
       "</table>\n",
       "</div>"
      ],
      "text/plain": [
       "           5          6       0          2\n",
       "1  48.289395  280105672       0  280105672\n",
       "2   0.003993        280    1740       2020\n",
       "3  48.000223       4992    9720      14712\n",
       "4  37.432623     256482    1038     257520\n",
       "5  44.850561     150501  102046     252547"
      ]
     },
     "execution_count": 81,
     "metadata": {},
     "output_type": "execute_result"
    }
   ],
   "source": [
    "df_nr.head(5)"
   ]
  },
  {
   "cell_type": "code",
   "execution_count": 82,
   "metadata": {
    "collapsed": true
   },
   "outputs": [],
   "source": [
    "df_nr.insert(loc=4, column='outcome', value='normal')"
   ]
  },
  {
   "cell_type": "code",
   "execution_count": 83,
   "metadata": {
    "collapsed": true
   },
   "outputs": [],
   "source": [
    "df_nr.columns = ['duration', 'forw_byte', 'back_byte', 'total_byte', 'outcome']"
   ]
  },
  {
   "cell_type": "code",
   "execution_count": 84,
   "metadata": {},
   "outputs": [
    {
     "data": {
      "text/html": [
       "<div>\n",
       "<style>\n",
       "    .dataframe thead tr:only-child th {\n",
       "        text-align: right;\n",
       "    }\n",
       "\n",
       "    .dataframe thead th {\n",
       "        text-align: left;\n",
       "    }\n",
       "\n",
       "    .dataframe tbody tr th {\n",
       "        vertical-align: top;\n",
       "    }\n",
       "</style>\n",
       "<table border=\"1\" class=\"dataframe\">\n",
       "  <thead>\n",
       "    <tr style=\"text-align: right;\">\n",
       "      <th></th>\n",
       "      <th>duration</th>\n",
       "      <th>forw_byte</th>\n",
       "      <th>back_byte</th>\n",
       "      <th>total_byte</th>\n",
       "      <th>outcome</th>\n",
       "    </tr>\n",
       "  </thead>\n",
       "  <tbody>\n",
       "    <tr>\n",
       "      <th>1</th>\n",
       "      <td>48.289395</td>\n",
       "      <td>280105672</td>\n",
       "      <td>0</td>\n",
       "      <td>280105672</td>\n",
       "      <td>normal</td>\n",
       "    </tr>\n",
       "    <tr>\n",
       "      <th>2</th>\n",
       "      <td>0.003993</td>\n",
       "      <td>280</td>\n",
       "      <td>1740</td>\n",
       "      <td>2020</td>\n",
       "      <td>normal</td>\n",
       "    </tr>\n",
       "    <tr>\n",
       "      <th>3</th>\n",
       "      <td>48.000223</td>\n",
       "      <td>4992</td>\n",
       "      <td>9720</td>\n",
       "      <td>14712</td>\n",
       "      <td>normal</td>\n",
       "    </tr>\n",
       "    <tr>\n",
       "      <th>4</th>\n",
       "      <td>37.432623</td>\n",
       "      <td>256482</td>\n",
       "      <td>1038</td>\n",
       "      <td>257520</td>\n",
       "      <td>normal</td>\n",
       "    </tr>\n",
       "    <tr>\n",
       "      <th>5</th>\n",
       "      <td>44.850561</td>\n",
       "      <td>150501</td>\n",
       "      <td>102046</td>\n",
       "      <td>252547</td>\n",
       "      <td>normal</td>\n",
       "    </tr>\n",
       "  </tbody>\n",
       "</table>\n",
       "</div>"
      ],
      "text/plain": [
       "    duration  forw_byte back_byte total_byte outcome\n",
       "1  48.289395  280105672         0  280105672  normal\n",
       "2   0.003993        280      1740       2020  normal\n",
       "3  48.000223       4992      9720      14712  normal\n",
       "4  37.432623     256482      1038     257520  normal\n",
       "5  44.850561     150501    102046     252547  normal"
      ]
     },
     "execution_count": 84,
     "metadata": {},
     "output_type": "execute_result"
    }
   ],
   "source": [
    "df_nr.head(5)"
   ]
  },
  {
   "cell_type": "code",
   "execution_count": null,
   "metadata": {
    "collapsed": true
   },
   "outputs": [],
   "source": []
  },
  {
   "cell_type": "code",
   "execution_count": 85,
   "metadata": {
    "collapsed": true
   },
   "outputs": [],
   "source": [
    "df_1x = pd.concat([df_nr, df1])"
   ]
  },
  {
   "cell_type": "code",
   "execution_count": 86,
   "metadata": {},
   "outputs": [
    {
     "data": {
      "text/html": [
       "<div>\n",
       "<style>\n",
       "    .dataframe thead tr:only-child th {\n",
       "        text-align: right;\n",
       "    }\n",
       "\n",
       "    .dataframe thead th {\n",
       "        text-align: left;\n",
       "    }\n",
       "\n",
       "    .dataframe tbody tr th {\n",
       "        vertical-align: top;\n",
       "    }\n",
       "</style>\n",
       "<table border=\"1\" class=\"dataframe\">\n",
       "  <thead>\n",
       "    <tr style=\"text-align: right;\">\n",
       "      <th></th>\n",
       "      <th>duration</th>\n",
       "      <th>forw_byte</th>\n",
       "      <th>back_byte</th>\n",
       "      <th>total_byte</th>\n",
       "      <th>outcome</th>\n",
       "    </tr>\n",
       "  </thead>\n",
       "  <tbody>\n",
       "    <tr>\n",
       "      <th>1</th>\n",
       "      <td>48.289395</td>\n",
       "      <td>280105672</td>\n",
       "      <td>0</td>\n",
       "      <td>280105672</td>\n",
       "      <td>normal</td>\n",
       "    </tr>\n",
       "    <tr>\n",
       "      <th>2</th>\n",
       "      <td>0.003993</td>\n",
       "      <td>280</td>\n",
       "      <td>1740</td>\n",
       "      <td>2020</td>\n",
       "      <td>normal</td>\n",
       "    </tr>\n",
       "    <tr>\n",
       "      <th>3</th>\n",
       "      <td>48.000223</td>\n",
       "      <td>4992</td>\n",
       "      <td>9720</td>\n",
       "      <td>14712</td>\n",
       "      <td>normal</td>\n",
       "    </tr>\n",
       "    <tr>\n",
       "      <th>4</th>\n",
       "      <td>37.432623</td>\n",
       "      <td>256482</td>\n",
       "      <td>1038</td>\n",
       "      <td>257520</td>\n",
       "      <td>normal</td>\n",
       "    </tr>\n",
       "    <tr>\n",
       "      <th>5</th>\n",
       "      <td>44.850561</td>\n",
       "      <td>150501</td>\n",
       "      <td>102046</td>\n",
       "      <td>252547</td>\n",
       "      <td>normal</td>\n",
       "    </tr>\n",
       "  </tbody>\n",
       "</table>\n",
       "</div>"
      ],
      "text/plain": [
       "    duration  forw_byte back_byte total_byte outcome\n",
       "1  48.289395  280105672         0  280105672  normal\n",
       "2   0.003993        280      1740       2020  normal\n",
       "3  48.000223       4992      9720      14712  normal\n",
       "4  37.432623     256482      1038     257520  normal\n",
       "5  44.850561     150501    102046     252547  normal"
      ]
     },
     "execution_count": 86,
     "metadata": {},
     "output_type": "execute_result"
    }
   ],
   "source": [
    "df_1x.head(5)"
   ]
  },
  {
   "cell_type": "code",
   "execution_count": 87,
   "metadata": {
    "collapsed": true
   },
   "outputs": [],
   "source": [
    "df_1x.to_csv('train_PKT_sampling@20_50%.csv')"
   ]
  },
  {
   "cell_type": "code",
   "execution_count": null,
   "metadata": {
    "collapsed": true
   },
   "outputs": [],
   "source": [
    "# df_1x.to_csv('train_1x.csv')"
   ]
  }
 ],
 "metadata": {
  "kernelspec": {
   "display_name": "Python 3",
   "language": "python",
   "name": "python3"
  },
  "language_info": {
   "codemirror_mode": {
    "name": "ipython",
    "version": 3
   },
   "file_extension": ".py",
   "mimetype": "text/x-python",
   "name": "python",
   "nbconvert_exporter": "python",
   "pygments_lexer": "ipython3",
   "version": "3.6.1"
  }
 },
 "nbformat": 4,
 "nbformat_minor": 2
}
