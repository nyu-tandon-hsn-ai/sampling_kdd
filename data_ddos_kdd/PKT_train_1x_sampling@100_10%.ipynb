{
 "cells": [
  {
   "cell_type": "code",
   "execution_count": 1,
   "metadata": {},
   "outputs": [
    {
     "name": "stderr",
     "output_type": "stream",
     "text": [
      "Using TensorFlow backend.\n"
     ]
    }
   ],
   "source": [
    "import pandas as pd\n",
    "from sklearn import preprocessing\n",
    "from sklearn.model_selection import train_test_split\n",
    "from sklearn import metrics\n",
    "from keras.models import Sequential\n",
    "from keras.layers.core import Dense, Activation\n",
    "from keras.callbacks import EarlyStopping"
   ]
  },
  {
   "cell_type": "code",
   "execution_count": 2,
   "metadata": {
    "collapsed": true
   },
   "outputs": [],
   "source": [
    "from sklearn import preprocessing\n",
    "import matplotlib.pyplot as plt\n",
    "import numpy as np\n",
    "import pandas as pd\n",
    "import shutil\n",
    "import os\n",
    "import keras\n",
    "import matplotlib\n",
    "import matplotlib.pyplot as plt\n",
    "%matplotlib inline"
   ]
  },
  {
   "cell_type": "code",
   "execution_count": 3,
   "metadata": {
    "collapsed": true
   },
   "outputs": [],
   "source": [
    "\n",
    "# Encode text values to dummy variables(i.e. [1,0,0],[0,1,0],[0,0,1] for red,green,blue)\n",
    "def encode_text_dummy(df, name):\n",
    "    dummies = pd.get_dummies(df[name])\n",
    "    for x in dummies.columns:\n",
    "        dummy_name = \"{}-{}\".format(name, x)\n",
    "        df[dummy_name] = dummies[x]\n",
    "    df.drop(name, axis=1, inplace=True)\n",
    "\n",
    "\n",
    "# Encode text values to a single dummy variable.  The new columns (which do not replace the old) will have a 1\n",
    "# at every location where the original column (name) matches each of the target_values.  One column is added for\n",
    "# each target value.\n",
    "def encode_text_single_dummy(df, name, target_values):\n",
    "    for tv in target_values:\n",
    "        l = list(df[name].astype(str))\n",
    "        l = [1 if str(x) == str(tv) else 0 for x in l]\n",
    "        name2 = \"{}-{}\".format(name, tv)\n",
    "        df[name2] = l\n",
    "\n",
    "\n",
    "# Encode text values to indexes(i.e. [1],[2],[3] for red,green,blue).\n",
    "def encode_text_index(df, name):\n",
    "    le = preprocessing.LabelEncoder()\n",
    "    df[name] = le.fit_transform(df[name])\n",
    "    return le.classes_\n",
    "\n",
    "\n",
    "# Encode a numeric column as zscores\n",
    "def encode_numeric_zscore(df, name, mean=None, sd=None):\n",
    "    if mean is None:\n",
    "        mean = np.asarray(df[name], dtype = np.float).mean()\n",
    "\n",
    "    if sd is None:\n",
    "        sd = np.asarray(df[name], dtype = np.float).std()\n",
    "\n",
    "    df[name] = (np.asarray(df[name], dtype = np.float) - mean) / sd\n",
    "\n",
    "\n",
    "# Convert all missing values in the specified column to the median\n",
    "def missing_median(df, name):\n",
    "    med = df[name].median()\n",
    "    df[name] = df[name].fillna(med)\n",
    "\n",
    "\n",
    "# Convert all missing values in the specified column to the default\n",
    "def missing_default(df, name, default_value):\n",
    "    df[name] = df[name].fillna(default_value)\n",
    "\n",
    "\n",
    "# Convert a Pandas dataframe to the x,y inputs that TensorFlow needs\n",
    "def to_xy(df, target):\n",
    "    result = []\n",
    "    for x in df.columns:\n",
    "        if x != target:\n",
    "            result.append(x)\n",
    "    # find out the type of the target column.  Is it really this hard? :(\n",
    "    target_type = df[target].dtypes\n",
    "    target_type = target_type[0] if hasattr(target_type, '__iter__') else target_type\n",
    "    # Encode to int for classification, float otherwise. TensorFlow likes 32 bits.\n",
    "    if target_type in (np.int64, np.int32):\n",
    "        # Classification\n",
    "        dummies = pd.get_dummies(df[target])\n",
    "        return df.as_matrix(result).astype(np.float32), dummies.as_matrix().astype(np.float32)\n",
    "    else:\n",
    "        # Regression\n",
    "        return df.as_matrix(result).astype(np.float32), df.as_matrix([target]).astype(np.float32)\n",
    "\n",
    "# Nicely formatted time string\n",
    "def hms_string(sec_elapsed):\n",
    "    h = int(sec_elapsed / (60 * 60))\n",
    "    m = int((sec_elapsed % (60 * 60)) / 60)\n",
    "    s = sec_elapsed % 60\n",
    "    return \"{}:{:>02}:{:>05.2f}\".format(h, m, s)\n",
    "\n",
    "\n",
    "# Regression chart.\n",
    "def chart_regression(pred,y,sort=True):\n",
    "    t = pd.DataFrame({'pred' : pred, 'y' : y.flatten()})\n",
    "    if sort:\n",
    "        t.sort_values(by=['y'],inplace=True)\n",
    "    a = plt.plot(t['y'].tolist(),label='expected')\n",
    "    b = plt.plot(t['pred'].tolist(),label='prediction')\n",
    "    plt.ylabel('output')\n",
    "    plt.legend()\n",
    "    plt.show()\n",
    "\n",
    "# Remove all rows where the specified column is +/- sd standard deviations\n",
    "def remove_outliers(df, name, sd):\n",
    "    drop_rows = df.index[(np.abs(df[name] - df[name].mean()) >= (sd * df[name].std()))]\n",
    "    df.drop(drop_rows, axis=0, inplace=True)\n",
    "\n",
    "\n",
    "# Encode a column to a range between normalized_low and normalized_high.\n",
    "def encode_numeric_range(df, name, normalized_low=-1, normalized_high=1,\n",
    "                         data_low=None, data_high=None):\n",
    "    if data_low is None:\n",
    "        data_low = min(df[name])\n",
    "        data_high = max(df[name])\n",
    "\n",
    "    df[name] = ((df[name] - data_low) / (data_high - data_low)) \\\n",
    "               * (normalized_high - normalized_low) + normalized_low"
   ]
  },
  {
   "cell_type": "code",
   "execution_count": 4,
   "metadata": {},
   "outputs": [
    {
     "name": "stdout",
     "output_type": "stream",
     "text": [
      "Read 19984 rows.\n"
     ]
    }
   ],
   "source": [
    "\n",
    "# This file is a CSV, just no CSV extension or headers\n",
    "# Download from: http://kdd.ics.uci.edu/databases/kddcup99/kddcup99.html\n",
    "df_ = pd.read_csv(\"/Users/tsaiflow/Desktop/NN&Sampling/data_ddos_kdd/train_PKT_sampling@100_10%.csv\")\n",
    "\n",
    "print(\"Read {} rows.\".format(len(df_)))\n",
    "#print(\"Read {} rows.\".format(len(df1)))\n",
    "# df = df.sample(frac=0.1, replace=False) # Uncomment this line to sample only 10% of the dataset\n",
    "df_.dropna(inplace=True,axis=1) # For now, just drop NA's (rows with missing values)\n",
    "# df1.dropna(inplace=True,axis=1)\n",
    "\n",
    "# The CSV file has no column heads, so add them\n",
    "# df.columns = [\n",
    "#     'duration',\n",
    "#     'forw_bytes',\n",
    "#     'back_bytes',\n",
    "#     'total_bytes',\n",
    "    \n",
    "#     'outcome'\n",
    "# ]"
   ]
  },
  {
   "cell_type": "code",
   "execution_count": 5,
   "metadata": {},
   "outputs": [
    {
     "data": {
      "text/html": [
       "<div>\n",
       "<style>\n",
       "    .dataframe thead tr:only-child th {\n",
       "        text-align: right;\n",
       "    }\n",
       "\n",
       "    .dataframe thead th {\n",
       "        text-align: left;\n",
       "    }\n",
       "\n",
       "    .dataframe tbody tr th {\n",
       "        vertical-align: top;\n",
       "    }\n",
       "</style>\n",
       "<table border=\"1\" class=\"dataframe\">\n",
       "  <thead>\n",
       "    <tr style=\"text-align: right;\">\n",
       "      <th></th>\n",
       "      <th>Unnamed: 0</th>\n",
       "      <th>duration</th>\n",
       "      <th>forw_byte</th>\n",
       "      <th>back_byte</th>\n",
       "      <th>tot_byte</th>\n",
       "      <th>outcome</th>\n",
       "    </tr>\n",
       "  </thead>\n",
       "  <tbody>\n",
       "    <tr>\n",
       "      <th>0</th>\n",
       "      <td>0</td>\n",
       "      <td>0.0</td>\n",
       "      <td>0</td>\n",
       "      <td>0</td>\n",
       "      <td>0</td>\n",
       "      <td>dos</td>\n",
       "    </tr>\n",
       "    <tr>\n",
       "      <th>1</th>\n",
       "      <td>1</td>\n",
       "      <td>0.0</td>\n",
       "      <td>1032</td>\n",
       "      <td>0</td>\n",
       "      <td>1032</td>\n",
       "      <td>dos</td>\n",
       "    </tr>\n",
       "    <tr>\n",
       "      <th>2</th>\n",
       "      <td>2</td>\n",
       "      <td>0.0</td>\n",
       "      <td>520</td>\n",
       "      <td>0</td>\n",
       "      <td>520</td>\n",
       "      <td>dos</td>\n",
       "    </tr>\n",
       "    <tr>\n",
       "      <th>3</th>\n",
       "      <td>3</td>\n",
       "      <td>0.0</td>\n",
       "      <td>1032</td>\n",
       "      <td>0</td>\n",
       "      <td>1032</td>\n",
       "      <td>dos</td>\n",
       "    </tr>\n",
       "    <tr>\n",
       "      <th>4</th>\n",
       "      <td>4</td>\n",
       "      <td>0.0</td>\n",
       "      <td>1032</td>\n",
       "      <td>0</td>\n",
       "      <td>1032</td>\n",
       "      <td>dos</td>\n",
       "    </tr>\n",
       "  </tbody>\n",
       "</table>\n",
       "</div>"
      ],
      "text/plain": [
       "   Unnamed: 0  duration  forw_byte  back_byte  tot_byte outcome\n",
       "0           0       0.0          0          0         0     dos\n",
       "1           1       0.0       1032          0      1032     dos\n",
       "2           2       0.0        520          0       520     dos\n",
       "3           3       0.0       1032          0      1032     dos\n",
       "4           4       0.0       1032          0      1032     dos"
      ]
     },
     "execution_count": 5,
     "metadata": {},
     "output_type": "execute_result"
    }
   ],
   "source": [
    "df_.head(5)"
   ]
  },
  {
   "cell_type": "code",
   "execution_count": 6,
   "metadata": {
    "collapsed": true
   },
   "outputs": [],
   "source": [
    "cols = ['duration', 'forw_byte', 'back_byte','tot_byte','outcome']\n",
    "df = df_[cols]"
   ]
  },
  {
   "cell_type": "code",
   "execution_count": 7,
   "metadata": {
    "collapsed": true
   },
   "outputs": [],
   "source": [
    "# df.drop(df.head(1).index, inplace = True)"
   ]
  },
  {
   "cell_type": "code",
   "execution_count": 8,
   "metadata": {},
   "outputs": [
    {
     "data": {
      "text/html": [
       "<div>\n",
       "<style>\n",
       "    .dataframe thead tr:only-child th {\n",
       "        text-align: right;\n",
       "    }\n",
       "\n",
       "    .dataframe thead th {\n",
       "        text-align: left;\n",
       "    }\n",
       "\n",
       "    .dataframe tbody tr th {\n",
       "        vertical-align: top;\n",
       "    }\n",
       "</style>\n",
       "<table border=\"1\" class=\"dataframe\">\n",
       "  <thead>\n",
       "    <tr style=\"text-align: right;\">\n",
       "      <th></th>\n",
       "      <th>duration</th>\n",
       "      <th>forw_byte</th>\n",
       "      <th>back_byte</th>\n",
       "      <th>tot_byte</th>\n",
       "      <th>outcome</th>\n",
       "    </tr>\n",
       "  </thead>\n",
       "  <tbody>\n",
       "    <tr>\n",
       "      <th>0</th>\n",
       "      <td>0.0</td>\n",
       "      <td>0</td>\n",
       "      <td>0</td>\n",
       "      <td>0</td>\n",
       "      <td>dos</td>\n",
       "    </tr>\n",
       "    <tr>\n",
       "      <th>1</th>\n",
       "      <td>0.0</td>\n",
       "      <td>1032</td>\n",
       "      <td>0</td>\n",
       "      <td>1032</td>\n",
       "      <td>dos</td>\n",
       "    </tr>\n",
       "    <tr>\n",
       "      <th>2</th>\n",
       "      <td>0.0</td>\n",
       "      <td>520</td>\n",
       "      <td>0</td>\n",
       "      <td>520</td>\n",
       "      <td>dos</td>\n",
       "    </tr>\n",
       "    <tr>\n",
       "      <th>3</th>\n",
       "      <td>0.0</td>\n",
       "      <td>1032</td>\n",
       "      <td>0</td>\n",
       "      <td>1032</td>\n",
       "      <td>dos</td>\n",
       "    </tr>\n",
       "    <tr>\n",
       "      <th>4</th>\n",
       "      <td>0.0</td>\n",
       "      <td>1032</td>\n",
       "      <td>0</td>\n",
       "      <td>1032</td>\n",
       "      <td>dos</td>\n",
       "    </tr>\n",
       "  </tbody>\n",
       "</table>\n",
       "</div>"
      ],
      "text/plain": [
       "   duration  forw_byte  back_byte  tot_byte outcome\n",
       "0       0.0          0          0         0     dos\n",
       "1       0.0       1032          0      1032     dos\n",
       "2       0.0        520          0       520     dos\n",
       "3       0.0       1032          0      1032     dos\n",
       "4       0.0       1032          0      1032     dos"
      ]
     },
     "execution_count": 8,
     "metadata": {},
     "output_type": "execute_result"
    }
   ],
   "source": [
    "df.head(5)"
   ]
  },
  {
   "cell_type": "code",
   "execution_count": 9,
   "metadata": {
    "collapsed": true
   },
   "outputs": [],
   "source": [
    "# np.asarray(df['duration'], dtype = np.float).mean()\n",
    "# # df[name].mean()"
   ]
  },
  {
   "cell_type": "code",
   "execution_count": 10,
   "metadata": {
    "collapsed": true
   },
   "outputs": [],
   "source": [
    "# np.asarray(df['duration'], dtype = np.float).std()"
   ]
  },
  {
   "cell_type": "code",
   "execution_count": null,
   "metadata": {
    "collapsed": true
   },
   "outputs": [],
   "source": []
  },
  {
   "cell_type": "code",
   "execution_count": 11,
   "metadata": {},
   "outputs": [
    {
     "name": "stderr",
     "output_type": "stream",
     "text": [
      "/anaconda/lib/python3.6/site-packages/ipykernel_launcher.py:37: SettingWithCopyWarning: \n",
      "A value is trying to be set on a copy of a slice from a DataFrame.\n",
      "Try using .loc[row_indexer,col_indexer] = value instead\n",
      "\n",
      "See the caveats in the documentation: http://pandas.pydata.org/pandas-docs/stable/indexing.html#indexing-view-versus-copy\n",
      "/anaconda/lib/python3.6/site-packages/ipykernel_launcher.py:25: SettingWithCopyWarning: \n",
      "A value is trying to be set on a copy of a slice from a DataFrame.\n",
      "Try using .loc[row_indexer,col_indexer] = value instead\n",
      "\n",
      "See the caveats in the documentation: http://pandas.pydata.org/pandas-docs/stable/indexing.html#indexing-view-versus-copy\n",
      "/anaconda/lib/python3.6/site-packages/ipykernel_launcher.py:51: SettingWithCopyWarning: \n",
      "A value is trying to be set on a copy of a slice from a DataFrame\n",
      "\n",
      "See the caveats in the documentation: http://pandas.pydata.org/pandas-docs/stable/indexing.html#indexing-view-versus-copy\n"
     ]
    },
    {
     "data": {
      "text/html": [
       "<div>\n",
       "<style>\n",
       "    .dataframe thead tr:only-child th {\n",
       "        text-align: right;\n",
       "    }\n",
       "\n",
       "    .dataframe thead th {\n",
       "        text-align: left;\n",
       "    }\n",
       "\n",
       "    .dataframe tbody tr th {\n",
       "        vertical-align: top;\n",
       "    }\n",
       "</style>\n",
       "<table border=\"1\" class=\"dataframe\">\n",
       "  <thead>\n",
       "    <tr style=\"text-align: right;\">\n",
       "      <th></th>\n",
       "      <th>duration</th>\n",
       "      <th>forw_byte</th>\n",
       "      <th>back_byte</th>\n",
       "      <th>tot_byte</th>\n",
       "      <th>outcome</th>\n",
       "    </tr>\n",
       "  </thead>\n",
       "  <tbody>\n",
       "    <tr>\n",
       "      <th>0</th>\n",
       "      <td>0.0</td>\n",
       "      <td>-0.008464</td>\n",
       "      <td>-0.009379</td>\n",
       "      <td>-0.012440</td>\n",
       "      <td>0</td>\n",
       "    </tr>\n",
       "    <tr>\n",
       "      <th>1</th>\n",
       "      <td>0.0</td>\n",
       "      <td>-0.008364</td>\n",
       "      <td>-0.009379</td>\n",
       "      <td>-0.012366</td>\n",
       "      <td>0</td>\n",
       "    </tr>\n",
       "    <tr>\n",
       "      <th>2</th>\n",
       "      <td>0.0</td>\n",
       "      <td>-0.008413</td>\n",
       "      <td>-0.009379</td>\n",
       "      <td>-0.012402</td>\n",
       "      <td>0</td>\n",
       "    </tr>\n",
       "    <tr>\n",
       "      <th>3</th>\n",
       "      <td>0.0</td>\n",
       "      <td>-0.008364</td>\n",
       "      <td>-0.009379</td>\n",
       "      <td>-0.012366</td>\n",
       "      <td>0</td>\n",
       "    </tr>\n",
       "    <tr>\n",
       "      <th>4</th>\n",
       "      <td>0.0</td>\n",
       "      <td>-0.008364</td>\n",
       "      <td>-0.009379</td>\n",
       "      <td>-0.012366</td>\n",
       "      <td>0</td>\n",
       "    </tr>\n",
       "  </tbody>\n",
       "</table>\n",
       "</div>"
      ],
      "text/plain": [
       "   duration  forw_byte  back_byte  tot_byte  outcome\n",
       "0       0.0  -0.008464  -0.009379 -0.012440        0\n",
       "1       0.0  -0.008364  -0.009379 -0.012366        0\n",
       "2       0.0  -0.008413  -0.009379 -0.012402        0\n",
       "3       0.0  -0.008364  -0.009379 -0.012366        0\n",
       "4       0.0  -0.008364  -0.009379 -0.012366        0"
      ]
     },
     "execution_count": 11,
     "metadata": {},
     "output_type": "execute_result"
    }
   ],
   "source": [
    "# Now encode the feature vector\n",
    "\n",
    "#encode_numeric_zscore(df, 'duration')\n",
    "\n",
    "# encode_text_dummy(df, 'protocol_type')\n",
    "# encode_text_dummy(df, 'service')\n",
    "# encode_text_dummy(df, 'flag')\n",
    "encode_numeric_zscore(df, 'forw_byte')\n",
    "encode_numeric_zscore(df, 'back_byte')\n",
    "encode_numeric_zscore(df, 'tot_byte')\n",
    "# encode_text_dummy(df, 'land')\n",
    "# encode_numeric_zscore(df, 'wrong_fragment')\n",
    "# encode_numeric_zscore(df, 'urgent')\n",
    "# encode_numeric_zscore(df, 'hot')\n",
    "# encode_numeric_zscore(df, 'num_failed_logins')\n",
    "# encode_text_dummy(df, 'logged_in')\n",
    "# encode_numeric_zscore(df, 'num_compromised')\n",
    "# encode_numeric_zscore(df, 'root_shell')\n",
    "# encode_numeric_zscore(df, 'su_attempted')\n",
    "# encode_numeric_zscore(df, 'num_root')\n",
    "# encode_numeric_zscore(df, 'num_file_creations')\n",
    "# encode_numeric_zscore(df, 'num_shells')\n",
    "# encode_numeric_zscore(df, 'num_access_files')\n",
    "# encode_numeric_zscore(df, 'num_outbound_cmds')\n",
    "# encode_text_dummy(df, 'is_host_login')\n",
    "# encode_text_dummy(df, 'is_guest_login')\n",
    "# encode_numeric_zscore(df, 'count')\n",
    "# encode_numeric_zscore(df, 'srv_count')\n",
    "# encode_numeric_zscore(df, 'serror_rate')\n",
    "# encode_numeric_zscore(df, 'srv_serror_rate')\n",
    "# encode_numeric_zscore(df, 'rerror_rate')\n",
    "# encode_numeric_zscore(df, 'srv_rerror_rate')\n",
    "# encode_numeric_zscore(df, 'same_srv_rate')\n",
    "# encode_numeric_zscore(df, 'diff_srv_rate')\n",
    "# encode_numeric_zscore(df, 'srv_diff_host_rate')\n",
    "# encode_numeric_zscore(df, 'dst_host_count')\n",
    "# encode_numeric_zscore(df, 'dst_host_srv_count')\n",
    "# encode_numeric_zscore(df, 'dst_host_same_srv_rate')\n",
    "# encode_numeric_zscore(df, 'dst_host_diff_srv_rate')\n",
    "# encode_numeric_zscore(df, 'dst_host_same_src_port_rate')\n",
    "# encode_numeric_zscore(df, 'dst_host_srv_diff_host_rate')\n",
    "# encode_numeric_zscore(df, 'dst_host_serror_rate')\n",
    "# encode_numeric_zscore(df, 'dst_host_srv_serror_rate')\n",
    "# encode_numeric_zscore(df, 'dst_host_rerror_rate')\n",
    "# encode_numeric_zscore(df, 'dst_host_srv_rerror_rate')\n",
    "outcomes = encode_text_index(df, 'outcome')\n",
    "num_classes = len(outcomes)\n",
    "\n",
    "# display 5 rows\n",
    "\n",
    "df.dropna(inplace=True,axis=1)\n",
    "df[0:5]\n",
    "# This is the numeric feature vector, as it goes to the neural net"
   ]
  },
  {
   "cell_type": "code",
   "execution_count": 12,
   "metadata": {
    "collapsed": true
   },
   "outputs": [],
   "source": [
    "x, y = to_xy(df,'outcome')"
   ]
  },
  {
   "cell_type": "code",
   "execution_count": 13,
   "metadata": {
    "collapsed": true
   },
   "outputs": [],
   "source": [
    "# df.head(5)"
   ]
  },
  {
   "cell_type": "code",
   "execution_count": 14,
   "metadata": {
    "collapsed": true
   },
   "outputs": [],
   "source": [
    "# Create a test/train split.  33% test\n",
    "# Split into train/test\n",
    "x_train, x_test, y_train, y_test = train_test_split(\n",
    "    x, y, test_size=0.33, random_state=42)"
   ]
  },
  {
   "cell_type": "code",
   "execution_count": null,
   "metadata": {
    "collapsed": true
   },
   "outputs": [],
   "source": []
  },
  {
   "cell_type": "code",
   "execution_count": 15,
   "metadata": {
    "collapsed": true
   },
   "outputs": [],
   "source": [
    "import keras.backend as K\n",
    "K.clear_session()"
   ]
  },
  {
   "cell_type": "code",
   "execution_count": 16,
   "metadata": {
    "collapsed": true
   },
   "outputs": [],
   "source": [
    "# Create neural net\n",
    "model = Sequential()\n",
    "\n",
    "# Used relu for activation function\n",
    "model.add(Dense(10, input_dim=x.shape[1], kernel_initializer='normal', activation='relu'))\n",
    "model.add(Dense(50, input_dim=x.shape[1], kernel_initializer='normal', activation='relu'))\n",
    "model.add(Dense(10, input_dim=x.shape[1], kernel_initializer='normal', activation='relu'))\n",
    "\n",
    "# output layer \n",
    "model.add(Dense(1, kernel_initializer='normal'))\n",
    "model.add(Dense(y.shape[1],activation='softmax'))\n",
    "# model.add(Dense(y.shape[1],activation = 'sigmoid'))"
   ]
  },
  {
   "cell_type": "code",
   "execution_count": 17,
   "metadata": {},
   "outputs": [
    {
     "name": "stdout",
     "output_type": "stream",
     "text": [
      "_________________________________________________________________\n",
      "Layer (type)                 Output Shape              Param #   \n",
      "=================================================================\n",
      "dense_1 (Dense)              (None, 10)                50        \n",
      "_________________________________________________________________\n",
      "dense_2 (Dense)              (None, 50)                550       \n",
      "_________________________________________________________________\n",
      "dense_3 (Dense)              (None, 10)                510       \n",
      "_________________________________________________________________\n",
      "dense_4 (Dense)              (None, 1)                 11        \n",
      "_________________________________________________________________\n",
      "dense_5 (Dense)              (None, 2)                 4         \n",
      "=================================================================\n",
      "Total params: 1,125\n",
      "Trainable params: 1,125\n",
      "Non-trainable params: 0\n",
      "_________________________________________________________________\n"
     ]
    }
   ],
   "source": [
    "# Print the model summary\n",
    "model.summary()"
   ]
  },
  {
   "cell_type": "code",
   "execution_count": 18,
   "metadata": {
    "collapsed": true
   },
   "outputs": [],
   "source": [
    "class LossHistory(keras.callbacks.Callback):\n",
    "    def on_train_begin(self, logs={}):\n",
    "        # TODO:  Create two empty lists, self.loss and self.val_acc\n",
    "        self.losses = []\n",
    "        self.accs = []\n",
    "        self.val_acc = []\n",
    "        self.val_loss = []\n",
    "    def on_batch_end(self, batch, logs={}):\n",
    "        # TODO:  This is called at the end of each batch.  \n",
    "        # Add the loss in logs.get('loss') to the loss list\n",
    "        loss = logs.get('loss')\n",
    "        acc = logs.get('acc')\n",
    "        self.losses.append(loss)\n",
    "        self.accs.append(acc)\n",
    "    def on_epoch_end(self, epoch, logs):\n",
    "        # TODO:  This is called at the end of each epoch.  \n",
    "        # Add the test accuracy in logs.get('loss') to the val_acc list\n",
    "        val_acc = logs.get('val_acc')\n",
    "        val_loss = logs.get('val_loss')\n",
    "        self.val_acc.append(val_acc)\n",
    "        self.val_loss.append(val_loss)\n",
    "\n",
    "# Create an instance of the history callback\n",
    "history_cb = LossHistory()"
   ]
  },
  {
   "cell_type": "code",
   "execution_count": 19,
   "metadata": {
    "collapsed": true
   },
   "outputs": [],
   "source": [
    "from keras import optimizers\n",
    "\n",
    "# optimizer defined\n",
    "opt = optimizers.Adam(lr=0.001, beta_1=0.9, beta_2=0.999, epsilon=1e-08, decay=0.0)"
   ]
  },
  {
   "cell_type": "code",
   "execution_count": 20,
   "metadata": {
    "collapsed": true
   },
   "outputs": [],
   "source": [
    "## compile model\n",
    "model.compile(optimizer='adam',\n",
    "              loss='categorical_crossentropy',\n",
    "              metrics=['accuracy'])\n",
    "monitor = EarlyStopping(monitor='val_loss', min_delta=1e-3, patience=5, verbose=1, mode='auto')\n"
   ]
  },
  {
   "cell_type": "code",
   "execution_count": 21,
   "metadata": {
    "collapsed": true
   },
   "outputs": [],
   "source": [
    "# model.fit(x,y,validation_data=(x_test,y_test),callbacks=[monitor],verbose=2,epochs=1000)"
   ]
  },
  {
   "cell_type": "code",
   "execution_count": 22,
   "metadata": {},
   "outputs": [
    {
     "name": "stdout",
     "output_type": "stream",
     "text": [
      "Train on 13389 samples, validate on 6595 samples\n",
      "Epoch 1/200\n",
      "13389/13389 [==============================] - 0s - loss: 0.6454 - acc: 0.8885 - val_loss: 0.5538 - val_acc: 0.9058\n",
      "Epoch 2/200\n",
      "13389/13389 [==============================] - 0s - loss: 0.4246 - acc: 0.8970 - val_loss: 0.3123 - val_acc: 0.9058\n",
      "Epoch 3/200\n",
      "13389/13389 [==============================] - 0s - loss: 0.3064 - acc: 0.8970 - val_loss: 0.2864 - val_acc: 0.9058\n",
      "Epoch 4/200\n",
      "13389/13389 [==============================] - 0s - loss: 0.3033 - acc: 0.8970 - val_loss: 0.2861 - val_acc: 0.9058\n",
      "Epoch 5/200\n",
      "13389/13389 [==============================] - 0s - loss: 0.3021 - acc: 0.8970 - val_loss: 0.2846 - val_acc: 0.9058\n",
      "Epoch 6/200\n",
      "13389/13389 [==============================] - 0s - loss: 0.2999 - acc: 0.8970 - val_loss: 0.2819 - val_acc: 0.9058\n",
      "Epoch 7/200\n",
      "13389/13389 [==============================] - 0s - loss: 0.2973 - acc: 0.8970 - val_loss: 0.2797 - val_acc: 0.9058\n",
      "Epoch 8/200\n",
      "13389/13389 [==============================] - 0s - loss: 0.2948 - acc: 0.8970 - val_loss: 0.2769 - val_acc: 0.9058\n",
      "Epoch 9/200\n",
      "13389/13389 [==============================] - 0s - loss: 0.2920 - acc: 0.8970 - val_loss: 0.2748 - val_acc: 0.9058\n",
      "Epoch 10/200\n",
      "13389/13389 [==============================] - 0s - loss: 0.2888 - acc: 0.8970 - val_loss: 0.2708 - val_acc: 0.9058\n",
      "Epoch 11/200\n",
      "13389/13389 [==============================] - 0s - loss: 0.2851 - acc: 0.8970 - val_loss: 0.2672 - val_acc: 0.9058\n",
      "Epoch 12/200\n",
      "13389/13389 [==============================] - 0s - loss: 0.2811 - acc: 0.8970 - val_loss: 0.2637 - val_acc: 0.9058\n",
      "Epoch 13/200\n",
      "13389/13389 [==============================] - 0s - loss: 0.2766 - acc: 0.8970 - val_loss: 0.2596 - val_acc: 0.9058\n",
      "Epoch 14/200\n",
      "13389/13389 [==============================] - 0s - loss: 0.2713 - acc: 0.8970 - val_loss: 0.2541 - val_acc: 0.9058\n",
      "Epoch 15/200\n",
      "13389/13389 [==============================] - 0s - loss: 0.2655 - acc: 0.8970 - val_loss: 0.2484 - val_acc: 0.9058\n",
      "Epoch 16/200\n",
      "13389/13389 [==============================] - 0s - loss: 0.2580 - acc: 0.8970 - val_loss: 0.2419 - val_acc: 0.9058\n",
      "Epoch 17/200\n",
      "13389/13389 [==============================] - 0s - loss: 0.2500 - acc: 0.8970 - val_loss: 0.2342 - val_acc: 0.9058\n",
      "Epoch 18/200\n",
      "13389/13389 [==============================] - 0s - loss: 0.2399 - acc: 0.8970 - val_loss: 0.2226 - val_acc: 0.9058\n",
      "Epoch 19/200\n",
      "13389/13389 [==============================] - 0s - loss: 0.2284 - acc: 0.8970 - val_loss: 0.2197 - val_acc: 0.9058\n",
      "Epoch 20/200\n",
      "13389/13389 [==============================] - 0s - loss: 0.2176 - acc: 0.8970 - val_loss: 0.2048 - val_acc: 0.9058\n",
      "Epoch 21/200\n",
      "13389/13389 [==============================] - 0s - loss: 0.2057 - acc: 0.8970 - val_loss: 0.1913 - val_acc: 0.9058\n",
      "Epoch 22/200\n",
      "13389/13389 [==============================] - 0s - loss: 0.1945 - acc: 0.8970 - val_loss: 0.1825 - val_acc: 0.9058\n",
      "Epoch 23/200\n",
      "13389/13389 [==============================] - 0s - loss: 0.1841 - acc: 0.8970 - val_loss: 0.1718 - val_acc: 0.9058\n",
      "Epoch 24/200\n",
      "13389/13389 [==============================] - 0s - loss: 0.1749 - acc: 0.8970 - val_loss: 0.1655 - val_acc: 0.9058\n",
      "Epoch 25/200\n",
      "13389/13389 [==============================] - 0s - loss: 0.1662 - acc: 0.8970 - val_loss: 0.1565 - val_acc: 0.9058\n",
      "Epoch 26/200\n",
      "13389/13389 [==============================] - 0s - loss: 0.1581 - acc: 0.8970 - val_loss: 0.1518 - val_acc: 0.9058\n",
      "Epoch 27/200\n",
      "13389/13389 [==============================] - 0s - loss: 0.1513 - acc: 0.8970 - val_loss: 0.1482 - val_acc: 0.9058\n",
      "Epoch 28/200\n",
      "13389/13389 [==============================] - 0s - loss: 0.1431 - acc: 0.9019 - val_loss: 0.1424 - val_acc: 0.9487\n",
      "Epoch 29/200\n",
      "13389/13389 [==============================] - 0s - loss: 0.1376 - acc: 0.9209 - val_loss: 0.1346 - val_acc: 0.9058\n",
      "Epoch 30/200\n",
      "13389/13389 [==============================] - 0s - loss: 0.1344 - acc: 0.9240 - val_loss: 0.1261 - val_acc: 0.9058\n",
      "Epoch 31/200\n",
      "13389/13389 [==============================] - 0s - loss: 0.1296 - acc: 0.9263 - val_loss: 0.1230 - val_acc: 0.9556\n",
      "Epoch 32/200\n",
      "13389/13389 [==============================] - 0s - loss: 0.1272 - acc: 0.9320 - val_loss: 0.1201 - val_acc: 0.9556\n",
      "Epoch 33/200\n",
      "13389/13389 [==============================] - 0s - loss: 0.1213 - acc: 0.9460 - val_loss: 0.1230 - val_acc: 0.9387\n",
      "Epoch 34/200\n",
      "13389/13389 [==============================] - 0s - loss: 0.1199 - acc: 0.9373 - val_loss: 0.1188 - val_acc: 0.9433\n",
      "Epoch 35/200\n",
      "13389/13389 [==============================] - 0s - loss: 0.1181 - acc: 0.9397 - val_loss: 0.1131 - val_acc: 0.9489\n",
      "Epoch 36/200\n",
      "13389/13389 [==============================] - 0s - loss: 0.1167 - acc: 0.9374 - val_loss: 0.1158 - val_acc: 0.9397\n",
      "Epoch 37/200\n",
      "13389/13389 [==============================] - 0s - loss: 0.1153 - acc: 0.9395 - val_loss: 0.1359 - val_acc: 0.9215\n",
      "Epoch 38/200\n",
      "13389/13389 [==============================] - 0s - loss: 0.1154 - acc: 0.9382 - val_loss: 0.1091 - val_acc: 0.9487\n",
      "Epoch 39/200\n",
      "13389/13389 [==============================] - 0s - loss: 0.1094 - acc: 0.9538 - val_loss: 0.1094 - val_acc: 0.9434\n",
      "Epoch 40/200\n",
      "13389/13389 [==============================] - 0s - loss: 0.1096 - acc: 0.9456 - val_loss: 0.1126 - val_acc: 0.9058\n",
      "Epoch 41/200\n",
      "13389/13389 [==============================] - 0s - loss: 0.1170 - acc: 0.9306 - val_loss: 0.1053 - val_acc: 0.9556\n",
      "Epoch 42/200\n",
      "13389/13389 [==============================] - 0s - loss: 0.1070 - acc: 0.9494 - val_loss: 0.1061 - val_acc: 0.9487\n",
      "Epoch 43/200\n",
      "13389/13389 [==============================] - 0s - loss: 0.1063 - acc: 0.9514 - val_loss: 0.1047 - val_acc: 0.9487\n",
      "Epoch 44/200\n",
      "13389/13389 [==============================] - 0s - loss: 0.1056 - acc: 0.9500 - val_loss: 0.1133 - val_acc: 0.9386\n",
      "Epoch 45/200\n",
      "13389/13389 [==============================] - 0s - loss: 0.1087 - acc: 0.9463 - val_loss: 0.1016 - val_acc: 0.9556\n",
      "Epoch 46/200\n",
      "13389/13389 [==============================] - 0s - loss: 0.1077 - acc: 0.9448 - val_loss: 0.1019 - val_acc: 0.9591\n",
      "Epoch 47/200\n",
      "13389/13389 [==============================] - 0s - loss: 0.1079 - acc: 0.9424 - val_loss: 0.1010 - val_acc: 0.9491\n",
      "Epoch 48/200\n",
      "13389/13389 [==============================] - 0s - loss: 0.1034 - acc: 0.9527 - val_loss: 0.1010 - val_acc: 0.9489\n",
      "Epoch 49/200\n",
      "13389/13389 [==============================] - 0s - loss: 0.1049 - acc: 0.9473 - val_loss: 0.0993 - val_acc: 0.9556\n",
      "Epoch 50/200\n",
      "13389/13389 [==============================] - 0s - loss: 0.1030 - acc: 0.9494 - val_loss: 0.0985 - val_acc: 0.9556\n",
      "Epoch 51/200\n",
      "13389/13389 [==============================] - 0s - loss: 0.1021 - acc: 0.9522 - val_loss: 0.1001 - val_acc: 0.9487\n",
      "Epoch 52/200\n",
      "13389/13389 [==============================] - 0s - loss: 0.1030 - acc: 0.9503 - val_loss: 0.1070 - val_acc: 0.9431\n",
      "Epoch 53/200\n",
      "13389/13389 [==============================] - 0s - loss: 0.1030 - acc: 0.9492 - val_loss: 0.0989 - val_acc: 0.9491\n",
      "Epoch 54/200\n",
      "13389/13389 [==============================] - 0s - loss: 0.0999 - acc: 0.9553 - val_loss: 0.1105 - val_acc: 0.9387\n",
      "Epoch 55/200\n",
      "13389/13389 [==============================] - 0s - loss: 0.0985 - acc: 0.9547 - val_loss: 0.1166 - val_acc: 0.9058\n",
      "Epoch 56/200\n",
      "13389/13389 [==============================] - 0s - loss: 0.1070 - acc: 0.9435 - val_loss: 0.0972 - val_acc: 0.9556\n",
      "Epoch 57/200\n",
      "13389/13389 [==============================] - 0s - loss: 0.0972 - acc: 0.9571 - val_loss: 0.0983 - val_acc: 0.9487\n",
      "Epoch 58/200\n",
      "13389/13389 [==============================] - 0s - loss: 0.0958 - acc: 0.9562 - val_loss: 0.0945 - val_acc: 0.9585\n",
      "Epoch 59/200\n",
      "13389/13389 [==============================] - 0s - loss: 0.0976 - acc: 0.9538 - val_loss: 0.1019 - val_acc: 0.9486\n",
      "Epoch 60/200\n",
      "13389/13389 [==============================] - 0s - loss: 0.0989 - acc: 0.9518 - val_loss: 0.0985 - val_acc: 0.9597\n",
      "Epoch 61/200\n",
      "13389/13389 [==============================] - 0s - loss: 0.0965 - acc: 0.9540 - val_loss: 0.0939 - val_acc: 0.9556\n",
      "Epoch 62/200\n",
      "13389/13389 [==============================] - 0s - loss: 0.0974 - acc: 0.9532 - val_loss: 0.1080 - val_acc: 0.9430\n",
      "Epoch 63/200\n",
      "13389/13389 [==============================] - 0s - loss: 0.1057 - acc: 0.9465 - val_loss: 0.0949 - val_acc: 0.9556\n",
      "Epoch 64/200\n"
     ]
    },
    {
     "name": "stdout",
     "output_type": "stream",
     "text": [
      "13389/13389 [==============================] - 0s - loss: 0.0988 - acc: 0.9487 - val_loss: 0.0935 - val_acc: 0.9556\n",
      "Epoch 65/200\n",
      "13389/13389 [==============================] - 0s - loss: 0.0952 - acc: 0.9570 - val_loss: 0.0939 - val_acc: 0.9591\n",
      "Epoch 66/200\n",
      "13389/13389 [==============================] - 0s - loss: 0.0981 - acc: 0.9532 - val_loss: 0.0956 - val_acc: 0.9591\n",
      "Epoch 67/200\n",
      "13389/13389 [==============================] - 0s - loss: 0.0962 - acc: 0.9535 - val_loss: 0.0992 - val_acc: 0.9486\n",
      "Epoch 68/200\n",
      "13389/13389 [==============================] - 0s - loss: 0.0980 - acc: 0.9540 - val_loss: 0.1101 - val_acc: 0.9392\n",
      "Epoch 69/200\n",
      "13389/13389 [==============================] - 0s - loss: 0.0995 - acc: 0.9518 - val_loss: 0.1102 - val_acc: 0.9392\n",
      "Epoch 70/200\n",
      "13389/13389 [==============================] - 0s - loss: 0.0958 - acc: 0.9525 - val_loss: 0.0921 - val_acc: 0.9556\n",
      "Epoch 71/200\n",
      "13389/13389 [==============================] - 0s - loss: 0.0999 - acc: 0.9491 - val_loss: 0.0911 - val_acc: 0.9556\n",
      "Epoch 72/200\n",
      "13389/13389 [==============================] - 0s - loss: 0.0972 - acc: 0.9529 - val_loss: 0.1168 - val_acc: 0.9345\n",
      "Epoch 73/200\n",
      "13389/13389 [==============================] - 0s - loss: 0.0996 - acc: 0.9494 - val_loss: 0.0906 - val_acc: 0.9591\n",
      "Epoch 74/200\n",
      "13389/13389 [==============================] - 0s - loss: 0.0911 - acc: 0.9589 - val_loss: 0.1041 - val_acc: 0.9436\n",
      "Epoch 75/200\n",
      "13389/13389 [==============================] - 0s - loss: 0.0968 - acc: 0.9518 - val_loss: 0.0964 - val_acc: 0.9487\n",
      "Epoch 76/200\n",
      "13389/13389 [==============================] - 0s - loss: 0.0974 - acc: 0.9515 - val_loss: 0.0917 - val_acc: 0.9556\n",
      "Epoch 77/200\n",
      "13389/13389 [==============================] - 0s - loss: 0.0954 - acc: 0.9538 - val_loss: 0.1047 - val_acc: 0.9436\n",
      "Epoch 78/200\n",
      "13389/13389 [==============================] - 0s - loss: 0.0922 - acc: 0.9577 - val_loss: 0.0932 - val_acc: 0.9556\n",
      "Epoch 79/200\n",
      "13389/13389 [==============================] - 0s - loss: 0.0968 - acc: 0.9522 - val_loss: 0.0896 - val_acc: 0.9591\n",
      "Epoch 80/200\n",
      "13389/13389 [==============================] - 0s - loss: 0.0966 - acc: 0.9511 - val_loss: 0.0957 - val_acc: 0.9597\n",
      "Epoch 81/200\n",
      "13389/13389 [==============================] - 0s - loss: 0.0918 - acc: 0.9576 - val_loss: 0.0884 - val_acc: 0.9591\n",
      "Epoch 82/200\n",
      "13389/13389 [==============================] - 0s - loss: 0.0918 - acc: 0.9565 - val_loss: 0.0900 - val_acc: 0.9591\n",
      "Epoch 83/200\n",
      "13389/13389 [==============================] - 0s - loss: 0.1159 - acc: 0.9343 - val_loss: 0.0922 - val_acc: 0.9556\n",
      "Epoch 84/200\n",
      "13389/13389 [==============================] - 0s - loss: 0.0908 - acc: 0.9590 - val_loss: 0.0935 - val_acc: 0.9556\n",
      "Epoch 85/200\n",
      "13389/13389 [==============================] - 0s - loss: 0.0908 - acc: 0.9580 - val_loss: 0.0895 - val_acc: 0.9556\n",
      "Epoch 86/200\n",
      "13389/13389 [==============================] - 0s - loss: 0.0906 - acc: 0.9583 - val_loss: 0.0925 - val_acc: 0.9556\n",
      "Epoch 87/200\n",
      "13389/13389 [==============================] - 0s - loss: 0.0939 - acc: 0.9554 - val_loss: 0.0878 - val_acc: 0.9591\n",
      "Epoch 88/200\n",
      "13389/13389 [==============================] - 0s - loss: 0.0925 - acc: 0.9569 - val_loss: 0.1001 - val_acc: 0.9058\n",
      "Epoch 89/200\n",
      "13389/13389 [==============================] - 0s - loss: 0.0928 - acc: 0.9550 - val_loss: 0.0950 - val_acc: 0.9487\n",
      "Epoch 90/200\n",
      "13389/13389 [==============================] - 0s - loss: 0.0948 - acc: 0.9529 - val_loss: 0.1116 - val_acc: 0.9390\n",
      "Epoch 91/200\n",
      "13389/13389 [==============================] - 0s - loss: 0.1068 - acc: 0.9426 - val_loss: 0.0906 - val_acc: 0.9556\n",
      "Epoch 92/200\n",
      "13389/13389 [==============================] - 0s - loss: 0.0946 - acc: 0.9537 - val_loss: 0.0865 - val_acc: 0.9591\n",
      "Epoch 93/200\n",
      "13389/13389 [==============================] - 0s - loss: 0.0925 - acc: 0.9547 - val_loss: 0.0866 - val_acc: 0.9591\n",
      "Epoch 94/200\n",
      "13389/13389 [==============================] - 0s - loss: 0.1000 - acc: 0.9471 - val_loss: 0.1097 - val_acc: 0.9390\n",
      "Epoch 95/200\n",
      "13389/13389 [==============================] - 0s - loss: 0.0949 - acc: 0.9532 - val_loss: 0.1099 - val_acc: 0.9392\n",
      "Epoch 96/200\n",
      "13389/13389 [==============================] - 0s - loss: 0.1010 - acc: 0.9467 - val_loss: 0.1049 - val_acc: 0.9415\n",
      "Epoch 97/200\n",
      "13389/13389 [==============================] - 0s - loss: 0.0957 - acc: 0.9518 - val_loss: 0.0895 - val_acc: 0.9556\n",
      "Epoch 98/200\n",
      "13389/13389 [==============================] - 0s - loss: 0.0905 - acc: 0.9561 - val_loss: 0.0862 - val_acc: 0.9591\n",
      "Epoch 99/200\n",
      "13389/13389 [==============================] - 0s - loss: 0.0928 - acc: 0.9550 - val_loss: 0.0887 - val_acc: 0.9556\n",
      "Epoch 100/200\n",
      "13389/13389 [==============================] - 0s - loss: 0.0956 - acc: 0.9520 - val_loss: 0.0992 - val_acc: 0.9491\n",
      "Epoch 101/200\n",
      "13389/13389 [==============================] - 0s - loss: 0.0904 - acc: 0.9577 - val_loss: 0.0933 - val_acc: 0.9494\n",
      "Epoch 102/200\n",
      "13389/13389 [==============================] - 0s - loss: 0.0895 - acc: 0.9586 - val_loss: 0.1050 - val_acc: 0.9436\n",
      "Epoch 103/200\n",
      "13389/13389 [==============================] - 0s - loss: 0.0951 - acc: 0.9527 - val_loss: 0.0875 - val_acc: 0.9556\n",
      "Epoch 104/200\n",
      "13389/13389 [==============================] - 0s - loss: 0.0893 - acc: 0.9572 - val_loss: 0.0915 - val_acc: 0.9562\n",
      "Epoch 105/200\n",
      "13389/13389 [==============================] - 0s - loss: 0.0954 - acc: 0.9518 - val_loss: 0.0887 - val_acc: 0.9556\n",
      "Epoch 106/200\n",
      "13389/13389 [==============================] - 0s - loss: 0.0891 - acc: 0.9590 - val_loss: 0.1054 - val_acc: 0.9436\n",
      "Epoch 107/200\n",
      "13389/13389 [==============================] - 0s - loss: 0.0957 - acc: 0.9532 - val_loss: 0.1125 - val_acc: 0.9350\n",
      "Epoch 108/200\n",
      "13389/13389 [==============================] - 0s - loss: 0.0924 - acc: 0.9547 - val_loss: 0.0858 - val_acc: 0.9591\n",
      "Epoch 109/200\n",
      "13389/13389 [==============================] - 0s - loss: 0.0883 - acc: 0.9576 - val_loss: 0.0889 - val_acc: 0.9556\n",
      "Epoch 110/200\n",
      "13389/13389 [==============================] - 0s - loss: 0.0876 - acc: 0.9585 - val_loss: 0.1090 - val_acc: 0.9392\n",
      "Epoch 111/200\n",
      "13389/13389 [==============================] - 0s - loss: 0.0948 - acc: 0.9523 - val_loss: 0.0871 - val_acc: 0.9556\n",
      "Epoch 112/200\n",
      "13389/13389 [==============================] - 0s - loss: 0.0943 - acc: 0.9528 - val_loss: 0.0848 - val_acc: 0.9591\n",
      "Epoch 113/200\n",
      "13389/13389 [==============================] - 0s - loss: 0.0894 - acc: 0.9579 - val_loss: 0.0848 - val_acc: 0.9591\n",
      "Epoch 114/200\n",
      "13389/13389 [==============================] - 0s - loss: 0.0904 - acc: 0.9564 - val_loss: 0.0879 - val_acc: 0.9562\n",
      "Epoch 115/200\n",
      "13389/13389 [==============================] - 0s - loss: 0.0881 - acc: 0.9586 - val_loss: 0.0905 - val_acc: 0.9562\n",
      "Epoch 116/200\n",
      "13389/13389 [==============================] - 0s - loss: 0.0889 - acc: 0.9587 - val_loss: 0.1012 - val_acc: 0.9436\n",
      "Epoch 117/200\n",
      "13389/13389 [==============================] - 0s - loss: 0.0965 - acc: 0.9512 - val_loss: 0.1376 - val_acc: 0.9157\n",
      "Epoch 118/200\n",
      "13389/13389 [==============================] - 0s - loss: 0.1155 - acc: 0.9352 - val_loss: 0.0857 - val_acc: 0.9591\n",
      "Epoch 119/200\n",
      "13389/13389 [==============================] - 0s - loss: 0.0885 - acc: 0.9587 - val_loss: 0.0926 - val_acc: 0.9494\n",
      "Epoch 120/200\n",
      "13389/13389 [==============================] - 0s - loss: 0.0919 - acc: 0.9558 - val_loss: 0.0880 - val_acc: 0.9562\n",
      "Epoch 121/200\n",
      "13389/13389 [==============================] - 0s - loss: 0.0959 - acc: 0.9498 - val_loss: 0.0845 - val_acc: 0.9591\n",
      "Epoch 122/200\n",
      "13389/13389 [==============================] - 0s - loss: 0.0896 - acc: 0.9571 - val_loss: 0.0881 - val_acc: 0.9562\n",
      "Epoch 123/200\n",
      "13389/13389 [==============================] - 0s - loss: 0.0890 - acc: 0.9580 - val_loss: 0.0887 - val_acc: 0.9562\n",
      "Epoch 124/200\n",
      "13389/13389 [==============================] - 0s - loss: 0.0876 - acc: 0.9577 - val_loss: 0.0865 - val_acc: 0.9562\n",
      "Epoch 125/200\n",
      "13389/13389 [==============================] - 0s - loss: 0.0986 - acc: 0.9499 - val_loss: 0.0882 - val_acc: 0.9591\n",
      "Epoch 126/200\n",
      "13389/13389 [==============================] - 0s - loss: 0.0862 - acc: 0.9601 - val_loss: 0.0844 - val_acc: 0.9591\n",
      "Epoch 127/200\n"
     ]
    },
    {
     "name": "stdout",
     "output_type": "stream",
     "text": [
      "13389/13389 [==============================] - 0s - loss: 0.0970 - acc: 0.9499 - val_loss: 0.0964 - val_acc: 0.9491\n",
      "Epoch 128/200\n",
      "13389/13389 [==============================] - 0s - loss: 0.0971 - acc: 0.9498 - val_loss: 0.0880 - val_acc: 0.9562\n",
      "Epoch 129/200\n",
      "13389/13389 [==============================] - 0s - loss: 0.0855 - acc: 0.9604 - val_loss: 0.0843 - val_acc: 0.9591\n",
      "Epoch 130/200\n",
      "13389/13389 [==============================] - 0s - loss: 0.0859 - acc: 0.9603 - val_loss: 0.0853 - val_acc: 0.9597\n",
      "Epoch 131/200\n",
      "13389/13389 [==============================] - 0s - loss: 0.1009 - acc: 0.9475 - val_loss: 0.1004 - val_acc: 0.9436\n",
      "Epoch 132/200\n",
      "13389/13389 [==============================] - 0s - loss: 0.0901 - acc: 0.9555 - val_loss: 0.0847 - val_acc: 0.9597\n",
      "Epoch 133/200\n",
      "13389/13389 [==============================] - 0s - loss: 0.0847 - acc: 0.9609 - val_loss: 0.0923 - val_acc: 0.9494\n",
      "Epoch 134/200\n",
      "13389/13389 [==============================] - 0s - loss: 0.0890 - acc: 0.9555 - val_loss: 0.1045 - val_acc: 0.9436\n",
      "Epoch 135/200\n",
      "13389/13389 [==============================] - 0s - loss: 0.0923 - acc: 0.9551 - val_loss: 0.0917 - val_acc: 0.9495\n",
      "Epoch 136/200\n",
      "13389/13389 [==============================] - 0s - loss: 0.1025 - acc: 0.9450 - val_loss: 0.1087 - val_acc: 0.9390\n",
      "Epoch 137/200\n",
      "13389/13389 [==============================] - 0s - loss: 0.0982 - acc: 0.9498 - val_loss: 0.0839 - val_acc: 0.9591\n",
      "Epoch 138/200\n",
      "13389/13389 [==============================] - 0s - loss: 0.1064 - acc: 0.9410 - val_loss: 0.0881 - val_acc: 0.9562\n",
      "Epoch 139/200\n",
      "13389/13389 [==============================] - 0s - loss: 0.0851 - acc: 0.9607 - val_loss: 0.0839 - val_acc: 0.9591\n",
      "Epoch 140/200\n",
      "13389/13389 [==============================] - 0s - loss: 0.0867 - acc: 0.9595 - val_loss: 0.0894 - val_acc: 0.9562\n",
      "Epoch 141/200\n",
      "13389/13389 [==============================] - 0s - loss: 0.0974 - acc: 0.9494 - val_loss: 0.1025 - val_acc: 0.9436\n",
      "Epoch 142/200\n",
      "13389/13389 [==============================] - 0s - loss: 0.0876 - acc: 0.9587 - val_loss: 0.0861 - val_acc: 0.9562\n",
      "Epoch 143/200\n",
      "13389/13389 [==============================] - 0s - loss: 0.0901 - acc: 0.9557 - val_loss: 0.1268 - val_acc: 0.9239\n",
      "Epoch 144/200\n",
      "13389/13389 [==============================] - 0s - loss: 0.1117 - acc: 0.9370 - val_loss: 0.1007 - val_acc: 0.9436\n",
      "Epoch 145/200\n",
      "13389/13389 [==============================] - 0s - loss: 0.0899 - acc: 0.9572 - val_loss: 0.0915 - val_acc: 0.9495\n",
      "Epoch 146/200\n",
      "13389/13389 [==============================] - 0s - loss: 0.0947 - acc: 0.9519 - val_loss: 0.0833 - val_acc: 0.9591\n",
      "Epoch 147/200\n",
      "13389/13389 [==============================] - 0s - loss: 0.0963 - acc: 0.9514 - val_loss: 0.1243 - val_acc: 0.9239\n",
      "Epoch 148/200\n",
      "13389/13389 [==============================] - 0s - loss: 0.0989 - acc: 0.9491 - val_loss: 0.0835 - val_acc: 0.9591\n",
      "Epoch 149/200\n",
      "13389/13389 [==============================] - 0s - loss: 0.0921 - acc: 0.9547 - val_loss: 0.0889 - val_acc: 0.9562\n",
      "Epoch 150/200\n",
      "13389/13389 [==============================] - 0s - loss: 0.0866 - acc: 0.9592 - val_loss: 0.0966 - val_acc: 0.9491\n",
      "Epoch 151/200\n",
      "13389/13389 [==============================] - 0s - loss: 0.0895 - acc: 0.9571 - val_loss: 0.1366 - val_acc: 0.9187\n",
      "Epoch 152/200\n",
      "13389/13389 [==============================] - 0s - loss: 0.1338 - acc: 0.9165 - val_loss: 0.1184 - val_acc: 0.9239\n",
      "Epoch 153/200\n",
      "13389/13389 [==============================] - 0s - loss: 0.0961 - acc: 0.9532 - val_loss: 0.0840 - val_acc: 0.9591\n",
      "Epoch 154/200\n",
      "13389/13389 [==============================] - 0s - loss: 0.0854 - acc: 0.9600 - val_loss: 0.0881 - val_acc: 0.9562\n",
      "Epoch 155/200\n",
      "13389/13389 [==============================] - 0s - loss: 0.1090 - acc: 0.9423 - val_loss: 0.0886 - val_acc: 0.9562\n",
      "Epoch 156/200\n",
      "13389/13389 [==============================] - 0s - loss: 0.0978 - acc: 0.9495 - val_loss: 0.0951 - val_acc: 0.9491\n",
      "Epoch 157/200\n",
      "13389/13389 [==============================] - 0s - loss: 0.0862 - acc: 0.9603 - val_loss: 0.0839 - val_acc: 0.9597\n",
      "Epoch 158/200\n",
      "13389/13389 [==============================] - 0s - loss: 0.0903 - acc: 0.9556 - val_loss: 0.0834 - val_acc: 0.9597\n",
      "Epoch 159/200\n",
      "13389/13389 [==============================] - 0s - loss: 0.0875 - acc: 0.9585 - val_loss: 0.0830 - val_acc: 0.9591\n",
      "Epoch 160/200\n",
      "13389/13389 [==============================] - 0s - loss: 0.1071 - acc: 0.9417 - val_loss: 0.1145 - val_acc: 0.9304\n",
      "Epoch 161/200\n",
      "13389/13389 [==============================] - 0s - loss: 0.0907 - acc: 0.9565 - val_loss: 0.0831 - val_acc: 0.9591\n",
      "Epoch 162/200\n",
      "13389/13389 [==============================] - 0s - loss: 0.0975 - acc: 0.9493 - val_loss: 0.1201 - val_acc: 0.9271\n",
      "Epoch 163/200\n",
      "13389/13389 [==============================] - 0s - loss: 0.0944 - acc: 0.9529 - val_loss: 0.0830 - val_acc: 0.9591\n",
      "Epoch 164/200\n",
      "13389/13389 [==============================] - 0s - loss: 0.0879 - acc: 0.9572 - val_loss: 0.0828 - val_acc: 0.9591\n",
      "Epoch 165/200\n",
      "13389/13389 [==============================] - 0s - loss: 0.1003 - acc: 0.9485 - val_loss: 0.0861 - val_acc: 0.9562\n",
      "Epoch 166/200\n",
      "13389/13389 [==============================] - 0s - loss: 0.0965 - acc: 0.9496 - val_loss: 0.1247 - val_acc: 0.9239\n",
      "Epoch 167/200\n",
      "13389/13389 [==============================] - 0s - loss: 0.1048 - acc: 0.9436 - val_loss: 0.0837 - val_acc: 0.9591\n",
      "Epoch 168/200\n",
      "13389/13389 [==============================] - 0s - loss: 0.0965 - acc: 0.9504 - val_loss: 0.0849 - val_acc: 0.9597\n",
      "Epoch 169/200\n",
      "13389/13389 [==============================] - 0s - loss: 0.0875 - acc: 0.9582 - val_loss: 0.0838 - val_acc: 0.9597\n",
      "Epoch 170/200\n",
      "13389/13389 [==============================] - 0s - loss: 0.0862 - acc: 0.9594 - val_loss: 0.0982 - val_acc: 0.9491\n",
      "Epoch 171/200\n",
      "13389/13389 [==============================] - 0s - loss: 0.0867 - acc: 0.9595 - val_loss: 0.0909 - val_acc: 0.9562\n",
      "Epoch 172/200\n",
      "13389/13389 [==============================] - 0s - loss: 0.0904 - acc: 0.9555 - val_loss: 0.0873 - val_acc: 0.9562\n",
      "Epoch 173/200\n",
      "13389/13389 [==============================] - 0s - loss: 0.0942 - acc: 0.9536 - val_loss: 0.1274 - val_acc: 0.9215\n",
      "Epoch 174/200\n",
      "13389/13389 [==============================] - 0s - loss: 0.1124 - acc: 0.9355 - val_loss: 0.1092 - val_acc: 0.9345\n",
      "Epoch 175/200\n",
      "13389/13389 [==============================] - 0s - loss: 0.1027 - acc: 0.9461 - val_loss: 0.0870 - val_acc: 0.9562\n",
      "Epoch 176/200\n",
      "13389/13389 [==============================] - 0s - loss: 0.0909 - acc: 0.9548 - val_loss: 0.0875 - val_acc: 0.9562\n",
      "Epoch 177/200\n",
      "13389/13389 [==============================] - 0s - loss: 0.0892 - acc: 0.9577 - val_loss: 0.0836 - val_acc: 0.9597\n",
      "Epoch 178/200\n",
      "13389/13389 [==============================] - 0s - loss: 0.0900 - acc: 0.9565 - val_loss: 0.0830 - val_acc: 0.9597\n",
      "Epoch 179/200\n",
      "13389/13389 [==============================] - 0s - loss: 0.0913 - acc: 0.9540 - val_loss: 0.0917 - val_acc: 0.9541\n",
      "Epoch 180/200\n",
      "13389/13389 [==============================] - 0s - loss: 0.0881 - acc: 0.9573 - val_loss: 0.1102 - val_acc: 0.9390\n",
      "Epoch 181/200\n",
      "13389/13389 [==============================] - 0s - loss: 0.0891 - acc: 0.9568 - val_loss: 0.0856 - val_acc: 0.9562\n",
      "Epoch 182/200\n",
      "13389/13389 [==============================] - 0s - loss: 0.0868 - acc: 0.9585 - val_loss: 0.0832 - val_acc: 0.9597\n",
      "Epoch 183/200\n",
      "13389/13389 [==============================] - 0s - loss: 0.0984 - acc: 0.9486 - val_loss: 0.0830 - val_acc: 0.9597\n",
      "Epoch 184/200\n",
      "13389/13389 [==============================] - 0s - loss: 0.0941 - acc: 0.9537 - val_loss: 0.1210 - val_acc: 0.9271\n",
      "Epoch 185/200\n",
      "13389/13389 [==============================] - 0s - loss: 0.0949 - acc: 0.9526 - val_loss: 0.0828 - val_acc: 0.9597\n",
      "Epoch 186/200\n",
      "13389/13389 [==============================] - 0s - loss: 0.0909 - acc: 0.9552 - val_loss: 0.0964 - val_acc: 0.9491\n",
      "Epoch 187/200\n",
      "13389/13389 [==============================] - 0s - loss: 0.1099 - acc: 0.9382 - val_loss: 0.0975 - val_acc: 0.9491\n",
      "Epoch 188/200\n",
      "13389/13389 [==============================] - 0s - loss: 0.0887 - acc: 0.9578 - val_loss: 0.0831 - val_acc: 0.9597\n",
      "Epoch 189/200\n",
      "13389/13389 [==============================] - 0s - loss: 0.0882 - acc: 0.9575 - val_loss: 0.0852 - val_acc: 0.9562\n",
      "Epoch 190/200\n"
     ]
    },
    {
     "name": "stdout",
     "output_type": "stream",
     "text": [
      "13389/13389 [==============================] - 0s - loss: 0.0844 - acc: 0.9604 - val_loss: 0.0953 - val_acc: 0.9058\n",
      "Epoch 191/200\n",
      "13389/13389 [==============================] - 0s - loss: 0.1030 - acc: 0.9438 - val_loss: 0.1078 - val_acc: 0.9390\n",
      "Epoch 192/200\n",
      "13389/13389 [==============================] - 0s - loss: 0.0908 - acc: 0.9562 - val_loss: 0.0826 - val_acc: 0.9597\n",
      "Epoch 193/200\n",
      "13389/13389 [==============================] - 0s - loss: 0.0844 - acc: 0.9609 - val_loss: 0.0966 - val_acc: 0.9491\n",
      "Epoch 194/200\n",
      "13389/13389 [==============================] - 0s - loss: 0.1245 - acc: 0.9257 - val_loss: 0.1149 - val_acc: 0.9304\n",
      "Epoch 195/200\n",
      "13389/13389 [==============================] - 0s - loss: 0.0989 - acc: 0.9541 - val_loss: 0.0883 - val_acc: 0.9562\n",
      "Epoch 196/200\n",
      "13389/13389 [==============================] - 0s - loss: 0.0861 - acc: 0.9597 - val_loss: 0.0832 - val_acc: 0.9597\n",
      "Epoch 197/200\n",
      "13389/13389 [==============================] - 0s - loss: 0.0929 - acc: 0.9541 - val_loss: 0.0826 - val_acc: 0.9597\n",
      "Epoch 198/200\n",
      "13389/13389 [==============================] - 0s - loss: 0.0884 - acc: 0.9577 - val_loss: 0.0865 - val_acc: 0.9562\n",
      "Epoch 199/200\n",
      "13389/13389 [==============================] - 0s - loss: 0.0876 - acc: 0.9582 - val_loss: 0.0824 - val_acc: 0.9597\n",
      "Epoch 200/200\n",
      "13389/13389 [==============================] - 0s - loss: 0.1068 - acc: 0.9403 - val_loss: 0.1218 - val_acc: 0.9239\n"
     ]
    },
    {
     "data": {
      "text/plain": [
       "<keras.callbacks.History at 0x1209bea90>"
      ]
     },
     "execution_count": 22,
     "metadata": {},
     "output_type": "execute_result"
    }
   ],
   "source": [
    "batch_size = 200\n",
    "epochs = 200\n",
    "model.fit(x_train,y_train,callbacks=[history_cb],validation_data=(x_test,y_test),verbose=1,epochs=epochs,batch_size=batch_size)"
   ]
  },
  {
   "cell_type": "code",
   "execution_count": 23,
   "metadata": {},
   "outputs": [
    {
     "name": "stdout",
     "output_type": "stream",
     "text": [
      "Validation score: 0.9238817285822593\n"
     ]
    }
   ],
   "source": [
    "# Measure accuracy\n",
    "pred = model.predict(x_test)\n",
    "pred = np.argmax(pred,axis=1)\n",
    "y_eval = np.argmax(y_test,axis=1)\n",
    "score = metrics.accuracy_score(y_eval, pred)\n",
    "print(\"Validation score: {}\".format(score))"
   ]
  },
  {
   "cell_type": "code",
   "execution_count": 24,
   "metadata": {},
   "outputs": [
    {
     "name": "stdout",
     "output_type": "stream",
     "text": [
      "Confusion Matrix:\n",
      "[[ 0.0942  0.    ]\n",
      " [ 0.0761  0.8297]]\n"
     ]
    }
   ],
   "source": [
    "from sklearn.metrics import classification_report,confusion_matrix\n",
    "Cm = confusion_matrix(y_eval,pred)\n",
    "C = np.sum(Cm)\n",
    "Cm = Cm/C\n",
    "print('Confusion Matrix:')\n",
    "print(np.array_str(Cm, precision=4, suppress_small=True))"
   ]
  },
  {
   "cell_type": "code",
   "execution_count": null,
   "metadata": {},
   "outputs": [],
   "source": [
    "valAcc = history_cb.val_acc\n",
    "valLoss = history_cb.val_loss\n",
    "epoch_it = np.arange(1,201)\n",
    "plt.subplot(121)\n",
    "plt.plot(epoch_it, valAcc)\n",
    "plt.grid()\n",
    "plt.xlabel('Epoch')\n",
    "plt.ylabel('Validation accuracy')\n",
    "plt.tight_layout()\n",
    "plt.subplot(122)\n",
    "plt.plot(epoch_it, valLoss)\n",
    "plt.grid()\n",
    "plt.xlabel('Epoch')\n",
    "plt.ylabel('Validation loss')\n",
    "plt.tight_layout()\n",
    "plt.show()"
   ]
  },
  {
   "cell_type": "code",
   "execution_count": null,
   "metadata": {},
   "outputs": [],
   "source": [
    "Ls = history_cb.losses\n",
    "Acc = history_cb.accs\n",
    "ntr = np.shape(x_train)[0]\n",
    "epochNum = []\n",
    "for i in range(24200):\n",
    "    epochNum.append(i*100/ntr)\n",
    "\n",
    "matplotlib.pyplot.semilogy(epochNum, Ls)\n",
    "plt.grid()\n",
    "plt.xlabel('Epoch')\n",
    "plt.ylabel('Training Loss')\n",
    "plt.tight_layout()\n",
    "plt.show()"
   ]
  },
  {
   "cell_type": "code",
   "execution_count": null,
   "metadata": {},
   "outputs": [],
   "source": [
    "matplotlib.pyplot.semilogy(epochNum, Acc)\n",
    "# plt.plot(epochNum, Acc)\n",
    "plt.grid()\n",
    "plt.xlabel('Epoch')\n",
    "plt.ylabel('Training Accuracy')\n",
    "plt.tight_layout()\n",
    "# plt.axis([0.3,3,0.96,1])\n",
    "plt.show()\n",
    "\n"
   ]
  },
  {
   "cell_type": "code",
   "execution_count": null,
   "metadata": {
    "collapsed": true
   },
   "outputs": [],
   "source": []
  },
  {
   "cell_type": "code",
   "execution_count": null,
   "metadata": {
    "collapsed": true
   },
   "outputs": [],
   "source": [
    "# # Save & Load result\n",
    "# import os\n",
    "# import tensorflow as tf\n",
    "# saver = tf.train.Saver()"
   ]
  },
  {
   "cell_type": "code",
   "execution_count": null,
   "metadata": {
    "collapsed": true
   },
   "outputs": [],
   "source": [
    "# save_dir = 'checkpoints/' "
   ]
  },
  {
   "cell_type": "code",
   "execution_count": null,
   "metadata": {
    "collapsed": true
   },
   "outputs": [],
   "source": [
    "# if not os.path.exists(save_dir):\n",
    "#     os.makedirs(save_dir)"
   ]
  },
  {
   "cell_type": "code",
   "execution_count": null,
   "metadata": {
    "collapsed": true
   },
   "outputs": [],
   "source": [
    "# save_path = os.path.join(save_dir, 'best_validation')"
   ]
  },
  {
   "cell_type": "code",
   "execution_count": null,
   "metadata": {
    "collapsed": true
   },
   "outputs": [],
   "source": [
    "# saver.save(sess=session, save_path=save_path)"
   ]
  },
  {
   "cell_type": "code",
   "execution_count": null,
   "metadata": {
    "collapsed": true
   },
   "outputs": [],
   "source": [
    "# saver.restore(sess=session, save_path=save_path)"
   ]
  },
  {
   "cell_type": "code",
   "execution_count": null,
   "metadata": {
    "collapsed": true
   },
   "outputs": [],
   "source": [
    "# session.run(tf.global_variables_initializer())"
   ]
  },
  {
   "cell_type": "code",
   "execution_count": null,
   "metadata": {
    "collapsed": true
   },
   "outputs": [],
   "source": [
    "# print_test_accuracy(show_example_errors=True)"
   ]
  },
  {
   "cell_type": "code",
   "execution_count": null,
   "metadata": {
    "collapsed": true
   },
   "outputs": [],
   "source": []
  },
  {
   "cell_type": "code",
   "execution_count": null,
   "metadata": {
    "collapsed": true
   },
   "outputs": [],
   "source": []
  }
 ],
 "metadata": {
  "kernelspec": {
   "display_name": "Python 3",
   "language": "python",
   "name": "python3"
  },
  "language_info": {
   "codemirror_mode": {
    "name": "ipython",
    "version": 3
   },
   "file_extension": ".py",
   "mimetype": "text/x-python",
   "name": "python",
   "nbconvert_exporter": "python",
   "pygments_lexer": "ipython3",
   "version": "3.6.1"
  }
 },
 "nbformat": 4,
 "nbformat_minor": 2
}
