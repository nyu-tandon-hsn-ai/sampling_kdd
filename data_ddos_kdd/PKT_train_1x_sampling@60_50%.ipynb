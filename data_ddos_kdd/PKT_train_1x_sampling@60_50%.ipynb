{
 "cells": [
  {
   "cell_type": "code",
   "execution_count": 1,
   "metadata": {},
   "outputs": [
    {
     "name": "stderr",
     "output_type": "stream",
     "text": [
      "Using TensorFlow backend.\n"
     ]
    }
   ],
   "source": [
    "import pandas as pd\n",
    "from sklearn import preprocessing\n",
    "from sklearn.model_selection import train_test_split\n",
    "from sklearn import metrics\n",
    "from keras.models import Sequential\n",
    "from keras.layers.core import Dense, Activation\n",
    "from keras.callbacks import EarlyStopping"
   ]
  },
  {
   "cell_type": "code",
   "execution_count": 2,
   "metadata": {
    "collapsed": true
   },
   "outputs": [],
   "source": [
    "from sklearn import preprocessing\n",
    "import matplotlib.pyplot as plt\n",
    "import numpy as np\n",
    "import pandas as pd\n",
    "import shutil\n",
    "import os\n",
    "import keras\n",
    "import matplotlib\n",
    "import matplotlib.pyplot as plt\n",
    "%matplotlib inline"
   ]
  },
  {
   "cell_type": "code",
   "execution_count": 3,
   "metadata": {
    "collapsed": true
   },
   "outputs": [],
   "source": [
    "\n",
    "# Encode text values to dummy variables(i.e. [1,0,0],[0,1,0],[0,0,1] for red,green,blue)\n",
    "def encode_text_dummy(df, name):\n",
    "    dummies = pd.get_dummies(df[name])\n",
    "    for x in dummies.columns:\n",
    "        dummy_name = \"{}-{}\".format(name, x)\n",
    "        df[dummy_name] = dummies[x]\n",
    "    df.drop(name, axis=1, inplace=True)\n",
    "\n",
    "\n",
    "# Encode text values to a single dummy variable.  The new columns (which do not replace the old) will have a 1\n",
    "# at every location where the original column (name) matches each of the target_values.  One column is added for\n",
    "# each target value.\n",
    "def encode_text_single_dummy(df, name, target_values):\n",
    "    for tv in target_values:\n",
    "        l = list(df[name].astype(str))\n",
    "        l = [1 if str(x) == str(tv) else 0 for x in l]\n",
    "        name2 = \"{}-{}\".format(name, tv)\n",
    "        df[name2] = l\n",
    "\n",
    "\n",
    "# Encode text values to indexes(i.e. [1],[2],[3] for red,green,blue).\n",
    "def encode_text_index(df, name):\n",
    "    le = preprocessing.LabelEncoder()\n",
    "    df[name] = le.fit_transform(df[name])\n",
    "    return le.classes_\n",
    "\n",
    "\n",
    "# Encode a numeric column as zscores\n",
    "def encode_numeric_zscore(df, name, mean=None, sd=None):\n",
    "    if mean is None:\n",
    "        mean = np.asarray(df[name], dtype = np.float).mean()\n",
    "\n",
    "    if sd is None:\n",
    "        sd = np.asarray(df[name], dtype = np.float).std()\n",
    "\n",
    "    df[name] = (np.asarray(df[name], dtype = np.float) - mean) / sd\n",
    "\n",
    "\n",
    "# Convert all missing values in the specified column to the median\n",
    "def missing_median(df, name):\n",
    "    med = df[name].median()\n",
    "    df[name] = df[name].fillna(med)\n",
    "\n",
    "\n",
    "# Convert all missing values in the specified column to the default\n",
    "def missing_default(df, name, default_value):\n",
    "    df[name] = df[name].fillna(default_value)\n",
    "\n",
    "\n",
    "# Convert a Pandas dataframe to the x,y inputs that TensorFlow needs\n",
    "def to_xy(df, target):\n",
    "    result = []\n",
    "    for x in df.columns:\n",
    "        if x != target:\n",
    "            result.append(x)\n",
    "    # find out the type of the target column.  Is it really this hard? :(\n",
    "    target_type = df[target].dtypes\n",
    "    target_type = target_type[0] if hasattr(target_type, '__iter__') else target_type\n",
    "    # Encode to int for classification, float otherwise. TensorFlow likes 32 bits.\n",
    "    if target_type in (np.int64, np.int32):\n",
    "        # Classification\n",
    "        dummies = pd.get_dummies(df[target])\n",
    "        return df.as_matrix(result).astype(np.float32), dummies.as_matrix().astype(np.float32)\n",
    "    else:\n",
    "        # Regression\n",
    "        return df.as_matrix(result).astype(np.float32), df.as_matrix([target]).astype(np.float32)\n",
    "\n",
    "# Nicely formatted time string\n",
    "def hms_string(sec_elapsed):\n",
    "    h = int(sec_elapsed / (60 * 60))\n",
    "    m = int((sec_elapsed % (60 * 60)) / 60)\n",
    "    s = sec_elapsed % 60\n",
    "    return \"{}:{:>02}:{:>05.2f}\".format(h, m, s)\n",
    "\n",
    "\n",
    "# Regression chart.\n",
    "def chart_regression(pred,y,sort=True):\n",
    "    t = pd.DataFrame({'pred' : pred, 'y' : y.flatten()})\n",
    "    if sort:\n",
    "        t.sort_values(by=['y'],inplace=True)\n",
    "    a = plt.plot(t['y'].tolist(),label='expected')\n",
    "    b = plt.plot(t['pred'].tolist(),label='prediction')\n",
    "    plt.ylabel('output')\n",
    "    plt.legend()\n",
    "    plt.show()\n",
    "\n",
    "# Remove all rows where the specified column is +/- sd standard deviations\n",
    "def remove_outliers(df, name, sd):\n",
    "    drop_rows = df.index[(np.abs(df[name] - df[name].mean()) >= (sd * df[name].std()))]\n",
    "    df.drop(drop_rows, axis=0, inplace=True)\n",
    "\n",
    "\n",
    "# Encode a column to a range between normalized_low and normalized_high.\n",
    "def encode_numeric_range(df, name, normalized_low=-1, normalized_high=1,\n",
    "                         data_low=None, data_high=None):\n",
    "    if data_low is None:\n",
    "        data_low = min(df[name])\n",
    "        data_high = max(df[name])\n",
    "\n",
    "    df[name] = ((df[name] - data_low) / (data_high - data_low)) \\\n",
    "               * (normalized_high - normalized_low) + normalized_low"
   ]
  },
  {
   "cell_type": "code",
   "execution_count": 4,
   "metadata": {},
   "outputs": [
    {
     "name": "stdout",
     "output_type": "stream",
     "text": [
      "Read 35420 rows.\n"
     ]
    }
   ],
   "source": [
    "\n",
    "# This file is a CSV, just no CSV extension or headers\n",
    "# Download from: http://kdd.ics.uci.edu/databases/kddcup99/kddcup99.html\n",
    "df_ = pd.read_csv(\"/Users/tsaiflow/Desktop/NN&Sampling/data_ddos_kdd/train_PKT_sampling@60_50%.csv\")\n",
    "\n",
    "print(\"Read {} rows.\".format(len(df_)))\n",
    "#print(\"Read {} rows.\".format(len(df1)))\n",
    "# df = df.sample(frac=0.1, replace=False) # Uncomment this line to sample only 10% of the dataset\n",
    "df_.dropna(inplace=True,axis=1) # For now, just drop NA's (rows with missing values)\n",
    "# df1.dropna(inplace=True,axis=1)\n",
    "\n",
    "# The CSV file has no column heads, so add them\n",
    "# df.columns = [\n",
    "#     'duration',\n",
    "#     'forw_bytes',\n",
    "#     'back_bytes',\n",
    "#     'total_bytes',\n",
    "    \n",
    "#     'outcome'\n",
    "# ]"
   ]
  },
  {
   "cell_type": "code",
   "execution_count": 5,
   "metadata": {},
   "outputs": [
    {
     "data": {
      "text/html": [
       "<div>\n",
       "<style>\n",
       "    .dataframe thead tr:only-child th {\n",
       "        text-align: right;\n",
       "    }\n",
       "\n",
       "    .dataframe thead th {\n",
       "        text-align: left;\n",
       "    }\n",
       "\n",
       "    .dataframe tbody tr th {\n",
       "        vertical-align: top;\n",
       "    }\n",
       "</style>\n",
       "<table border=\"1\" class=\"dataframe\">\n",
       "  <thead>\n",
       "    <tr style=\"text-align: right;\">\n",
       "      <th></th>\n",
       "      <th>Unnamed: 0</th>\n",
       "      <th>duration</th>\n",
       "      <th>forw_byte</th>\n",
       "      <th>back_byte</th>\n",
       "      <th>tot_byte</th>\n",
       "      <th>outcome</th>\n",
       "    </tr>\n",
       "  </thead>\n",
       "  <tbody>\n",
       "    <tr>\n",
       "      <th>0</th>\n",
       "      <td>0</td>\n",
       "      <td>0.0</td>\n",
       "      <td>520</td>\n",
       "      <td>0</td>\n",
       "      <td>520</td>\n",
       "      <td>dos</td>\n",
       "    </tr>\n",
       "    <tr>\n",
       "      <th>1</th>\n",
       "      <td>1</td>\n",
       "      <td>0.0</td>\n",
       "      <td>1032</td>\n",
       "      <td>0</td>\n",
       "      <td>1032</td>\n",
       "      <td>dos</td>\n",
       "    </tr>\n",
       "    <tr>\n",
       "      <th>2</th>\n",
       "      <td>2</td>\n",
       "      <td>0.0</td>\n",
       "      <td>1032</td>\n",
       "      <td>0</td>\n",
       "      <td>1032</td>\n",
       "      <td>dos</td>\n",
       "    </tr>\n",
       "    <tr>\n",
       "      <th>3</th>\n",
       "      <td>3</td>\n",
       "      <td>0.0</td>\n",
       "      <td>1032</td>\n",
       "      <td>0</td>\n",
       "      <td>1032</td>\n",
       "      <td>dos</td>\n",
       "    </tr>\n",
       "    <tr>\n",
       "      <th>4</th>\n",
       "      <td>4</td>\n",
       "      <td>0.0</td>\n",
       "      <td>1032</td>\n",
       "      <td>0</td>\n",
       "      <td>1032</td>\n",
       "      <td>dos</td>\n",
       "    </tr>\n",
       "  </tbody>\n",
       "</table>\n",
       "</div>"
      ],
      "text/plain": [
       "   Unnamed: 0  duration  forw_byte  back_byte  tot_byte outcome\n",
       "0           0       0.0        520          0       520     dos\n",
       "1           1       0.0       1032          0      1032     dos\n",
       "2           2       0.0       1032          0      1032     dos\n",
       "3           3       0.0       1032          0      1032     dos\n",
       "4           4       0.0       1032          0      1032     dos"
      ]
     },
     "execution_count": 5,
     "metadata": {},
     "output_type": "execute_result"
    }
   ],
   "source": [
    "df_.head(5)"
   ]
  },
  {
   "cell_type": "code",
   "execution_count": 6,
   "metadata": {
    "collapsed": true
   },
   "outputs": [],
   "source": [
    "cols = ['duration', 'forw_byte', 'back_byte','tot_byte','outcome']\n",
    "df = df_[cols]"
   ]
  },
  {
   "cell_type": "code",
   "execution_count": 7,
   "metadata": {
    "collapsed": true
   },
   "outputs": [],
   "source": [
    "# df.drop(df.head(1).index, inplace = True)"
   ]
  },
  {
   "cell_type": "code",
   "execution_count": 8,
   "metadata": {},
   "outputs": [
    {
     "data": {
      "text/html": [
       "<div>\n",
       "<style>\n",
       "    .dataframe thead tr:only-child th {\n",
       "        text-align: right;\n",
       "    }\n",
       "\n",
       "    .dataframe thead th {\n",
       "        text-align: left;\n",
       "    }\n",
       "\n",
       "    .dataframe tbody tr th {\n",
       "        vertical-align: top;\n",
       "    }\n",
       "</style>\n",
       "<table border=\"1\" class=\"dataframe\">\n",
       "  <thead>\n",
       "    <tr style=\"text-align: right;\">\n",
       "      <th></th>\n",
       "      <th>duration</th>\n",
       "      <th>forw_byte</th>\n",
       "      <th>back_byte</th>\n",
       "      <th>tot_byte</th>\n",
       "      <th>outcome</th>\n",
       "    </tr>\n",
       "  </thead>\n",
       "  <tbody>\n",
       "    <tr>\n",
       "      <th>0</th>\n",
       "      <td>0.0</td>\n",
       "      <td>520</td>\n",
       "      <td>0</td>\n",
       "      <td>520</td>\n",
       "      <td>dos</td>\n",
       "    </tr>\n",
       "    <tr>\n",
       "      <th>1</th>\n",
       "      <td>0.0</td>\n",
       "      <td>1032</td>\n",
       "      <td>0</td>\n",
       "      <td>1032</td>\n",
       "      <td>dos</td>\n",
       "    </tr>\n",
       "    <tr>\n",
       "      <th>2</th>\n",
       "      <td>0.0</td>\n",
       "      <td>1032</td>\n",
       "      <td>0</td>\n",
       "      <td>1032</td>\n",
       "      <td>dos</td>\n",
       "    </tr>\n",
       "    <tr>\n",
       "      <th>3</th>\n",
       "      <td>0.0</td>\n",
       "      <td>1032</td>\n",
       "      <td>0</td>\n",
       "      <td>1032</td>\n",
       "      <td>dos</td>\n",
       "    </tr>\n",
       "    <tr>\n",
       "      <th>4</th>\n",
       "      <td>0.0</td>\n",
       "      <td>1032</td>\n",
       "      <td>0</td>\n",
       "      <td>1032</td>\n",
       "      <td>dos</td>\n",
       "    </tr>\n",
       "  </tbody>\n",
       "</table>\n",
       "</div>"
      ],
      "text/plain": [
       "   duration  forw_byte  back_byte  tot_byte outcome\n",
       "0       0.0        520          0       520     dos\n",
       "1       0.0       1032          0      1032     dos\n",
       "2       0.0       1032          0      1032     dos\n",
       "3       0.0       1032          0      1032     dos\n",
       "4       0.0       1032          0      1032     dos"
      ]
     },
     "execution_count": 8,
     "metadata": {},
     "output_type": "execute_result"
    }
   ],
   "source": [
    "df.head(5)"
   ]
  },
  {
   "cell_type": "code",
   "execution_count": 9,
   "metadata": {
    "collapsed": true
   },
   "outputs": [],
   "source": [
    "# np.asarray(df['duration'], dtype = np.float).mean()\n",
    "# # df[name].mean()"
   ]
  },
  {
   "cell_type": "code",
   "execution_count": 10,
   "metadata": {
    "collapsed": true
   },
   "outputs": [],
   "source": [
    "# np.asarray(df['duration'], dtype = np.float).std()"
   ]
  },
  {
   "cell_type": "code",
   "execution_count": null,
   "metadata": {
    "collapsed": true
   },
   "outputs": [],
   "source": []
  },
  {
   "cell_type": "code",
   "execution_count": 11,
   "metadata": {},
   "outputs": [
    {
     "name": "stderr",
     "output_type": "stream",
     "text": [
      "/anaconda/lib/python3.6/site-packages/ipykernel_launcher.py:37: SettingWithCopyWarning: \n",
      "A value is trying to be set on a copy of a slice from a DataFrame.\n",
      "Try using .loc[row_indexer,col_indexer] = value instead\n",
      "\n",
      "See the caveats in the documentation: http://pandas.pydata.org/pandas-docs/stable/indexing.html#indexing-view-versus-copy\n",
      "/anaconda/lib/python3.6/site-packages/ipykernel_launcher.py:25: SettingWithCopyWarning: \n",
      "A value is trying to be set on a copy of a slice from a DataFrame.\n",
      "Try using .loc[row_indexer,col_indexer] = value instead\n",
      "\n",
      "See the caveats in the documentation: http://pandas.pydata.org/pandas-docs/stable/indexing.html#indexing-view-versus-copy\n",
      "/anaconda/lib/python3.6/site-packages/ipykernel_launcher.py:51: SettingWithCopyWarning: \n",
      "A value is trying to be set on a copy of a slice from a DataFrame\n",
      "\n",
      "See the caveats in the documentation: http://pandas.pydata.org/pandas-docs/stable/indexing.html#indexing-view-versus-copy\n"
     ]
    },
    {
     "data": {
      "text/html": [
       "<div>\n",
       "<style>\n",
       "    .dataframe thead tr:only-child th {\n",
       "        text-align: right;\n",
       "    }\n",
       "\n",
       "    .dataframe thead th {\n",
       "        text-align: left;\n",
       "    }\n",
       "\n",
       "    .dataframe tbody tr th {\n",
       "        vertical-align: top;\n",
       "    }\n",
       "</style>\n",
       "<table border=\"1\" class=\"dataframe\">\n",
       "  <thead>\n",
       "    <tr style=\"text-align: right;\">\n",
       "      <th></th>\n",
       "      <th>duration</th>\n",
       "      <th>forw_byte</th>\n",
       "      <th>back_byte</th>\n",
       "      <th>tot_byte</th>\n",
       "      <th>outcome</th>\n",
       "    </tr>\n",
       "  </thead>\n",
       "  <tbody>\n",
       "    <tr>\n",
       "      <th>0</th>\n",
       "      <td>0.0</td>\n",
       "      <td>-0.006791</td>\n",
       "      <td>-0.006312</td>\n",
       "      <td>-0.009257</td>\n",
       "      <td>0</td>\n",
       "    </tr>\n",
       "    <tr>\n",
       "      <th>1</th>\n",
       "      <td>0.0</td>\n",
       "      <td>-0.006676</td>\n",
       "      <td>-0.006312</td>\n",
       "      <td>-0.009172</td>\n",
       "      <td>0</td>\n",
       "    </tr>\n",
       "    <tr>\n",
       "      <th>2</th>\n",
       "      <td>0.0</td>\n",
       "      <td>-0.006676</td>\n",
       "      <td>-0.006312</td>\n",
       "      <td>-0.009172</td>\n",
       "      <td>0</td>\n",
       "    </tr>\n",
       "    <tr>\n",
       "      <th>3</th>\n",
       "      <td>0.0</td>\n",
       "      <td>-0.006676</td>\n",
       "      <td>-0.006312</td>\n",
       "      <td>-0.009172</td>\n",
       "      <td>0</td>\n",
       "    </tr>\n",
       "    <tr>\n",
       "      <th>4</th>\n",
       "      <td>0.0</td>\n",
       "      <td>-0.006676</td>\n",
       "      <td>-0.006312</td>\n",
       "      <td>-0.009172</td>\n",
       "      <td>0</td>\n",
       "    </tr>\n",
       "  </tbody>\n",
       "</table>\n",
       "</div>"
      ],
      "text/plain": [
       "   duration  forw_byte  back_byte  tot_byte  outcome\n",
       "0       0.0  -0.006791  -0.006312 -0.009257        0\n",
       "1       0.0  -0.006676  -0.006312 -0.009172        0\n",
       "2       0.0  -0.006676  -0.006312 -0.009172        0\n",
       "3       0.0  -0.006676  -0.006312 -0.009172        0\n",
       "4       0.0  -0.006676  -0.006312 -0.009172        0"
      ]
     },
     "execution_count": 11,
     "metadata": {},
     "output_type": "execute_result"
    }
   ],
   "source": [
    "# Now encode the feature vector\n",
    "\n",
    "#encode_numeric_zscore(df, 'duration')\n",
    "\n",
    "# encode_text_dummy(df, 'protocol_type')\n",
    "# encode_text_dummy(df, 'service')\n",
    "# encode_text_dummy(df, 'flag')\n",
    "encode_numeric_zscore(df, 'forw_byte')\n",
    "encode_numeric_zscore(df, 'back_byte')\n",
    "encode_numeric_zscore(df, 'tot_byte')\n",
    "# encode_text_dummy(df, 'land')\n",
    "# encode_numeric_zscore(df, 'wrong_fragment')\n",
    "# encode_numeric_zscore(df, 'urgent')\n",
    "# encode_numeric_zscore(df, 'hot')\n",
    "# encode_numeric_zscore(df, 'num_failed_logins')\n",
    "# encode_text_dummy(df, 'logged_in')\n",
    "# encode_numeric_zscore(df, 'num_compromised')\n",
    "# encode_numeric_zscore(df, 'root_shell')\n",
    "# encode_numeric_zscore(df, 'su_attempted')\n",
    "# encode_numeric_zscore(df, 'num_root')\n",
    "# encode_numeric_zscore(df, 'num_file_creations')\n",
    "# encode_numeric_zscore(df, 'num_shells')\n",
    "# encode_numeric_zscore(df, 'num_access_files')\n",
    "# encode_numeric_zscore(df, 'num_outbound_cmds')\n",
    "# encode_text_dummy(df, 'is_host_login')\n",
    "# encode_text_dummy(df, 'is_guest_login')\n",
    "# encode_numeric_zscore(df, 'count')\n",
    "# encode_numeric_zscore(df, 'srv_count')\n",
    "# encode_numeric_zscore(df, 'serror_rate')\n",
    "# encode_numeric_zscore(df, 'srv_serror_rate')\n",
    "# encode_numeric_zscore(df, 'rerror_rate')\n",
    "# encode_numeric_zscore(df, 'srv_rerror_rate')\n",
    "# encode_numeric_zscore(df, 'same_srv_rate')\n",
    "# encode_numeric_zscore(df, 'diff_srv_rate')\n",
    "# encode_numeric_zscore(df, 'srv_diff_host_rate')\n",
    "# encode_numeric_zscore(df, 'dst_host_count')\n",
    "# encode_numeric_zscore(df, 'dst_host_srv_count')\n",
    "# encode_numeric_zscore(df, 'dst_host_same_srv_rate')\n",
    "# encode_numeric_zscore(df, 'dst_host_diff_srv_rate')\n",
    "# encode_numeric_zscore(df, 'dst_host_same_src_port_rate')\n",
    "# encode_numeric_zscore(df, 'dst_host_srv_diff_host_rate')\n",
    "# encode_numeric_zscore(df, 'dst_host_serror_rate')\n",
    "# encode_numeric_zscore(df, 'dst_host_srv_serror_rate')\n",
    "# encode_numeric_zscore(df, 'dst_host_rerror_rate')\n",
    "# encode_numeric_zscore(df, 'dst_host_srv_rerror_rate')\n",
    "outcomes = encode_text_index(df, 'outcome')\n",
    "num_classes = len(outcomes)\n",
    "\n",
    "# display 5 rows\n",
    "\n",
    "df.dropna(inplace=True,axis=1)\n",
    "df[0:5]\n",
    "# This is the numeric feature vector, as it goes to the neural net"
   ]
  },
  {
   "cell_type": "code",
   "execution_count": 12,
   "metadata": {
    "collapsed": true
   },
   "outputs": [],
   "source": [
    "x, y = to_xy(df,'outcome')"
   ]
  },
  {
   "cell_type": "code",
   "execution_count": 13,
   "metadata": {
    "collapsed": true
   },
   "outputs": [],
   "source": [
    "# df.head(5)"
   ]
  },
  {
   "cell_type": "code",
   "execution_count": 14,
   "metadata": {
    "collapsed": true
   },
   "outputs": [],
   "source": [
    "# Create a test/train split.  33% test\n",
    "# Split into train/test\n",
    "x_train, x_test, y_train, y_test = train_test_split(\n",
    "    x, y, test_size=0.33, random_state=42)"
   ]
  },
  {
   "cell_type": "code",
   "execution_count": null,
   "metadata": {
    "collapsed": true
   },
   "outputs": [],
   "source": []
  },
  {
   "cell_type": "code",
   "execution_count": 15,
   "metadata": {
    "collapsed": true
   },
   "outputs": [],
   "source": [
    "import keras.backend as K\n",
    "K.clear_session()"
   ]
  },
  {
   "cell_type": "code",
   "execution_count": 16,
   "metadata": {
    "collapsed": true
   },
   "outputs": [],
   "source": [
    "# Create neural net\n",
    "model = Sequential()\n",
    "\n",
    "# Used relu for activation function\n",
    "model.add(Dense(10, input_dim=x.shape[1], kernel_initializer='normal', activation='relu'))\n",
    "model.add(Dense(50, input_dim=x.shape[1], kernel_initializer='normal', activation='relu'))\n",
    "model.add(Dense(10, input_dim=x.shape[1], kernel_initializer='normal', activation='relu'))\n",
    "\n",
    "# output layer \n",
    "model.add(Dense(1, kernel_initializer='normal'))\n",
    "model.add(Dense(y.shape[1],activation='softmax'))\n",
    "# model.add(Dense(y.shape[1],activation = 'sigmoid'))"
   ]
  },
  {
   "cell_type": "code",
   "execution_count": 17,
   "metadata": {},
   "outputs": [
    {
     "name": "stdout",
     "output_type": "stream",
     "text": [
      "_________________________________________________________________\n",
      "Layer (type)                 Output Shape              Param #   \n",
      "=================================================================\n",
      "dense_1 (Dense)              (None, 10)                50        \n",
      "_________________________________________________________________\n",
      "dense_2 (Dense)              (None, 50)                550       \n",
      "_________________________________________________________________\n",
      "dense_3 (Dense)              (None, 10)                510       \n",
      "_________________________________________________________________\n",
      "dense_4 (Dense)              (None, 1)                 11        \n",
      "_________________________________________________________________\n",
      "dense_5 (Dense)              (None, 2)                 4         \n",
      "=================================================================\n",
      "Total params: 1,125\n",
      "Trainable params: 1,125\n",
      "Non-trainable params: 0\n",
      "_________________________________________________________________\n"
     ]
    }
   ],
   "source": [
    "# Print the model summary\n",
    "model.summary()"
   ]
  },
  {
   "cell_type": "code",
   "execution_count": 18,
   "metadata": {
    "collapsed": true
   },
   "outputs": [],
   "source": [
    "class LossHistory(keras.callbacks.Callback):\n",
    "    def on_train_begin(self, logs={}):\n",
    "        # TODO:  Create two empty lists, self.loss and self.val_acc\n",
    "        self.losses = []\n",
    "        self.accs = []\n",
    "        self.val_acc = []\n",
    "        self.val_loss = []\n",
    "    def on_batch_end(self, batch, logs={}):\n",
    "        # TODO:  This is called at the end of each batch.  \n",
    "        # Add the loss in logs.get('loss') to the loss list\n",
    "        loss = logs.get('loss')\n",
    "        acc = logs.get('acc')\n",
    "        self.losses.append(loss)\n",
    "        self.accs.append(acc)\n",
    "    def on_epoch_end(self, epoch, logs):\n",
    "        # TODO:  This is called at the end of each epoch.  \n",
    "        # Add the test accuracy in logs.get('loss') to the val_acc list\n",
    "        val_acc = logs.get('val_acc')\n",
    "        val_loss = logs.get('val_loss')\n",
    "        self.val_acc.append(val_acc)\n",
    "        self.val_loss.append(val_loss)\n",
    "\n",
    "# Create an instance of the history callback\n",
    "history_cb = LossHistory()"
   ]
  },
  {
   "cell_type": "code",
   "execution_count": 19,
   "metadata": {
    "collapsed": true
   },
   "outputs": [],
   "source": [
    "from keras import optimizers\n",
    "\n",
    "# optimizer defined\n",
    "opt = optimizers.Adam(lr=0.001, beta_1=0.9, beta_2=0.999, epsilon=1e-08, decay=0.0)"
   ]
  },
  {
   "cell_type": "code",
   "execution_count": 20,
   "metadata": {
    "collapsed": true
   },
   "outputs": [],
   "source": [
    "## compile model\n",
    "model.compile(optimizer='adam',\n",
    "              loss='categorical_crossentropy',\n",
    "              metrics=['accuracy'])\n",
    "monitor = EarlyStopping(monitor='val_loss', min_delta=1e-3, patience=5, verbose=1, mode='auto')\n"
   ]
  },
  {
   "cell_type": "code",
   "execution_count": 21,
   "metadata": {
    "collapsed": true
   },
   "outputs": [],
   "source": [
    "# model.fit(x,y,validation_data=(x_test,y_test),callbacks=[monitor],verbose=2,epochs=1000)"
   ]
  },
  {
   "cell_type": "code",
   "execution_count": 22,
   "metadata": {},
   "outputs": [
    {
     "name": "stdout",
     "output_type": "stream",
     "text": [
      "Train on 23731 samples, validate on 11689 samples\n",
      "Epoch 1/200\n",
      "23731/23731 [==============================] - 1s - loss: 0.6678 - acc: 0.5808 - val_loss: 0.6158 - val_acc: 0.6294\n",
      "Epoch 2/200\n",
      "23731/23731 [==============================] - 0s - loss: 0.5984 - acc: 0.6478 - val_loss: 0.5781 - val_acc: 0.6681\n",
      "Epoch 3/200\n",
      "23731/23731 [==============================] - 0s - loss: 0.5455 - acc: 0.7054 - val_loss: 0.4965 - val_acc: 0.7545\n",
      "Epoch 4/200\n",
      "23731/23731 [==============================] - 0s - loss: 0.4429 - acc: 0.8023 - val_loss: 0.3952 - val_acc: 0.8173\n",
      "Epoch 5/200\n",
      "23731/23731 [==============================] - 0s - loss: 0.3610 - acc: 0.8405 - val_loss: 0.3300 - val_acc: 0.8641\n",
      "Epoch 6/200\n",
      "23731/23731 [==============================] - 0s - loss: 0.3140 - acc: 0.8730 - val_loss: 0.3094 - val_acc: 0.8593\n",
      "Epoch 7/200\n",
      "23731/23731 [==============================] - 0s - loss: 0.2795 - acc: 0.8958 - val_loss: 0.2678 - val_acc: 0.9158\n",
      "Epoch 8/200\n",
      "23731/23731 [==============================] - 0s - loss: 0.2556 - acc: 0.9078 - val_loss: 0.2421 - val_acc: 0.9103\n",
      "Epoch 9/200\n",
      "23731/23731 [==============================] - 0s - loss: 0.2359 - acc: 0.9168 - val_loss: 0.2296 - val_acc: 0.9169\n",
      "Epoch 10/200\n",
      "23731/23731 [==============================] - 0s - loss: 0.2260 - acc: 0.9215 - val_loss: 0.2141 - val_acc: 0.9291\n",
      "Epoch 11/200\n",
      "23731/23731 [==============================] - 0s - loss: 0.2170 - acc: 0.9257 - val_loss: 0.2097 - val_acc: 0.9337\n",
      "Epoch 12/200\n",
      "23731/23731 [==============================] - 0s - loss: 0.2077 - acc: 0.9297 - val_loss: 0.2020 - val_acc: 0.9303\n",
      "Epoch 13/200\n",
      "23731/23731 [==============================] - 0s - loss: 0.2069 - acc: 0.9318 - val_loss: 0.1956 - val_acc: 0.9356\n",
      "Epoch 14/200\n",
      "23731/23731 [==============================] - 0s - loss: 0.2081 - acc: 0.9330 - val_loss: 0.1927 - val_acc: 0.9369\n",
      "Epoch 15/200\n",
      "23731/23731 [==============================] - 0s - loss: 0.2004 - acc: 0.9354 - val_loss: 0.2234 - val_acc: 0.9460\n",
      "Epoch 16/200\n",
      "23731/23731 [==============================] - 0s - loss: 0.2005 - acc: 0.9363 - val_loss: 0.1883 - val_acc: 0.9368\n",
      "Epoch 17/200\n",
      "23731/23731 [==============================] - 0s - loss: 0.1945 - acc: 0.9377 - val_loss: 0.1849 - val_acc: 0.9399\n",
      "Epoch 18/200\n",
      "23731/23731 [==============================] - 0s - loss: 0.1918 - acc: 0.9386 - val_loss: 0.2098 - val_acc: 0.9326\n",
      "Epoch 19/200\n",
      "23731/23731 [==============================] - 0s - loss: 0.1932 - acc: 0.9393 - val_loss: 0.2039 - val_acc: 0.9343\n",
      "Epoch 20/200\n",
      "23731/23731 [==============================] - 0s - loss: 0.1889 - acc: 0.9401 - val_loss: 0.1798 - val_acc: 0.9422\n",
      "Epoch 21/200\n",
      "23731/23731 [==============================] - 0s - loss: 0.1851 - acc: 0.9411 - val_loss: 0.1785 - val_acc: 0.9420\n",
      "Epoch 22/200\n",
      "23731/23731 [==============================] - 0s - loss: 0.1842 - acc: 0.9428 - val_loss: 0.1794 - val_acc: 0.9414\n",
      "Epoch 23/200\n",
      "23731/23731 [==============================] - 0s - loss: 0.1800 - acc: 0.9423 - val_loss: 0.1807 - val_acc: 0.9467\n",
      "Epoch 24/200\n",
      "23731/23731 [==============================] - 0s - loss: 0.1810 - acc: 0.9436 - val_loss: 0.1744 - val_acc: 0.9445\n",
      "Epoch 25/200\n",
      "23731/23731 [==============================] - 0s - loss: 0.1829 - acc: 0.9435 - val_loss: 0.1741 - val_acc: 0.9459\n",
      "Epoch 26/200\n",
      "23731/23731 [==============================] - 0s - loss: 0.1814 - acc: 0.9445 - val_loss: 0.1752 - val_acc: 0.9443\n",
      "Epoch 27/200\n",
      "23731/23731 [==============================] - 0s - loss: 0.1781 - acc: 0.9451 - val_loss: 0.1806 - val_acc: 0.9432\n",
      "Epoch 28/200\n",
      "23731/23731 [==============================] - 0s - loss: 0.1837 - acc: 0.9444 - val_loss: 0.1832 - val_acc: 0.9429\n",
      "Epoch 29/200\n",
      "23731/23731 [==============================] - 0s - loss: 0.1777 - acc: 0.9458 - val_loss: 0.2296 - val_acc: 0.9384\n",
      "Epoch 30/200\n",
      "23731/23731 [==============================] - 0s - loss: 0.1799 - acc: 0.9460 - val_loss: 0.2350 - val_acc: 0.9542\n",
      "Epoch 31/200\n",
      "23731/23731 [==============================] - 0s - loss: 0.1797 - acc: 0.9459 - val_loss: 0.1693 - val_acc: 0.9477\n",
      "Epoch 32/200\n",
      "23731/23731 [==============================] - 0s - loss: 0.1763 - acc: 0.9462 - val_loss: 0.1682 - val_acc: 0.9476\n",
      "Epoch 33/200\n",
      "23731/23731 [==============================] - 0s - loss: 0.1806 - acc: 0.9465 - val_loss: 0.1775 - val_acc: 0.9449\n",
      "Epoch 34/200\n",
      "23731/23731 [==============================] - 0s - loss: 0.1824 - acc: 0.9469 - val_loss: 0.1692 - val_acc: 0.9494\n",
      "Epoch 35/200\n",
      "23731/23731 [==============================] - 0s - loss: 0.1733 - acc: 0.9477 - val_loss: 0.1716 - val_acc: 0.9502\n",
      "Epoch 36/200\n",
      "23731/23731 [==============================] - 0s - loss: 0.1703 - acc: 0.9482 - val_loss: 0.1714 - val_acc: 0.9461\n",
      "Epoch 37/200\n",
      "23731/23731 [==============================] - 0s - loss: 0.1704 - acc: 0.9486 - val_loss: 0.1729 - val_acc: 0.9461\n",
      "Epoch 38/200\n",
      "23731/23731 [==============================] - 0s - loss: 0.1765 - acc: 0.9481 - val_loss: 0.1931 - val_acc: 0.9445\n",
      "Epoch 39/200\n",
      "23731/23731 [==============================] - 0s - loss: 0.1735 - acc: 0.9488 - val_loss: 0.1654 - val_acc: 0.9501\n",
      "Epoch 40/200\n",
      "23731/23731 [==============================] - 0s - loss: 0.1713 - acc: 0.9489 - val_loss: 0.1671 - val_acc: 0.9484\n",
      "Epoch 41/200\n",
      "23731/23731 [==============================] - 0s - loss: 0.1726 - acc: 0.9495 - val_loss: 0.1647 - val_acc: 0.9503\n",
      "Epoch 42/200\n",
      "23731/23731 [==============================] - 0s - loss: 0.1684 - acc: 0.9496 - val_loss: 0.1919 - val_acc: 0.9453\n",
      "Epoch 43/200\n",
      "23731/23731 [==============================] - 0s - loss: 0.1734 - acc: 0.9496 - val_loss: 0.1661 - val_acc: 0.9509\n",
      "Epoch 44/200\n",
      "23731/23731 [==============================] - 0s - loss: 0.1668 - acc: 0.9499 - val_loss: 0.1653 - val_acc: 0.9510\n",
      "Epoch 45/200\n",
      "23731/23731 [==============================] - 0s - loss: 0.1660 - acc: 0.9504 - val_loss: 0.1740 - val_acc: 0.9521\n",
      "Epoch 46/200\n",
      "23731/23731 [==============================] - 0s - loss: 0.1659 - acc: 0.9506 - val_loss: 0.1628 - val_acc: 0.9510\n",
      "Epoch 47/200\n",
      "23731/23731 [==============================] - 0s - loss: 0.1673 - acc: 0.9509 - val_loss: 0.1663 - val_acc: 0.9496\n",
      "Epoch 48/200\n",
      "23731/23731 [==============================] - 0s - loss: 0.1651 - acc: 0.9510 - val_loss: 0.1626 - val_acc: 0.9511\n",
      "Epoch 49/200\n",
      "23731/23731 [==============================] - 0s - loss: 0.1665 - acc: 0.9512 - val_loss: 0.2037 - val_acc: 0.9458\n",
      "Epoch 50/200\n",
      "23731/23731 [==============================] - 0s - loss: 0.1766 - acc: 0.9507 - val_loss: 0.1769 - val_acc: 0.9536\n",
      "Epoch 51/200\n",
      "23731/23731 [==============================] - 0s - loss: 0.1667 - acc: 0.9509 - val_loss: 0.1611 - val_acc: 0.9511\n",
      "Epoch 52/200\n",
      "23731/23731 [==============================] - 0s - loss: 0.1706 - acc: 0.9507 - val_loss: 0.1638 - val_acc: 0.9503\n",
      "Epoch 53/200\n",
      "23731/23731 [==============================] - 0s - loss: 0.1643 - acc: 0.9515 - val_loss: 0.1647 - val_acc: 0.9522\n",
      "Epoch 54/200\n",
      "23731/23731 [==============================] - 0s - loss: 0.1705 - acc: 0.9510 - val_loss: 0.1613 - val_acc: 0.9507\n",
      "Epoch 55/200\n",
      "23731/23731 [==============================] - 0s - loss: 0.1664 - acc: 0.9515 - val_loss: 0.1769 - val_acc: 0.9494\n",
      "Epoch 56/200\n",
      "23731/23731 [==============================] - 0s - loss: 0.1653 - acc: 0.9516 - val_loss: 0.1900 - val_acc: 0.9482\n",
      "Epoch 57/200\n",
      "23731/23731 [==============================] - 0s - loss: 0.1646 - acc: 0.9519 - val_loss: 0.1828 - val_acc: 0.9491\n",
      "Epoch 58/200\n",
      "23731/23731 [==============================] - 0s - loss: 0.1636 - acc: 0.9518 - val_loss: 0.1605 - val_acc: 0.9522\n",
      "Epoch 59/200\n",
      "23731/23731 [==============================] - 0s - loss: 0.1624 - acc: 0.9523 - val_loss: 0.1688 - val_acc: 0.9503\n",
      "Epoch 60/200\n",
      "23731/23731 [==============================] - 0s - loss: 0.1657 - acc: 0.9524 - val_loss: 0.1650 - val_acc: 0.9507\n",
      "Epoch 61/200\n",
      "23731/23731 [==============================] - 0s - loss: 0.1637 - acc: 0.9526 - val_loss: 0.1785 - val_acc: 0.9500\n",
      "Epoch 62/200\n",
      "23731/23731 [==============================] - 0s - loss: 0.1670 - acc: 0.9520 - val_loss: 0.1837 - val_acc: 0.9553\n",
      "Epoch 63/200\n",
      "23731/23731 [==============================] - 0s - loss: 0.1614 - acc: 0.9526 - val_loss: 0.1577 - val_acc: 0.9518\n",
      "Epoch 64/200\n"
     ]
    },
    {
     "name": "stdout",
     "output_type": "stream",
     "text": [
      "23731/23731 [==============================] - 0s - loss: 0.1603 - acc: 0.9527 - val_loss: 0.1580 - val_acc: 0.9515\n",
      "Epoch 65/200\n",
      "23731/23731 [==============================] - 0s - loss: 0.1684 - acc: 0.9524 - val_loss: 0.1731 - val_acc: 0.9507\n",
      "Epoch 66/200\n",
      "23731/23731 [==============================] - 0s - loss: 0.1665 - acc: 0.9526 - val_loss: 0.1576 - val_acc: 0.9518\n",
      "Epoch 67/200\n",
      "23731/23731 [==============================] - 0s - loss: 0.1629 - acc: 0.9524 - val_loss: 0.1583 - val_acc: 0.9515\n",
      "Epoch 68/200\n",
      "23731/23731 [==============================] - 0s - loss: 0.1655 - acc: 0.9529 - val_loss: 0.1574 - val_acc: 0.9526\n",
      "Epoch 69/200\n",
      "23731/23731 [==============================] - 0s - loss: 0.1591 - acc: 0.9528 - val_loss: 0.1571 - val_acc: 0.9520\n",
      "Epoch 70/200\n",
      "23731/23731 [==============================] - 0s - loss: 0.1672 - acc: 0.9528 - val_loss: 0.1781 - val_acc: 0.9553\n",
      "Epoch 71/200\n",
      "23731/23731 [==============================] - 0s - loss: 0.1589 - acc: 0.9529 - val_loss: 0.1790 - val_acc: 0.9553\n",
      "Epoch 72/200\n",
      "23731/23731 [==============================] - 0s - loss: 0.1669 - acc: 0.9530 - val_loss: 0.1573 - val_acc: 0.9536\n",
      "Epoch 73/200\n",
      "23731/23731 [==============================] - 0s - loss: 0.1616 - acc: 0.9533 - val_loss: 0.1567 - val_acc: 0.9523\n",
      "Epoch 74/200\n",
      "23731/23731 [==============================] - 0s - loss: 0.1574 - acc: 0.9533 - val_loss: 0.1662 - val_acc: 0.9553\n",
      "Epoch 75/200\n",
      "23731/23731 [==============================] - 0s - loss: 0.1594 - acc: 0.9537 - val_loss: 0.1559 - val_acc: 0.9530\n",
      "Epoch 76/200\n",
      "23731/23731 [==============================] - 0s - loss: 0.1586 - acc: 0.9538 - val_loss: 0.1717 - val_acc: 0.9510\n",
      "Epoch 77/200\n",
      "23731/23731 [==============================] - 0s - loss: 0.1638 - acc: 0.9536 - val_loss: 0.1676 - val_acc: 0.9511\n",
      "Epoch 78/200\n",
      "23731/23731 [==============================] - 0s - loss: 0.1575 - acc: 0.9540 - val_loss: 0.1566 - val_acc: 0.9525\n",
      "Epoch 79/200\n",
      "23731/23731 [==============================] - 0s - loss: 0.1574 - acc: 0.9537 - val_loss: 0.1554 - val_acc: 0.9542\n",
      "Epoch 80/200\n",
      "23731/23731 [==============================] - 0s - loss: 0.1594 - acc: 0.9541 - val_loss: 0.1653 - val_acc: 0.9515\n",
      "Epoch 81/200\n",
      "23731/23731 [==============================] - 0s - loss: 0.1618 - acc: 0.9539 - val_loss: 0.1548 - val_acc: 0.9541\n",
      "Epoch 82/200\n",
      "23731/23731 [==============================] - 0s - loss: 0.1590 - acc: 0.9541 - val_loss: 0.1792 - val_acc: 0.9553\n",
      "Epoch 83/200\n",
      "23731/23731 [==============================] - 0s - loss: 0.1631 - acc: 0.9539 - val_loss: 0.1852 - val_acc: 0.9509\n",
      "Epoch 84/200\n",
      "23731/23731 [==============================] - 0s - loss: 0.1619 - acc: 0.9538 - val_loss: 0.1564 - val_acc: 0.9530\n",
      "Epoch 85/200\n",
      "23731/23731 [==============================] - 0s - loss: 0.1591 - acc: 0.9542 - val_loss: 0.1572 - val_acc: 0.9529\n",
      "Epoch 86/200\n",
      "23731/23731 [==============================] - 0s - loss: 0.1588 - acc: 0.9541 - val_loss: 0.1550 - val_acc: 0.9550\n",
      "Epoch 87/200\n",
      "23731/23731 [==============================] - 0s - loss: 0.1660 - acc: 0.9543 - val_loss: 0.1659 - val_acc: 0.9553\n",
      "Epoch 88/200\n",
      "23731/23731 [==============================] - 0s - loss: 0.1623 - acc: 0.9544 - val_loss: 0.1688 - val_acc: 0.9553\n",
      "Epoch 89/200\n",
      "23731/23731 [==============================] - 0s - loss: 0.1559 - acc: 0.9544 - val_loss: 0.1585 - val_acc: 0.9527\n",
      "Epoch 90/200\n",
      "23731/23731 [==============================] - 0s - loss: 0.1574 - acc: 0.9544 - val_loss: 0.1541 - val_acc: 0.9547\n",
      "Epoch 91/200\n",
      "23731/23731 [==============================] - 0s - loss: 0.1579 - acc: 0.9547 - val_loss: 0.1588 - val_acc: 0.9529\n",
      "Epoch 92/200\n",
      "23731/23731 [==============================] - 0s - loss: 0.1681 - acc: 0.9539 - val_loss: 0.1544 - val_acc: 0.9550\n",
      "Epoch 93/200\n",
      "23731/23731 [==============================] - 0s - loss: 0.1622 - acc: 0.9542 - val_loss: 0.1615 - val_acc: 0.9553\n",
      "Epoch 94/200\n",
      "23731/23731 [==============================] - 0s - loss: 0.1560 - acc: 0.9546 - val_loss: 0.1558 - val_acc: 0.9536\n",
      "Epoch 95/200\n",
      "23731/23731 [==============================] - 0s - loss: 0.1579 - acc: 0.9543 - val_loss: 0.1539 - val_acc: 0.9548\n",
      "Epoch 96/200\n",
      "23731/23731 [==============================] - 0s - loss: 0.1601 - acc: 0.9543 - val_loss: 0.1538 - val_acc: 0.9548\n",
      "Epoch 97/200\n",
      "23731/23731 [==============================] - 0s - loss: 0.1622 - acc: 0.9544 - val_loss: 0.1539 - val_acc: 0.9549\n",
      "Epoch 98/200\n",
      "23731/23731 [==============================] - 0s - loss: 0.1572 - acc: 0.9548 - val_loss: 0.1679 - val_acc: 0.9520\n",
      "Epoch 99/200\n",
      "23731/23731 [==============================] - 0s - loss: 0.1590 - acc: 0.9548 - val_loss: 0.1602 - val_acc: 0.9553\n",
      "Epoch 100/200\n",
      "23731/23731 [==============================] - 0s - loss: 0.1645 - acc: 0.9545 - val_loss: 0.1562 - val_acc: 0.9536\n",
      "Epoch 101/200\n",
      "23731/23731 [==============================] - 0s - loss: 0.1578 - acc: 0.9550 - val_loss: 0.1542 - val_acc: 0.9553\n",
      "Epoch 102/200\n",
      "23731/23731 [==============================] - 0s - loss: 0.1661 - acc: 0.9542 - val_loss: 0.1566 - val_acc: 0.9536\n",
      "Epoch 103/200\n",
      "23731/23731 [==============================] - 0s - loss: 0.1599 - acc: 0.9546 - val_loss: 0.1585 - val_acc: 0.9534\n",
      "Epoch 104/200\n",
      "23731/23731 [==============================] - 0s - loss: 0.1567 - acc: 0.9550 - val_loss: 0.1655 - val_acc: 0.9553\n",
      "Epoch 105/200\n",
      "23731/23731 [==============================] - 0s - loss: 0.1601 - acc: 0.9547 - val_loss: 0.1617 - val_acc: 0.9527\n",
      "Epoch 106/200\n",
      "23731/23731 [==============================] - 0s - loss: 0.1705 - acc: 0.9539 - val_loss: 0.1547 - val_acc: 0.9542\n",
      "Epoch 107/200\n",
      "23731/23731 [==============================] - 0s - loss: 0.1574 - acc: 0.9549 - val_loss: 0.1543 - val_acc: 0.9544\n",
      "Epoch 108/200\n",
      "23731/23731 [==============================] - 0s - loss: 0.1569 - acc: 0.9549 - val_loss: 0.1540 - val_acc: 0.9548\n",
      "Epoch 109/200\n",
      "23731/23731 [==============================] - 0s - loss: 0.1576 - acc: 0.9550 - val_loss: 0.1646 - val_acc: 0.9523\n",
      "Epoch 110/200\n",
      "23731/23731 [==============================] - 0s - loss: 0.1613 - acc: 0.9545 - val_loss: 0.1549 - val_acc: 0.9551\n",
      "Epoch 111/200\n",
      "23731/23731 [==============================] - 0s - loss: 0.1562 - acc: 0.9547 - val_loss: 0.1540 - val_acc: 0.9547\n",
      "Epoch 112/200\n",
      "23731/23731 [==============================] - 0s - loss: 0.1567 - acc: 0.9549 - val_loss: 0.1568 - val_acc: 0.9538\n",
      "Epoch 113/200\n",
      "23731/23731 [==============================] - 0s - loss: 0.1574 - acc: 0.9549 - val_loss: 0.1539 - val_acc: 0.9551\n",
      "Epoch 114/200\n",
      "23731/23731 [==============================] - 0s - loss: 0.1554 - acc: 0.9548 - val_loss: 0.1592 - val_acc: 0.9553\n",
      "Epoch 115/200\n",
      "23731/23731 [==============================] - 0s - loss: 0.1602 - acc: 0.9551 - val_loss: 0.1558 - val_acc: 0.9542\n",
      "Epoch 116/200\n",
      "23731/23731 [==============================] - 0s - loss: 0.1572 - acc: 0.9551 - val_loss: 0.1537 - val_acc: 0.9553\n",
      "Epoch 117/200\n",
      "23731/23731 [==============================] - 0s - loss: 0.1544 - acc: 0.9554 - val_loss: 0.1657 - val_acc: 0.9528\n",
      "Epoch 118/200\n",
      "23731/23731 [==============================] - 0s - loss: 0.1569 - acc: 0.9553 - val_loss: 0.1531 - val_acc: 0.9553\n",
      "Epoch 119/200\n",
      "23731/23731 [==============================] - 0s - loss: 0.1634 - acc: 0.9547 - val_loss: 0.1565 - val_acc: 0.9541\n",
      "Epoch 120/200\n",
      "23731/23731 [==============================] - 0s - loss: 0.1579 - acc: 0.9551 - val_loss: 0.1787 - val_acc: 0.9553\n",
      "Epoch 121/200\n",
      "23731/23731 [==============================] - 0s - loss: 0.1619 - acc: 0.9542 - val_loss: 0.1950 - val_acc: 0.9553\n",
      "Epoch 122/200\n",
      "23731/23731 [==============================] - 0s - loss: 0.1590 - acc: 0.9551 - val_loss: 0.1662 - val_acc: 0.9529\n",
      "Epoch 123/200\n",
      "23731/23731 [==============================] - 0s - loss: 0.1584 - acc: 0.9550 - val_loss: 0.1604 - val_acc: 0.9536\n",
      "Epoch 124/200\n",
      "23731/23731 [==============================] - 0s - loss: 0.1569 - acc: 0.9552 - val_loss: 0.1533 - val_acc: 0.9553\n",
      "Epoch 125/200\n",
      "23731/23731 [==============================] - 0s - loss: 0.1557 - acc: 0.9552 - val_loss: 0.1584 - val_acc: 0.9553\n",
      "Epoch 126/200\n",
      "23731/23731 [==============================] - 0s - loss: 0.1580 - acc: 0.9552 - val_loss: 0.1538 - val_acc: 0.9550\n",
      "Epoch 127/200\n"
     ]
    },
    {
     "name": "stdout",
     "output_type": "stream",
     "text": [
      "23731/23731 [==============================] - 0s - loss: 0.1553 - acc: 0.9553 - val_loss: 0.1745 - val_acc: 0.9553\n",
      "Epoch 128/200\n",
      "23731/23731 [==============================] - 0s - loss: 0.1577 - acc: 0.9553 - val_loss: 0.1526 - val_acc: 0.9553\n",
      "Epoch 129/200\n",
      "23731/23731 [==============================] - 0s - loss: 0.1550 - acc: 0.9556 - val_loss: 0.1539 - val_acc: 0.9550\n",
      "Epoch 130/200\n",
      "23731/23731 [==============================] - 0s - loss: 0.1608 - acc: 0.9549 - val_loss: 0.1609 - val_acc: 0.9538\n",
      "Epoch 131/200\n",
      "23731/23731 [==============================] - 0s - loss: 0.1538 - acc: 0.9557 - val_loss: 0.1580 - val_acc: 0.9553\n",
      "Epoch 132/200\n",
      "23731/23731 [==============================] - 0s - loss: 0.1586 - acc: 0.9550 - val_loss: 0.1584 - val_acc: 0.9543\n",
      "Epoch 133/200\n",
      "23731/23731 [==============================] - 0s - loss: 0.1608 - acc: 0.9549 - val_loss: 0.1531 - val_acc: 0.9553\n",
      "Epoch 134/200\n",
      "23731/23731 [==============================] - 0s - loss: 0.1571 - acc: 0.9552 - val_loss: 0.1546 - val_acc: 0.9553\n",
      "Epoch 135/200\n",
      "23731/23731 [==============================] - 0s - loss: 0.1549 - acc: 0.9552 - val_loss: 0.1699 - val_acc: 0.9553\n",
      "Epoch 136/200\n",
      "23731/23731 [==============================] - 0s - loss: 0.1578 - acc: 0.9552 - val_loss: 0.1655 - val_acc: 0.9536\n",
      "Epoch 137/200\n",
      "23731/23731 [==============================] - 0s - loss: 0.1578 - acc: 0.9552 - val_loss: 0.1815 - val_acc: 0.9553\n",
      "Epoch 138/200\n",
      "23731/23731 [==============================] - 0s - loss: 0.1576 - acc: 0.9553 - val_loss: 0.1703 - val_acc: 0.9530\n",
      "Epoch 139/200\n",
      "23731/23731 [==============================] - 0s - loss: 0.1555 - acc: 0.9554 - val_loss: 0.1524 - val_acc: 0.9553\n",
      "Epoch 140/200\n",
      "23731/23731 [==============================] - 0s - loss: 0.1562 - acc: 0.9553 - val_loss: 0.1527 - val_acc: 0.9553\n",
      "Epoch 141/200\n",
      "23731/23731 [==============================] - 0s - loss: 0.1547 - acc: 0.9555 - val_loss: 0.1527 - val_acc: 0.9553\n",
      "Epoch 142/200\n",
      "23731/23731 [==============================] - 0s - loss: 0.1600 - acc: 0.9551 - val_loss: 0.1534 - val_acc: 0.9553\n",
      "Epoch 143/200\n",
      "23731/23731 [==============================] - 0s - loss: 0.1538 - acc: 0.9554 - val_loss: 0.1526 - val_acc: 0.9553\n",
      "Epoch 144/200\n",
      "23731/23731 [==============================] - 0s - loss: 0.1539 - acc: 0.9557 - val_loss: 0.1525 - val_acc: 0.9553\n",
      "Epoch 145/200\n",
      "23731/23731 [==============================] - 0s - loss: 0.1555 - acc: 0.9555 - val_loss: 0.1528 - val_acc: 0.9553\n",
      "Epoch 146/200\n",
      "23731/23731 [==============================] - 0s - loss: 0.1529 - acc: 0.9555 - val_loss: 0.1600 - val_acc: 0.9547\n",
      "Epoch 147/200\n",
      "23731/23731 [==============================] - 0s - loss: 0.1540 - acc: 0.9557 - val_loss: 0.1607 - val_acc: 0.9547\n",
      "Epoch 148/200\n",
      "23731/23731 [==============================] - 0s - loss: 0.1571 - acc: 0.9556 - val_loss: 0.1523 - val_acc: 0.9553\n",
      "Epoch 149/200\n",
      "23731/23731 [==============================] - 0s - loss: 0.1556 - acc: 0.9557 - val_loss: 0.1522 - val_acc: 0.9553\n",
      "Epoch 150/200\n",
      "23731/23731 [==============================] - 0s - loss: 0.1540 - acc: 0.9558 - val_loss: 0.1555 - val_acc: 0.9553\n",
      "Epoch 151/200\n",
      "23731/23731 [==============================] - 0s - loss: 0.1590 - acc: 0.9552 - val_loss: 0.1751 - val_acc: 0.9553\n",
      "Epoch 152/200\n",
      "23731/23731 [==============================] - 0s - loss: 0.1563 - acc: 0.9557 - val_loss: 0.1585 - val_acc: 0.9553\n",
      "Epoch 153/200\n",
      "23731/23731 [==============================] - 0s - loss: 0.1595 - acc: 0.9550 - val_loss: 0.1658 - val_acc: 0.9539\n",
      "Epoch 154/200\n",
      "23731/23731 [==============================] - 0s - loss: 0.1549 - acc: 0.9553 - val_loss: 0.1524 - val_acc: 0.9553\n",
      "Epoch 155/200\n",
      "23731/23731 [==============================] - 0s - loss: 0.1536 - acc: 0.9556 - val_loss: 0.1575 - val_acc: 0.9553\n",
      "Epoch 156/200\n",
      "23731/23731 [==============================] - 0s - loss: 0.1540 - acc: 0.9556 - val_loss: 0.1640 - val_acc: 0.9542\n",
      "Epoch 157/200\n",
      "23731/23731 [==============================] - 0s - loss: 0.1536 - acc: 0.9556 - val_loss: 0.1517 - val_acc: 0.9553\n",
      "Epoch 158/200\n",
      "23731/23731 [==============================] - 0s - loss: 0.1547 - acc: 0.9557 - val_loss: 0.1517 - val_acc: 0.9553\n",
      "Epoch 159/200\n",
      "23731/23731 [==============================] - 0s - loss: 0.1550 - acc: 0.9556 - val_loss: 0.1530 - val_acc: 0.9553\n",
      "Epoch 160/200\n",
      "23731/23731 [==============================] - 0s - loss: 0.1545 - acc: 0.9556 - val_loss: 0.1571 - val_acc: 0.9551\n",
      "Epoch 161/200\n",
      "23731/23731 [==============================] - 0s - loss: 0.1539 - acc: 0.9558 - val_loss: 0.1631 - val_acc: 0.9553\n",
      "Epoch 162/200\n",
      "23731/23731 [==============================] - 0s - loss: 0.1530 - acc: 0.9557 - val_loss: 0.1548 - val_acc: 0.9553\n",
      "Epoch 163/200\n",
      "23731/23731 [==============================] - 0s - loss: 0.1520 - acc: 0.9558 - val_loss: 0.1531 - val_acc: 0.9553\n",
      "Epoch 164/200\n",
      "23731/23731 [==============================] - 0s - loss: 0.1550 - acc: 0.9557 - val_loss: 0.1517 - val_acc: 0.9553\n",
      "Epoch 165/200\n",
      "23731/23731 [==============================] - 0s - loss: 0.1524 - acc: 0.9559 - val_loss: 0.1606 - val_acc: 0.9551\n",
      "Epoch 166/200\n",
      "23731/23731 [==============================] - 0s - loss: 0.1552 - acc: 0.9558 - val_loss: 0.1543 - val_acc: 0.9553\n",
      "Epoch 167/200\n",
      "23731/23731 [==============================] - 0s - loss: 0.1620 - acc: 0.9556 - val_loss: 0.1590 - val_acc: 0.9553\n",
      "Epoch 168/200\n",
      "23731/23731 [==============================] - 0s - loss: 0.1535 - acc: 0.9558 - val_loss: 0.1511 - val_acc: 0.9553\n",
      "Epoch 169/200\n",
      "23731/23731 [==============================] - 0s - loss: 0.1516 - acc: 0.9559 - val_loss: 0.1529 - val_acc: 0.9553\n",
      "Epoch 170/200\n",
      "23731/23731 [==============================] - 0s - loss: 0.1571 - acc: 0.9557 - val_loss: 0.1683 - val_acc: 0.9545\n",
      "Epoch 171/200\n",
      "23731/23731 [==============================] - 0s - loss: 0.1568 - acc: 0.9555 - val_loss: 0.1783 - val_acc: 0.9536\n",
      "Epoch 172/200\n",
      "23731/23731 [==============================] - 0s - loss: 0.1543 - acc: 0.9557 - val_loss: 0.1519 - val_acc: 0.9553\n",
      "Epoch 173/200\n",
      "23731/23731 [==============================] - 0s - loss: 0.1557 - acc: 0.9557 - val_loss: 0.1554 - val_acc: 0.9553\n",
      "Epoch 174/200\n",
      "23731/23731 [==============================] - 0s - loss: 0.1559 - acc: 0.9558 - val_loss: 0.1511 - val_acc: 0.9553\n",
      "Epoch 175/200\n",
      "23731/23731 [==============================] - 0s - loss: 0.1540 - acc: 0.9557 - val_loss: 0.1524 - val_acc: 0.9553\n",
      "Epoch 176/200\n",
      "23731/23731 [==============================] - 0s - loss: 0.1521 - acc: 0.9558 - val_loss: 0.1506 - val_acc: 0.9553\n",
      "Epoch 177/200\n",
      "23731/23731 [==============================] - 0s - loss: 0.1552 - acc: 0.9557 - val_loss: 0.1520 - val_acc: 0.9553\n",
      "Epoch 178/200\n",
      "23731/23731 [==============================] - 0s - loss: 0.1536 - acc: 0.9557 - val_loss: 0.1511 - val_acc: 0.9553\n",
      "Epoch 179/200\n",
      "23731/23731 [==============================] - 0s - loss: 0.1544 - acc: 0.9559 - val_loss: 0.1508 - val_acc: 0.9553\n",
      "Epoch 180/200\n",
      "23731/23731 [==============================] - 0s - loss: 0.1524 - acc: 0.9559 - val_loss: 0.1503 - val_acc: 0.9553\n",
      "Epoch 181/200\n",
      "23731/23731 [==============================] - 0s - loss: 0.1565 - acc: 0.9558 - val_loss: 0.1857 - val_acc: 0.9553\n",
      "Epoch 182/200\n",
      "23731/23731 [==============================] - 0s - loss: 0.1560 - acc: 0.9556 - val_loss: 0.1530 - val_acc: 0.9553\n",
      "Epoch 183/200\n",
      "23731/23731 [==============================] - 0s - loss: 0.1542 - acc: 0.9557 - val_loss: 0.1507 - val_acc: 0.9553\n",
      "Epoch 184/200\n",
      "23731/23731 [==============================] - 0s - loss: 0.1550 - acc: 0.9557 - val_loss: 0.1510 - val_acc: 0.9553\n",
      "Epoch 185/200\n",
      "23731/23731 [==============================] - 0s - loss: 0.1539 - acc: 0.9559 - val_loss: 0.1596 - val_acc: 0.9553\n",
      "Epoch 186/200\n",
      "23731/23731 [==============================] - 0s - loss: 0.1523 - acc: 0.9558 - val_loss: 0.1566 - val_acc: 0.9553\n",
      "Epoch 187/200\n",
      "23731/23731 [==============================] - 0s - loss: 0.1533 - acc: 0.9559 - val_loss: 0.1546 - val_acc: 0.9553\n",
      "Epoch 188/200\n",
      "23731/23731 [==============================] - 0s - loss: 0.1514 - acc: 0.9559 - val_loss: 0.1505 - val_acc: 0.9553\n",
      "Epoch 189/200\n",
      "23731/23731 [==============================] - 0s - loss: 0.1518 - acc: 0.9558 - val_loss: 0.1502 - val_acc: 0.9553\n",
      "Epoch 190/200\n"
     ]
    },
    {
     "name": "stdout",
     "output_type": "stream",
     "text": [
      "23731/23731 [==============================] - 0s - loss: 0.1579 - acc: 0.9558 - val_loss: 0.1552 - val_acc: 0.9553\n",
      "Epoch 191/200\n",
      "23731/23731 [==============================] - 0s - loss: 0.1575 - acc: 0.9557 - val_loss: 0.1561 - val_acc: 0.9553\n",
      "Epoch 192/200\n",
      "23731/23731 [==============================] - 0s - loss: 0.1558 - acc: 0.9558 - val_loss: 0.1559 - val_acc: 0.9553\n",
      "Epoch 193/200\n",
      "23731/23731 [==============================] - 0s - loss: 0.1523 - acc: 0.9558 - val_loss: 0.1506 - val_acc: 0.9553\n",
      "Epoch 194/200\n",
      "23731/23731 [==============================] - 0s - loss: 0.1581 - acc: 0.9558 - val_loss: 0.1537 - val_acc: 0.9553\n",
      "Epoch 195/200\n",
      "23731/23731 [==============================] - 0s - loss: 0.1587 - acc: 0.9556 - val_loss: 0.1739 - val_acc: 0.9542\n",
      "Epoch 196/200\n",
      "23731/23731 [==============================] - 0s - loss: 0.1538 - acc: 0.9557 - val_loss: 0.1506 - val_acc: 0.9553\n",
      "Epoch 197/200\n",
      "23731/23731 [==============================] - 0s - loss: 0.1566 - acc: 0.9559 - val_loss: 0.1534 - val_acc: 0.9553\n",
      "Epoch 198/200\n",
      "23731/23731 [==============================] - 0s - loss: 0.1567 - acc: 0.9558 - val_loss: 0.1573 - val_acc: 0.9553\n",
      "Epoch 199/200\n",
      "23731/23731 [==============================] - 0s - loss: 0.1536 - acc: 0.9559 - val_loss: 0.1560 - val_acc: 0.9553\n",
      "Epoch 200/200\n",
      "23731/23731 [==============================] - 0s - loss: 0.1537 - acc: 0.9558 - val_loss: 0.1514 - val_acc: 0.9553\n"
     ]
    },
    {
     "data": {
      "text/plain": [
       "<keras.callbacks.History at 0x119c8dbe0>"
      ]
     },
     "execution_count": 22,
     "metadata": {},
     "output_type": "execute_result"
    }
   ],
   "source": [
    "batch_size = 200\n",
    "epochs = 200\n",
    "model.fit(x_train,y_train,callbacks=[history_cb],validation_data=(x_test,y_test),verbose=1,epochs=epochs,batch_size=batch_size)"
   ]
  },
  {
   "cell_type": "code",
   "execution_count": 23,
   "metadata": {},
   "outputs": [
    {
     "name": "stdout",
     "output_type": "stream",
     "text": [
      "Validation score: 0.9553426298229104\n"
     ]
    }
   ],
   "source": [
    "# Measure accuracy\n",
    "pred = model.predict(x_test)\n",
    "pred = np.argmax(pred,axis=1)\n",
    "y_eval = np.argmax(y_test,axis=1)\n",
    "score = metrics.accuracy_score(y_eval, pred)\n",
    "print(\"Validation score: {}\".format(score))"
   ]
  },
  {
   "cell_type": "code",
   "execution_count": 24,
   "metadata": {},
   "outputs": [
    {
     "name": "stdout",
     "output_type": "stream",
     "text": [
      "Confusion Matrix:\n",
      "[[ 0.5088  0.0001]\n",
      " [ 0.0446  0.4466]]\n"
     ]
    }
   ],
   "source": [
    "from sklearn.metrics import classification_report,confusion_matrix\n",
    "Cm = confusion_matrix(y_eval,pred)\n",
    "C = np.sum(Cm)\n",
    "Cm = Cm/C\n",
    "print('Confusion Matrix:')\n",
    "print(np.array_str(Cm, precision=4, suppress_small=True))"
   ]
  },
  {
   "cell_type": "code",
   "execution_count": 25,
   "metadata": {},
   "outputs": [
    {
     "data": {
      "image/png": "[encoded data removed]",
      "text/plain": [
       "<matplotlib.figure.Figure at 0x11995cf98>"
      ]
     },
     "metadata": {},
     "output_type": "display_data"
    }
   ],
   "source": [
    "valAcc = history_cb.val_acc\n",
    "valLoss = history_cb.val_loss\n",
    "epoch_it = np.arange(1,201)\n",
    "plt.subplot(121)\n",
    "plt.plot(epoch_it, valAcc)\n",
    "plt.grid()\n",
    "plt.xlabel('Epoch')\n",
    "plt.ylabel('Validation accuracy')\n",
    "plt.tight_layout()\n",
    "plt.subplot(122)\n",
    "plt.plot(epoch_it, valLoss)\n",
    "plt.grid()\n",
    "plt.xlabel('Epoch')\n",
    "plt.ylabel('Validation loss')\n",
    "plt.tight_layout()\n",
    "plt.show()"
   ]
  },
  {
   "cell_type": "code",
   "execution_count": 27,
   "metadata": {},
   "outputs": [
    {
     "data": {
      "image/png": "[encoded data removed]",
      "text/plain": [
       "<matplotlib.figure.Figure at 0x11d4eba20>"
      ]
     },
     "metadata": {},
     "output_type": "display_data"
    }
   ],
   "source": [
    "Ls = history_cb.losses\n",
    "Acc = history_cb.accs\n",
    "ntr = np.shape(x_train)[0]\n",
    "epochNum = []\n",
    "for i in range(23800):\n",
    "    epochNum.append(i*100/ntr)\n",
    "\n",
    "matplotlib.pyplot.semilogy(epochNum, Ls)\n",
    "plt.grid()\n",
    "plt.xlabel('Epoch')\n",
    "plt.ylabel('Training Loss')\n",
    "plt.tight_layout()\n",
    "plt.show()"
   ]
  },
  {
   "cell_type": "code",
   "execution_count": 28,
   "metadata": {},
   "outputs": [
    {
     "data": {
      "image/png": "[encoded data removed]",
      "text/plain": [
       "<matplotlib.figure.Figure at 0x11de88b00>"
      ]
     },
     "metadata": {},
     "output_type": "display_data"
    }
   ],
   "source": [
    "matplotlib.pyplot.semilogy(epochNum, Acc)\n",
    "# plt.plot(epochNum, Acc)\n",
    "plt.grid()\n",
    "plt.xlabel('Epoch')\n",
    "plt.ylabel('Training Accuracy')\n",
    "plt.tight_layout()\n",
    "# plt.axis([0.3,3,0.96,1])\n",
    "plt.show()\n",
    "\n"
   ]
  },
  {
   "cell_type": "code",
   "execution_count": null,
   "metadata": {
    "collapsed": true
   },
   "outputs": [],
   "source": []
  },
  {
   "cell_type": "code",
   "execution_count": null,
   "metadata": {
    "collapsed": true
   },
   "outputs": [],
   "source": [
    "# # Save & Load result\n",
    "# import os\n",
    "# import tensorflow as tf\n",
    "# saver = tf.train.Saver()"
   ]
  },
  {
   "cell_type": "code",
   "execution_count": null,
   "metadata": {
    "collapsed": true
   },
   "outputs": [],
   "source": [
    "# save_dir = 'checkpoints/' "
   ]
  },
  {
   "cell_type": "code",
   "execution_count": null,
   "metadata": {
    "collapsed": true
   },
   "outputs": [],
   "source": [
    "# if not os.path.exists(save_dir):\n",
    "#     os.makedirs(save_dir)"
   ]
  },
  {
   "cell_type": "code",
   "execution_count": null,
   "metadata": {
    "collapsed": true
   },
   "outputs": [],
   "source": [
    "# save_path = os.path.join(save_dir, 'best_validation')"
   ]
  },
  {
   "cell_type": "code",
   "execution_count": null,
   "metadata": {
    "collapsed": true
   },
   "outputs": [],
   "source": [
    "# saver.save(sess=session, save_path=save_path)"
   ]
  },
  {
   "cell_type": "code",
   "execution_count": null,
   "metadata": {
    "collapsed": true
   },
   "outputs": [],
   "source": [
    "# saver.restore(sess=session, save_path=save_path)"
   ]
  },
  {
   "cell_type": "code",
   "execution_count": null,
   "metadata": {
    "collapsed": true
   },
   "outputs": [],
   "source": [
    "# session.run(tf.global_variables_initializer())"
   ]
  },
  {
   "cell_type": "code",
   "execution_count": null,
   "metadata": {
    "collapsed": true
   },
   "outputs": [],
   "source": [
    "# print_test_accuracy(show_example_errors=True)"
   ]
  },
  {
   "cell_type": "code",
   "execution_count": null,
   "metadata": {
    "collapsed": true
   },
   "outputs": [],
   "source": []
  },
  {
   "cell_type": "code",
   "execution_count": null,
   "metadata": {
    "collapsed": true
   },
   "outputs": [],
   "source": []
  }
 ],
 "metadata": {
  "kernelspec": {
   "display_name": "Python 3",
   "language": "python",
   "name": "python3"
  },
  "language_info": {
   "codemirror_mode": {
    "name": "ipython",
    "version": 3
   },
   "file_extension": ".py",
   "mimetype": "text/x-python",
   "name": "python",
   "nbconvert_exporter": "python",
   "pygments_lexer": "ipython3",
   "version": "3.6.1"
  }
 },
 "nbformat": 4,
 "nbformat_minor": 2
}
