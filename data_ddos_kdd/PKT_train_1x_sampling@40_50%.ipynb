{
 "cells": [
  {
   "cell_type": "code",
   "execution_count": 1,
   "metadata": {},
   "outputs": [
    {
     "name": "stderr",
     "output_type": "stream",
     "text": [
      "Using TensorFlow backend.\n"
     ]
    }
   ],
   "source": [
    "import pandas as pd\n",
    "from sklearn import preprocessing\n",
    "from sklearn.model_selection import train_test_split\n",
    "from sklearn import metrics\n",
    "from keras.models import Sequential\n",
    "from keras.layers.core import Dense, Activation\n",
    "from keras.callbacks import EarlyStopping"
   ]
  },
  {
   "cell_type": "code",
   "execution_count": 2,
   "metadata": {
    "collapsed": true
   },
   "outputs": [],
   "source": [
    "from sklearn import preprocessing\n",
    "import matplotlib.pyplot as plt\n",
    "import numpy as np\n",
    "import pandas as pd\n",
    "import shutil\n",
    "import os\n",
    "import keras\n",
    "import matplotlib\n",
    "import matplotlib.pyplot as plt\n",
    "%matplotlib inline"
   ]
  },
  {
   "cell_type": "code",
   "execution_count": 3,
   "metadata": {
    "collapsed": true
   },
   "outputs": [],
   "source": [
    "\n",
    "# Encode text values to dummy variables(i.e. [1,0,0],[0,1,0],[0,0,1] for red,green,blue)\n",
    "def encode_text_dummy(df, name):\n",
    "    dummies = pd.get_dummies(df[name])\n",
    "    for x in dummies.columns:\n",
    "        dummy_name = \"{}-{}\".format(name, x)\n",
    "        df[dummy_name] = dummies[x]\n",
    "    df.drop(name, axis=1, inplace=True)\n",
    "\n",
    "\n",
    "# Encode text values to a single dummy variable.  The new columns (which do not replace the old) will have a 1\n",
    "# at every location where the original column (name) matches each of the target_values.  One column is added for\n",
    "# each target value.\n",
    "def encode_text_single_dummy(df, name, target_values):\n",
    "    for tv in target_values:\n",
    "        l = list(df[name].astype(str))\n",
    "        l = [1 if str(x) == str(tv) else 0 for x in l]\n",
    "        name2 = \"{}-{}\".format(name, tv)\n",
    "        df[name2] = l\n",
    "\n",
    "\n",
    "# Encode text values to indexes(i.e. [1],[2],[3] for red,green,blue).\n",
    "def encode_text_index(df, name):\n",
    "    le = preprocessing.LabelEncoder()\n",
    "    df[name] = le.fit_transform(df[name])\n",
    "    return le.classes_\n",
    "\n",
    "\n",
    "# Encode a numeric column as zscores\n",
    "def encode_numeric_zscore(df, name, mean=None, sd=None):\n",
    "    if mean is None:\n",
    "        mean = np.asarray(df[name], dtype = np.float).mean()\n",
    "\n",
    "    if sd is None:\n",
    "        sd = np.asarray(df[name], dtype = np.float).std()\n",
    "\n",
    "    df[name] = (np.asarray(df[name], dtype = np.float) - mean) / sd\n",
    "\n",
    "\n",
    "# Convert all missing values in the specified column to the median\n",
    "def missing_median(df, name):\n",
    "    med = df[name].median()\n",
    "    df[name] = df[name].fillna(med)\n",
    "\n",
    "\n",
    "# Convert all missing values in the specified column to the default\n",
    "def missing_default(df, name, default_value):\n",
    "    df[name] = df[name].fillna(default_value)\n",
    "\n",
    "\n",
    "# Convert a Pandas dataframe to the x,y inputs that TensorFlow needs\n",
    "def to_xy(df, target):\n",
    "    result = []\n",
    "    for x in df.columns:\n",
    "        if x != target:\n",
    "            result.append(x)\n",
    "    # find out the type of the target column.  Is it really this hard? :(\n",
    "    target_type = df[target].dtypes\n",
    "    target_type = target_type[0] if hasattr(target_type, '__iter__') else target_type\n",
    "    # Encode to int for classification, float otherwise. TensorFlow likes 32 bits.\n",
    "    if target_type in (np.int64, np.int32):\n",
    "        # Classification\n",
    "        dummies = pd.get_dummies(df[target])\n",
    "        return df.as_matrix(result).astype(np.float32), dummies.as_matrix().astype(np.float32)\n",
    "    else:\n",
    "        # Regression\n",
    "        return df.as_matrix(result).astype(np.float32), df.as_matrix([target]).astype(np.float32)\n",
    "\n",
    "# Nicely formatted time string\n",
    "def hms_string(sec_elapsed):\n",
    "    h = int(sec_elapsed / (60 * 60))\n",
    "    m = int((sec_elapsed % (60 * 60)) / 60)\n",
    "    s = sec_elapsed % 60\n",
    "    return \"{}:{:>02}:{:>05.2f}\".format(h, m, s)\n",
    "\n",
    "\n",
    "# Regression chart.\n",
    "def chart_regression(pred,y,sort=True):\n",
    "    t = pd.DataFrame({'pred' : pred, 'y' : y.flatten()})\n",
    "    if sort:\n",
    "        t.sort_values(by=['y'],inplace=True)\n",
    "    a = plt.plot(t['y'].tolist(),label='expected')\n",
    "    b = plt.plot(t['pred'].tolist(),label='prediction')\n",
    "    plt.ylabel('output')\n",
    "    plt.legend()\n",
    "    plt.show()\n",
    "\n",
    "# Remove all rows where the specified column is +/- sd standard deviations\n",
    "def remove_outliers(df, name, sd):\n",
    "    drop_rows = df.index[(np.abs(df[name] - df[name].mean()) >= (sd * df[name].std()))]\n",
    "    df.drop(drop_rows, axis=0, inplace=True)\n",
    "\n",
    "\n",
    "# Encode a column to a range between normalized_low and normalized_high.\n",
    "def encode_numeric_range(df, name, normalized_low=-1, normalized_high=1,\n",
    "                         data_low=None, data_high=None):\n",
    "    if data_low is None:\n",
    "        data_low = min(df[name])\n",
    "        data_high = max(df[name])\n",
    "\n",
    "    df[name] = ((df[name] - data_low) / (data_high - data_low)) \\\n",
    "               * (normalized_high - normalized_low) + normalized_low"
   ]
  },
  {
   "cell_type": "code",
   "execution_count": 4,
   "metadata": {},
   "outputs": [
    {
     "name": "stdout",
     "output_type": "stream",
     "text": [
      "Read 34736 rows.\n"
     ]
    }
   ],
   "source": [
    "\n",
    "# This file is a CSV, just no CSV extension or headers\n",
    "# Download from: http://kdd.ics.uci.edu/databases/kddcup99/kddcup99.html\n",
    "df_ = pd.read_csv(\"/Users/tsaiflow/Desktop/NN&Sampling/data_ddos_kdd/train_PKT_sampling@40_50%.csv\")\n",
    "\n",
    "print(\"Read {} rows.\".format(len(df_)))\n",
    "#print(\"Read {} rows.\".format(len(df1)))\n",
    "# df = df.sample(frac=0.1, replace=False) # Uncomment this line to sample only 10% of the dataset\n",
    "df_.dropna(inplace=True,axis=1) # For now, just drop NA's (rows with missing values)\n",
    "# df1.dropna(inplace=True,axis=1)\n",
    "\n",
    "# The CSV file has no column heads, so add them\n",
    "# df.columns = [\n",
    "#     'duration',\n",
    "#     'forw_bytes',\n",
    "#     'back_bytes',\n",
    "#     'total_bytes',\n",
    "    \n",
    "#     'outcome'\n",
    "# ]"
   ]
  },
  {
   "cell_type": "code",
   "execution_count": 5,
   "metadata": {},
   "outputs": [
    {
     "data": {
      "text/html": [
       "<div>\n",
       "<style>\n",
       "    .dataframe thead tr:only-child th {\n",
       "        text-align: right;\n",
       "    }\n",
       "\n",
       "    .dataframe thead th {\n",
       "        text-align: left;\n",
       "    }\n",
       "\n",
       "    .dataframe tbody tr th {\n",
       "        vertical-align: top;\n",
       "    }\n",
       "</style>\n",
       "<table border=\"1\" class=\"dataframe\">\n",
       "  <thead>\n",
       "    <tr style=\"text-align: right;\">\n",
       "      <th></th>\n",
       "      <th>Unnamed: 0</th>\n",
       "      <th>duration</th>\n",
       "      <th>forw_byte</th>\n",
       "      <th>back_byte</th>\n",
       "      <th>tot_byte</th>\n",
       "      <th>outcome</th>\n",
       "    </tr>\n",
       "  </thead>\n",
       "  <tbody>\n",
       "    <tr>\n",
       "      <th>0</th>\n",
       "      <td>0</td>\n",
       "      <td>0.0</td>\n",
       "      <td>520</td>\n",
       "      <td>0</td>\n",
       "      <td>520</td>\n",
       "      <td>dos</td>\n",
       "    </tr>\n",
       "    <tr>\n",
       "      <th>1</th>\n",
       "      <td>1</td>\n",
       "      <td>0.0</td>\n",
       "      <td>1032</td>\n",
       "      <td>0</td>\n",
       "      <td>1032</td>\n",
       "      <td>dos</td>\n",
       "    </tr>\n",
       "    <tr>\n",
       "      <th>2</th>\n",
       "      <td>2</td>\n",
       "      <td>0.0</td>\n",
       "      <td>1032</td>\n",
       "      <td>0</td>\n",
       "      <td>1032</td>\n",
       "      <td>dos</td>\n",
       "    </tr>\n",
       "    <tr>\n",
       "      <th>3</th>\n",
       "      <td>3</td>\n",
       "      <td>0.0</td>\n",
       "      <td>1032</td>\n",
       "      <td>0</td>\n",
       "      <td>1032</td>\n",
       "      <td>dos</td>\n",
       "    </tr>\n",
       "    <tr>\n",
       "      <th>4</th>\n",
       "      <td>4</td>\n",
       "      <td>0.0</td>\n",
       "      <td>1032</td>\n",
       "      <td>0</td>\n",
       "      <td>1032</td>\n",
       "      <td>dos</td>\n",
       "    </tr>\n",
       "  </tbody>\n",
       "</table>\n",
       "</div>"
      ],
      "text/plain": [
       "   Unnamed: 0  duration  forw_byte  back_byte  tot_byte outcome\n",
       "0           0       0.0        520          0       520     dos\n",
       "1           1       0.0       1032          0      1032     dos\n",
       "2           2       0.0       1032          0      1032     dos\n",
       "3           3       0.0       1032          0      1032     dos\n",
       "4           4       0.0       1032          0      1032     dos"
      ]
     },
     "execution_count": 5,
     "metadata": {},
     "output_type": "execute_result"
    }
   ],
   "source": [
    "df_.head(5)"
   ]
  },
  {
   "cell_type": "code",
   "execution_count": 6,
   "metadata": {
    "collapsed": true
   },
   "outputs": [],
   "source": [
    "cols = ['duration', 'forw_byte', 'back_byte','tot_byte','outcome']\n",
    "df = df_[cols]"
   ]
  },
  {
   "cell_type": "code",
   "execution_count": 7,
   "metadata": {
    "collapsed": true
   },
   "outputs": [],
   "source": [
    "# df.drop(df.head(1).index, inplace = True)"
   ]
  },
  {
   "cell_type": "code",
   "execution_count": 8,
   "metadata": {},
   "outputs": [
    {
     "data": {
      "text/html": [
       "<div>\n",
       "<style>\n",
       "    .dataframe thead tr:only-child th {\n",
       "        text-align: right;\n",
       "    }\n",
       "\n",
       "    .dataframe thead th {\n",
       "        text-align: left;\n",
       "    }\n",
       "\n",
       "    .dataframe tbody tr th {\n",
       "        vertical-align: top;\n",
       "    }\n",
       "</style>\n",
       "<table border=\"1\" class=\"dataframe\">\n",
       "  <thead>\n",
       "    <tr style=\"text-align: right;\">\n",
       "      <th></th>\n",
       "      <th>duration</th>\n",
       "      <th>forw_byte</th>\n",
       "      <th>back_byte</th>\n",
       "      <th>tot_byte</th>\n",
       "      <th>outcome</th>\n",
       "    </tr>\n",
       "  </thead>\n",
       "  <tbody>\n",
       "    <tr>\n",
       "      <th>0</th>\n",
       "      <td>0.0</td>\n",
       "      <td>520</td>\n",
       "      <td>0</td>\n",
       "      <td>520</td>\n",
       "      <td>dos</td>\n",
       "    </tr>\n",
       "    <tr>\n",
       "      <th>1</th>\n",
       "      <td>0.0</td>\n",
       "      <td>1032</td>\n",
       "      <td>0</td>\n",
       "      <td>1032</td>\n",
       "      <td>dos</td>\n",
       "    </tr>\n",
       "    <tr>\n",
       "      <th>2</th>\n",
       "      <td>0.0</td>\n",
       "      <td>1032</td>\n",
       "      <td>0</td>\n",
       "      <td>1032</td>\n",
       "      <td>dos</td>\n",
       "    </tr>\n",
       "    <tr>\n",
       "      <th>3</th>\n",
       "      <td>0.0</td>\n",
       "      <td>1032</td>\n",
       "      <td>0</td>\n",
       "      <td>1032</td>\n",
       "      <td>dos</td>\n",
       "    </tr>\n",
       "    <tr>\n",
       "      <th>4</th>\n",
       "      <td>0.0</td>\n",
       "      <td>1032</td>\n",
       "      <td>0</td>\n",
       "      <td>1032</td>\n",
       "      <td>dos</td>\n",
       "    </tr>\n",
       "  </tbody>\n",
       "</table>\n",
       "</div>"
      ],
      "text/plain": [
       "   duration  forw_byte  back_byte  tot_byte outcome\n",
       "0       0.0        520          0       520     dos\n",
       "1       0.0       1032          0      1032     dos\n",
       "2       0.0       1032          0      1032     dos\n",
       "3       0.0       1032          0      1032     dos\n",
       "4       0.0       1032          0      1032     dos"
      ]
     },
     "execution_count": 8,
     "metadata": {},
     "output_type": "execute_result"
    }
   ],
   "source": [
    "df.head(5)"
   ]
  },
  {
   "cell_type": "code",
   "execution_count": 9,
   "metadata": {
    "collapsed": true
   },
   "outputs": [],
   "source": [
    "# np.asarray(df['duration'], dtype = np.float).mean()\n",
    "# # df[name].mean()"
   ]
  },
  {
   "cell_type": "code",
   "execution_count": 10,
   "metadata": {
    "collapsed": true
   },
   "outputs": [],
   "source": [
    "# np.asarray(df['duration'], dtype = np.float).std()"
   ]
  },
  {
   "cell_type": "code",
   "execution_count": null,
   "metadata": {
    "collapsed": true
   },
   "outputs": [],
   "source": []
  },
  {
   "cell_type": "code",
   "execution_count": 11,
   "metadata": {},
   "outputs": [
    {
     "name": "stderr",
     "output_type": "stream",
     "text": [
      "/anaconda/lib/python3.6/site-packages/ipykernel_launcher.py:37: SettingWithCopyWarning: \n",
      "A value is trying to be set on a copy of a slice from a DataFrame.\n",
      "Try using .loc[row_indexer,col_indexer] = value instead\n",
      "\n",
      "See the caveats in the documentation: http://pandas.pydata.org/pandas-docs/stable/indexing.html#indexing-view-versus-copy\n",
      "/anaconda/lib/python3.6/site-packages/ipykernel_launcher.py:25: SettingWithCopyWarning: \n",
      "A value is trying to be set on a copy of a slice from a DataFrame.\n",
      "Try using .loc[row_indexer,col_indexer] = value instead\n",
      "\n",
      "See the caveats in the documentation: http://pandas.pydata.org/pandas-docs/stable/indexing.html#indexing-view-versus-copy\n",
      "/anaconda/lib/python3.6/site-packages/ipykernel_launcher.py:51: SettingWithCopyWarning: \n",
      "A value is trying to be set on a copy of a slice from a DataFrame\n",
      "\n",
      "See the caveats in the documentation: http://pandas.pydata.org/pandas-docs/stable/indexing.html#indexing-view-versus-copy\n"
     ]
    },
    {
     "data": {
      "text/html": [
       "<div>\n",
       "<style>\n",
       "    .dataframe thead tr:only-child th {\n",
       "        text-align: right;\n",
       "    }\n",
       "\n",
       "    .dataframe thead th {\n",
       "        text-align: left;\n",
       "    }\n",
       "\n",
       "    .dataframe tbody tr th {\n",
       "        vertical-align: top;\n",
       "    }\n",
       "</style>\n",
       "<table border=\"1\" class=\"dataframe\">\n",
       "  <thead>\n",
       "    <tr style=\"text-align: right;\">\n",
       "      <th></th>\n",
       "      <th>duration</th>\n",
       "      <th>forw_byte</th>\n",
       "      <th>back_byte</th>\n",
       "      <th>tot_byte</th>\n",
       "      <th>outcome</th>\n",
       "    </tr>\n",
       "  </thead>\n",
       "  <tbody>\n",
       "    <tr>\n",
       "      <th>0</th>\n",
       "      <td>0.0</td>\n",
       "      <td>-0.006919</td>\n",
       "      <td>-0.006304</td>\n",
       "      <td>-0.009348</td>\n",
       "      <td>0</td>\n",
       "    </tr>\n",
       "    <tr>\n",
       "      <th>1</th>\n",
       "      <td>0.0</td>\n",
       "      <td>-0.006749</td>\n",
       "      <td>-0.006304</td>\n",
       "      <td>-0.009221</td>\n",
       "      <td>0</td>\n",
       "    </tr>\n",
       "    <tr>\n",
       "      <th>2</th>\n",
       "      <td>0.0</td>\n",
       "      <td>-0.006749</td>\n",
       "      <td>-0.006304</td>\n",
       "      <td>-0.009221</td>\n",
       "      <td>0</td>\n",
       "    </tr>\n",
       "    <tr>\n",
       "      <th>3</th>\n",
       "      <td>0.0</td>\n",
       "      <td>-0.006749</td>\n",
       "      <td>-0.006304</td>\n",
       "      <td>-0.009221</td>\n",
       "      <td>0</td>\n",
       "    </tr>\n",
       "    <tr>\n",
       "      <th>4</th>\n",
       "      <td>0.0</td>\n",
       "      <td>-0.006749</td>\n",
       "      <td>-0.006304</td>\n",
       "      <td>-0.009221</td>\n",
       "      <td>0</td>\n",
       "    </tr>\n",
       "  </tbody>\n",
       "</table>\n",
       "</div>"
      ],
      "text/plain": [
       "   duration  forw_byte  back_byte  tot_byte  outcome\n",
       "0       0.0  -0.006919  -0.006304 -0.009348        0\n",
       "1       0.0  -0.006749  -0.006304 -0.009221        0\n",
       "2       0.0  -0.006749  -0.006304 -0.009221        0\n",
       "3       0.0  -0.006749  -0.006304 -0.009221        0\n",
       "4       0.0  -0.006749  -0.006304 -0.009221        0"
      ]
     },
     "execution_count": 11,
     "metadata": {},
     "output_type": "execute_result"
    }
   ],
   "source": [
    "# Now encode the feature vector\n",
    "\n",
    "#encode_numeric_zscore(df, 'duration')\n",
    "\n",
    "# encode_text_dummy(df, 'protocol_type')\n",
    "# encode_text_dummy(df, 'service')\n",
    "# encode_text_dummy(df, 'flag')\n",
    "encode_numeric_zscore(df, 'forw_byte')\n",
    "encode_numeric_zscore(df, 'back_byte')\n",
    "encode_numeric_zscore(df, 'tot_byte')\n",
    "# encode_text_dummy(df, 'land')\n",
    "# encode_numeric_zscore(df, 'wrong_fragment')\n",
    "# encode_numeric_zscore(df, 'urgent')\n",
    "# encode_numeric_zscore(df, 'hot')\n",
    "# encode_numeric_zscore(df, 'num_failed_logins')\n",
    "# encode_text_dummy(df, 'logged_in')\n",
    "# encode_numeric_zscore(df, 'num_compromised')\n",
    "# encode_numeric_zscore(df, 'root_shell')\n",
    "# encode_numeric_zscore(df, 'su_attempted')\n",
    "# encode_numeric_zscore(df, 'num_root')\n",
    "# encode_numeric_zscore(df, 'num_file_creations')\n",
    "# encode_numeric_zscore(df, 'num_shells')\n",
    "# encode_numeric_zscore(df, 'num_access_files')\n",
    "# encode_numeric_zscore(df, 'num_outbound_cmds')\n",
    "# encode_text_dummy(df, 'is_host_login')\n",
    "# encode_text_dummy(df, 'is_guest_login')\n",
    "# encode_numeric_zscore(df, 'count')\n",
    "# encode_numeric_zscore(df, 'srv_count')\n",
    "# encode_numeric_zscore(df, 'serror_rate')\n",
    "# encode_numeric_zscore(df, 'srv_serror_rate')\n",
    "# encode_numeric_zscore(df, 'rerror_rate')\n",
    "# encode_numeric_zscore(df, 'srv_rerror_rate')\n",
    "# encode_numeric_zscore(df, 'same_srv_rate')\n",
    "# encode_numeric_zscore(df, 'diff_srv_rate')\n",
    "# encode_numeric_zscore(df, 'srv_diff_host_rate')\n",
    "# encode_numeric_zscore(df, 'dst_host_count')\n",
    "# encode_numeric_zscore(df, 'dst_host_srv_count')\n",
    "# encode_numeric_zscore(df, 'dst_host_same_srv_rate')\n",
    "# encode_numeric_zscore(df, 'dst_host_diff_srv_rate')\n",
    "# encode_numeric_zscore(df, 'dst_host_same_src_port_rate')\n",
    "# encode_numeric_zscore(df, 'dst_host_srv_diff_host_rate')\n",
    "# encode_numeric_zscore(df, 'dst_host_serror_rate')\n",
    "# encode_numeric_zscore(df, 'dst_host_srv_serror_rate')\n",
    "# encode_numeric_zscore(df, 'dst_host_rerror_rate')\n",
    "# encode_numeric_zscore(df, 'dst_host_srv_rerror_rate')\n",
    "outcomes = encode_text_index(df, 'outcome')\n",
    "num_classes = len(outcomes)\n",
    "\n",
    "# display 5 rows\n",
    "\n",
    "df.dropna(inplace=True,axis=1)\n",
    "df[0:5]\n",
    "# This is the numeric feature vector, as it goes to the neural net"
   ]
  },
  {
   "cell_type": "code",
   "execution_count": 12,
   "metadata": {
    "collapsed": true
   },
   "outputs": [],
   "source": [
    "x, y = to_xy(df,'outcome')"
   ]
  },
  {
   "cell_type": "code",
   "execution_count": 13,
   "metadata": {
    "collapsed": true
   },
   "outputs": [],
   "source": [
    "# df.head(5)"
   ]
  },
  {
   "cell_type": "code",
   "execution_count": 14,
   "metadata": {
    "collapsed": true
   },
   "outputs": [],
   "source": [
    "# Create a test/train split.  33% test\n",
    "# Split into train/test\n",
    "x_train, x_test, y_train, y_test = train_test_split(\n",
    "    x, y, test_size=0.33, random_state=42)"
   ]
  },
  {
   "cell_type": "code",
   "execution_count": null,
   "metadata": {
    "collapsed": true
   },
   "outputs": [],
   "source": []
  },
  {
   "cell_type": "code",
   "execution_count": 15,
   "metadata": {
    "collapsed": true
   },
   "outputs": [],
   "source": [
    "import keras.backend as K\n",
    "K.clear_session()"
   ]
  },
  {
   "cell_type": "code",
   "execution_count": 16,
   "metadata": {
    "collapsed": true
   },
   "outputs": [],
   "source": [
    "# Create neural net\n",
    "model = Sequential()\n",
    "\n",
    "# Used relu for activation function\n",
    "model.add(Dense(10, input_dim=x.shape[1], kernel_initializer='normal', activation='relu'))\n",
    "model.add(Dense(50, input_dim=x.shape[1], kernel_initializer='normal', activation='relu'))\n",
    "model.add(Dense(10, input_dim=x.shape[1], kernel_initializer='normal', activation='relu'))\n",
    "\n",
    "# output layer \n",
    "model.add(Dense(1, kernel_initializer='normal'))\n",
    "model.add(Dense(y.shape[1],activation='softmax'))\n",
    "# model.add(Dense(y.shape[1],activation = 'sigmoid'))"
   ]
  },
  {
   "cell_type": "code",
   "execution_count": 17,
   "metadata": {},
   "outputs": [
    {
     "name": "stdout",
     "output_type": "stream",
     "text": [
      "_________________________________________________________________\n",
      "Layer (type)                 Output Shape              Param #   \n",
      "=================================================================\n",
      "dense_1 (Dense)              (None, 10)                50        \n",
      "_________________________________________________________________\n",
      "dense_2 (Dense)              (None, 50)                550       \n",
      "_________________________________________________________________\n",
      "dense_3 (Dense)              (None, 10)                510       \n",
      "_________________________________________________________________\n",
      "dense_4 (Dense)              (None, 1)                 11        \n",
      "_________________________________________________________________\n",
      "dense_5 (Dense)              (None, 2)                 4         \n",
      "=================================================================\n",
      "Total params: 1,125\n",
      "Trainable params: 1,125\n",
      "Non-trainable params: 0\n",
      "_________________________________________________________________\n"
     ]
    }
   ],
   "source": [
    "# Print the model summary\n",
    "model.summary()"
   ]
  },
  {
   "cell_type": "code",
   "execution_count": 18,
   "metadata": {
    "collapsed": true
   },
   "outputs": [],
   "source": [
    "class LossHistory(keras.callbacks.Callback):\n",
    "    def on_train_begin(self, logs={}):\n",
    "        # TODO:  Create two empty lists, self.loss and self.val_acc\n",
    "        self.losses = []\n",
    "        self.accs = []\n",
    "        self.val_acc = []\n",
    "        self.val_loss = []\n",
    "    def on_batch_end(self, batch, logs={}):\n",
    "        # TODO:  This is called at the end of each batch.  \n",
    "        # Add the loss in logs.get('loss') to the loss list\n",
    "        loss = logs.get('loss')\n",
    "        acc = logs.get('acc')\n",
    "        self.losses.append(loss)\n",
    "        self.accs.append(acc)\n",
    "    def on_epoch_end(self, epoch, logs):\n",
    "        # TODO:  This is called at the end of each epoch.  \n",
    "        # Add the test accuracy in logs.get('loss') to the val_acc list\n",
    "        val_acc = logs.get('val_acc')\n",
    "        val_loss = logs.get('val_loss')\n",
    "        self.val_acc.append(val_acc)\n",
    "        self.val_loss.append(val_loss)\n",
    "\n",
    "# Create an instance of the history callback\n",
    "history_cb = LossHistory()"
   ]
  },
  {
   "cell_type": "code",
   "execution_count": 19,
   "metadata": {
    "collapsed": true
   },
   "outputs": [],
   "source": [
    "from keras import optimizers\n",
    "\n",
    "# optimizer defined\n",
    "opt = optimizers.Adam(lr=0.001, beta_1=0.9, beta_2=0.999, epsilon=1e-08, decay=0.0)"
   ]
  },
  {
   "cell_type": "code",
   "execution_count": 20,
   "metadata": {
    "collapsed": true
   },
   "outputs": [],
   "source": [
    "## compile model\n",
    "model.compile(optimizer='adam',\n",
    "              loss='categorical_crossentropy',\n",
    "              metrics=['accuracy'])\n",
    "monitor = EarlyStopping(monitor='val_loss', min_delta=1e-3, patience=5, verbose=1, mode='auto')\n"
   ]
  },
  {
   "cell_type": "code",
   "execution_count": 21,
   "metadata": {
    "collapsed": true
   },
   "outputs": [],
   "source": [
    "# model.fit(x,y,validation_data=(x_test,y_test),callbacks=[monitor],verbose=2,epochs=1000)"
   ]
  },
  {
   "cell_type": "code",
   "execution_count": 22,
   "metadata": {},
   "outputs": [
    {
     "name": "stdout",
     "output_type": "stream",
     "text": [
      "Train on 23273 samples, validate on 11463 samples\n",
      "Epoch 1/200\n",
      "23273/23273 [==============================] - 0s - loss: 0.6718 - acc: 0.5732 - val_loss: 0.6204 - val_acc: 0.6207\n",
      "Epoch 2/200\n",
      "23273/23273 [==============================] - 0s - loss: 0.6061 - acc: 0.6367 - val_loss: 0.5924 - val_acc: 0.6582\n",
      "Epoch 3/200\n",
      "23273/23273 [==============================] - 0s - loss: 0.5737 - acc: 0.6731 - val_loss: 0.5475 - val_acc: 0.7337\n",
      "Epoch 4/200\n",
      "23273/23273 [==============================] - 0s - loss: 0.5145 - acc: 0.7460 - val_loss: 0.4748 - val_acc: 0.7813\n",
      "Epoch 5/200\n",
      "23273/23273 [==============================] - 0s - loss: 0.4505 - acc: 0.7926 - val_loss: 0.4203 - val_acc: 0.8061\n",
      "Epoch 6/200\n",
      "23273/23273 [==============================] - 0s - loss: 0.4032 - acc: 0.8187 - val_loss: 0.4022 - val_acc: 0.8042\n",
      "Epoch 7/200\n",
      "23273/23273 [==============================] - 0s - loss: 0.3759 - acc: 0.8401 - val_loss: 0.3693 - val_acc: 0.8658\n",
      "Epoch 8/200\n",
      "23273/23273 [==============================] - 0s - loss: 0.3502 - acc: 0.8585 - val_loss: 0.3407 - val_acc: 0.8592\n",
      "Epoch 9/200\n",
      "23273/23273 [==============================] - 0s - loss: 0.3328 - acc: 0.8698 - val_loss: 0.3246 - val_acc: 0.8740\n",
      "Epoch 10/200\n",
      "23273/23273 [==============================] - 0s - loss: 0.3254 - acc: 0.8778 - val_loss: 0.3856 - val_acc: 0.8493\n",
      "Epoch 11/200\n",
      "23273/23273 [==============================] - 0s - loss: 0.3103 - acc: 0.8817 - val_loss: 0.3047 - val_acc: 0.8808\n",
      "Epoch 12/200\n",
      "23273/23273 [==============================] - 0s - loss: 0.2970 - acc: 0.8870 - val_loss: 0.2960 - val_acc: 0.8857\n",
      "Epoch 13/200\n",
      "23273/23273 [==============================] - 0s - loss: 0.2957 - acc: 0.8905 - val_loss: 0.3452 - val_acc: 0.8705\n",
      "Epoch 14/200\n",
      "23273/23273 [==============================] - 0s - loss: 0.2903 - acc: 0.8923 - val_loss: 0.2909 - val_acc: 0.8966\n",
      "Epoch 15/200\n",
      "23273/23273 [==============================] - 0s - loss: 0.2789 - acc: 0.8962 - val_loss: 0.3094 - val_acc: 0.8825\n",
      "Epoch 16/200\n",
      "23273/23273 [==============================] - 0s - loss: 0.2809 - acc: 0.8969 - val_loss: 0.2779 - val_acc: 0.8939\n",
      "Epoch 17/200\n",
      "23273/23273 [==============================] - 0s - loss: 0.2746 - acc: 0.8988 - val_loss: 0.2755 - val_acc: 0.8948\n",
      "Epoch 18/200\n",
      "23273/23273 [==============================] - 0s - loss: 0.2694 - acc: 0.9009 - val_loss: 0.2805 - val_acc: 0.9037\n",
      "Epoch 19/200\n",
      "23273/23273 [==============================] - 0s - loss: 0.2760 - acc: 0.9023 - val_loss: 0.2743 - val_acc: 0.8958\n",
      "Epoch 20/200\n",
      "23273/23273 [==============================] - 0s - loss: 0.2647 - acc: 0.9041 - val_loss: 0.2808 - val_acc: 0.8942\n",
      "Epoch 21/200\n",
      "23273/23273 [==============================] - 0s - loss: 0.2684 - acc: 0.9041 - val_loss: 0.2654 - val_acc: 0.9018\n",
      "Epoch 22/200\n",
      "23273/23273 [==============================] - 0s - loss: 0.2617 - acc: 0.9056 - val_loss: 0.2641 - val_acc: 0.9009\n",
      "Epoch 23/200\n",
      "23273/23273 [==============================] - 0s - loss: 0.2575 - acc: 0.9065 - val_loss: 0.2687 - val_acc: 0.8995\n",
      "Epoch 24/200\n",
      "23273/23273 [==============================] - 0s - loss: 0.2584 - acc: 0.9077 - val_loss: 0.2794 - val_acc: 0.8981\n",
      "Epoch 25/200\n",
      "23273/23273 [==============================] - 0s - loss: 0.2616 - acc: 0.9083 - val_loss: 0.2676 - val_acc: 0.9001\n",
      "Epoch 26/200\n",
      "23273/23273 [==============================] - 0s - loss: 0.2545 - acc: 0.9087 - val_loss: 0.2585 - val_acc: 0.9067\n",
      "Epoch 27/200\n",
      "23273/23273 [==============================] - 0s - loss: 0.2554 - acc: 0.9100 - val_loss: 0.2558 - val_acc: 0.9057\n",
      "Epoch 28/200\n",
      "23273/23273 [==============================] - 0s - loss: 0.2646 - acc: 0.9091 - val_loss: 0.2652 - val_acc: 0.9023\n",
      "Epoch 29/200\n",
      "23273/23273 [==============================] - 0s - loss: 0.2547 - acc: 0.9111 - val_loss: 0.2698 - val_acc: 0.9018\n",
      "Epoch 30/200\n",
      "23273/23273 [==============================] - 0s - loss: 0.2607 - acc: 0.9112 - val_loss: 0.3421 - val_acc: 0.9200\n",
      "Epoch 31/200\n",
      "23273/23273 [==============================] - 0s - loss: 0.2605 - acc: 0.9110 - val_loss: 0.2530 - val_acc: 0.9074\n",
      "Epoch 32/200\n",
      "23273/23273 [==============================] - 0s - loss: 0.2604 - acc: 0.9120 - val_loss: 0.3459 - val_acc: 0.8953\n",
      "Epoch 33/200\n",
      "23273/23273 [==============================] - 0s - loss: 0.2508 - acc: 0.9123 - val_loss: 0.2517 - val_acc: 0.9081\n",
      "Epoch 34/200\n",
      "23273/23273 [==============================] - 0s - loss: 0.2467 - acc: 0.9129 - val_loss: 0.2523 - val_acc: 0.9065\n",
      "Epoch 35/200\n",
      "23273/23273 [==============================] - 0s - loss: 0.2453 - acc: 0.9137 - val_loss: 0.2498 - val_acc: 0.9081\n",
      "Epoch 36/200\n",
      "23273/23273 [==============================] - 0s - loss: 0.2416 - acc: 0.9144 - val_loss: 0.3377 - val_acc: 0.9200\n",
      "Epoch 37/200\n",
      "23273/23273 [==============================] - 0s - loss: 0.2505 - acc: 0.9148 - val_loss: 0.2535 - val_acc: 0.9134\n",
      "Epoch 38/200\n",
      "23273/23273 [==============================] - 0s - loss: 0.2588 - acc: 0.9141 - val_loss: 0.2711 - val_acc: 0.9042\n",
      "Epoch 39/200\n",
      "23273/23273 [==============================] - 0s - loss: 0.2475 - acc: 0.9148 - val_loss: 0.2500 - val_acc: 0.9081\n",
      "Epoch 40/200\n",
      "23273/23273 [==============================] - 0s - loss: 0.2495 - acc: 0.9153 - val_loss: 0.2605 - val_acc: 0.9149\n",
      "Epoch 41/200\n",
      "23273/23273 [==============================] - 0s - loss: 0.2429 - acc: 0.9152 - val_loss: 0.2518 - val_acc: 0.9080\n",
      "Epoch 42/200\n",
      "23273/23273 [==============================] - 0s - loss: 0.2422 - acc: 0.9165 - val_loss: 0.2626 - val_acc: 0.9163\n",
      "Epoch 43/200\n",
      "23273/23273 [==============================] - 0s - loss: 0.2425 - acc: 0.9159 - val_loss: 0.2634 - val_acc: 0.9066\n",
      "Epoch 44/200\n",
      "23273/23273 [==============================] - 0s - loss: 0.2402 - acc: 0.9168 - val_loss: 0.2640 - val_acc: 0.9171\n",
      "Epoch 45/200\n",
      "23273/23273 [==============================] - 0s - loss: 0.2415 - acc: 0.9168 - val_loss: 0.3409 - val_acc: 0.9021\n",
      "Epoch 46/200\n",
      "23273/23273 [==============================] - 0s - loss: 0.2459 - acc: 0.9172 - val_loss: 0.2477 - val_acc: 0.9098\n",
      "Epoch 47/200\n",
      "23273/23273 [==============================] - 0s - loss: 0.2393 - acc: 0.9173 - val_loss: 0.2527 - val_acc: 0.9089\n",
      "Epoch 48/200\n",
      "23273/23273 [==============================] - 0s - loss: 0.2419 - acc: 0.9174 - val_loss: 0.2608 - val_acc: 0.9083\n",
      "Epoch 49/200\n",
      "23273/23273 [==============================] - 0s - loss: 0.2358 - acc: 0.9173 - val_loss: 0.2405 - val_acc: 0.9136\n",
      "Epoch 50/200\n",
      "23273/23273 [==============================] - 0s - loss: 0.2393 - acc: 0.9181 - val_loss: 0.2488 - val_acc: 0.9168\n",
      "Epoch 51/200\n",
      "23273/23273 [==============================] - 0s - loss: 0.2355 - acc: 0.9183 - val_loss: 0.2518 - val_acc: 0.9105\n",
      "Epoch 52/200\n",
      "23273/23273 [==============================] - 0s - loss: 0.2373 - acc: 0.9178 - val_loss: 0.2432 - val_acc: 0.9164\n",
      "Epoch 53/200\n",
      "23273/23273 [==============================] - 0s - loss: 0.2348 - acc: 0.9188 - val_loss: 0.2418 - val_acc: 0.9134\n",
      "Epoch 54/200\n",
      "23273/23273 [==============================] - 0s - loss: 0.2336 - acc: 0.9191 - val_loss: 0.2692 - val_acc: 0.9195\n",
      "Epoch 55/200\n",
      "23273/23273 [==============================] - 0s - loss: 0.2533 - acc: 0.9181 - val_loss: 0.2409 - val_acc: 0.9136\n",
      "Epoch 56/200\n",
      "23273/23273 [==============================] - 0s - loss: 0.2354 - acc: 0.9192 - val_loss: 0.2385 - val_acc: 0.9140\n",
      "Epoch 57/200\n",
      "23273/23273 [==============================] - 0s - loss: 0.2318 - acc: 0.9187 - val_loss: 0.2464 - val_acc: 0.9188\n",
      "Epoch 58/200\n",
      "23273/23273 [==============================] - 0s - loss: 0.2343 - acc: 0.9195 - val_loss: 0.2426 - val_acc: 0.9136\n",
      "Epoch 59/200\n",
      "23273/23273 [==============================] - 0s - loss: 0.2353 - acc: 0.9193 - val_loss: 0.2378 - val_acc: 0.9142\n",
      "Epoch 60/200\n",
      "23273/23273 [==============================] - 0s - loss: 0.2358 - acc: 0.9198 - val_loss: 0.2518 - val_acc: 0.9130\n",
      "Epoch 61/200\n",
      "23273/23273 [==============================] - 0s - loss: 0.2337 - acc: 0.9200 - val_loss: 0.2365 - val_acc: 0.9171\n",
      "Epoch 62/200\n",
      "23273/23273 [==============================] - 0s - loss: 0.2310 - acc: 0.9202 - val_loss: 0.2394 - val_acc: 0.9142\n",
      "Epoch 63/200\n",
      "23273/23273 [==============================] - 0s - loss: 0.2351 - acc: 0.9197 - val_loss: 0.2451 - val_acc: 0.9194\n",
      "Epoch 64/200\n"
     ]
    },
    {
     "name": "stdout",
     "output_type": "stream",
     "text": [
      "23273/23273 [==============================] - 0s - loss: 0.2344 - acc: 0.9207 - val_loss: 0.2344 - val_acc: 0.9174\n",
      "Epoch 65/200\n",
      "23273/23273 [==============================] - 0s - loss: 0.2422 - acc: 0.9199 - val_loss: 0.2363 - val_acc: 0.9150\n",
      "Epoch 66/200\n",
      "23273/23273 [==============================] - 0s - loss: 0.2310 - acc: 0.9206 - val_loss: 0.2350 - val_acc: 0.9184\n",
      "Epoch 67/200\n",
      "23273/23273 [==============================] - 0s - loss: 0.2332 - acc: 0.9204 - val_loss: 0.2552 - val_acc: 0.9134\n",
      "Epoch 68/200\n",
      "23273/23273 [==============================] - 0s - loss: 0.2364 - acc: 0.9209 - val_loss: 0.2344 - val_acc: 0.9157\n",
      "Epoch 69/200\n",
      "23273/23273 [==============================] - 0s - loss: 0.2259 - acc: 0.9210 - val_loss: 0.2352 - val_acc: 0.9190\n",
      "Epoch 70/200\n",
      "23273/23273 [==============================] - 0s - loss: 0.2285 - acc: 0.9209 - val_loss: 0.2372 - val_acc: 0.9154\n",
      "Epoch 71/200\n",
      "23273/23273 [==============================] - 0s - loss: 0.2276 - acc: 0.9215 - val_loss: 0.2542 - val_acc: 0.9199\n",
      "Epoch 72/200\n",
      "23273/23273 [==============================] - 0s - loss: 0.2307 - acc: 0.9212 - val_loss: 0.2344 - val_acc: 0.9193\n",
      "Epoch 73/200\n",
      "23273/23273 [==============================] - 0s - loss: 0.2312 - acc: 0.9212 - val_loss: 0.2378 - val_acc: 0.9194\n",
      "Epoch 74/200\n",
      "23273/23273 [==============================] - 0s - loss: 0.2289 - acc: 0.9212 - val_loss: 0.2556 - val_acc: 0.9141\n",
      "Epoch 75/200\n",
      "23273/23273 [==============================] - 0s - loss: 0.2279 - acc: 0.9217 - val_loss: 0.2511 - val_acc: 0.9146\n",
      "Epoch 76/200\n",
      "23273/23273 [==============================] - 0s - loss: 0.2264 - acc: 0.9221 - val_loss: 0.2357 - val_acc: 0.9195\n",
      "Epoch 77/200\n",
      "23273/23273 [==============================] - 0s - loss: 0.2341 - acc: 0.9216 - val_loss: 0.2365 - val_acc: 0.9195\n",
      "Epoch 78/200\n",
      "23273/23273 [==============================] - 0s - loss: 0.2498 - acc: 0.9173 - val_loss: 0.2556 - val_acc: 0.9142\n",
      "Epoch 79/200\n",
      "23273/23273 [==============================] - 0s - loss: 0.2285 - acc: 0.9215 - val_loss: 0.2300 - val_acc: 0.9188\n",
      "Epoch 80/200\n",
      "23273/23273 [==============================] - 0s - loss: 0.2258 - acc: 0.9223 - val_loss: 0.2390 - val_acc: 0.9196\n",
      "Epoch 81/200\n",
      "23273/23273 [==============================] - 0s - loss: 0.2285 - acc: 0.9221 - val_loss: 0.2367 - val_acc: 0.9195\n",
      "Epoch 82/200\n",
      "23273/23273 [==============================] - 0s - loss: 0.2323 - acc: 0.9220 - val_loss: 0.2294 - val_acc: 0.9190\n",
      "Epoch 83/200\n",
      "23273/23273 [==============================] - 0s - loss: 0.2272 - acc: 0.9221 - val_loss: 0.2703 - val_acc: 0.9141\n",
      "Epoch 84/200\n",
      "23273/23273 [==============================] - 0s - loss: 0.2370 - acc: 0.9222 - val_loss: 0.2307 - val_acc: 0.9194\n",
      "Epoch 85/200\n",
      "23273/23273 [==============================] - 0s - loss: 0.2299 - acc: 0.9218 - val_loss: 0.2348 - val_acc: 0.9172\n",
      "Epoch 86/200\n",
      "23273/23273 [==============================] - 0s - loss: 0.2243 - acc: 0.9227 - val_loss: 0.2284 - val_acc: 0.9193\n",
      "Epoch 87/200\n",
      "23273/23273 [==============================] - 0s - loss: 0.2311 - acc: 0.9225 - val_loss: 0.2364 - val_acc: 0.9172\n",
      "Epoch 88/200\n",
      "23273/23273 [==============================] - 0s - loss: 0.2283 - acc: 0.9227 - val_loss: 0.2744 - val_acc: 0.9142\n",
      "Epoch 89/200\n",
      "23273/23273 [==============================] - 0s - loss: 0.2228 - acc: 0.9229 - val_loss: 0.2294 - val_acc: 0.9190\n",
      "Epoch 90/200\n",
      "23273/23273 [==============================] - 0s - loss: 0.2227 - acc: 0.9230 - val_loss: 0.2325 - val_acc: 0.9199\n",
      "Epoch 91/200\n",
      "23273/23273 [==============================] - 0s - loss: 0.2317 - acc: 0.9223 - val_loss: 0.2328 - val_acc: 0.9188\n",
      "Epoch 92/200\n",
      "23273/23273 [==============================] - 0s - loss: 0.2283 - acc: 0.9224 - val_loss: 0.2273 - val_acc: 0.9194\n",
      "Epoch 93/200\n",
      "23273/23273 [==============================] - 0s - loss: 0.2288 - acc: 0.9230 - val_loss: 0.2284 - val_acc: 0.9195\n",
      "Epoch 94/200\n",
      "23273/23273 [==============================] - 0s - loss: 0.2264 - acc: 0.9228 - val_loss: 0.2410 - val_acc: 0.9200\n",
      "Epoch 95/200\n",
      "23273/23273 [==============================] - 0s - loss: 0.2220 - acc: 0.9233 - val_loss: 0.2429 - val_acc: 0.9200\n",
      "Epoch 96/200\n",
      "23273/23273 [==============================] - 0s - loss: 0.2227 - acc: 0.9233 - val_loss: 0.2358 - val_acc: 0.9188\n",
      "Epoch 97/200\n",
      "23273/23273 [==============================] - 0s - loss: 0.2210 - acc: 0.9233 - val_loss: 0.3054 - val_acc: 0.9141\n",
      "Epoch 98/200\n",
      "23273/23273 [==============================] - 0s - loss: 0.2292 - acc: 0.9222 - val_loss: 0.2368 - val_acc: 0.9188\n",
      "Epoch 99/200\n",
      "23273/23273 [==============================] - 0s - loss: 0.2402 - acc: 0.9225 - val_loss: 0.2866 - val_acc: 0.9201\n",
      "Epoch 100/200\n",
      "23273/23273 [==============================] - 0s - loss: 0.2271 - acc: 0.9231 - val_loss: 0.2287 - val_acc: 0.9194\n",
      "Epoch 101/200\n",
      "23273/23273 [==============================] - 0s - loss: 0.2206 - acc: 0.9233 - val_loss: 0.2267 - val_acc: 0.9194\n",
      "Epoch 102/200\n",
      "23273/23273 [==============================] - 0s - loss: 0.2186 - acc: 0.9236 - val_loss: 0.2253 - val_acc: 0.9195\n",
      "Epoch 103/200\n",
      "23273/23273 [==============================] - 0s - loss: 0.2198 - acc: 0.9237 - val_loss: 0.2360 - val_acc: 0.9200\n",
      "Epoch 104/200\n",
      "23273/23273 [==============================] - 0s - loss: 0.2232 - acc: 0.9233 - val_loss: 0.2274 - val_acc: 0.9194\n",
      "Epoch 105/200\n",
      "23273/23273 [==============================] - 0s - loss: 0.2305 - acc: 0.9233 - val_loss: 0.2337 - val_acc: 0.9200\n",
      "Epoch 106/200\n",
      "23273/23273 [==============================] - 0s - loss: 0.2270 - acc: 0.9235 - val_loss: 0.2287 - val_acc: 0.9194\n",
      "Epoch 107/200\n",
      "23273/23273 [==============================] - 0s - loss: 0.2188 - acc: 0.9237 - val_loss: 0.2519 - val_acc: 0.9183\n",
      "Epoch 108/200\n",
      "23273/23273 [==============================] - 0s - loss: 0.2198 - acc: 0.9236 - val_loss: 0.2529 - val_acc: 0.9183\n",
      "Epoch 109/200\n",
      "23273/23273 [==============================] - 0s - loss: 0.2332 - acc: 0.9231 - val_loss: 0.2361 - val_acc: 0.9200\n",
      "Epoch 110/200\n",
      "23273/23273 [==============================] - 0s - loss: 0.2235 - acc: 0.9236 - val_loss: 0.2702 - val_acc: 0.9169\n",
      "Epoch 111/200\n",
      "23273/23273 [==============================] - 0s - loss: 0.2181 - acc: 0.9239 - val_loss: 0.2302 - val_acc: 0.9194\n",
      "Epoch 112/200\n",
      "23273/23273 [==============================] - 0s - loss: 0.2187 - acc: 0.9237 - val_loss: 0.2647 - val_acc: 0.9175\n",
      "Epoch 113/200\n",
      "23273/23273 [==============================] - 0s - loss: 0.2182 - acc: 0.9239 - val_loss: 0.2392 - val_acc: 0.9194\n",
      "Epoch 114/200\n",
      "23273/23273 [==============================] - 0s - loss: 0.2197 - acc: 0.9240 - val_loss: 0.2241 - val_acc: 0.9199\n",
      "Epoch 115/200\n",
      "23273/23273 [==============================] - 0s - loss: 0.2176 - acc: 0.9239 - val_loss: 0.2425 - val_acc: 0.9200\n",
      "Epoch 116/200\n",
      "23273/23273 [==============================] - 0s - loss: 0.2287 - acc: 0.9236 - val_loss: 0.2475 - val_acc: 0.9200\n",
      "Epoch 117/200\n",
      "23273/23273 [==============================] - 0s - loss: 0.2172 - acc: 0.9240 - val_loss: 0.2380 - val_acc: 0.9194\n",
      "Epoch 118/200\n",
      "23273/23273 [==============================] - 0s - loss: 0.2171 - acc: 0.9240 - val_loss: 0.2290 - val_acc: 0.9200\n",
      "Epoch 119/200\n",
      "23273/23273 [==============================] - 0s - loss: 0.2170 - acc: 0.9241 - val_loss: 0.2304 - val_acc: 0.9195\n",
      "Epoch 120/200\n",
      "23273/23273 [==============================] - 0s - loss: 0.2217 - acc: 0.9239 - val_loss: 0.2237 - val_acc: 0.9200\n",
      "Epoch 121/200\n",
      "23273/23273 [==============================] - 0s - loss: 0.2212 - acc: 0.9241 - val_loss: 0.2288 - val_acc: 0.9195\n",
      "Epoch 122/200\n",
      "23273/23273 [==============================] - 0s - loss: 0.2185 - acc: 0.9239 - val_loss: 0.2258 - val_acc: 0.9200\n",
      "Epoch 123/200\n",
      "23273/23273 [==============================] - 0s - loss: 0.2209 - acc: 0.9242 - val_loss: 0.2866 - val_acc: 0.9181\n",
      "Epoch 124/200\n",
      "23273/23273 [==============================] - 0s - loss: 0.2194 - acc: 0.9241 - val_loss: 0.2227 - val_acc: 0.9200\n",
      "Epoch 125/200\n",
      "23273/23273 [==============================] - 0s - loss: 0.2223 - acc: 0.9240 - val_loss: 0.2439 - val_acc: 0.9194\n",
      "Epoch 126/200\n",
      "23273/23273 [==============================] - 0s - loss: 0.2238 - acc: 0.9240 - val_loss: 0.2256 - val_acc: 0.9200\n",
      "Epoch 127/200\n"
     ]
    },
    {
     "name": "stdout",
     "output_type": "stream",
     "text": [
      "23273/23273 [==============================] - 0s - loss: 0.2193 - acc: 0.9240 - val_loss: 0.2714 - val_acc: 0.9204\n",
      "Epoch 128/200\n",
      "23273/23273 [==============================] - 0s - loss: 0.2210 - acc: 0.9242 - val_loss: 0.2329 - val_acc: 0.9200\n",
      "Epoch 129/200\n",
      "23273/23273 [==============================] - 0s - loss: 0.2172 - acc: 0.9242 - val_loss: 0.2261 - val_acc: 0.9200\n",
      "Epoch 130/200\n",
      "23273/23273 [==============================] - 0s - loss: 0.2207 - acc: 0.9241 - val_loss: 0.2292 - val_acc: 0.9200\n",
      "Epoch 131/200\n",
      "23273/23273 [==============================] - 0s - loss: 0.2237 - acc: 0.9241 - val_loss: 0.2272 - val_acc: 0.9200\n",
      "Epoch 132/200\n",
      "23273/23273 [==============================] - 0s - loss: 0.2210 - acc: 0.9240 - val_loss: 0.2515 - val_acc: 0.9194\n",
      "Epoch 133/200\n",
      "23273/23273 [==============================] - 0s - loss: 0.2163 - acc: 0.9242 - val_loss: 0.2223 - val_acc: 0.9200\n",
      "Epoch 134/200\n",
      "23273/23273 [==============================] - 0s - loss: 0.2130 - acc: 0.9243 - val_loss: 0.2209 - val_acc: 0.9200\n",
      "Epoch 135/200\n",
      "23273/23273 [==============================] - 0s - loss: 0.2165 - acc: 0.9243 - val_loss: 0.2306 - val_acc: 0.9200\n",
      "Epoch 136/200\n",
      "23273/23273 [==============================] - 0s - loss: 0.2138 - acc: 0.9243 - val_loss: 0.2276 - val_acc: 0.9200\n",
      "Epoch 137/200\n",
      "23273/23273 [==============================] - 0s - loss: 0.2149 - acc: 0.9242 - val_loss: 0.2368 - val_acc: 0.9199\n",
      "Epoch 138/200\n",
      "23273/23273 [==============================] - 0s - loss: 0.2105 - acc: 0.9244 - val_loss: 0.2269 - val_acc: 0.9200\n",
      "Epoch 139/200\n",
      "23273/23273 [==============================] - 0s - loss: 0.2143 - acc: 0.9244 - val_loss: 0.2219 - val_acc: 0.9200\n",
      "Epoch 140/200\n",
      "23273/23273 [==============================] - 0s - loss: 0.2178 - acc: 0.9243 - val_loss: 0.2313 - val_acc: 0.9200\n",
      "Epoch 141/200\n",
      "23273/23273 [==============================] - 0s - loss: 0.2216 - acc: 0.9242 - val_loss: 0.2277 - val_acc: 0.9200\n",
      "Epoch 142/200\n",
      "23273/23273 [==============================] - 0s - loss: 0.2156 - acc: 0.9243 - val_loss: 0.2459 - val_acc: 0.9197\n",
      "Epoch 143/200\n",
      "23273/23273 [==============================] - 0s - loss: 0.2160 - acc: 0.9242 - val_loss: 0.2266 - val_acc: 0.9200\n",
      "Epoch 144/200\n",
      "23273/23273 [==============================] - 0s - loss: 0.2149 - acc: 0.9244 - val_loss: 0.2358 - val_acc: 0.9200\n",
      "Epoch 145/200\n",
      "23273/23273 [==============================] - 0s - loss: 0.2213 - acc: 0.9243 - val_loss: 0.2294 - val_acc: 0.9200\n",
      "Epoch 146/200\n",
      "23273/23273 [==============================] - 0s - loss: 0.2115 - acc: 0.9244 - val_loss: 0.2209 - val_acc: 0.9200\n",
      "Epoch 147/200\n",
      "23273/23273 [==============================] - 0s - loss: 0.2145 - acc: 0.9244 - val_loss: 0.2179 - val_acc: 0.9200\n",
      "Epoch 148/200\n",
      "23273/23273 [==============================] - 0s - loss: 0.2106 - acc: 0.9245 - val_loss: 0.2256 - val_acc: 0.9200\n",
      "Epoch 149/200\n",
      "23273/23273 [==============================] - 0s - loss: 0.2136 - acc: 0.9244 - val_loss: 0.2702 - val_acc: 0.9204\n",
      "Epoch 150/200\n",
      "23273/23273 [==============================] - 0s - loss: 0.2200 - acc: 0.9244 - val_loss: 0.2183 - val_acc: 0.9200\n",
      "Epoch 151/200\n",
      "23273/23273 [==============================] - 0s - loss: 0.2127 - acc: 0.9245 - val_loss: 0.2178 - val_acc: 0.9200\n",
      "Epoch 152/200\n",
      "23273/23273 [==============================] - 0s - loss: 0.2116 - acc: 0.9244 - val_loss: 0.2382 - val_acc: 0.9200\n",
      "Epoch 153/200\n",
      "23273/23273 [==============================] - 0s - loss: 0.2121 - acc: 0.9244 - val_loss: 0.2570 - val_acc: 0.9199\n",
      "Epoch 154/200\n",
      "23273/23273 [==============================] - 0s - loss: 0.2125 - acc: 0.9244 - val_loss: 0.2207 - val_acc: 0.9200\n",
      "Epoch 155/200\n",
      "23273/23273 [==============================] - 0s - loss: 0.2112 - acc: 0.9245 - val_loss: 0.2402 - val_acc: 0.9202\n",
      "Epoch 156/200\n",
      "23273/23273 [==============================] - 0s - loss: 0.2133 - acc: 0.9245 - val_loss: 0.2309 - val_acc: 0.9200\n",
      "Epoch 157/200\n",
      "23273/23273 [==============================] - 0s - loss: 0.2109 - acc: 0.9245 - val_loss: 0.2509 - val_acc: 0.9204\n",
      "Epoch 158/200\n",
      "23273/23273 [==============================] - 0s - loss: 0.2211 - acc: 0.9246 - val_loss: 0.3429 - val_acc: 0.9190\n",
      "Epoch 159/200\n",
      "23273/23273 [==============================] - 0s - loss: 0.2179 - acc: 0.9244 - val_loss: 0.2176 - val_acc: 0.9200\n",
      "Epoch 160/200\n",
      "23273/23273 [==============================] - 0s - loss: 0.2137 - acc: 0.9244 - val_loss: 0.2284 - val_acc: 0.9200\n",
      "Epoch 161/200\n",
      "23273/23273 [==============================] - 0s - loss: 0.2176 - acc: 0.9245 - val_loss: 0.2386 - val_acc: 0.9202\n",
      "Epoch 162/200\n",
      "23273/23273 [==============================] - 0s - loss: 0.2153 - acc: 0.9244 - val_loss: 0.2265 - val_acc: 0.9200\n",
      "Epoch 163/200\n",
      "23273/23273 [==============================] - 0s - loss: 0.2083 - acc: 0.9245 - val_loss: 0.2522 - val_acc: 0.9200\n",
      "Epoch 164/200\n",
      "23273/23273 [==============================] - 0s - loss: 0.2138 - acc: 0.9245 - val_loss: 0.2160 - val_acc: 0.9200\n",
      "Epoch 165/200\n",
      "23273/23273 [==============================] - 0s - loss: 0.2091 - acc: 0.9245 - val_loss: 0.2676 - val_acc: 0.9207\n",
      "Epoch 166/200\n",
      "23273/23273 [==============================] - ETA: 0s - loss: 0.2150 - acc: 0.9237- ETA: 0s - loss: 0.2283 - a - 0s - loss: 0.2137 - acc: 0.9245 - val_loss: 0.2164 - val_acc: 0.9200\n",
      "Epoch 167/200\n",
      "23273/23273 [==============================] - 0s - loss: 0.2143 - acc: 0.9245 - val_loss: 0.2292 - val_acc: 0.9201\n",
      "Epoch 168/200\n",
      "23273/23273 [==============================] - 0s - loss: 0.2174 - acc: 0.9238 - val_loss: 0.2224 - val_acc: 0.9201\n",
      "Epoch 169/200\n",
      "23273/23273 [==============================] - 0s - loss: 0.2100 - acc: 0.9245 - val_loss: 0.2206 - val_acc: 0.9200\n",
      "Epoch 170/200\n",
      "23273/23273 [==============================] - 0s - loss: 0.2092 - acc: 0.9247 - val_loss: 0.2217 - val_acc: 0.9200\n",
      "Epoch 171/200\n",
      "23273/23273 [==============================] - 0s - loss: 0.2136 - acc: 0.9245 - val_loss: 0.2182 - val_acc: 0.9200\n",
      "Epoch 172/200\n",
      "23273/23273 [==============================] - 0s - loss: 0.2145 - acc: 0.9246 - val_loss: 0.2267 - val_acc: 0.9200\n",
      "Epoch 173/200\n",
      "23273/23273 [==============================] - 0s - loss: 0.2117 - acc: 0.9246 - val_loss: 0.2181 - val_acc: 0.9200\n",
      "Epoch 174/200\n",
      "23273/23273 [==============================] - 0s - loss: 0.2192 - acc: 0.9234 - val_loss: 0.2224 - val_acc: 0.9201\n",
      "Epoch 175/200\n",
      "23273/23273 [==============================] - 0s - loss: 0.2094 - acc: 0.9246 - val_loss: 0.2715 - val_acc: 0.9200\n",
      "Epoch 176/200\n",
      "23273/23273 [==============================] - 0s - loss: 0.2094 - acc: 0.9247 - val_loss: 0.2143 - val_acc: 0.9200\n",
      "Epoch 177/200\n",
      "23273/23273 [==============================] - 0s - loss: 0.2069 - acc: 0.9245 - val_loss: 0.2152 - val_acc: 0.9200\n",
      "Epoch 178/200\n",
      "23273/23273 [==============================] - 0s - loss: 0.2094 - acc: 0.9246 - val_loss: 0.2381 - val_acc: 0.9200\n",
      "Epoch 179/200\n",
      "23273/23273 [==============================] - 0s - loss: 0.2102 - acc: 0.9245 - val_loss: 0.2144 - val_acc: 0.9200\n",
      "Epoch 180/200\n",
      "23273/23273 [==============================] - 0s - loss: 0.2209 - acc: 0.9245 - val_loss: 0.2137 - val_acc: 0.9200\n",
      "Epoch 181/200\n",
      "23273/23273 [==============================] - 0s - loss: 0.2161 - acc: 0.9246 - val_loss: 0.2330 - val_acc: 0.9200\n",
      "Epoch 182/200\n",
      "23273/23273 [==============================] - 0s - loss: 0.2097 - acc: 0.9246 - val_loss: 0.2183 - val_acc: 0.9200\n",
      "Epoch 183/200\n",
      "23273/23273 [==============================] - 0s - loss: 0.2143 - acc: 0.9246 - val_loss: 0.2138 - val_acc: 0.9200\n",
      "Epoch 184/200\n",
      "23273/23273 [==============================] - 0s - loss: 0.2067 - acc: 0.9247 - val_loss: 0.2187 - val_acc: 0.9201\n",
      "Epoch 185/200\n",
      "23273/23273 [==============================] - 0s - loss: 0.2102 - acc: 0.9247 - val_loss: 0.2186 - val_acc: 0.9201\n",
      "Epoch 186/200\n",
      "23273/23273 [==============================] - 0s - loss: 0.2087 - acc: 0.9246 - val_loss: 0.2239 - val_acc: 0.9200\n",
      "Epoch 187/200\n",
      "23273/23273 [==============================] - 0s - loss: 0.2134 - acc: 0.9247 - val_loss: 0.2191 - val_acc: 0.9200\n",
      "Epoch 188/200\n",
      "23273/23273 [==============================] - 0s - loss: 0.2079 - acc: 0.9246 - val_loss: 0.2183 - val_acc: 0.9200\n",
      "Epoch 189/200\n"
     ]
    },
    {
     "name": "stdout",
     "output_type": "stream",
     "text": [
      "23273/23273 [==============================] - 0s - loss: 0.2091 - acc: 0.9247 - val_loss: 0.2185 - val_acc: 0.9201\n",
      "Epoch 190/200\n",
      "23273/23273 [==============================] - 0s - loss: 0.2094 - acc: 0.9247 - val_loss: 0.2178 - val_acc: 0.9201\n",
      "Epoch 191/200\n",
      "23273/23273 [==============================] - 0s - loss: 0.2182 - acc: 0.9236 - val_loss: 0.2166 - val_acc: 0.9201\n",
      "Epoch 192/200\n",
      "23273/23273 [==============================] - 0s - loss: 0.2081 - acc: 0.9245 - val_loss: 0.2236 - val_acc: 0.9203\n",
      "Epoch 193/200\n",
      "23273/23273 [==============================] - 0s - loss: 0.2068 - acc: 0.9246 - val_loss: 0.2251 - val_acc: 0.9204\n",
      "Epoch 194/200\n",
      "23273/23273 [==============================] - 0s - loss: 0.2065 - acc: 0.9247 - val_loss: 0.2151 - val_acc: 0.9200\n",
      "Epoch 195/200\n",
      "23273/23273 [==============================] - 0s - loss: 0.2113 - acc: 0.9246 - val_loss: 0.2958 - val_acc: 0.9200\n",
      "Epoch 196/200\n",
      "23273/23273 [==============================] - 0s - loss: 0.2111 - acc: 0.9246 - val_loss: 0.2131 - val_acc: 0.9201\n",
      "Epoch 197/200\n",
      "23273/23273 [==============================] - 0s - loss: 0.2067 - acc: 0.9248 - val_loss: 0.2145 - val_acc: 0.9200\n",
      "Epoch 198/200\n",
      "23273/23273 [==============================] - 0s - loss: 0.2060 - acc: 0.9247 - val_loss: 0.2344 - val_acc: 0.9204\n",
      "Epoch 199/200\n",
      "23273/23273 [==============================] - 0s - loss: 0.2073 - acc: 0.9247 - val_loss: 0.2199 - val_acc: 0.9204\n",
      "Epoch 200/200\n",
      "23273/23273 [==============================] - 0s - loss: 0.2161 - acc: 0.9248 - val_loss: 0.2126 - val_acc: 0.9201\n"
     ]
    },
    {
     "data": {
      "text/plain": [
       "<keras.callbacks.History at 0x11d08e908>"
      ]
     },
     "execution_count": 22,
     "metadata": {},
     "output_type": "execute_result"
    }
   ],
   "source": [
    "batch_size = 200\n",
    "epochs = 200\n",
    "model.fit(x_train,y_train,callbacks=[history_cb],validation_data=(x_test,y_test),verbose=1,epochs=epochs,batch_size=batch_size)"
   ]
  },
  {
   "cell_type": "code",
   "execution_count": 23,
   "metadata": {},
   "outputs": [
    {
     "name": "stdout",
     "output_type": "stream",
     "text": [
      "Validation score: 0.9200907266858589\n"
     ]
    }
   ],
   "source": [
    "# Measure accuracy\n",
    "pred = model.predict(x_test)\n",
    "pred = np.argmax(pred,axis=1)\n",
    "y_eval = np.argmax(y_test,axis=1)\n",
    "score = metrics.accuracy_score(y_eval, pred)\n",
    "print(\"Validation score: {}\".format(score))"
   ]
  },
  {
   "cell_type": "code",
   "execution_count": 24,
   "metadata": {},
   "outputs": [
    {
     "name": "stdout",
     "output_type": "stream",
     "text": [
      "Confusion Matrix:\n",
      "[[ 0.5176  0.0001]\n",
      " [ 0.0798  0.4025]]\n"
     ]
    }
   ],
   "source": [
    "from sklearn.metrics import classification_report,confusion_matrix\n",
    "Cm = confusion_matrix(y_eval,pred)\n",
    "C = np.sum(Cm)\n",
    "Cm = Cm/C\n",
    "print('Confusion Matrix:')\n",
    "print(np.array_str(Cm, precision=4, suppress_small=True))"
   ]
  },
  {
   "cell_type": "code",
   "execution_count": 26,
   "metadata": {},
   "outputs": [
    {
     "data": {
      "image/png": "[encoded data removed]",
      "text/plain": [
       "<matplotlib.figure.Figure at 0x11dca2400>"
      ]
     },
     "metadata": {},
     "output_type": "display_data"
    }
   ],
   "source": [
    "valAcc = history_cb.val_acc\n",
    "valLoss = history_cb.val_loss\n",
    "epoch_it = np.arange(1,201)\n",
    "plt.subplot(121)\n",
    "plt.plot(epoch_it, valAcc)\n",
    "plt.grid()\n",
    "plt.xlabel('Epoch')\n",
    "plt.ylabel('Validation accuracy')\n",
    "plt.tight_layout()\n",
    "plt.subplot(122)\n",
    "plt.plot(epoch_it, valLoss)\n",
    "plt.grid()\n",
    "plt.xlabel('Epoch')\n",
    "plt.ylabel('Validation loss')\n",
    "plt.tight_layout()\n",
    "plt.show()"
   ]
  },
  {
   "cell_type": "code",
   "execution_count": 28,
   "metadata": {},
   "outputs": [
    {
     "data": {
      "image/png": "[encoded data removed]",
      "text/plain": [
       "<matplotlib.figure.Figure at 0x12147a0f0>"
      ]
     },
     "metadata": {},
     "output_type": "display_data"
    }
   ],
   "source": [
    "Ls = history_cb.losses\n",
    "Acc = history_cb.accs\n",
    "ntr = np.shape(x_train)[0]\n",
    "epochNum = []\n",
    "for i in range(23400):\n",
    "    epochNum.append(i*100/ntr)\n",
    "\n",
    "matplotlib.pyplot.semilogy(epochNum, Ls)\n",
    "plt.grid()\n",
    "plt.xlabel('Epoch')\n",
    "plt.ylabel('Training Loss')\n",
    "plt.tight_layout()\n",
    "plt.show()"
   ]
  },
  {
   "cell_type": "code",
   "execution_count": 29,
   "metadata": {},
   "outputs": [
    {
     "data": {
      "image/png": "[encoded data removed]",
      "text/plain": [
       "<matplotlib.figure.Figure at 0x122284fd0>"
      ]
     },
     "metadata": {},
     "output_type": "display_data"
    }
   ],
   "source": [
    "matplotlib.pyplot.semilogy(epochNum, Acc)\n",
    "# plt.plot(epochNum, Acc)\n",
    "plt.grid()\n",
    "plt.xlabel('Epoch')\n",
    "plt.ylabel('Training Accuracy')\n",
    "plt.tight_layout()\n",
    "# plt.axis([0.3,3,0.96,1])\n",
    "plt.show()\n",
    "\n"
   ]
  },
  {
   "cell_type": "code",
   "execution_count": null,
   "metadata": {
    "collapsed": true
   },
   "outputs": [],
   "source": []
  },
  {
   "cell_type": "code",
   "execution_count": null,
   "metadata": {
    "collapsed": true
   },
   "outputs": [],
   "source": [
    "# # Save & Load result\n",
    "# import os\n",
    "# import tensorflow as tf\n",
    "# saver = tf.train.Saver()"
   ]
  },
  {
   "cell_type": "code",
   "execution_count": null,
   "metadata": {
    "collapsed": true
   },
   "outputs": [],
   "source": [
    "# save_dir = 'checkpoints/' "
   ]
  },
  {
   "cell_type": "code",
   "execution_count": null,
   "metadata": {
    "collapsed": true
   },
   "outputs": [],
   "source": [
    "# if not os.path.exists(save_dir):\n",
    "#     os.makedirs(save_dir)"
   ]
  },
  {
   "cell_type": "code",
   "execution_count": null,
   "metadata": {
    "collapsed": true
   },
   "outputs": [],
   "source": [
    "# save_path = os.path.join(save_dir, 'best_validation')"
   ]
  },
  {
   "cell_type": "code",
   "execution_count": null,
   "metadata": {
    "collapsed": true
   },
   "outputs": [],
   "source": [
    "# saver.save(sess=session, save_path=save_path)"
   ]
  },
  {
   "cell_type": "code",
   "execution_count": null,
   "metadata": {
    "collapsed": true
   },
   "outputs": [],
   "source": [
    "# saver.restore(sess=session, save_path=save_path)"
   ]
  },
  {
   "cell_type": "code",
   "execution_count": null,
   "metadata": {
    "collapsed": true
   },
   "outputs": [],
   "source": [
    "# session.run(tf.global_variables_initializer())"
   ]
  },
  {
   "cell_type": "code",
   "execution_count": null,
   "metadata": {
    "collapsed": true
   },
   "outputs": [],
   "source": [
    "# print_test_accuracy(show_example_errors=True)"
   ]
  },
  {
   "cell_type": "code",
   "execution_count": null,
   "metadata": {
    "collapsed": true
   },
   "outputs": [],
   "source": []
  },
  {
   "cell_type": "code",
   "execution_count": null,
   "metadata": {
    "collapsed": true
   },
   "outputs": [],
   "source": []
  }
 ],
 "metadata": {
  "kernelspec": {
   "display_name": "Python 3",
   "language": "python",
   "name": "python3"
  },
  "language_info": {
   "codemirror_mode": {
    "name": "ipython",
    "version": 3
   },
   "file_extension": ".py",
   "mimetype": "text/x-python",
   "name": "python",
   "nbconvert_exporter": "python",
   "pygments_lexer": "ipython3",
   "version": "3.6.1"
  }
 },
 "nbformat": 4,
 "nbformat_minor": 2
}
