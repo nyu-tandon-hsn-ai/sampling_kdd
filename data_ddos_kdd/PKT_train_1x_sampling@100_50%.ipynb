{
 "cells": [
  {
   "cell_type": "code",
   "execution_count": 1,
   "metadata": {},
   "outputs": [
    {
     "name": "stderr",
     "output_type": "stream",
     "text": [
      "Using TensorFlow backend.\n"
     ]
    }
   ],
   "source": [
    "import pandas as pd\n",
    "from sklearn import preprocessing\n",
    "from sklearn.model_selection import train_test_split\n",
    "from sklearn import metrics\n",
    "from keras.models import Sequential\n",
    "from keras.layers.core import Dense, Activation\n",
    "from keras.callbacks import EarlyStopping"
   ]
  },
  {
   "cell_type": "code",
   "execution_count": 2,
   "metadata": {
    "collapsed": true
   },
   "outputs": [],
   "source": [
    "from sklearn import preprocessing\n",
    "import matplotlib.pyplot as plt\n",
    "import numpy as np\n",
    "import pandas as pd\n",
    "import shutil\n",
    "import os\n",
    "import keras\n",
    "import matplotlib\n",
    "import matplotlib.pyplot as plt\n",
    "%matplotlib inline"
   ]
  },
  {
   "cell_type": "code",
   "execution_count": 3,
   "metadata": {
    "collapsed": true
   },
   "outputs": [],
   "source": [
    "\n",
    "# Encode text values to dummy variables(i.e. [1,0,0],[0,1,0],[0,0,1] for red,green,blue)\n",
    "def encode_text_dummy(df, name):\n",
    "    dummies = pd.get_dummies(df[name])\n",
    "    for x in dummies.columns:\n",
    "        dummy_name = \"{}-{}\".format(name, x)\n",
    "        df[dummy_name] = dummies[x]\n",
    "    df.drop(name, axis=1, inplace=True)\n",
    "\n",
    "\n",
    "# Encode text values to a single dummy variable.  The new columns (which do not replace the old) will have a 1\n",
    "# at every location where the original column (name) matches each of the target_values.  One column is added for\n",
    "# each target value.\n",
    "def encode_text_single_dummy(df, name, target_values):\n",
    "    for tv in target_values:\n",
    "        l = list(df[name].astype(str))\n",
    "        l = [1 if str(x) == str(tv) else 0 for x in l]\n",
    "        name2 = \"{}-{}\".format(name, tv)\n",
    "        df[name2] = l\n",
    "\n",
    "\n",
    "# Encode text values to indexes(i.e. [1],[2],[3] for red,green,blue).\n",
    "def encode_text_index(df, name):\n",
    "    le = preprocessing.LabelEncoder()\n",
    "    df[name] = le.fit_transform(df[name])\n",
    "    return le.classes_\n",
    "\n",
    "\n",
    "# Encode a numeric column as zscores\n",
    "def encode_numeric_zscore(df, name, mean=None, sd=None):\n",
    "    if mean is None:\n",
    "        mean = np.asarray(df[name], dtype = np.float).mean()\n",
    "\n",
    "    if sd is None:\n",
    "        sd = np.asarray(df[name], dtype = np.float).std()\n",
    "\n",
    "    df[name] = (np.asarray(df[name], dtype = np.float) - mean) / sd\n",
    "\n",
    "\n",
    "# Convert all missing values in the specified column to the median\n",
    "def missing_median(df, name):\n",
    "    med = df[name].median()\n",
    "    df[name] = df[name].fillna(med)\n",
    "\n",
    "\n",
    "# Convert all missing values in the specified column to the default\n",
    "def missing_default(df, name, default_value):\n",
    "    df[name] = df[name].fillna(default_value)\n",
    "\n",
    "\n",
    "# Convert a Pandas dataframe to the x,y inputs that TensorFlow needs\n",
    "def to_xy(df, target):\n",
    "    result = []\n",
    "    for x in df.columns:\n",
    "        if x != target:\n",
    "            result.append(x)\n",
    "    # find out the type of the target column.  Is it really this hard? :(\n",
    "    target_type = df[target].dtypes\n",
    "    target_type = target_type[0] if hasattr(target_type, '__iter__') else target_type\n",
    "    # Encode to int for classification, float otherwise. TensorFlow likes 32 bits.\n",
    "    if target_type in (np.int64, np.int32):\n",
    "        # Classification\n",
    "        dummies = pd.get_dummies(df[target])\n",
    "        return df.as_matrix(result).astype(np.float32), dummies.as_matrix().astype(np.float32)\n",
    "    else:\n",
    "        # Regression\n",
    "        return df.as_matrix(result).astype(np.float32), df.as_matrix([target]).astype(np.float32)\n",
    "\n",
    "# Nicely formatted time string\n",
    "def hms_string(sec_elapsed):\n",
    "    h = int(sec_elapsed / (60 * 60))\n",
    "    m = int((sec_elapsed % (60 * 60)) / 60)\n",
    "    s = sec_elapsed % 60\n",
    "    return \"{}:{:>02}:{:>05.2f}\".format(h, m, s)\n",
    "\n",
    "\n",
    "# Regression chart.\n",
    "def chart_regression(pred,y,sort=True):\n",
    "    t = pd.DataFrame({'pred' : pred, 'y' : y.flatten()})\n",
    "    if sort:\n",
    "        t.sort_values(by=['y'],inplace=True)\n",
    "    a = plt.plot(t['y'].tolist(),label='expected')\n",
    "    b = plt.plot(t['pred'].tolist(),label='prediction')\n",
    "    plt.ylabel('output')\n",
    "    plt.legend()\n",
    "    plt.show()\n",
    "\n",
    "# Remove all rows where the specified column is +/- sd standard deviations\n",
    "def remove_outliers(df, name, sd):\n",
    "    drop_rows = df.index[(np.abs(df[name] - df[name].mean()) >= (sd * df[name].std()))]\n",
    "    df.drop(drop_rows, axis=0, inplace=True)\n",
    "\n",
    "\n",
    "# Encode a column to a range between normalized_low and normalized_high.\n",
    "def encode_numeric_range(df, name, normalized_low=-1, normalized_high=1,\n",
    "                         data_low=None, data_high=None):\n",
    "    if data_low is None:\n",
    "        data_low = min(df[name])\n",
    "        data_high = max(df[name])\n",
    "\n",
    "    df[name] = ((df[name] - data_low) / (data_high - data_low)) \\\n",
    "               * (normalized_high - normalized_low) + normalized_low"
   ]
  },
  {
   "cell_type": "code",
   "execution_count": 4,
   "metadata": {},
   "outputs": [
    {
     "name": "stdout",
     "output_type": "stream",
     "text": [
      "Read 35968 rows.\n"
     ]
    }
   ],
   "source": [
    "\n",
    "# This file is a CSV, just no CSV extension or headers\n",
    "# Download from: http://kdd.ics.uci.edu/databases/kddcup99/kddcup99.html\n",
    "df_ = pd.read_csv(\"/Users/tsaiflow/Desktop/NN&Sampling/data_ddos_kdd/train_PKT_sampling@100_50%.csv\")\n",
    "\n",
    "print(\"Read {} rows.\".format(len(df_)))\n",
    "#print(\"Read {} rows.\".format(len(df1)))\n",
    "# df = df.sample(frac=0.1, replace=False) # Uncomment this line to sample only 10% of the dataset\n",
    "df_.dropna(inplace=True,axis=1) # For now, just drop NA's (rows with missing values)\n",
    "# df1.dropna(inplace=True,axis=1)\n",
    "\n",
    "# The CSV file has no column heads, so add them\n",
    "# df.columns = [\n",
    "#     'duration',\n",
    "#     'forw_bytes',\n",
    "#     'back_bytes',\n",
    "#     'total_bytes',\n",
    "    \n",
    "#     'outcome'\n",
    "# ]"
   ]
  },
  {
   "cell_type": "code",
   "execution_count": 5,
   "metadata": {},
   "outputs": [
    {
     "data": {
      "text/html": [
       "<div>\n",
       "<style>\n",
       "    .dataframe thead tr:only-child th {\n",
       "        text-align: right;\n",
       "    }\n",
       "\n",
       "    .dataframe thead th {\n",
       "        text-align: left;\n",
       "    }\n",
       "\n",
       "    .dataframe tbody tr th {\n",
       "        vertical-align: top;\n",
       "    }\n",
       "</style>\n",
       "<table border=\"1\" class=\"dataframe\">\n",
       "  <thead>\n",
       "    <tr style=\"text-align: right;\">\n",
       "      <th></th>\n",
       "      <th>Unnamed: 0</th>\n",
       "      <th>duration</th>\n",
       "      <th>forw_byte</th>\n",
       "      <th>back_byte</th>\n",
       "      <th>tot_byte</th>\n",
       "      <th>outcome</th>\n",
       "    </tr>\n",
       "  </thead>\n",
       "  <tbody>\n",
       "    <tr>\n",
       "      <th>0</th>\n",
       "      <td>0</td>\n",
       "      <td>0.0</td>\n",
       "      <td>520</td>\n",
       "      <td>0</td>\n",
       "      <td>520</td>\n",
       "      <td>dos</td>\n",
       "    </tr>\n",
       "    <tr>\n",
       "      <th>1</th>\n",
       "      <td>1</td>\n",
       "      <td>0.0</td>\n",
       "      <td>1032</td>\n",
       "      <td>0</td>\n",
       "      <td>1032</td>\n",
       "      <td>dos</td>\n",
       "    </tr>\n",
       "    <tr>\n",
       "      <th>2</th>\n",
       "      <td>2</td>\n",
       "      <td>0.0</td>\n",
       "      <td>1032</td>\n",
       "      <td>0</td>\n",
       "      <td>1032</td>\n",
       "      <td>dos</td>\n",
       "    </tr>\n",
       "    <tr>\n",
       "      <th>3</th>\n",
       "      <td>3</td>\n",
       "      <td>0.0</td>\n",
       "      <td>1032</td>\n",
       "      <td>0</td>\n",
       "      <td>1032</td>\n",
       "      <td>dos</td>\n",
       "    </tr>\n",
       "    <tr>\n",
       "      <th>4</th>\n",
       "      <td>4</td>\n",
       "      <td>0.0</td>\n",
       "      <td>1032</td>\n",
       "      <td>0</td>\n",
       "      <td>1032</td>\n",
       "      <td>dos</td>\n",
       "    </tr>\n",
       "  </tbody>\n",
       "</table>\n",
       "</div>"
      ],
      "text/plain": [
       "   Unnamed: 0  duration  forw_byte  back_byte  tot_byte outcome\n",
       "0           0       0.0        520          0       520     dos\n",
       "1           1       0.0       1032          0      1032     dos\n",
       "2           2       0.0       1032          0      1032     dos\n",
       "3           3       0.0       1032          0      1032     dos\n",
       "4           4       0.0       1032          0      1032     dos"
      ]
     },
     "execution_count": 5,
     "metadata": {},
     "output_type": "execute_result"
    }
   ],
   "source": [
    "df_.head(5)"
   ]
  },
  {
   "cell_type": "code",
   "execution_count": 6,
   "metadata": {
    "collapsed": true
   },
   "outputs": [],
   "source": [
    "cols = ['duration', 'forw_byte', 'back_byte','tot_byte','outcome']\n",
    "df = df_[cols]"
   ]
  },
  {
   "cell_type": "code",
   "execution_count": 7,
   "metadata": {
    "collapsed": true
   },
   "outputs": [],
   "source": [
    "# df.drop(df.head(1).index, inplace = True)"
   ]
  },
  {
   "cell_type": "code",
   "execution_count": 8,
   "metadata": {},
   "outputs": [
    {
     "data": {
      "text/html": [
       "<div>\n",
       "<style>\n",
       "    .dataframe thead tr:only-child th {\n",
       "        text-align: right;\n",
       "    }\n",
       "\n",
       "    .dataframe thead th {\n",
       "        text-align: left;\n",
       "    }\n",
       "\n",
       "    .dataframe tbody tr th {\n",
       "        vertical-align: top;\n",
       "    }\n",
       "</style>\n",
       "<table border=\"1\" class=\"dataframe\">\n",
       "  <thead>\n",
       "    <tr style=\"text-align: right;\">\n",
       "      <th></th>\n",
       "      <th>duration</th>\n",
       "      <th>forw_byte</th>\n",
       "      <th>back_byte</th>\n",
       "      <th>tot_byte</th>\n",
       "      <th>outcome</th>\n",
       "    </tr>\n",
       "  </thead>\n",
       "  <tbody>\n",
       "    <tr>\n",
       "      <th>0</th>\n",
       "      <td>0.0</td>\n",
       "      <td>520</td>\n",
       "      <td>0</td>\n",
       "      <td>520</td>\n",
       "      <td>dos</td>\n",
       "    </tr>\n",
       "    <tr>\n",
       "      <th>1</th>\n",
       "      <td>0.0</td>\n",
       "      <td>1032</td>\n",
       "      <td>0</td>\n",
       "      <td>1032</td>\n",
       "      <td>dos</td>\n",
       "    </tr>\n",
       "    <tr>\n",
       "      <th>2</th>\n",
       "      <td>0.0</td>\n",
       "      <td>1032</td>\n",
       "      <td>0</td>\n",
       "      <td>1032</td>\n",
       "      <td>dos</td>\n",
       "    </tr>\n",
       "    <tr>\n",
       "      <th>3</th>\n",
       "      <td>0.0</td>\n",
       "      <td>1032</td>\n",
       "      <td>0</td>\n",
       "      <td>1032</td>\n",
       "      <td>dos</td>\n",
       "    </tr>\n",
       "    <tr>\n",
       "      <th>4</th>\n",
       "      <td>0.0</td>\n",
       "      <td>1032</td>\n",
       "      <td>0</td>\n",
       "      <td>1032</td>\n",
       "      <td>dos</td>\n",
       "    </tr>\n",
       "  </tbody>\n",
       "</table>\n",
       "</div>"
      ],
      "text/plain": [
       "   duration  forw_byte  back_byte  tot_byte outcome\n",
       "0       0.0        520          0       520     dos\n",
       "1       0.0       1032          0      1032     dos\n",
       "2       0.0       1032          0      1032     dos\n",
       "3       0.0       1032          0      1032     dos\n",
       "4       0.0       1032          0      1032     dos"
      ]
     },
     "execution_count": 8,
     "metadata": {},
     "output_type": "execute_result"
    }
   ],
   "source": [
    "df.head(5)"
   ]
  },
  {
   "cell_type": "code",
   "execution_count": 9,
   "metadata": {
    "collapsed": true
   },
   "outputs": [],
   "source": [
    "# np.asarray(df['duration'], dtype = np.float).mean()\n",
    "# # df[name].mean()"
   ]
  },
  {
   "cell_type": "code",
   "execution_count": 10,
   "metadata": {
    "collapsed": true
   },
   "outputs": [],
   "source": [
    "# np.asarray(df['duration'], dtype = np.float).std()"
   ]
  },
  {
   "cell_type": "code",
   "execution_count": null,
   "metadata": {
    "collapsed": true
   },
   "outputs": [],
   "source": []
  },
  {
   "cell_type": "code",
   "execution_count": 11,
   "metadata": {},
   "outputs": [
    {
     "name": "stderr",
     "output_type": "stream",
     "text": [
      "/anaconda/lib/python3.6/site-packages/ipykernel_launcher.py:37: SettingWithCopyWarning: \n",
      "A value is trying to be set on a copy of a slice from a DataFrame.\n",
      "Try using .loc[row_indexer,col_indexer] = value instead\n",
      "\n",
      "See the caveats in the documentation: http://pandas.pydata.org/pandas-docs/stable/indexing.html#indexing-view-versus-copy\n",
      "/anaconda/lib/python3.6/site-packages/ipykernel_launcher.py:25: SettingWithCopyWarning: \n",
      "A value is trying to be set on a copy of a slice from a DataFrame.\n",
      "Try using .loc[row_indexer,col_indexer] = value instead\n",
      "\n",
      "See the caveats in the documentation: http://pandas.pydata.org/pandas-docs/stable/indexing.html#indexing-view-versus-copy\n",
      "/anaconda/lib/python3.6/site-packages/ipykernel_launcher.py:51: SettingWithCopyWarning: \n",
      "A value is trying to be set on a copy of a slice from a DataFrame\n",
      "\n",
      "See the caveats in the documentation: http://pandas.pydata.org/pandas-docs/stable/indexing.html#indexing-view-versus-copy\n"
     ]
    },
    {
     "data": {
      "text/html": [
       "<div>\n",
       "<style>\n",
       "    .dataframe thead tr:only-child th {\n",
       "        text-align: right;\n",
       "    }\n",
       "\n",
       "    .dataframe thead th {\n",
       "        text-align: left;\n",
       "    }\n",
       "\n",
       "    .dataframe tbody tr th {\n",
       "        vertical-align: top;\n",
       "    }\n",
       "</style>\n",
       "<table border=\"1\" class=\"dataframe\">\n",
       "  <thead>\n",
       "    <tr style=\"text-align: right;\">\n",
       "      <th></th>\n",
       "      <th>duration</th>\n",
       "      <th>forw_byte</th>\n",
       "      <th>back_byte</th>\n",
       "      <th>tot_byte</th>\n",
       "      <th>outcome</th>\n",
       "    </tr>\n",
       "  </thead>\n",
       "  <tbody>\n",
       "    <tr>\n",
       "      <th>0</th>\n",
       "      <td>0.0</td>\n",
       "      <td>-0.006296</td>\n",
       "      <td>-0.006993</td>\n",
       "      <td>-0.009265</td>\n",
       "      <td>0</td>\n",
       "    </tr>\n",
       "    <tr>\n",
       "      <th>1</th>\n",
       "      <td>0.0</td>\n",
       "      <td>-0.006229</td>\n",
       "      <td>-0.006993</td>\n",
       "      <td>-0.009215</td>\n",
       "      <td>0</td>\n",
       "    </tr>\n",
       "    <tr>\n",
       "      <th>2</th>\n",
       "      <td>0.0</td>\n",
       "      <td>-0.006229</td>\n",
       "      <td>-0.006993</td>\n",
       "      <td>-0.009215</td>\n",
       "      <td>0</td>\n",
       "    </tr>\n",
       "    <tr>\n",
       "      <th>3</th>\n",
       "      <td>0.0</td>\n",
       "      <td>-0.006229</td>\n",
       "      <td>-0.006993</td>\n",
       "      <td>-0.009215</td>\n",
       "      <td>0</td>\n",
       "    </tr>\n",
       "    <tr>\n",
       "      <th>4</th>\n",
       "      <td>0.0</td>\n",
       "      <td>-0.006229</td>\n",
       "      <td>-0.006993</td>\n",
       "      <td>-0.009215</td>\n",
       "      <td>0</td>\n",
       "    </tr>\n",
       "  </tbody>\n",
       "</table>\n",
       "</div>"
      ],
      "text/plain": [
       "   duration  forw_byte  back_byte  tot_byte  outcome\n",
       "0       0.0  -0.006296  -0.006993 -0.009265        0\n",
       "1       0.0  -0.006229  -0.006993 -0.009215        0\n",
       "2       0.0  -0.006229  -0.006993 -0.009215        0\n",
       "3       0.0  -0.006229  -0.006993 -0.009215        0\n",
       "4       0.0  -0.006229  -0.006993 -0.009215        0"
      ]
     },
     "execution_count": 11,
     "metadata": {},
     "output_type": "execute_result"
    }
   ],
   "source": [
    "# Now encode the feature vector\n",
    "\n",
    "#encode_numeric_zscore(df, 'duration')\n",
    "\n",
    "# encode_text_dummy(df, 'protocol_type')\n",
    "# encode_text_dummy(df, 'service')\n",
    "# encode_text_dummy(df, 'flag')\n",
    "encode_numeric_zscore(df, 'forw_byte')\n",
    "encode_numeric_zscore(df, 'back_byte')\n",
    "encode_numeric_zscore(df, 'tot_byte')\n",
    "# encode_text_dummy(df, 'land')\n",
    "# encode_numeric_zscore(df, 'wrong_fragment')\n",
    "# encode_numeric_zscore(df, 'urgent')\n",
    "# encode_numeric_zscore(df, 'hot')\n",
    "# encode_numeric_zscore(df, 'num_failed_logins')\n",
    "# encode_text_dummy(df, 'logged_in')\n",
    "# encode_numeric_zscore(df, 'num_compromised')\n",
    "# encode_numeric_zscore(df, 'root_shell')\n",
    "# encode_numeric_zscore(df, 'su_attempted')\n",
    "# encode_numeric_zscore(df, 'num_root')\n",
    "# encode_numeric_zscore(df, 'num_file_creations')\n",
    "# encode_numeric_zscore(df, 'num_shells')\n",
    "# encode_numeric_zscore(df, 'num_access_files')\n",
    "# encode_numeric_zscore(df, 'num_outbound_cmds')\n",
    "# encode_text_dummy(df, 'is_host_login')\n",
    "# encode_text_dummy(df, 'is_guest_login')\n",
    "# encode_numeric_zscore(df, 'count')\n",
    "# encode_numeric_zscore(df, 'srv_count')\n",
    "# encode_numeric_zscore(df, 'serror_rate')\n",
    "# encode_numeric_zscore(df, 'srv_serror_rate')\n",
    "# encode_numeric_zscore(df, 'rerror_rate')\n",
    "# encode_numeric_zscore(df, 'srv_rerror_rate')\n",
    "# encode_numeric_zscore(df, 'same_srv_rate')\n",
    "# encode_numeric_zscore(df, 'diff_srv_rate')\n",
    "# encode_numeric_zscore(df, 'srv_diff_host_rate')\n",
    "# encode_numeric_zscore(df, 'dst_host_count')\n",
    "# encode_numeric_zscore(df, 'dst_host_srv_count')\n",
    "# encode_numeric_zscore(df, 'dst_host_same_srv_rate')\n",
    "# encode_numeric_zscore(df, 'dst_host_diff_srv_rate')\n",
    "# encode_numeric_zscore(df, 'dst_host_same_src_port_rate')\n",
    "# encode_numeric_zscore(df, 'dst_host_srv_diff_host_rate')\n",
    "# encode_numeric_zscore(df, 'dst_host_serror_rate')\n",
    "# encode_numeric_zscore(df, 'dst_host_srv_serror_rate')\n",
    "# encode_numeric_zscore(df, 'dst_host_rerror_rate')\n",
    "# encode_numeric_zscore(df, 'dst_host_srv_rerror_rate')\n",
    "outcomes = encode_text_index(df, 'outcome')\n",
    "num_classes = len(outcomes)\n",
    "\n",
    "# display 5 rows\n",
    "\n",
    "df.dropna(inplace=True,axis=1)\n",
    "df[0:5]\n",
    "# This is the numeric feature vector, as it goes to the neural net"
   ]
  },
  {
   "cell_type": "code",
   "execution_count": 12,
   "metadata": {
    "collapsed": true
   },
   "outputs": [],
   "source": [
    "x, y = to_xy(df,'outcome')"
   ]
  },
  {
   "cell_type": "code",
   "execution_count": 13,
   "metadata": {
    "collapsed": true
   },
   "outputs": [],
   "source": [
    "# df.head(5)"
   ]
  },
  {
   "cell_type": "code",
   "execution_count": 14,
   "metadata": {
    "collapsed": true
   },
   "outputs": [],
   "source": [
    "# Create a test/train split.  33% test\n",
    "# Split into train/test\n",
    "x_train, x_test, y_train, y_test = train_test_split(\n",
    "    x, y, test_size=0.33, random_state=42)"
   ]
  },
  {
   "cell_type": "code",
   "execution_count": null,
   "metadata": {
    "collapsed": true
   },
   "outputs": [],
   "source": []
  },
  {
   "cell_type": "code",
   "execution_count": 15,
   "metadata": {
    "collapsed": true
   },
   "outputs": [],
   "source": [
    "import keras.backend as K\n",
    "K.clear_session()"
   ]
  },
  {
   "cell_type": "code",
   "execution_count": 16,
   "metadata": {
    "collapsed": true
   },
   "outputs": [],
   "source": [
    "# Create neural net\n",
    "model = Sequential()\n",
    "\n",
    "# Used relu for activation function\n",
    "model.add(Dense(10, input_dim=x.shape[1], kernel_initializer='normal', activation='relu'))\n",
    "model.add(Dense(50, input_dim=x.shape[1], kernel_initializer='normal', activation='relu'))\n",
    "model.add(Dense(10, input_dim=x.shape[1], kernel_initializer='normal', activation='relu'))\n",
    "\n",
    "# output layer \n",
    "model.add(Dense(1, kernel_initializer='normal'))\n",
    "model.add(Dense(y.shape[1],activation='softmax'))\n",
    "# model.add(Dense(y.shape[1],activation = 'sigmoid'))"
   ]
  },
  {
   "cell_type": "code",
   "execution_count": 17,
   "metadata": {},
   "outputs": [
    {
     "name": "stdout",
     "output_type": "stream",
     "text": [
      "_________________________________________________________________\n",
      "Layer (type)                 Output Shape              Param #   \n",
      "=================================================================\n",
      "dense_1 (Dense)              (None, 10)                50        \n",
      "_________________________________________________________________\n",
      "dense_2 (Dense)              (None, 50)                550       \n",
      "_________________________________________________________________\n",
      "dense_3 (Dense)              (None, 10)                510       \n",
      "_________________________________________________________________\n",
      "dense_4 (Dense)              (None, 1)                 11        \n",
      "_________________________________________________________________\n",
      "dense_5 (Dense)              (None, 2)                 4         \n",
      "=================================================================\n",
      "Total params: 1,125\n",
      "Trainable params: 1,125\n",
      "Non-trainable params: 0\n",
      "_________________________________________________________________\n"
     ]
    }
   ],
   "source": [
    "# Print the model summary\n",
    "model.summary()"
   ]
  },
  {
   "cell_type": "code",
   "execution_count": 18,
   "metadata": {
    "collapsed": true
   },
   "outputs": [],
   "source": [
    "class LossHistory(keras.callbacks.Callback):\n",
    "    def on_train_begin(self, logs={}):\n",
    "        # TODO:  Create two empty lists, self.loss and self.val_acc\n",
    "        self.losses = []\n",
    "        self.accs = []\n",
    "        self.val_acc = []\n",
    "        self.val_loss = []\n",
    "    def on_batch_end(self, batch, logs={}):\n",
    "        # TODO:  This is called at the end of each batch.  \n",
    "        # Add the loss in logs.get('loss') to the loss list\n",
    "        loss = logs.get('loss')\n",
    "        acc = logs.get('acc')\n",
    "        self.losses.append(loss)\n",
    "        self.accs.append(acc)\n",
    "    def on_epoch_end(self, epoch, logs):\n",
    "        # TODO:  This is called at the end of each epoch.  \n",
    "        # Add the test accuracy in logs.get('loss') to the val_acc list\n",
    "        val_acc = logs.get('val_acc')\n",
    "        val_loss = logs.get('val_loss')\n",
    "        self.val_acc.append(val_acc)\n",
    "        self.val_loss.append(val_loss)\n",
    "\n",
    "# Create an instance of the history callback\n",
    "history_cb = LossHistory()"
   ]
  },
  {
   "cell_type": "code",
   "execution_count": 19,
   "metadata": {
    "collapsed": true
   },
   "outputs": [],
   "source": [
    "from keras import optimizers\n",
    "\n",
    "# optimizer defined\n",
    "opt = optimizers.Adam(lr=0.001, beta_1=0.9, beta_2=0.999, epsilon=1e-08, decay=0.0)"
   ]
  },
  {
   "cell_type": "code",
   "execution_count": 20,
   "metadata": {
    "collapsed": true
   },
   "outputs": [],
   "source": [
    "## compile model\n",
    "model.compile(optimizer='adam',\n",
    "              loss='categorical_crossentropy',\n",
    "              metrics=['accuracy'])\n",
    "monitor = EarlyStopping(monitor='val_loss', min_delta=1e-3, patience=5, verbose=1, mode='auto')\n"
   ]
  },
  {
   "cell_type": "code",
   "execution_count": 21,
   "metadata": {
    "collapsed": true
   },
   "outputs": [],
   "source": [
    "# model.fit(x,y,validation_data=(x_test,y_test),callbacks=[monitor],verbose=2,epochs=1000)"
   ]
  },
  {
   "cell_type": "code",
   "execution_count": 22,
   "metadata": {},
   "outputs": [
    {
     "name": "stdout",
     "output_type": "stream",
     "text": [
      "Train on 24098 samples, validate on 11870 samples\n",
      "Epoch 1/200\n",
      "24098/24098 [==============================] - 1s - loss: 0.6500 - acc: 0.6117 - val_loss: 0.5867 - val_acc: 0.6582\n",
      "Epoch 2/200\n",
      "24098/24098 [==============================] - 0s - loss: 0.5609 - acc: 0.6887 - val_loss: 0.5048 - val_acc: 0.7398\n",
      "Epoch 3/200\n",
      "24098/24098 [==============================] - 0s - loss: 0.4533 - acc: 0.7949 - val_loss: 0.3853 - val_acc: 0.8226\n",
      "Epoch 4/200\n",
      "24098/24098 [==============================] - 0s - loss: 0.3469 - acc: 0.8490 - val_loss: 0.3039 - val_acc: 0.8826\n",
      "Epoch 5/200\n",
      "24098/24098 [==============================] - 0s - loss: 0.2785 - acc: 0.8821 - val_loss: 0.2477 - val_acc: 0.9061\n",
      "Epoch 6/200\n",
      "24098/24098 [==============================] - 0s - loss: 0.2374 - acc: 0.9137 - val_loss: 0.2105 - val_acc: 0.9329\n",
      "Epoch 7/200\n",
      "24098/24098 [==============================] - 0s - loss: 0.2034 - acc: 0.9322 - val_loss: 0.2201 - val_acc: 0.9557\n",
      "Epoch 8/200\n",
      "24098/24098 [==============================] - 0s - loss: 0.1844 - acc: 0.9410 - val_loss: 0.1734 - val_acc: 0.9415\n",
      "Epoch 9/200\n",
      "24098/24098 [==============================] - 0s - loss: 0.1684 - acc: 0.9464 - val_loss: 0.1823 - val_acc: 0.9583\n",
      "Epoch 10/200\n",
      "24098/24098 [==============================] - 0s - loss: 0.1615 - acc: 0.9492 - val_loss: 0.1638 - val_acc: 0.9463\n",
      "Epoch 11/200\n",
      "24098/24098 [==============================] - 0s - loss: 0.1545 - acc: 0.9512 - val_loss: 0.1616 - val_acc: 0.9494\n",
      "Epoch 12/200\n",
      "24098/24098 [==============================] - 0s - loss: 0.1496 - acc: 0.9522 - val_loss: 0.1408 - val_acc: 0.9519\n",
      "Epoch 13/200\n",
      "24098/24098 [==============================] - 0s - loss: 0.1456 - acc: 0.9539 - val_loss: 0.1421 - val_acc: 0.9550\n",
      "Epoch 14/200\n",
      "24098/24098 [==============================] - 0s - loss: 0.1422 - acc: 0.9552 - val_loss: 0.1320 - val_acc: 0.9589\n",
      "Epoch 15/200\n",
      "24098/24098 [==============================] - 0s - loss: 0.1395 - acc: 0.9562 - val_loss: 0.1310 - val_acc: 0.9605\n",
      "Epoch 16/200\n",
      "24098/24098 [==============================] - 0s - loss: 0.1390 - acc: 0.9577 - val_loss: 0.1263 - val_acc: 0.9621\n",
      "Epoch 17/200\n",
      "24098/24098 [==============================] - 0s - loss: 0.1335 - acc: 0.9591 - val_loss: 0.1240 - val_acc: 0.9625\n",
      "Epoch 18/200\n",
      "24098/24098 [==============================] - 0s - loss: 0.1371 - acc: 0.9597 - val_loss: 0.1229 - val_acc: 0.9642\n",
      "Epoch 19/200\n",
      "24098/24098 [==============================] - 0s - loss: 0.1312 - acc: 0.9606 - val_loss: 0.1215 - val_acc: 0.9637\n",
      "Epoch 20/200\n",
      "24098/24098 [==============================] - 0s - loss: 0.1293 - acc: 0.9617 - val_loss: 0.1188 - val_acc: 0.9653\n",
      "Epoch 21/200\n",
      "24098/24098 [==============================] - 0s - loss: 0.1264 - acc: 0.9624 - val_loss: 0.1215 - val_acc: 0.9670\n",
      "Epoch 22/200\n",
      "24098/24098 [==============================] - 0s - loss: 0.1279 - acc: 0.9625 - val_loss: 0.1199 - val_acc: 0.9671\n",
      "Epoch 23/200\n",
      "24098/24098 [==============================] - 0s - loss: 0.1248 - acc: 0.9637 - val_loss: 0.1193 - val_acc: 0.9687\n",
      "Epoch 24/200\n",
      "24098/24098 [==============================] - 0s - loss: 0.1221 - acc: 0.9648 - val_loss: 0.1177 - val_acc: 0.9653\n",
      "Epoch 25/200\n",
      "24098/24098 [==============================] - 0s - loss: 0.1266 - acc: 0.9644 - val_loss: 0.1359 - val_acc: 0.9717\n",
      "Epoch 26/200\n",
      "24098/24098 [==============================] - 0s - loss: 0.1284 - acc: 0.9650 - val_loss: 0.1115 - val_acc: 0.9667\n",
      "Epoch 27/200\n",
      "24098/24098 [==============================] - 0s - loss: 0.1248 - acc: 0.9651 - val_loss: 0.1225 - val_acc: 0.9653\n",
      "Epoch 28/200\n",
      "24098/24098 [==============================] - 0s - loss: 0.1278 - acc: 0.9654 - val_loss: 0.1107 - val_acc: 0.9667\n",
      "Epoch 29/200\n",
      "24098/24098 [==============================] - 0s - loss: 0.1305 - acc: 0.9658 - val_loss: 0.1093 - val_acc: 0.9687\n",
      "Epoch 30/200\n",
      "24098/24098 [==============================] - 0s - loss: 0.1212 - acc: 0.9666 - val_loss: 0.1107 - val_acc: 0.9687\n",
      "Epoch 31/200\n",
      "24098/24098 [==============================] - 0s - loss: 0.1207 - acc: 0.9668 - val_loss: 0.1078 - val_acc: 0.9687\n",
      "Epoch 32/200\n",
      "24098/24098 [==============================] - 0s - loss: 0.1218 - acc: 0.9672 - val_loss: 0.1075 - val_acc: 0.9687\n",
      "Epoch 33/200\n",
      "24098/24098 [==============================] - 0s - loss: 0.1172 - acc: 0.9675 - val_loss: 0.1102 - val_acc: 0.9668\n",
      "Epoch 34/200\n",
      "24098/24098 [==============================] - 0s - loss: 0.1184 - acc: 0.9681 - val_loss: 0.1111 - val_acc: 0.9717\n",
      "Epoch 35/200\n",
      "24098/24098 [==============================] - 0s - loss: 0.1177 - acc: 0.9683 - val_loss: 0.1078 - val_acc: 0.9687\n",
      "Epoch 36/200\n",
      "24098/24098 [==============================] - 0s - loss: 0.1183 - acc: 0.9682 - val_loss: 0.1044 - val_acc: 0.9717\n",
      "Epoch 37/200\n",
      "24098/24098 [==============================] - 0s - loss: 0.1158 - acc: 0.9688 - val_loss: 0.1191 - val_acc: 0.9667\n",
      "Epoch 38/200\n",
      "24098/24098 [==============================] - 0s - loss: 0.1118 - acc: 0.9689 - val_loss: 0.1106 - val_acc: 0.9747\n",
      "Epoch 39/200\n",
      "24098/24098 [==============================] - 0s - loss: 0.1149 - acc: 0.9690 - val_loss: 0.1112 - val_acc: 0.9687\n",
      "Epoch 40/200\n",
      "24098/24098 [==============================] - 0s - loss: 0.1110 - acc: 0.9697 - val_loss: 0.1114 - val_acc: 0.9687\n",
      "Epoch 41/200\n",
      "24098/24098 [==============================] - 0s - loss: 0.1141 - acc: 0.9697 - val_loss: 0.1179 - val_acc: 0.9684\n",
      "Epoch 42/200\n",
      "24098/24098 [==============================] - 0s - loss: 0.1163 - acc: 0.9700 - val_loss: 0.1025 - val_acc: 0.9717\n",
      "Epoch 43/200\n",
      "24098/24098 [==============================] - 0s - loss: 0.1115 - acc: 0.9704 - val_loss: 0.1227 - val_acc: 0.9684\n",
      "Epoch 44/200\n",
      "24098/24098 [==============================] - 0s - loss: 0.1152 - acc: 0.9705 - val_loss: 0.1215 - val_acc: 0.9684\n",
      "Epoch 45/200\n",
      "24098/24098 [==============================] - 0s - loss: 0.1114 - acc: 0.9705 - val_loss: 0.1187 - val_acc: 0.9767\n",
      "Epoch 46/200\n",
      "24098/24098 [==============================] - 0s - loss: 0.1099 - acc: 0.9710 - val_loss: 0.1039 - val_acc: 0.9747\n",
      "Epoch 47/200\n",
      "24098/24098 [==============================] - 0s - loss: 0.1101 - acc: 0.9714 - val_loss: 0.1120 - val_acc: 0.9748\n",
      "Epoch 48/200\n",
      "24098/24098 [==============================] - 0s - loss: 0.1092 - acc: 0.9717 - val_loss: 0.0984 - val_acc: 0.9746\n",
      "Epoch 49/200\n",
      "24098/24098 [==============================] - 0s - loss: 0.1086 - acc: 0.9718 - val_loss: 0.0986 - val_acc: 0.9747\n",
      "Epoch 50/200\n",
      "24098/24098 [==============================] - 0s - loss: 0.1170 - acc: 0.9716 - val_loss: 0.1044 - val_acc: 0.9717\n",
      "Epoch 51/200\n",
      "24098/24098 [==============================] - 0s - loss: 0.1099 - acc: 0.9718 - val_loss: 0.0990 - val_acc: 0.9717\n",
      "Epoch 52/200\n",
      "24098/24098 [==============================] - 0s - loss: 0.1055 - acc: 0.9721 - val_loss: 0.1246 - val_acc: 0.9687\n",
      "Epoch 53/200\n",
      "24098/24098 [==============================] - 0s - loss: 0.1056 - acc: 0.9727 - val_loss: 0.0968 - val_acc: 0.9747\n",
      "Epoch 54/200\n",
      "24098/24098 [==============================] - 0s - loss: 0.1091 - acc: 0.9720 - val_loss: 0.1068 - val_acc: 0.9774\n",
      "Epoch 55/200\n",
      "24098/24098 [==============================] - 0s - loss: 0.1050 - acc: 0.9730 - val_loss: 0.1332 - val_acc: 0.9687\n",
      "Epoch 56/200\n",
      "24098/24098 [==============================] - 0s - loss: 0.1079 - acc: 0.9727 - val_loss: 0.1036 - val_acc: 0.9717\n",
      "Epoch 57/200\n",
      "24098/24098 [==============================] - 0s - loss: 0.1096 - acc: 0.9729 - val_loss: 0.1025 - val_acc: 0.9717\n",
      "Epoch 58/200\n",
      "24098/24098 [==============================] - 0s - loss: 0.1088 - acc: 0.9728 - val_loss: 0.0957 - val_acc: 0.9747\n",
      "Epoch 59/200\n",
      "24098/24098 [==============================] - 0s - loss: 0.1040 - acc: 0.9728 - val_loss: 0.0957 - val_acc: 0.9747\n",
      "Epoch 60/200\n",
      "24098/24098 [==============================] - 0s - loss: 0.1066 - acc: 0.9727 - val_loss: 0.0971 - val_acc: 0.9774\n",
      "Epoch 61/200\n",
      "24098/24098 [==============================] - 0s - loss: 0.1038 - acc: 0.9736 - val_loss: 0.0947 - val_acc: 0.9747\n",
      "Epoch 62/200\n",
      "24098/24098 [==============================] - 0s - loss: 0.1019 - acc: 0.9737 - val_loss: 0.0946 - val_acc: 0.9747\n",
      "Epoch 63/200\n",
      "24098/24098 [==============================] - 0s - loss: 0.1043 - acc: 0.9739 - val_loss: 0.1067 - val_acc: 0.9746\n",
      "Epoch 64/200\n"
     ]
    },
    {
     "name": "stdout",
     "output_type": "stream",
     "text": [
      "24098/24098 [==============================] - 0s - loss: 0.1061 - acc: 0.9739 - val_loss: 0.1026 - val_acc: 0.9774\n",
      "Epoch 65/200\n",
      "24098/24098 [==============================] - 0s - loss: 0.1019 - acc: 0.9741 - val_loss: 0.0996 - val_acc: 0.9747\n",
      "Epoch 66/200\n",
      "24098/24098 [==============================] - 0s - loss: 0.1034 - acc: 0.9739 - val_loss: 0.1003 - val_acc: 0.9747\n",
      "Epoch 67/200\n",
      "24098/24098 [==============================] - 0s - loss: 0.1032 - acc: 0.9741 - val_loss: 0.0950 - val_acc: 0.9774\n",
      "Epoch 68/200\n",
      "24098/24098 [==============================] - 0s - loss: 0.1053 - acc: 0.9741 - val_loss: 0.0982 - val_acc: 0.9747\n",
      "Epoch 69/200\n",
      "24098/24098 [==============================] - 0s - loss: 0.1013 - acc: 0.9750 - val_loss: 0.1292 - val_acc: 0.9774\n",
      "Epoch 70/200\n",
      "24098/24098 [==============================] - 0s - loss: 0.1032 - acc: 0.9743 - val_loss: 0.0933 - val_acc: 0.9748\n",
      "Epoch 71/200\n",
      "24098/24098 [==============================] - 0s - loss: 0.1087 - acc: 0.9740 - val_loss: 0.0929 - val_acc: 0.9774\n",
      "Epoch 72/200\n",
      "24098/24098 [==============================] - 0s - loss: 0.1027 - acc: 0.9745 - val_loss: 0.0927 - val_acc: 0.9774\n",
      "Epoch 73/200\n",
      "24098/24098 [==============================] - 0s - loss: 0.1017 - acc: 0.9748 - val_loss: 0.0978 - val_acc: 0.9747\n",
      "Epoch 74/200\n",
      "24098/24098 [==============================] - 0s - loss: 0.1011 - acc: 0.9749 - val_loss: 0.0990 - val_acc: 0.9774\n",
      "Epoch 75/200\n",
      "24098/24098 [==============================] - 0s - loss: 0.1023 - acc: 0.9751 - val_loss: 0.0922 - val_acc: 0.9774\n",
      "Epoch 76/200\n",
      "24098/24098 [==============================] - 0s - loss: 0.1085 - acc: 0.9744 - val_loss: 0.1029 - val_acc: 0.9774\n",
      "Epoch 77/200\n",
      "24098/24098 [==============================] - 0s - loss: 0.1033 - acc: 0.9750 - val_loss: 0.1725 - val_acc: 0.9687\n",
      "Epoch 78/200\n",
      "24098/24098 [==============================] - 0s - loss: 0.1069 - acc: 0.9740 - val_loss: 0.1019 - val_acc: 0.9747\n",
      "Epoch 79/200\n",
      "24098/24098 [==============================] - 0s - loss: 0.1013 - acc: 0.9747 - val_loss: 0.1281 - val_acc: 0.9791\n",
      "Epoch 80/200\n",
      "24098/24098 [==============================] - 0s - loss: 0.1026 - acc: 0.9748 - val_loss: 0.0937 - val_acc: 0.9774\n",
      "Epoch 81/200\n",
      "24098/24098 [==============================] - 0s - loss: 0.1030 - acc: 0.9750 - val_loss: 0.1023 - val_acc: 0.9774\n",
      "Epoch 82/200\n",
      "24098/24098 [==============================] - 0s - loss: 0.0993 - acc: 0.9755 - val_loss: 0.0972 - val_acc: 0.9774\n",
      "Epoch 83/200\n",
      "24098/24098 [==============================] - 0s - loss: 0.0990 - acc: 0.9756 - val_loss: 0.1202 - val_acc: 0.9791\n",
      "Epoch 84/200\n",
      "24098/24098 [==============================] - 0s - loss: 0.1028 - acc: 0.9753 - val_loss: 0.0941 - val_acc: 0.9774\n",
      "Epoch 85/200\n",
      "24098/24098 [==============================] - 0s - loss: 0.1009 - acc: 0.9751 - val_loss: 0.0944 - val_acc: 0.9774\n",
      "Epoch 86/200\n",
      "24098/24098 [==============================] - 0s - loss: 0.0997 - acc: 0.9754 - val_loss: 0.0920 - val_acc: 0.9774\n",
      "Epoch 87/200\n",
      "24098/24098 [==============================] - 0s - loss: 0.1080 - acc: 0.9751 - val_loss: 0.1022 - val_acc: 0.9747\n",
      "Epoch 88/200\n",
      "24098/24098 [==============================] - 0s - loss: 0.1006 - acc: 0.9754 - val_loss: 0.0967 - val_acc: 0.9767\n",
      "Epoch 89/200\n",
      "24098/24098 [==============================] - 0s - loss: 0.0992 - acc: 0.9758 - val_loss: 0.1056 - val_acc: 0.9747\n",
      "Epoch 90/200\n",
      "24098/24098 [==============================] - 0s - loss: 0.1016 - acc: 0.9754 - val_loss: 0.1088 - val_acc: 0.9747\n",
      "Epoch 91/200\n",
      "24098/24098 [==============================] - 0s - loss: 0.0984 - acc: 0.9756 - val_loss: 0.1189 - val_acc: 0.9791\n",
      "Epoch 92/200\n",
      "24098/24098 [==============================] - 0s - loss: 0.1003 - acc: 0.9759 - val_loss: 0.1128 - val_acc: 0.9747\n",
      "Epoch 93/200\n",
      "24098/24098 [==============================] - 0s - loss: 0.1008 - acc: 0.9757 - val_loss: 0.0969 - val_acc: 0.9774\n",
      "Epoch 94/200\n",
      "24098/24098 [==============================] - 0s - loss: 0.1148 - acc: 0.9749 - val_loss: 0.0945 - val_acc: 0.9774\n",
      "Epoch 95/200\n",
      "24098/24098 [==============================] - 0s - loss: 0.0987 - acc: 0.9758 - val_loss: 0.0979 - val_acc: 0.9774\n",
      "Epoch 96/200\n",
      "24098/24098 [==============================] - 0s - loss: 0.0993 - acc: 0.9761 - val_loss: 0.0912 - val_acc: 0.9774\n",
      "Epoch 97/200\n",
      "24098/24098 [==============================] - 0s - loss: 0.1015 - acc: 0.9759 - val_loss: 0.0910 - val_acc: 0.9774\n",
      "Epoch 98/200\n",
      "24098/24098 [==============================] - 0s - loss: 0.1001 - acc: 0.9758 - val_loss: 0.0996 - val_acc: 0.9774\n",
      "Epoch 99/200\n",
      "24098/24098 [==============================] - 0s - loss: 0.1019 - acc: 0.9755 - val_loss: 0.1062 - val_acc: 0.9747\n",
      "Epoch 100/200\n",
      "24098/24098 [==============================] - 0s - loss: 0.0986 - acc: 0.9761 - val_loss: 0.0931 - val_acc: 0.9774\n",
      "Epoch 101/200\n",
      "24098/24098 [==============================] - 0s - loss: 0.1018 - acc: 0.9757 - val_loss: 0.1069 - val_acc: 0.9747\n",
      "Epoch 102/200\n",
      "24098/24098 [==============================] - 0s - loss: 0.1016 - acc: 0.9761 - val_loss: 0.0915 - val_acc: 0.9774\n",
      "Epoch 103/200\n",
      "24098/24098 [==============================] - 0s - loss: 0.0983 - acc: 0.9762 - val_loss: 0.0913 - val_acc: 0.9774\n",
      "Epoch 104/200\n",
      "24098/24098 [==============================] - 0s - loss: 0.0997 - acc: 0.9761 - val_loss: 0.0928 - val_acc: 0.9774\n",
      "Epoch 105/200\n",
      "24098/24098 [==============================] - 0s - loss: 0.0990 - acc: 0.9761 - val_loss: 0.0906 - val_acc: 0.9774\n",
      "Epoch 106/200\n",
      "24098/24098 [==============================] - 0s - loss: 0.0981 - acc: 0.9760 - val_loss: 0.0947 - val_acc: 0.9774\n",
      "Epoch 107/200\n",
      "24098/24098 [==============================] - 0s - loss: 0.1003 - acc: 0.9761 - val_loss: 0.0961 - val_acc: 0.9774\n",
      "Epoch 108/200\n",
      "24098/24098 [==============================] - 0s - loss: 0.0971 - acc: 0.9761 - val_loss: 0.0942 - val_acc: 0.9774\n",
      "Epoch 109/200\n",
      "24098/24098 [==============================] - 0s - loss: 0.0987 - acc: 0.9763 - val_loss: 0.0989 - val_acc: 0.9774\n",
      "Epoch 110/200\n",
      "24098/24098 [==============================] - 0s - loss: 0.1003 - acc: 0.9761 - val_loss: 0.0966 - val_acc: 0.9774\n",
      "Epoch 111/200\n",
      "24098/24098 [==============================] - 0s - loss: 0.1009 - acc: 0.9763 - val_loss: 0.1002 - val_acc: 0.9774\n",
      "Epoch 112/200\n",
      "24098/24098 [==============================] - 0s - loss: 0.0963 - acc: 0.9763 - val_loss: 0.0934 - val_acc: 0.9774\n",
      "Epoch 113/200\n",
      "24098/24098 [==============================] - 0s - loss: 0.1002 - acc: 0.9762 - val_loss: 0.1229 - val_acc: 0.9791\n",
      "Epoch 114/200\n",
      "24098/24098 [==============================] - 0s - loss: 0.1019 - acc: 0.9763 - val_loss: 0.0912 - val_acc: 0.9774\n",
      "Epoch 115/200\n",
      "24098/24098 [==============================] - 0s - loss: 0.1047 - acc: 0.9759 - val_loss: 0.0914 - val_acc: 0.9774\n",
      "Epoch 116/200\n",
      "24098/24098 [==============================] - 0s - loss: 0.1008 - acc: 0.9765 - val_loss: 0.1585 - val_acc: 0.9717\n",
      "Epoch 117/200\n",
      "24098/24098 [==============================] - 0s - loss: 0.1007 - acc: 0.9762 - val_loss: 0.0906 - val_acc: 0.9774\n",
      "Epoch 118/200\n",
      "24098/24098 [==============================] - 0s - loss: 0.0984 - acc: 0.9764 - val_loss: 0.0925 - val_acc: 0.9774\n",
      "Epoch 119/200\n",
      "24098/24098 [==============================] - 0s - loss: 0.1004 - acc: 0.9761 - val_loss: 0.1090 - val_acc: 0.9791\n",
      "Epoch 120/200\n",
      "24098/24098 [==============================] - 0s - loss: 0.0973 - acc: 0.9763 - val_loss: 0.1021 - val_acc: 0.9774\n",
      "Epoch 121/200\n",
      "24098/24098 [==============================] - 0s - loss: 0.1024 - acc: 0.9763 - val_loss: 0.0903 - val_acc: 0.9774\n",
      "Epoch 122/200\n",
      "24098/24098 [==============================] - 0s - loss: 0.0988 - acc: 0.9762 - val_loss: 0.0996 - val_acc: 0.9791\n",
      "Epoch 123/200\n",
      "24098/24098 [==============================] - 0s - loss: 0.1015 - acc: 0.9763 - val_loss: 0.0941 - val_acc: 0.9774\n",
      "Epoch 124/200\n",
      "24098/24098 [==============================] - 0s - loss: 0.0982 - acc: 0.9763 - val_loss: 0.1027 - val_acc: 0.9774\n",
      "Epoch 125/200\n",
      "24098/24098 [==============================] - 0s - loss: 0.0973 - acc: 0.9762 - val_loss: 0.0910 - val_acc: 0.9774\n",
      "Epoch 126/200\n",
      "24098/24098 [==============================] - 0s - loss: 0.0965 - acc: 0.9764 - val_loss: 0.0958 - val_acc: 0.9774\n",
      "Epoch 127/200\n"
     ]
    },
    {
     "name": "stdout",
     "output_type": "stream",
     "text": [
      "24098/24098 [==============================] - 0s - loss: 0.0980 - acc: 0.9760 - val_loss: 0.0909 - val_acc: 0.9774\n",
      "Epoch 128/200\n",
      "24098/24098 [==============================] - 0s - loss: 0.0963 - acc: 0.9764 - val_loss: 0.0971 - val_acc: 0.9791\n",
      "Epoch 129/200\n",
      "24098/24098 [==============================] - 0s - loss: 0.0975 - acc: 0.9763 - val_loss: 0.0904 - val_acc: 0.9774\n",
      "Epoch 130/200\n",
      "24098/24098 [==============================] - 0s - loss: 0.0999 - acc: 0.9763 - val_loss: 0.0994 - val_acc: 0.9791\n",
      "Epoch 131/200\n",
      "24098/24098 [==============================] - 0s - loss: 0.0983 - acc: 0.9763 - val_loss: 0.0985 - val_acc: 0.9791\n",
      "Epoch 132/200\n",
      "24098/24098 [==============================] - 0s - loss: 0.0970 - acc: 0.9763 - val_loss: 0.1101 - val_acc: 0.9791\n",
      "Epoch 133/200\n",
      "24098/24098 [==============================] - 0s - loss: 0.0997 - acc: 0.9766 - val_loss: 0.0970 - val_acc: 0.9791\n",
      "Epoch 134/200\n",
      "24098/24098 [==============================] - 0s - loss: 0.0983 - acc: 0.9767 - val_loss: 0.0937 - val_acc: 0.9774\n",
      "Epoch 135/200\n",
      "24098/24098 [==============================] - 0s - loss: 0.0998 - acc: 0.9765 - val_loss: 0.0898 - val_acc: 0.9774\n",
      "Epoch 136/200\n",
      "24098/24098 [==============================] - 0s - loss: 0.0994 - acc: 0.9768 - val_loss: 0.0900 - val_acc: 0.9774\n",
      "Epoch 137/200\n",
      "24098/24098 [==============================] - 0s - loss: 0.0970 - acc: 0.9763 - val_loss: 0.0903 - val_acc: 0.9774\n",
      "Epoch 138/200\n",
      "24098/24098 [==============================] - 0s - loss: 0.0977 - acc: 0.9763 - val_loss: 0.0944 - val_acc: 0.9774\n",
      "Epoch 139/200\n",
      "24098/24098 [==============================] - 0s - loss: 0.1000 - acc: 0.9764 - val_loss: 0.0910 - val_acc: 0.9774\n",
      "Epoch 140/200\n",
      "24098/24098 [==============================] - 0s - loss: 0.0983 - acc: 0.9766 - val_loss: 0.0941 - val_acc: 0.9774\n",
      "Epoch 141/200\n",
      "24098/24098 [==============================] - 0s - loss: 0.1003 - acc: 0.9764 - val_loss: 0.0901 - val_acc: 0.9774\n",
      "Epoch 142/200\n",
      "24098/24098 [==============================] - 0s - loss: 0.0966 - acc: 0.9764 - val_loss: 0.0930 - val_acc: 0.9774\n",
      "Epoch 143/200\n",
      "24098/24098 [==============================] - 0s - loss: 0.0978 - acc: 0.9766 - val_loss: 0.1104 - val_acc: 0.9774\n",
      "Epoch 144/200\n",
      "24098/24098 [==============================] - 0s - loss: 0.1023 - acc: 0.9762 - val_loss: 0.0974 - val_acc: 0.9791\n",
      "Epoch 145/200\n",
      "24098/24098 [==============================] - 0s - loss: 0.0969 - acc: 0.9764 - val_loss: 0.0899 - val_acc: 0.9774\n",
      "Epoch 146/200\n",
      "24098/24098 [==============================] - 0s - loss: 0.0950 - acc: 0.9764 - val_loss: 0.0904 - val_acc: 0.9774\n",
      "Epoch 147/200\n",
      "24098/24098 [==============================] - 0s - loss: 0.1033 - acc: 0.9764 - val_loss: 0.0897 - val_acc: 0.9774\n",
      "Epoch 148/200\n",
      "24098/24098 [==============================] - 0s - loss: 0.0952 - acc: 0.9765 - val_loss: 0.0915 - val_acc: 0.9774\n",
      "Epoch 149/200\n",
      "24098/24098 [==============================] - 0s - loss: 0.0978 - acc: 0.9766 - val_loss: 0.1011 - val_acc: 0.9774\n",
      "Epoch 150/200\n",
      "24098/24098 [==============================] - 0s - loss: 0.0964 - acc: 0.9764 - val_loss: 0.0896 - val_acc: 0.9774\n",
      "Epoch 151/200\n",
      "24098/24098 [==============================] - 0s - loss: 0.0954 - acc: 0.9766 - val_loss: 0.0922 - val_acc: 0.9774\n",
      "Epoch 152/200\n",
      "24098/24098 [==============================] - 0s - loss: 0.0978 - acc: 0.9765 - val_loss: 0.1041 - val_acc: 0.9774\n",
      "Epoch 153/200\n",
      "24098/24098 [==============================] - 0s - loss: 0.0989 - acc: 0.9768 - val_loss: 0.0895 - val_acc: 0.9774\n",
      "Epoch 154/200\n",
      "24098/24098 [==============================] - 0s - loss: 0.0991 - acc: 0.9765 - val_loss: 0.0997 - val_acc: 0.9791\n",
      "Epoch 155/200\n",
      "24098/24098 [==============================] - 0s - loss: 0.0975 - acc: 0.9765 - val_loss: 0.0898 - val_acc: 0.9774\n",
      "Epoch 156/200\n",
      "24098/24098 [==============================] - 0s - loss: 0.0973 - acc: 0.9766 - val_loss: 0.0927 - val_acc: 0.9774\n",
      "Epoch 157/200\n",
      "24098/24098 [==============================] - 0s - loss: 0.1058 - acc: 0.9764 - val_loss: 0.1117 - val_acc: 0.9774\n",
      "Epoch 158/200\n",
      "24098/24098 [==============================] - 0s - loss: 0.1004 - acc: 0.9762 - val_loss: 0.0907 - val_acc: 0.9774\n",
      "Epoch 159/200\n",
      "24098/24098 [==============================] - 0s - loss: 0.0958 - acc: 0.9763 - val_loss: 0.0984 - val_acc: 0.9774\n",
      "Epoch 160/200\n",
      "24098/24098 [==============================] - 0s - loss: 0.0957 - acc: 0.9763 - val_loss: 0.0909 - val_acc: 0.9774\n",
      "Epoch 161/200\n",
      "24098/24098 [==============================] - 0s - loss: 0.0958 - acc: 0.9765 - val_loss: 0.0908 - val_acc: 0.9774\n",
      "Epoch 162/200\n",
      "24098/24098 [==============================] - 0s - loss: 0.0951 - acc: 0.9763 - val_loss: 0.0895 - val_acc: 0.9774\n",
      "Epoch 163/200\n",
      "24098/24098 [==============================] - 0s - loss: 0.0998 - acc: 0.9766 - val_loss: 0.1117 - val_acc: 0.9774\n",
      "Epoch 164/200\n",
      "24098/24098 [==============================] - 0s - loss: 0.0975 - acc: 0.9766 - val_loss: 0.0957 - val_acc: 0.9774\n",
      "Epoch 165/200\n",
      "24098/24098 [==============================] - 0s - loss: 0.0983 - acc: 0.9765 - val_loss: 0.1264 - val_acc: 0.9791\n",
      "Epoch 166/200\n",
      "24098/24098 [==============================] - 0s - loss: 0.1000 - acc: 0.9761 - val_loss: 0.0896 - val_acc: 0.9774\n",
      "Epoch 167/200\n",
      "24098/24098 [==============================] - 0s - loss: 0.0960 - acc: 0.9765 - val_loss: 0.0920 - val_acc: 0.9774\n",
      "Epoch 168/200\n",
      "24098/24098 [==============================] - 0s - loss: 0.0967 - acc: 0.9766 - val_loss: 0.0923 - val_acc: 0.9774\n",
      "Epoch 169/200\n",
      "24098/24098 [==============================] - 0s - loss: 0.0973 - acc: 0.9766 - val_loss: 0.0897 - val_acc: 0.9774\n",
      "Epoch 170/200\n",
      "24098/24098 [==============================] - 0s - loss: 0.0962 - acc: 0.9765 - val_loss: 0.0915 - val_acc: 0.9774\n",
      "Epoch 171/200\n",
      "24098/24098 [==============================] - 0s - loss: 0.0999 - acc: 0.9761 - val_loss: 0.1207 - val_acc: 0.9747\n",
      "Epoch 172/200\n",
      "24098/24098 [==============================] - 0s - loss: 0.0964 - acc: 0.9764 - val_loss: 0.0923 - val_acc: 0.9774\n",
      "Epoch 173/200\n",
      "24098/24098 [==============================] - 0s - loss: 0.0969 - acc: 0.9766 - val_loss: 0.0895 - val_acc: 0.9774\n",
      "Epoch 174/200\n",
      "24098/24098 [==============================] - 0s - loss: 0.0960 - acc: 0.9765 - val_loss: 0.0894 - val_acc: 0.9774\n",
      "Epoch 175/200\n",
      "24098/24098 [==============================] - 0s - loss: 0.0950 - acc: 0.9766 - val_loss: 0.0920 - val_acc: 0.9774\n",
      "Epoch 176/200\n",
      "24098/24098 [==============================] - 0s - loss: 0.0945 - acc: 0.9764 - val_loss: 0.0892 - val_acc: 0.9774\n",
      "Epoch 177/200\n",
      "24098/24098 [==============================] - 0s - loss: 0.0951 - acc: 0.9765 - val_loss: 0.0923 - val_acc: 0.9774\n",
      "Epoch 178/200\n",
      "24098/24098 [==============================] - 0s - loss: 0.0974 - acc: 0.9766 - val_loss: 0.0933 - val_acc: 0.9791\n",
      "Epoch 179/200\n",
      "24098/24098 [==============================] - 0s - loss: 0.0969 - acc: 0.9769 - val_loss: 0.0915 - val_acc: 0.9790\n",
      "Epoch 180/200\n",
      "24098/24098 [==============================] - 0s - loss: 0.0978 - acc: 0.9769 - val_loss: 0.0896 - val_acc: 0.9774\n",
      "Epoch 181/200\n",
      "24098/24098 [==============================] - 0s - loss: 0.0959 - acc: 0.9765 - val_loss: 0.0892 - val_acc: 0.9774\n",
      "Epoch 182/200\n",
      "24098/24098 [==============================] - 0s - loss: 0.0982 - acc: 0.9767 - val_loss: 0.0904 - val_acc: 0.9774\n",
      "Epoch 183/200\n",
      "24098/24098 [==============================] - 0s - loss: 0.0951 - acc: 0.9766 - val_loss: 0.0924 - val_acc: 0.9774\n",
      "Epoch 184/200\n",
      "24098/24098 [==============================] - 0s - loss: 0.0964 - acc: 0.9768 - val_loss: 0.0894 - val_acc: 0.9774\n",
      "Epoch 185/200\n",
      "24098/24098 [==============================] - 0s - loss: 0.0963 - acc: 0.9767 - val_loss: 0.0932 - val_acc: 0.9791\n",
      "Epoch 186/200\n",
      "24098/24098 [==============================] - 0s - loss: 0.0975 - acc: 0.9766 - val_loss: 0.0944 - val_acc: 0.9774\n",
      "Epoch 187/200\n",
      "24098/24098 [==============================] - 0s - loss: 0.0982 - acc: 0.9767 - val_loss: 0.0893 - val_acc: 0.9774\n",
      "Epoch 188/200\n",
      "24098/24098 [==============================] - 0s - loss: 0.0957 - acc: 0.9767 - val_loss: 0.0897 - val_acc: 0.9774\n",
      "Epoch 189/200\n",
      "24098/24098 [==============================] - 0s - loss: 0.0958 - acc: 0.9766 - val_loss: 0.0979 - val_acc: 0.9791\n",
      "Epoch 190/200\n"
     ]
    },
    {
     "name": "stdout",
     "output_type": "stream",
     "text": [
      "24098/24098 [==============================] - 0s - loss: 0.0966 - acc: 0.9768 - val_loss: 0.0892 - val_acc: 0.9774\n",
      "Epoch 191/200\n",
      "24098/24098 [==============================] - 0s - loss: 0.0978 - acc: 0.9765 - val_loss: 0.1015 - val_acc: 0.9774\n",
      "Epoch 192/200\n",
      "24098/24098 [==============================] - 0s - loss: 0.0996 - acc: 0.9767 - val_loss: 0.0913 - val_acc: 0.9774\n",
      "Epoch 193/200\n",
      "24098/24098 [==============================] - 0s - loss: 0.0943 - acc: 0.9767 - val_loss: 0.0892 - val_acc: 0.9774\n",
      "Epoch 194/200\n",
      "24098/24098 [==============================] - 0s - loss: 0.0970 - acc: 0.9765 - val_loss: 0.0905 - val_acc: 0.9774\n",
      "Epoch 195/200\n",
      "24098/24098 [==============================] - 0s - loss: 0.0948 - acc: 0.9767 - val_loss: 0.0891 - val_acc: 0.9774\n",
      "Epoch 196/200\n",
      "24098/24098 [==============================] - 0s - loss: 0.0945 - acc: 0.9767 - val_loss: 0.0929 - val_acc: 0.9774\n",
      "Epoch 197/200\n",
      "24098/24098 [==============================] - 0s - loss: 0.0976 - acc: 0.9768 - val_loss: 0.1004 - val_acc: 0.9774\n",
      "Epoch 198/200\n",
      "24098/24098 [==============================] - 0s - loss: 0.0960 - acc: 0.9767 - val_loss: 0.0932 - val_acc: 0.9774\n",
      "Epoch 199/200\n",
      "24098/24098 [==============================] - 0s - loss: 0.0979 - acc: 0.9766 - val_loss: 0.0897 - val_acc: 0.9774\n",
      "Epoch 200/200\n",
      "24098/24098 [==============================] - 0s - loss: 0.0947 - acc: 0.9771 - val_loss: 0.0891 - val_acc: 0.9774\n"
     ]
    },
    {
     "data": {
      "text/plain": [
       "<keras.callbacks.History at 0x125d75f60>"
      ]
     },
     "execution_count": 22,
     "metadata": {},
     "output_type": "execute_result"
    }
   ],
   "source": [
    "batch_size = 200\n",
    "epochs = 200\n",
    "model.fit(x_train,y_train,callbacks=[history_cb],validation_data=(x_test,y_test),verbose=1,epochs=epochs,batch_size=batch_size)"
   ]
  },
  {
   "cell_type": "code",
   "execution_count": 23,
   "metadata": {},
   "outputs": [
    {
     "name": "stdout",
     "output_type": "stream",
     "text": [
      "Validation score: 0.9774220724515585\n"
     ]
    }
   ],
   "source": [
    "# Measure accuracy\n",
    "pred = model.predict(x_test)\n",
    "pred = np.argmax(pred,axis=1)\n",
    "y_eval = np.argmax(y_test,axis=1)\n",
    "score = metrics.accuracy_score(y_eval, pred)\n",
    "print(\"Validation score: {}\".format(score))"
   ]
  },
  {
   "cell_type": "code",
   "execution_count": 24,
   "metadata": {},
   "outputs": [
    {
     "name": "stdout",
     "output_type": "stream",
     "text": [
      "Confusion Matrix:\n",
      "[[ 0.4992  0.0001]\n",
      " [ 0.0225  0.4783]]\n"
     ]
    }
   ],
   "source": [
    "from sklearn.metrics import classification_report,confusion_matrix\n",
    "Cm = confusion_matrix(y_eval,pred)\n",
    "C = np.sum(Cm)\n",
    "Cm = Cm/C\n",
    "print('Confusion Matrix:')\n",
    "print(np.array_str(Cm, precision=4, suppress_small=True))"
   ]
  },
  {
   "cell_type": "code",
   "execution_count": 26,
   "metadata": {},
   "outputs": [
    {
     "data": {
      "image/png": "[encoded data removed]",
      "text/plain": [
       "<matplotlib.figure.Figure at 0x12935fd68>"
      ]
     },
     "metadata": {},
     "output_type": "display_data"
    }
   ],
   "source": [
    "valAcc = history_cb.val_acc\n",
    "valLoss = history_cb.val_loss\n",
    "epoch_it = np.arange(1,201)\n",
    "plt.subplot(121)\n",
    "plt.plot(epoch_it, valAcc)\n",
    "plt.grid()\n",
    "plt.xlabel('Epoch')\n",
    "plt.ylabel('Validation accuracy')\n",
    "plt.tight_layout()\n",
    "plt.subplot(122)\n",
    "plt.plot(epoch_it, valLoss)\n",
    "plt.grid()\n",
    "plt.xlabel('Epoch')\n",
    "plt.ylabel('Validation loss')\n",
    "plt.tight_layout()\n",
    "plt.show()"
   ]
  },
  {
   "cell_type": "code",
   "execution_count": 28,
   "metadata": {},
   "outputs": [
    {
     "data": {
      "image/png": "[encoded data removed]",
      "text/plain": [
       "<matplotlib.figure.Figure at 0x1293e31d0>"
      ]
     },
     "metadata": {},
     "output_type": "display_data"
    }
   ],
   "source": [
    "Ls = history_cb.losses\n",
    "Acc = history_cb.accs\n",
    "ntr = np.shape(x_train)[0]\n",
    "epochNum = []\n",
    "for i in range(24200):\n",
    "    epochNum.append(i*100/ntr)\n",
    "\n",
    "matplotlib.pyplot.semilogy(epochNum, Ls)\n",
    "plt.grid()\n",
    "plt.xlabel('Epoch')\n",
    "plt.ylabel('Training Loss')\n",
    "plt.tight_layout()\n",
    "plt.show()"
   ]
  },
  {
   "cell_type": "code",
   "execution_count": 29,
   "metadata": {},
   "outputs": [
    {
     "data": {
      "image/png": "[encoded data removed]",
      "text/plain": [
       "<matplotlib.figure.Figure at 0x12a0870b8>"
      ]
     },
     "metadata": {},
     "output_type": "display_data"
    }
   ],
   "source": [
    "matplotlib.pyplot.semilogy(epochNum, Acc)\n",
    "# plt.plot(epochNum, Acc)\n",
    "plt.grid()\n",
    "plt.xlabel('Epoch')\n",
    "plt.ylabel('Training Accuracy')\n",
    "plt.tight_layout()\n",
    "# plt.axis([0.3,3,0.96,1])\n",
    "plt.show()\n",
    "\n"
   ]
  },
  {
   "cell_type": "code",
   "execution_count": null,
   "metadata": {
    "collapsed": true
   },
   "outputs": [],
   "source": []
  },
  {
   "cell_type": "code",
   "execution_count": null,
   "metadata": {
    "collapsed": true
   },
   "outputs": [],
   "source": [
    "# # Save & Load result\n",
    "# import os\n",
    "# import tensorflow as tf\n",
    "# saver = tf.train.Saver()"
   ]
  },
  {
   "cell_type": "code",
   "execution_count": null,
   "metadata": {
    "collapsed": true
   },
   "outputs": [],
   "source": [
    "# save_dir = 'checkpoints/' "
   ]
  },
  {
   "cell_type": "code",
   "execution_count": null,
   "metadata": {
    "collapsed": true
   },
   "outputs": [],
   "source": [
    "# if not os.path.exists(save_dir):\n",
    "#     os.makedirs(save_dir)"
   ]
  },
  {
   "cell_type": "code",
   "execution_count": null,
   "metadata": {
    "collapsed": true
   },
   "outputs": [],
   "source": [
    "# save_path = os.path.join(save_dir, 'best_validation')"
   ]
  },
  {
   "cell_type": "code",
   "execution_count": null,
   "metadata": {
    "collapsed": true
   },
   "outputs": [],
   "source": [
    "# saver.save(sess=session, save_path=save_path)"
   ]
  },
  {
   "cell_type": "code",
   "execution_count": null,
   "metadata": {
    "collapsed": true
   },
   "outputs": [],
   "source": [
    "# saver.restore(sess=session, save_path=save_path)"
   ]
  },
  {
   "cell_type": "code",
   "execution_count": null,
   "metadata": {
    "collapsed": true
   },
   "outputs": [],
   "source": [
    "# session.run(tf.global_variables_initializer())"
   ]
  },
  {
   "cell_type": "code",
   "execution_count": null,
   "metadata": {
    "collapsed": true
   },
   "outputs": [],
   "source": [
    "# print_test_accuracy(show_example_errors=True)"
   ]
  },
  {
   "cell_type": "code",
   "execution_count": null,
   "metadata": {
    "collapsed": true
   },
   "outputs": [],
   "source": []
  },
  {
   "cell_type": "code",
   "execution_count": null,
   "metadata": {
    "collapsed": true
   },
   "outputs": [],
   "source": []
  }
 ],
 "metadata": {
  "kernelspec": {
   "display_name": "Python 3",
   "language": "python",
   "name": "python3"
  },
  "language_info": {
   "codemirror_mode": {
    "name": "ipython",
    "version": 3
   },
   "file_extension": ".py",
   "mimetype": "text/x-python",
   "name": "python",
   "nbconvert_exporter": "python",
   "pygments_lexer": "ipython3",
   "version": "3.6.1"
  }
 },
 "nbformat": 4,
 "nbformat_minor": 2
}
