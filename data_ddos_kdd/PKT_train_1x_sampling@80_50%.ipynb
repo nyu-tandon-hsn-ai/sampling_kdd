{
 "cells": [
  {
   "cell_type": "code",
   "execution_count": 2,
   "metadata": {},
   "outputs": [],
   "source": [
    "import pandas as pd\n",
    "from sklearn import preprocessing\n",
    "from sklearn.model_selection import train_test_split\n",
    "from sklearn import metrics\n",
    "from keras.models import Sequential\n",
    "from keras.layers.core import Dense, Activation\n",
    "from keras.callbacks import EarlyStopping"
   ]
  },
  {
   "cell_type": "code",
   "execution_count": 3,
   "metadata": {
    "collapsed": true
   },
   "outputs": [],
   "source": [
    "from sklearn import preprocessing\n",
    "import matplotlib.pyplot as plt\n",
    "import numpy as np\n",
    "import pandas as pd\n",
    "import shutil\n",
    "import os\n",
    "import keras\n",
    "import matplotlib\n",
    "import matplotlib.pyplot as plt\n",
    "%matplotlib inline"
   ]
  },
  {
   "cell_type": "code",
   "execution_count": 4,
   "metadata": {
    "collapsed": true
   },
   "outputs": [],
   "source": [
    "\n",
    "# Encode text values to dummy variables(i.e. [1,0,0],[0,1,0],[0,0,1] for red,green,blue)\n",
    "def encode_text_dummy(df, name):\n",
    "    dummies = pd.get_dummies(df[name])\n",
    "    for x in dummies.columns:\n",
    "        dummy_name = \"{}-{}\".format(name, x)\n",
    "        df[dummy_name] = dummies[x]\n",
    "    df.drop(name, axis=1, inplace=True)\n",
    "\n",
    "\n",
    "# Encode text values to a single dummy variable.  The new columns (which do not replace the old) will have a 1\n",
    "# at every location where the original column (name) matches each of the target_values.  One column is added for\n",
    "# each target value.\n",
    "def encode_text_single_dummy(df, name, target_values):\n",
    "    for tv in target_values:\n",
    "        l = list(df[name].astype(str))\n",
    "        l = [1 if str(x) == str(tv) else 0 for x in l]\n",
    "        name2 = \"{}-{}\".format(name, tv)\n",
    "        df[name2] = l\n",
    "\n",
    "\n",
    "# Encode text values to indexes(i.e. [1],[2],[3] for red,green,blue).\n",
    "def encode_text_index(df, name):\n",
    "    le = preprocessing.LabelEncoder()\n",
    "    df[name] = le.fit_transform(df[name])\n",
    "    return le.classes_\n",
    "\n",
    "\n",
    "# Encode a numeric column as zscores\n",
    "def encode_numeric_zscore(df, name, mean=None, sd=None):\n",
    "    if mean is None:\n",
    "        mean = np.asarray(df[name], dtype = np.float).mean()\n",
    "\n",
    "    if sd is None:\n",
    "        sd = np.asarray(df[name], dtype = np.float).std()\n",
    "\n",
    "    df[name] = (np.asarray(df[name], dtype = np.float) - mean) / sd\n",
    "\n",
    "\n",
    "# Convert all missing values in the specified column to the median\n",
    "def missing_median(df, name):\n",
    "    med = df[name].median()\n",
    "    df[name] = df[name].fillna(med)\n",
    "\n",
    "\n",
    "# Convert all missing values in the specified column to the default\n",
    "def missing_default(df, name, default_value):\n",
    "    df[name] = df[name].fillna(default_value)\n",
    "\n",
    "\n",
    "# Convert a Pandas dataframe to the x,y inputs that TensorFlow needs\n",
    "def to_xy(df, target):\n",
    "    result = []\n",
    "    for x in df.columns:\n",
    "        if x != target:\n",
    "            result.append(x)\n",
    "    # find out the type of the target column.  Is it really this hard? :(\n",
    "    target_type = df[target].dtypes\n",
    "    target_type = target_type[0] if hasattr(target_type, '__iter__') else target_type\n",
    "    # Encode to int for classification, float otherwise. TensorFlow likes 32 bits.\n",
    "    if target_type in (np.int64, np.int32):\n",
    "        # Classification\n",
    "        dummies = pd.get_dummies(df[target])\n",
    "        return df.as_matrix(result).astype(np.float32), dummies.as_matrix().astype(np.float32)\n",
    "    else:\n",
    "        # Regression\n",
    "        return df.as_matrix(result).astype(np.float32), df.as_matrix([target]).astype(np.float32)\n",
    "\n",
    "# Nicely formatted time string\n",
    "def hms_string(sec_elapsed):\n",
    "    h = int(sec_elapsed / (60 * 60))\n",
    "    m = int((sec_elapsed % (60 * 60)) / 60)\n",
    "    s = sec_elapsed % 60\n",
    "    return \"{}:{:>02}:{:>05.2f}\".format(h, m, s)\n",
    "\n",
    "\n",
    "# Regression chart.\n",
    "def chart_regression(pred,y,sort=True):\n",
    "    t = pd.DataFrame({'pred' : pred, 'y' : y.flatten()})\n",
    "    if sort:\n",
    "        t.sort_values(by=['y'],inplace=True)\n",
    "    a = plt.plot(t['y'].tolist(),label='expected')\n",
    "    b = plt.plot(t['pred'].tolist(),label='prediction')\n",
    "    plt.ylabel('output')\n",
    "    plt.legend()\n",
    "    plt.show()\n",
    "\n",
    "# Remove all rows where the specified column is +/- sd standard deviations\n",
    "def remove_outliers(df, name, sd):\n",
    "    drop_rows = df.index[(np.abs(df[name] - df[name].mean()) >= (sd * df[name].std()))]\n",
    "    df.drop(drop_rows, axis=0, inplace=True)\n",
    "\n",
    "\n",
    "# Encode a column to a range between normalized_low and normalized_high.\n",
    "def encode_numeric_range(df, name, normalized_low=-1, normalized_high=1,\n",
    "                         data_low=None, data_high=None):\n",
    "    if data_low is None:\n",
    "        data_low = min(df[name])\n",
    "        data_high = max(df[name])\n",
    "\n",
    "    df[name] = ((df[name] - data_low) / (data_high - data_low)) \\\n",
    "               * (normalized_high - normalized_low) + normalized_low"
   ]
  },
  {
   "cell_type": "code",
   "execution_count": 5,
   "metadata": {},
   "outputs": [
    {
     "name": "stdout",
     "output_type": "stream",
     "text": [
      "Read 35767 rows.\n"
     ]
    }
   ],
   "source": [
    "\n",
    "# This file is a CSV, just no CSV extension or headers\n",
    "# Download from: http://kdd.ics.uci.edu/databases/kddcup99/kddcup99.html\n",
    "df_ = pd.read_csv(\"/Users/tsaiflow/Desktop/NN&Sampling/data_ddos_kdd/train_PKT_sampling@80_50%.csv\")\n",
    "\n",
    "print(\"Read {} rows.\".format(len(df_)))\n",
    "#print(\"Read {} rows.\".format(len(df1)))\n",
    "# df = df.sample(frac=0.1, replace=False) # Uncomment this line to sample only 10% of the dataset\n",
    "df_.dropna(inplace=True,axis=1) # For now, just drop NA's (rows with missing values)\n",
    "# df1.dropna(inplace=True,axis=1)\n",
    "\n",
    "# The CSV file has no column heads, so add them\n",
    "# df.columns = [\n",
    "#     'duration',\n",
    "#     'forw_bytes',\n",
    "#     'back_bytes',\n",
    "#     'total_bytes',\n",
    "    \n",
    "#     'outcome'\n",
    "# ]"
   ]
  },
  {
   "cell_type": "code",
   "execution_count": 6,
   "metadata": {},
   "outputs": [
    {
     "data": {
      "text/html": [
       "<div>\n",
       "<style>\n",
       "    .dataframe thead tr:only-child th {\n",
       "        text-align: right;\n",
       "    }\n",
       "\n",
       "    .dataframe thead th {\n",
       "        text-align: left;\n",
       "    }\n",
       "\n",
       "    .dataframe tbody tr th {\n",
       "        vertical-align: top;\n",
       "    }\n",
       "</style>\n",
       "<table border=\"1\" class=\"dataframe\">\n",
       "  <thead>\n",
       "    <tr style=\"text-align: right;\">\n",
       "      <th></th>\n",
       "      <th>Unnamed: 0</th>\n",
       "      <th>duration</th>\n",
       "      <th>forw_byte</th>\n",
       "      <th>back_byte</th>\n",
       "      <th>tot_byte</th>\n",
       "      <th>outcome</th>\n",
       "    </tr>\n",
       "  </thead>\n",
       "  <tbody>\n",
       "    <tr>\n",
       "      <th>0</th>\n",
       "      <td>0</td>\n",
       "      <td>0.0</td>\n",
       "      <td>520</td>\n",
       "      <td>0</td>\n",
       "      <td>520</td>\n",
       "      <td>dos</td>\n",
       "    </tr>\n",
       "    <tr>\n",
       "      <th>1</th>\n",
       "      <td>1</td>\n",
       "      <td>0.0</td>\n",
       "      <td>1032</td>\n",
       "      <td>0</td>\n",
       "      <td>1032</td>\n",
       "      <td>dos</td>\n",
       "    </tr>\n",
       "    <tr>\n",
       "      <th>2</th>\n",
       "      <td>2</td>\n",
       "      <td>0.0</td>\n",
       "      <td>1032</td>\n",
       "      <td>0</td>\n",
       "      <td>1032</td>\n",
       "      <td>dos</td>\n",
       "    </tr>\n",
       "    <tr>\n",
       "      <th>3</th>\n",
       "      <td>3</td>\n",
       "      <td>0.0</td>\n",
       "      <td>1032</td>\n",
       "      <td>0</td>\n",
       "      <td>1032</td>\n",
       "      <td>dos</td>\n",
       "    </tr>\n",
       "    <tr>\n",
       "      <th>4</th>\n",
       "      <td>4</td>\n",
       "      <td>0.0</td>\n",
       "      <td>1032</td>\n",
       "      <td>0</td>\n",
       "      <td>1032</td>\n",
       "      <td>dos</td>\n",
       "    </tr>\n",
       "  </tbody>\n",
       "</table>\n",
       "</div>"
      ],
      "text/plain": [
       "   Unnamed: 0  duration  forw_byte  back_byte  tot_byte outcome\n",
       "0           0       0.0        520          0       520     dos\n",
       "1           1       0.0       1032          0      1032     dos\n",
       "2           2       0.0       1032          0      1032     dos\n",
       "3           3       0.0       1032          0      1032     dos\n",
       "4           4       0.0       1032          0      1032     dos"
      ]
     },
     "execution_count": 6,
     "metadata": {},
     "output_type": "execute_result"
    }
   ],
   "source": [
    "df_.head(5)"
   ]
  },
  {
   "cell_type": "code",
   "execution_count": 7,
   "metadata": {
    "collapsed": true
   },
   "outputs": [],
   "source": [
    "cols = ['duration', 'forw_byte', 'back_byte','tot_byte','outcome']\n",
    "df = df_[cols]"
   ]
  },
  {
   "cell_type": "code",
   "execution_count": 8,
   "metadata": {
    "collapsed": true
   },
   "outputs": [],
   "source": [
    "# df.drop(df.head(1).index, inplace = True)"
   ]
  },
  {
   "cell_type": "code",
   "execution_count": 9,
   "metadata": {},
   "outputs": [
    {
     "data": {
      "text/html": [
       "<div>\n",
       "<style>\n",
       "    .dataframe thead tr:only-child th {\n",
       "        text-align: right;\n",
       "    }\n",
       "\n",
       "    .dataframe thead th {\n",
       "        text-align: left;\n",
       "    }\n",
       "\n",
       "    .dataframe tbody tr th {\n",
       "        vertical-align: top;\n",
       "    }\n",
       "</style>\n",
       "<table border=\"1\" class=\"dataframe\">\n",
       "  <thead>\n",
       "    <tr style=\"text-align: right;\">\n",
       "      <th></th>\n",
       "      <th>duration</th>\n",
       "      <th>forw_byte</th>\n",
       "      <th>back_byte</th>\n",
       "      <th>tot_byte</th>\n",
       "      <th>outcome</th>\n",
       "    </tr>\n",
       "  </thead>\n",
       "  <tbody>\n",
       "    <tr>\n",
       "      <th>0</th>\n",
       "      <td>0.0</td>\n",
       "      <td>520</td>\n",
       "      <td>0</td>\n",
       "      <td>520</td>\n",
       "      <td>dos</td>\n",
       "    </tr>\n",
       "    <tr>\n",
       "      <th>1</th>\n",
       "      <td>0.0</td>\n",
       "      <td>1032</td>\n",
       "      <td>0</td>\n",
       "      <td>1032</td>\n",
       "      <td>dos</td>\n",
       "    </tr>\n",
       "    <tr>\n",
       "      <th>2</th>\n",
       "      <td>0.0</td>\n",
       "      <td>1032</td>\n",
       "      <td>0</td>\n",
       "      <td>1032</td>\n",
       "      <td>dos</td>\n",
       "    </tr>\n",
       "    <tr>\n",
       "      <th>3</th>\n",
       "      <td>0.0</td>\n",
       "      <td>1032</td>\n",
       "      <td>0</td>\n",
       "      <td>1032</td>\n",
       "      <td>dos</td>\n",
       "    </tr>\n",
       "    <tr>\n",
       "      <th>4</th>\n",
       "      <td>0.0</td>\n",
       "      <td>1032</td>\n",
       "      <td>0</td>\n",
       "      <td>1032</td>\n",
       "      <td>dos</td>\n",
       "    </tr>\n",
       "  </tbody>\n",
       "</table>\n",
       "</div>"
      ],
      "text/plain": [
       "   duration  forw_byte  back_byte  tot_byte outcome\n",
       "0       0.0        520          0       520     dos\n",
       "1       0.0       1032          0      1032     dos\n",
       "2       0.0       1032          0      1032     dos\n",
       "3       0.0       1032          0      1032     dos\n",
       "4       0.0       1032          0      1032     dos"
      ]
     },
     "execution_count": 9,
     "metadata": {},
     "output_type": "execute_result"
    }
   ],
   "source": [
    "df.head(5)"
   ]
  },
  {
   "cell_type": "code",
   "execution_count": 10,
   "metadata": {
    "collapsed": true
   },
   "outputs": [],
   "source": [
    "# np.asarray(df['duration'], dtype = np.float).mean()\n",
    "# # df[name].mean()"
   ]
  },
  {
   "cell_type": "code",
   "execution_count": 11,
   "metadata": {
    "collapsed": true
   },
   "outputs": [],
   "source": [
    "# np.asarray(df['duration'], dtype = np.float).std()"
   ]
  },
  {
   "cell_type": "code",
   "execution_count": null,
   "metadata": {
    "collapsed": true
   },
   "outputs": [],
   "source": []
  },
  {
   "cell_type": "code",
   "execution_count": 12,
   "metadata": {},
   "outputs": [
    {
     "name": "stderr",
     "output_type": "stream",
     "text": [
      "/anaconda/lib/python3.6/site-packages/ipykernel_launcher.py:37: SettingWithCopyWarning: \n",
      "A value is trying to be set on a copy of a slice from a DataFrame.\n",
      "Try using .loc[row_indexer,col_indexer] = value instead\n",
      "\n",
      "See the caveats in the documentation: http://pandas.pydata.org/pandas-docs/stable/indexing.html#indexing-view-versus-copy\n",
      "/anaconda/lib/python3.6/site-packages/ipykernel_launcher.py:25: SettingWithCopyWarning: \n",
      "A value is trying to be set on a copy of a slice from a DataFrame.\n",
      "Try using .loc[row_indexer,col_indexer] = value instead\n",
      "\n",
      "See the caveats in the documentation: http://pandas.pydata.org/pandas-docs/stable/indexing.html#indexing-view-versus-copy\n",
      "/anaconda/lib/python3.6/site-packages/ipykernel_launcher.py:51: SettingWithCopyWarning: \n",
      "A value is trying to be set on a copy of a slice from a DataFrame\n",
      "\n",
      "See the caveats in the documentation: http://pandas.pydata.org/pandas-docs/stable/indexing.html#indexing-view-versus-copy\n"
     ]
    },
    {
     "data": {
      "text/html": [
       "<div>\n",
       "<style>\n",
       "    .dataframe thead tr:only-child th {\n",
       "        text-align: right;\n",
       "    }\n",
       "\n",
       "    .dataframe thead th {\n",
       "        text-align: left;\n",
       "    }\n",
       "\n",
       "    .dataframe tbody tr th {\n",
       "        vertical-align: top;\n",
       "    }\n",
       "</style>\n",
       "<table border=\"1\" class=\"dataframe\">\n",
       "  <thead>\n",
       "    <tr style=\"text-align: right;\">\n",
       "      <th></th>\n",
       "      <th>duration</th>\n",
       "      <th>forw_byte</th>\n",
       "      <th>back_byte</th>\n",
       "      <th>tot_byte</th>\n",
       "      <th>outcome</th>\n",
       "    </tr>\n",
       "  </thead>\n",
       "  <tbody>\n",
       "    <tr>\n",
       "      <th>0</th>\n",
       "      <td>0.0</td>\n",
       "      <td>-0.006669</td>\n",
       "      <td>-0.006377</td>\n",
       "      <td>-0.009210</td>\n",
       "      <td>0</td>\n",
       "    </tr>\n",
       "    <tr>\n",
       "      <th>1</th>\n",
       "      <td>0.0</td>\n",
       "      <td>-0.006583</td>\n",
       "      <td>-0.006377</td>\n",
       "      <td>-0.009146</td>\n",
       "      <td>0</td>\n",
       "    </tr>\n",
       "    <tr>\n",
       "      <th>2</th>\n",
       "      <td>0.0</td>\n",
       "      <td>-0.006583</td>\n",
       "      <td>-0.006377</td>\n",
       "      <td>-0.009146</td>\n",
       "      <td>0</td>\n",
       "    </tr>\n",
       "    <tr>\n",
       "      <th>3</th>\n",
       "      <td>0.0</td>\n",
       "      <td>-0.006583</td>\n",
       "      <td>-0.006377</td>\n",
       "      <td>-0.009146</td>\n",
       "      <td>0</td>\n",
       "    </tr>\n",
       "    <tr>\n",
       "      <th>4</th>\n",
       "      <td>0.0</td>\n",
       "      <td>-0.006583</td>\n",
       "      <td>-0.006377</td>\n",
       "      <td>-0.009146</td>\n",
       "      <td>0</td>\n",
       "    </tr>\n",
       "  </tbody>\n",
       "</table>\n",
       "</div>"
      ],
      "text/plain": [
       "   duration  forw_byte  back_byte  tot_byte  outcome\n",
       "0       0.0  -0.006669  -0.006377 -0.009210        0\n",
       "1       0.0  -0.006583  -0.006377 -0.009146        0\n",
       "2       0.0  -0.006583  -0.006377 -0.009146        0\n",
       "3       0.0  -0.006583  -0.006377 -0.009146        0\n",
       "4       0.0  -0.006583  -0.006377 -0.009146        0"
      ]
     },
     "execution_count": 12,
     "metadata": {},
     "output_type": "execute_result"
    }
   ],
   "source": [
    "# Now encode the feature vector\n",
    "\n",
    "#encode_numeric_zscore(df, 'duration')\n",
    "\n",
    "# encode_text_dummy(df, 'protocol_type')\n",
    "# encode_text_dummy(df, 'service')\n",
    "# encode_text_dummy(df, 'flag')\n",
    "encode_numeric_zscore(df, 'forw_byte')\n",
    "encode_numeric_zscore(df, 'back_byte')\n",
    "encode_numeric_zscore(df, 'tot_byte')\n",
    "# encode_text_dummy(df, 'land')\n",
    "# encode_numeric_zscore(df, 'wrong_fragment')\n",
    "# encode_numeric_zscore(df, 'urgent')\n",
    "# encode_numeric_zscore(df, 'hot')\n",
    "# encode_numeric_zscore(df, 'num_failed_logins')\n",
    "# encode_text_dummy(df, 'logged_in')\n",
    "# encode_numeric_zscore(df, 'num_compromised')\n",
    "# encode_numeric_zscore(df, 'root_shell')\n",
    "# encode_numeric_zscore(df, 'su_attempted')\n",
    "# encode_numeric_zscore(df, 'num_root')\n",
    "# encode_numeric_zscore(df, 'num_file_creations')\n",
    "# encode_numeric_zscore(df, 'num_shells')\n",
    "# encode_numeric_zscore(df, 'num_access_files')\n",
    "# encode_numeric_zscore(df, 'num_outbound_cmds')\n",
    "# encode_text_dummy(df, 'is_host_login')\n",
    "# encode_text_dummy(df, 'is_guest_login')\n",
    "# encode_numeric_zscore(df, 'count')\n",
    "# encode_numeric_zscore(df, 'srv_count')\n",
    "# encode_numeric_zscore(df, 'serror_rate')\n",
    "# encode_numeric_zscore(df, 'srv_serror_rate')\n",
    "# encode_numeric_zscore(df, 'rerror_rate')\n",
    "# encode_numeric_zscore(df, 'srv_rerror_rate')\n",
    "# encode_numeric_zscore(df, 'same_srv_rate')\n",
    "# encode_numeric_zscore(df, 'diff_srv_rate')\n",
    "# encode_numeric_zscore(df, 'srv_diff_host_rate')\n",
    "# encode_numeric_zscore(df, 'dst_host_count')\n",
    "# encode_numeric_zscore(df, 'dst_host_srv_count')\n",
    "# encode_numeric_zscore(df, 'dst_host_same_srv_rate')\n",
    "# encode_numeric_zscore(df, 'dst_host_diff_srv_rate')\n",
    "# encode_numeric_zscore(df, 'dst_host_same_src_port_rate')\n",
    "# encode_numeric_zscore(df, 'dst_host_srv_diff_host_rate')\n",
    "# encode_numeric_zscore(df, 'dst_host_serror_rate')\n",
    "# encode_numeric_zscore(df, 'dst_host_srv_serror_rate')\n",
    "# encode_numeric_zscore(df, 'dst_host_rerror_rate')\n",
    "# encode_numeric_zscore(df, 'dst_host_srv_rerror_rate')\n",
    "outcomes = encode_text_index(df, 'outcome')\n",
    "num_classes = len(outcomes)\n",
    "\n",
    "# display 5 rows\n",
    "\n",
    "df.dropna(inplace=True,axis=1)\n",
    "df[0:5]\n",
    "# This is the numeric feature vector, as it goes to the neural net"
   ]
  },
  {
   "cell_type": "code",
   "execution_count": 13,
   "metadata": {
    "collapsed": true
   },
   "outputs": [],
   "source": [
    "x, y = to_xy(df,'outcome')"
   ]
  },
  {
   "cell_type": "code",
   "execution_count": 14,
   "metadata": {
    "collapsed": true
   },
   "outputs": [],
   "source": [
    "# df.head(5)"
   ]
  },
  {
   "cell_type": "code",
   "execution_count": 15,
   "metadata": {
    "collapsed": true
   },
   "outputs": [],
   "source": [
    "# Create a test/train split.  33% test\n",
    "# Split into train/test\n",
    "x_train, x_test, y_train, y_test = train_test_split(\n",
    "    x, y, test_size=0.33, random_state=42)"
   ]
  },
  {
   "cell_type": "code",
   "execution_count": null,
   "metadata": {
    "collapsed": true
   },
   "outputs": [],
   "source": []
  },
  {
   "cell_type": "code",
   "execution_count": 16,
   "metadata": {
    "collapsed": true
   },
   "outputs": [],
   "source": [
    "import keras.backend as K\n",
    "K.clear_session()"
   ]
  },
  {
   "cell_type": "code",
   "execution_count": 17,
   "metadata": {
    "collapsed": true
   },
   "outputs": [],
   "source": [
    "# Create neural net\n",
    "model = Sequential()\n",
    "\n",
    "# Used relu for activation function\n",
    "model.add(Dense(10, input_dim=x.shape[1], kernel_initializer='normal', activation='relu'))\n",
    "model.add(Dense(50, input_dim=x.shape[1], kernel_initializer='normal', activation='relu'))\n",
    "model.add(Dense(10, input_dim=x.shape[1], kernel_initializer='normal', activation='relu'))\n",
    "\n",
    "# output layer \n",
    "model.add(Dense(1, kernel_initializer='normal'))\n",
    "model.add(Dense(y.shape[1],activation='softmax'))\n",
    "# model.add(Dense(y.shape[1],activation = 'sigmoid'))"
   ]
  },
  {
   "cell_type": "code",
   "execution_count": 18,
   "metadata": {},
   "outputs": [
    {
     "name": "stdout",
     "output_type": "stream",
     "text": [
      "_________________________________________________________________\n",
      "Layer (type)                 Output Shape              Param #   \n",
      "=================================================================\n",
      "dense_1 (Dense)              (None, 10)                50        \n",
      "_________________________________________________________________\n",
      "dense_2 (Dense)              (None, 50)                550       \n",
      "_________________________________________________________________\n",
      "dense_3 (Dense)              (None, 10)                510       \n",
      "_________________________________________________________________\n",
      "dense_4 (Dense)              (None, 1)                 11        \n",
      "_________________________________________________________________\n",
      "dense_5 (Dense)              (None, 2)                 4         \n",
      "=================================================================\n",
      "Total params: 1,125\n",
      "Trainable params: 1,125\n",
      "Non-trainable params: 0\n",
      "_________________________________________________________________\n"
     ]
    }
   ],
   "source": [
    "# Print the model summary\n",
    "model.summary()"
   ]
  },
  {
   "cell_type": "code",
   "execution_count": 19,
   "metadata": {
    "collapsed": true
   },
   "outputs": [],
   "source": [
    "class LossHistory(keras.callbacks.Callback):\n",
    "    def on_train_begin(self, logs={}):\n",
    "        # TODO:  Create two empty lists, self.loss and self.val_acc\n",
    "        self.losses = []\n",
    "        self.accs = []\n",
    "        self.val_acc = []\n",
    "        self.val_loss = []\n",
    "    def on_batch_end(self, batch, logs={}):\n",
    "        # TODO:  This is called at the end of each batch.  \n",
    "        # Add the loss in logs.get('loss') to the loss list\n",
    "        loss = logs.get('loss')\n",
    "        acc = logs.get('acc')\n",
    "        self.losses.append(loss)\n",
    "        self.accs.append(acc)\n",
    "    def on_epoch_end(self, epoch, logs):\n",
    "        # TODO:  This is called at the end of each epoch.  \n",
    "        # Add the test accuracy in logs.get('loss') to the val_acc list\n",
    "        val_acc = logs.get('val_acc')\n",
    "        val_loss = logs.get('val_loss')\n",
    "        self.val_acc.append(val_acc)\n",
    "        self.val_loss.append(val_loss)\n",
    "\n",
    "# Create an instance of the history callback\n",
    "history_cb = LossHistory()"
   ]
  },
  {
   "cell_type": "code",
   "execution_count": 20,
   "metadata": {
    "collapsed": true
   },
   "outputs": [],
   "source": [
    "from keras import optimizers\n",
    "\n",
    "# optimizer defined\n",
    "opt = optimizers.Adam(lr=0.001, beta_1=0.9, beta_2=0.999, epsilon=1e-08, decay=0.0)"
   ]
  },
  {
   "cell_type": "code",
   "execution_count": 21,
   "metadata": {
    "collapsed": true
   },
   "outputs": [],
   "source": [
    "## compile model\n",
    "model.compile(optimizer='adam',\n",
    "              loss='categorical_crossentropy',\n",
    "              metrics=['accuracy'])\n",
    "monitor = EarlyStopping(monitor='val_loss', min_delta=1e-3, patience=5, verbose=1, mode='auto')\n"
   ]
  },
  {
   "cell_type": "code",
   "execution_count": 22,
   "metadata": {
    "collapsed": true
   },
   "outputs": [],
   "source": [
    "# model.fit(x,y,validation_data=(x_test,y_test),callbacks=[monitor],verbose=2,epochs=1000)"
   ]
  },
  {
   "cell_type": "code",
   "execution_count": 23,
   "metadata": {},
   "outputs": [
    {
     "name": "stdout",
     "output_type": "stream",
     "text": [
      "Train on 23963 samples, validate on 11804 samples\n",
      "Epoch 1/200\n",
      "23963/23963 [==============================] - 0s - loss: 0.6691 - acc: 0.5884 - val_loss: 0.6159 - val_acc: 0.6221\n",
      "Epoch 2/200\n",
      "23963/23963 [==============================] - 0s - loss: 0.5957 - acc: 0.6457 - val_loss: 0.5742 - val_acc: 0.6724\n",
      "Epoch 3/200\n",
      "23963/23963 [==============================] - 0s - loss: 0.5403 - acc: 0.7050 - val_loss: 0.4951 - val_acc: 0.7447\n",
      "Epoch 4/200\n",
      "23963/23963 [==============================] - 0s - loss: 0.4413 - acc: 0.8019 - val_loss: 0.3869 - val_acc: 0.8305\n",
      "Epoch 5/200\n",
      "23963/23963 [==============================] - 0s - loss: 0.3516 - acc: 0.8465 - val_loss: 0.3223 - val_acc: 0.8827\n",
      "Epoch 6/200\n",
      "23963/23963 [==============================] - 0s - loss: 0.2973 - acc: 0.8771 - val_loss: 0.2721 - val_acc: 0.8993\n",
      "Epoch 7/200\n",
      "23963/23963 [==============================] - 0s - loss: 0.2626 - acc: 0.9023 - val_loss: 0.2387 - val_acc: 0.9136\n",
      "Epoch 8/200\n",
      "23963/23963 [==============================] - 0s - loss: 0.2286 - acc: 0.9201 - val_loss: 0.2182 - val_acc: 0.9350\n",
      "Epoch 9/200\n",
      "23963/23963 [==============================] - 0s - loss: 0.2093 - acc: 0.9305 - val_loss: 0.1973 - val_acc: 0.9304\n",
      "Epoch 10/200\n",
      "23963/23963 [==============================] - 0s - loss: 0.1977 - acc: 0.9349 - val_loss: 0.2040 - val_acc: 0.9295\n",
      "Epoch 11/200\n",
      "23963/23963 [==============================] - 0s - loss: 0.1846 - acc: 0.9394 - val_loss: 0.1858 - val_acc: 0.9377\n",
      "Epoch 12/200\n",
      "23963/23963 [==============================] - 0s - loss: 0.1781 - acc: 0.9418 - val_loss: 0.1690 - val_acc: 0.9430\n",
      "Epoch 13/200\n",
      "23963/23963 [==============================] - 0s - loss: 0.1749 - acc: 0.9431 - val_loss: 0.1671 - val_acc: 0.9473\n",
      "Epoch 14/200\n",
      "23963/23963 [==============================] - 0s - loss: 0.1744 - acc: 0.9455 - val_loss: 0.1669 - val_acc: 0.9495\n",
      "Epoch 15/200\n",
      "23963/23963 [==============================] - 0s - loss: 0.1669 - acc: 0.9480 - val_loss: 0.1629 - val_acc: 0.9477\n",
      "Epoch 16/200\n",
      "23963/23963 [==============================] - 0s - loss: 0.1654 - acc: 0.9491 - val_loss: 0.1628 - val_acc: 0.9525\n",
      "Epoch 17/200\n",
      "23963/23963 [==============================] - 0s - loss: 0.1595 - acc: 0.9504 - val_loss: 0.1545 - val_acc: 0.9509\n",
      "Epoch 18/200\n",
      "23963/23963 [==============================] - 0s - loss: 0.1566 - acc: 0.9520 - val_loss: 0.1606 - val_acc: 0.9496\n",
      "Epoch 19/200\n",
      "23963/23963 [==============================] - 0s - loss: 0.1556 - acc: 0.9524 - val_loss: 0.1536 - val_acc: 0.9515\n",
      "Epoch 20/200\n",
      "23963/23963 [==============================] - 0s - loss: 0.1566 - acc: 0.9536 - val_loss: 0.1537 - val_acc: 0.9520\n",
      "Epoch 21/200\n",
      "23963/23963 [==============================] - 0s - loss: 0.1547 - acc: 0.9540 - val_loss: 0.1462 - val_acc: 0.9565\n",
      "Epoch 22/200\n",
      "23963/23963 [==============================] - 0s - loss: 0.1590 - acc: 0.9542 - val_loss: 0.1485 - val_acc: 0.9581\n",
      "Epoch 23/200\n",
      "23963/23963 [==============================] - 0s - loss: 0.1453 - acc: 0.9555 - val_loss: 0.1503 - val_acc: 0.9599\n",
      "Epoch 24/200\n",
      "23963/23963 [==============================] - 0s - loss: 0.1486 - acc: 0.9555 - val_loss: 0.1527 - val_acc: 0.9541\n",
      "Epoch 25/200\n",
      "23963/23963 [==============================] - 0s - loss: 0.1435 - acc: 0.9566 - val_loss: 0.1428 - val_acc: 0.9562\n",
      "Epoch 26/200\n",
      "23963/23963 [==============================] - 0s - loss: 0.1465 - acc: 0.9572 - val_loss: 0.1388 - val_acc: 0.9581\n",
      "Epoch 27/200\n",
      "23963/23963 [==============================] - 0s - loss: 0.1451 - acc: 0.9572 - val_loss: 0.1385 - val_acc: 0.9600\n",
      "Epoch 28/200\n",
      "23963/23963 [==============================] - 0s - loss: 0.1422 - acc: 0.9579 - val_loss: 0.1381 - val_acc: 0.9603\n",
      "Epoch 29/200\n",
      "23963/23963 [==============================] - 0s - loss: 0.1432 - acc: 0.9592 - val_loss: 0.1385 - val_acc: 0.9581\n",
      "Epoch 30/200\n",
      "23963/23963 [==============================] - 0s - loss: 0.1429 - acc: 0.9590 - val_loss: 0.1844 - val_acc: 0.9534\n",
      "Epoch 31/200\n",
      "23963/23963 [==============================] - 0s - loss: 0.1423 - acc: 0.9597 - val_loss: 0.1348 - val_acc: 0.9604\n",
      "Epoch 32/200\n",
      "23963/23963 [==============================] - 0s - loss: 0.1406 - acc: 0.9596 - val_loss: 0.1376 - val_acc: 0.9593\n",
      "Epoch 33/200\n",
      "23963/23963 [==============================] - 0s - loss: 0.1388 - acc: 0.9604 - val_loss: 0.1343 - val_acc: 0.9603\n",
      "Epoch 34/200\n",
      "23963/23963 [==============================] - 0s - loss: 0.1375 - acc: 0.9609 - val_loss: 0.1328 - val_acc: 0.9607\n",
      "Epoch 35/200\n",
      "23963/23963 [==============================] - 0s - loss: 0.1412 - acc: 0.9607 - val_loss: 0.1402 - val_acc: 0.9637\n",
      "Epoch 36/200\n",
      "23963/23963 [==============================] - 0s - loss: 0.1359 - acc: 0.9613 - val_loss: 0.1319 - val_acc: 0.9615\n",
      "Epoch 37/200\n",
      "23963/23963 [==============================] - 0s - loss: 0.1324 - acc: 0.9621 - val_loss: 0.1309 - val_acc: 0.9619\n",
      "Epoch 38/200\n",
      "23963/23963 [==============================] - 0s - loss: 0.1408 - acc: 0.9619 - val_loss: 0.1560 - val_acc: 0.9579\n",
      "Epoch 39/200\n",
      "23963/23963 [==============================] - 0s - loss: 0.1375 - acc: 0.9621 - val_loss: 0.1311 - val_acc: 0.9635\n",
      "Epoch 40/200\n",
      "23963/23963 [==============================] - 0s - loss: 0.1355 - acc: 0.9619 - val_loss: 0.1562 - val_acc: 0.9658\n",
      "Epoch 41/200\n",
      "23963/23963 [==============================] - 0s - loss: 0.1405 - acc: 0.9616 - val_loss: 0.1808 - val_acc: 0.9570\n",
      "Epoch 42/200\n",
      "23963/23963 [==============================] - 0s - loss: 0.1355 - acc: 0.9623 - val_loss: 0.1464 - val_acc: 0.9652\n",
      "Epoch 43/200\n",
      "23963/23963 [==============================] - 0s - loss: 0.1344 - acc: 0.9632 - val_loss: 0.1292 - val_acc: 0.9626\n",
      "Epoch 44/200\n",
      "23963/23963 [==============================] - 0s - loss: 0.1377 - acc: 0.9629 - val_loss: 0.1332 - val_acc: 0.9619\n",
      "Epoch 45/200\n",
      "23963/23963 [==============================] - 0s - loss: 0.1335 - acc: 0.9632 - val_loss: 0.1363 - val_acc: 0.9617\n",
      "Epoch 46/200\n",
      "23963/23963 [==============================] - 0s - loss: 0.1331 - acc: 0.9637 - val_loss: 0.1275 - val_acc: 0.9635\n",
      "Epoch 47/200\n",
      "23963/23963 [==============================] - 0s - loss: 0.1317 - acc: 0.9639 - val_loss: 0.1270 - val_acc: 0.9637\n",
      "Epoch 48/200\n",
      "23963/23963 [==============================] - 0s - loss: 0.1364 - acc: 0.9637 - val_loss: 0.1410 - val_acc: 0.9659\n",
      "Epoch 49/200\n",
      "23963/23963 [==============================] - 0s - loss: 0.1296 - acc: 0.9642 - val_loss: 0.1690 - val_acc: 0.9600\n",
      "Epoch 50/200\n",
      "23963/23963 [==============================] - 0s - loss: 0.1345 - acc: 0.9642 - val_loss: 0.1266 - val_acc: 0.9637\n",
      "Epoch 51/200\n",
      "23963/23963 [==============================] - 0s - loss: 0.1297 - acc: 0.9641 - val_loss: 0.1399 - val_acc: 0.9620\n",
      "Epoch 52/200\n",
      "23963/23963 [==============================] - 0s - loss: 0.1360 - acc: 0.9639 - val_loss: 0.1521 - val_acc: 0.9609\n",
      "Epoch 53/200\n",
      "23963/23963 [==============================] - 0s - loss: 0.1315 - acc: 0.9645 - val_loss: 0.1308 - val_acc: 0.9654\n",
      "Epoch 54/200\n",
      "23963/23963 [==============================] - 0s - loss: 0.1302 - acc: 0.9647 - val_loss: 0.1312 - val_acc: 0.9657\n",
      "Epoch 55/200\n",
      "23963/23963 [==============================] - 0s - loss: 0.1286 - acc: 0.9647 - val_loss: 0.1250 - val_acc: 0.9643\n",
      "Epoch 56/200\n",
      "23963/23963 [==============================] - 0s - loss: 0.1295 - acc: 0.9647 - val_loss: 0.1248 - val_acc: 0.9642\n",
      "Epoch 57/200\n",
      "23963/23963 [==============================] - 0s - loss: 0.1296 - acc: 0.9649 - val_loss: 0.1260 - val_acc: 0.9639\n",
      "Epoch 58/200\n",
      "23963/23963 [==============================] - 0s - loss: 0.1290 - acc: 0.9650 - val_loss: 0.1334 - val_acc: 0.9674\n",
      "Epoch 59/200\n",
      "23963/23963 [==============================] - 0s - loss: 0.1327 - acc: 0.9651 - val_loss: 0.1292 - val_acc: 0.9666\n",
      "Epoch 60/200\n",
      "23963/23963 [==============================] - 0s - loss: 0.1304 - acc: 0.9654 - val_loss: 0.1240 - val_acc: 0.9643\n",
      "Epoch 61/200\n",
      "23963/23963 [==============================] - 0s - loss: 0.1279 - acc: 0.9656 - val_loss: 0.1266 - val_acc: 0.9640\n",
      "Epoch 62/200\n",
      "23963/23963 [==============================] - 0s - loss: 0.1301 - acc: 0.9656 - val_loss: 0.1534 - val_acc: 0.9622\n",
      "Epoch 63/200\n",
      "23963/23963 [==============================] - 0s - loss: 0.1272 - acc: 0.9656 - val_loss: 0.1296 - val_acc: 0.9676\n",
      "Epoch 64/200\n"
     ]
    },
    {
     "name": "stdout",
     "output_type": "stream",
     "text": [
      "23963/23963 [==============================] - 0s - loss: 0.1285 - acc: 0.9658 - val_loss: 0.1238 - val_acc: 0.9659\n",
      "Epoch 65/200\n",
      "23963/23963 [==============================] - 0s - loss: 0.1325 - acc: 0.9653 - val_loss: 0.1262 - val_acc: 0.9642\n",
      "Epoch 66/200\n",
      "23963/23963 [==============================] - 0s - loss: 0.1325 - acc: 0.9657 - val_loss: 0.1378 - val_acc: 0.9636\n",
      "Epoch 67/200\n",
      "23963/23963 [==============================] - 0s - loss: 0.1275 - acc: 0.9658 - val_loss: 0.1238 - val_acc: 0.9645\n",
      "Epoch 68/200\n",
      "23963/23963 [==============================] - 0s - loss: 0.1297 - acc: 0.9660 - val_loss: 0.1376 - val_acc: 0.9637\n",
      "Epoch 69/200\n",
      "23963/23963 [==============================] - 0s - loss: 0.1306 - acc: 0.9660 - val_loss: 0.1235 - val_acc: 0.9661\n",
      "Epoch 70/200\n",
      "23963/23963 [==============================] - 0s - loss: 0.1246 - acc: 0.9661 - val_loss: 0.1280 - val_acc: 0.9642\n",
      "Epoch 71/200\n",
      "23963/23963 [==============================] - 0s - loss: 0.1337 - acc: 0.9661 - val_loss: 0.1660 - val_acc: 0.9690\n",
      "Epoch 72/200\n",
      "23963/23963 [==============================] - 0s - loss: 0.1321 - acc: 0.9662 - val_loss: 0.1368 - val_acc: 0.9637\n",
      "Epoch 73/200\n",
      "23963/23963 [==============================] - 0s - loss: 0.1256 - acc: 0.9660 - val_loss: 0.1308 - val_acc: 0.9641\n",
      "Epoch 74/200\n",
      "23963/23963 [==============================] - 0s - loss: 0.1271 - acc: 0.9662 - val_loss: 0.1230 - val_acc: 0.9651\n",
      "Epoch 75/200\n",
      "23963/23963 [==============================] - 0s - loss: 0.1262 - acc: 0.9664 - val_loss: 0.1276 - val_acc: 0.9643\n",
      "Epoch 76/200\n",
      "23963/23963 [==============================] - 0s - loss: 0.1263 - acc: 0.9666 - val_loss: 0.1376 - val_acc: 0.9690\n",
      "Epoch 77/200\n",
      "23963/23963 [==============================] - 0s - loss: 0.1281 - acc: 0.9664 - val_loss: 0.1220 - val_acc: 0.9658\n",
      "Epoch 78/200\n",
      "23963/23963 [==============================] - 0s - loss: 0.1261 - acc: 0.9673 - val_loss: 0.1276 - val_acc: 0.9687\n",
      "Epoch 79/200\n",
      "23963/23963 [==============================] - 0s - loss: 0.1247 - acc: 0.9672 - val_loss: 0.1271 - val_acc: 0.9645\n",
      "Epoch 80/200\n",
      "23963/23963 [==============================] - 0s - loss: 0.1256 - acc: 0.9672 - val_loss: 0.1682 - val_acc: 0.9628\n",
      "Epoch 81/200\n",
      "23963/23963 [==============================] - 0s - loss: 0.1313 - acc: 0.9667 - val_loss: 0.1354 - val_acc: 0.9690\n",
      "Epoch 82/200\n",
      "23963/23963 [==============================] - 0s - loss: 0.1238 - acc: 0.9672 - val_loss: 0.1257 - val_acc: 0.9648\n",
      "Epoch 83/200\n",
      "23963/23963 [==============================] - 0s - loss: 0.1317 - acc: 0.9666 - val_loss: 0.1329 - val_acc: 0.9690\n",
      "Epoch 84/200\n",
      "23963/23963 [==============================] - 0s - loss: 0.1281 - acc: 0.9668 - val_loss: 0.1214 - val_acc: 0.9665\n",
      "Epoch 85/200\n",
      "23963/23963 [==============================] - 0s - loss: 0.1247 - acc: 0.9672 - val_loss: 0.1226 - val_acc: 0.9657\n",
      "Epoch 86/200\n",
      "23963/23963 [==============================] - 0s - loss: 0.1284 - acc: 0.9669 - val_loss: 0.1280 - val_acc: 0.9688\n",
      "Epoch 87/200\n",
      "23963/23963 [==============================] - 0s - loss: 0.1256 - acc: 0.9669 - val_loss: 0.1235 - val_acc: 0.9654\n",
      "Epoch 88/200\n",
      "23963/23963 [==============================] - 0s - loss: 0.1249 - acc: 0.9672 - val_loss: 0.1275 - val_acc: 0.9647\n",
      "Epoch 89/200\n",
      "23963/23963 [==============================] - 0s - loss: 0.1264 - acc: 0.9669 - val_loss: 0.1259 - val_acc: 0.9652\n",
      "Epoch 90/200\n",
      "23963/23963 [==============================] - 0s - loss: 0.1280 - acc: 0.9668 - val_loss: 0.1220 - val_acc: 0.9660\n",
      "Epoch 91/200\n",
      "23963/23963 [==============================] - 0s - loss: 0.1229 - acc: 0.9672 - val_loss: 0.1303 - val_acc: 0.9645\n",
      "Epoch 92/200\n",
      "23963/23963 [==============================] - 0s - loss: 0.1219 - acc: 0.9676 - val_loss: 0.1206 - val_acc: 0.9676\n",
      "Epoch 93/200\n",
      "23963/23963 [==============================] - 0s - loss: 0.1248 - acc: 0.9677 - val_loss: 0.1229 - val_acc: 0.9660\n",
      "Epoch 94/200\n",
      "23963/23963 [==============================] - 0s - loss: 0.1230 - acc: 0.9677 - val_loss: 0.1237 - val_acc: 0.9689\n",
      "Epoch 95/200\n",
      "23963/23963 [==============================] - 0s - loss: 0.1257 - acc: 0.9680 - val_loss: 0.1206 - val_acc: 0.9686\n",
      "Epoch 96/200\n",
      "23963/23963 [==============================] - 0s - loss: 0.1244 - acc: 0.9679 - val_loss: 0.1357 - val_acc: 0.9644\n",
      "Epoch 97/200\n",
      "23963/23963 [==============================] - 0s - loss: 0.1246 - acc: 0.9680 - val_loss: 0.1208 - val_acc: 0.9674\n",
      "Epoch 98/200\n",
      "23963/23963 [==============================] - 0s - loss: 0.1239 - acc: 0.9678 - val_loss: 0.1279 - val_acc: 0.9690\n",
      "Epoch 99/200\n",
      "23963/23963 [==============================] - 0s - loss: 0.1305 - acc: 0.9674 - val_loss: 0.1240 - val_acc: 0.9689\n",
      "Epoch 100/200\n",
      "23963/23963 [==============================] - 0s - loss: 0.1262 - acc: 0.9680 - val_loss: 0.1254 - val_acc: 0.9689\n",
      "Epoch 101/200\n",
      "23963/23963 [==============================] - 0s - loss: 0.1211 - acc: 0.9681 - val_loss: 0.1338 - val_acc: 0.9690\n",
      "Epoch 102/200\n",
      "23963/23963 [==============================] - 0s - loss: 0.1224 - acc: 0.9682 - val_loss: 0.1420 - val_acc: 0.9643\n",
      "Epoch 103/200\n",
      "23963/23963 [==============================] - 0s - loss: 0.1334 - acc: 0.9671 - val_loss: 0.1247 - val_acc: 0.9689\n",
      "Epoch 104/200\n",
      "23963/23963 [==============================] - 0s - loss: 0.1237 - acc: 0.9680 - val_loss: 0.1210 - val_acc: 0.9687\n",
      "Epoch 105/200\n",
      "23963/23963 [==============================] - 0s - loss: 0.1234 - acc: 0.9677 - val_loss: 0.1202 - val_acc: 0.9679\n",
      "Epoch 106/200\n",
      "23963/23963 [==============================] - 0s - loss: 0.1330 - acc: 0.9671 - val_loss: 0.1220 - val_acc: 0.9687\n",
      "Epoch 107/200\n",
      "23963/23963 [==============================] - 0s - loss: 0.1229 - acc: 0.9677 - val_loss: 0.1252 - val_acc: 0.9690\n",
      "Epoch 108/200\n",
      "23963/23963 [==============================] - 0s - loss: 0.1225 - acc: 0.9681 - val_loss: 0.1313 - val_acc: 0.9650\n",
      "Epoch 109/200\n",
      "23963/23963 [==============================] - 0s - loss: 0.1232 - acc: 0.9676 - val_loss: 0.1200 - val_acc: 0.9686\n",
      "Epoch 110/200\n",
      "23963/23963 [==============================] - 0s - loss: 0.1204 - acc: 0.9684 - val_loss: 0.1222 - val_acc: 0.9689\n",
      "Epoch 111/200\n",
      "23963/23963 [==============================] - 0s - loss: 0.1271 - acc: 0.9680 - val_loss: 0.1217 - val_acc: 0.9673\n",
      "Epoch 112/200\n",
      "23963/23963 [==============================] - 0s - loss: 0.1240 - acc: 0.9677 - val_loss: 0.1213 - val_acc: 0.9674\n",
      "Epoch 113/200\n",
      "23963/23963 [==============================] - 0s - loss: 0.1254 - acc: 0.9681 - val_loss: 0.1199 - val_acc: 0.9686\n",
      "Epoch 114/200\n",
      "23963/23963 [==============================] - 0s - loss: 0.1251 - acc: 0.9680 - val_loss: 0.1224 - val_acc: 0.9673\n",
      "Epoch 115/200\n",
      "23963/23963 [==============================] - 0s - loss: 0.1239 - acc: 0.9682 - val_loss: 0.1223 - val_acc: 0.9673\n",
      "Epoch 116/200\n",
      "23963/23963 [==============================] - 0s - loss: 0.1208 - acc: 0.9684 - val_loss: 0.1198 - val_acc: 0.9687\n",
      "Epoch 117/200\n",
      "23963/23963 [==============================] - 0s - loss: 0.1259 - acc: 0.9680 - val_loss: 0.1579 - val_acc: 0.9690\n",
      "Epoch 118/200\n",
      "23963/23963 [==============================] - 0s - loss: 0.1253 - acc: 0.9682 - val_loss: 0.1198 - val_acc: 0.9687\n",
      "Epoch 119/200\n",
      "23963/23963 [==============================] - 0s - loss: 0.1237 - acc: 0.9684 - val_loss: 0.1263 - val_acc: 0.9660\n",
      "Epoch 120/200\n",
      "23963/23963 [==============================] - 0s - loss: 0.1261 - acc: 0.9680 - val_loss: 0.1228 - val_acc: 0.9690\n",
      "Epoch 121/200\n",
      "23963/23963 [==============================] - 0s - loss: 0.1213 - acc: 0.9687 - val_loss: 0.1203 - val_acc: 0.9688\n",
      "Epoch 122/200\n",
      "23963/23963 [==============================] - 0s - loss: 0.1211 - acc: 0.9688 - val_loss: 0.1219 - val_acc: 0.9690\n",
      "Epoch 123/200\n",
      "23963/23963 [==============================] - 0s - loss: 0.1211 - acc: 0.9686 - val_loss: 0.1199 - val_acc: 0.9689\n",
      "Epoch 124/200\n",
      "23963/23963 [==============================] - 0s - loss: 0.1233 - acc: 0.9684 - val_loss: 0.1229 - val_acc: 0.9674\n",
      "Epoch 125/200\n",
      "23963/23963 [==============================] - 0s - loss: 0.1221 - acc: 0.9685 - val_loss: 0.1234 - val_acc: 0.9674\n",
      "Epoch 126/200\n",
      "23963/23963 [==============================] - 0s - loss: 0.1221 - acc: 0.9687 - val_loss: 0.1192 - val_acc: 0.9687\n",
      "Epoch 127/200\n"
     ]
    },
    {
     "name": "stdout",
     "output_type": "stream",
     "text": [
      "23963/23963 [==============================] - 0s - loss: 0.1238 - acc: 0.9688 - val_loss: 0.1193 - val_acc: 0.9687\n",
      "Epoch 128/200\n",
      "23963/23963 [==============================] - 0s - loss: 0.1215 - acc: 0.9685 - val_loss: 0.1199 - val_acc: 0.9686\n",
      "Epoch 129/200\n",
      "23963/23963 [==============================] - 0s - loss: 0.1205 - acc: 0.9690 - val_loss: 0.1192 - val_acc: 0.9687\n",
      "Epoch 130/200\n",
      "23963/23963 [==============================] - 0s - loss: 0.1240 - acc: 0.9687 - val_loss: 0.1191 - val_acc: 0.9687\n",
      "Epoch 131/200\n",
      "23963/23963 [==============================] - 0s - loss: 0.1201 - acc: 0.9688 - val_loss: 0.1245 - val_acc: 0.9690\n",
      "Epoch 132/200\n",
      "23963/23963 [==============================] - 0s - loss: 0.1279 - acc: 0.9681 - val_loss: 0.1286 - val_acc: 0.9690\n",
      "Epoch 133/200\n",
      "23963/23963 [==============================] - 0s - loss: 0.1223 - acc: 0.9686 - val_loss: 0.1242 - val_acc: 0.9690\n",
      "Epoch 134/200\n",
      "23963/23963 [==============================] - 0s - loss: 0.1237 - acc: 0.9683 - val_loss: 0.1194 - val_acc: 0.9689\n",
      "Epoch 135/200\n",
      "23963/23963 [==============================] - 0s - loss: 0.1233 - acc: 0.9687 - val_loss: 0.1200 - val_acc: 0.9690\n",
      "Epoch 136/200\n",
      "23963/23963 [==============================] - 0s - loss: 0.1232 - acc: 0.9688 - val_loss: 0.1193 - val_acc: 0.9689\n",
      "Epoch 137/200\n",
      "23963/23963 [==============================] - 0s - loss: 0.1221 - acc: 0.9687 - val_loss: 0.1261 - val_acc: 0.9690\n",
      "Epoch 138/200\n",
      "23963/23963 [==============================] - 0s - loss: 0.1204 - acc: 0.9689 - val_loss: 0.1202 - val_acc: 0.9686\n",
      "Epoch 139/200\n",
      "23963/23963 [==============================] - 0s - loss: 0.1183 - acc: 0.9693 - val_loss: 0.1232 - val_acc: 0.9679\n",
      "Epoch 140/200\n",
      "23963/23963 [==============================] - 0s - loss: 0.1220 - acc: 0.9690 - val_loss: 0.1217 - val_acc: 0.9683\n",
      "Epoch 141/200\n",
      "23963/23963 [==============================] - 0s - loss: 0.1202 - acc: 0.9687 - val_loss: 0.1188 - val_acc: 0.9688\n",
      "Epoch 142/200\n",
      "23963/23963 [==============================] - 0s - loss: 0.1241 - acc: 0.9685 - val_loss: 0.1197 - val_acc: 0.9690\n",
      "Epoch 143/200\n",
      "23963/23963 [==============================] - 0s - loss: 0.1201 - acc: 0.9691 - val_loss: 0.1323 - val_acc: 0.9665\n",
      "Epoch 144/200\n",
      "23963/23963 [==============================] - 0s - loss: 0.1193 - acc: 0.9691 - val_loss: 0.1200 - val_acc: 0.9687\n",
      "Epoch 145/200\n",
      "23963/23963 [==============================] - 0s - loss: 0.1224 - acc: 0.9690 - val_loss: 0.1268 - val_acc: 0.9690\n",
      "Epoch 146/200\n",
      "23963/23963 [==============================] - 0s - loss: 0.1225 - acc: 0.9689 - val_loss: 0.1322 - val_acc: 0.9667\n",
      "Epoch 147/200\n",
      "23963/23963 [==============================] - 0s - loss: 0.1211 - acc: 0.9692 - val_loss: 0.1187 - val_acc: 0.9689\n",
      "Epoch 148/200\n",
      "23963/23963 [==============================] - 0s - loss: 0.1184 - acc: 0.9691 - val_loss: 0.1238 - val_acc: 0.9690\n",
      "Epoch 149/200\n",
      "23963/23963 [==============================] - 0s - loss: 0.1218 - acc: 0.9691 - val_loss: 0.1315 - val_acc: 0.9673\n",
      "Epoch 150/200\n",
      "23963/23963 [==============================] - 0s - loss: 0.1199 - acc: 0.9692 - val_loss: 0.1195 - val_acc: 0.9687\n",
      "Epoch 151/200\n",
      "23963/23963 [==============================] - 0s - loss: 0.1254 - acc: 0.9690 - val_loss: 0.1185 - val_acc: 0.9689\n",
      "Epoch 152/200\n",
      "23963/23963 [==============================] - 0s - loss: 0.1205 - acc: 0.9690 - val_loss: 0.1189 - val_acc: 0.9690\n",
      "Epoch 153/200\n",
      "23963/23963 [==============================] - 0s - loss: 0.1205 - acc: 0.9691 - val_loss: 0.1416 - val_acc: 0.9658\n",
      "Epoch 154/200\n",
      "23963/23963 [==============================] - 0s - loss: 0.1252 - acc: 0.9689 - val_loss: 0.1201 - val_acc: 0.9687\n",
      "Epoch 155/200\n",
      "23963/23963 [==============================] - 0s - loss: 0.1210 - acc: 0.9691 - val_loss: 0.1365 - val_acc: 0.9660\n",
      "Epoch 156/200\n",
      "23963/23963 [==============================] - 0s - loss: 0.1228 - acc: 0.9690 - val_loss: 0.1185 - val_acc: 0.9690\n",
      "Epoch 157/200\n",
      "23963/23963 [==============================] - 0s - loss: 0.1192 - acc: 0.9692 - val_loss: 0.1218 - val_acc: 0.9690\n",
      "Epoch 158/200\n",
      "23963/23963 [==============================] - 0s - loss: 0.1202 - acc: 0.9692 - val_loss: 0.1193 - val_acc: 0.9687\n",
      "Epoch 159/200\n",
      "23963/23963 [==============================] - 0s - loss: 0.1198 - acc: 0.9695 - val_loss: 0.1485 - val_acc: 0.9653\n",
      "Epoch 160/200\n",
      "23963/23963 [==============================] - 0s - loss: 0.1236 - acc: 0.9689 - val_loss: 0.1185 - val_acc: 0.9690\n",
      "Epoch 161/200\n",
      "23963/23963 [==============================] - 0s - loss: 0.1190 - acc: 0.9692 - val_loss: 0.1194 - val_acc: 0.9687\n",
      "Epoch 162/200\n",
      "23963/23963 [==============================] - 0s - loss: 0.1193 - acc: 0.9692 - val_loss: 0.1187 - val_acc: 0.9689\n",
      "Epoch 163/200\n",
      "23963/23963 [==============================] - 0s - loss: 0.1215 - acc: 0.9691 - val_loss: 0.1247 - val_acc: 0.9690\n",
      "Epoch 164/200\n",
      "23963/23963 [==============================] - 0s - loss: 0.1186 - acc: 0.9694 - val_loss: 0.1183 - val_acc: 0.9690\n",
      "Epoch 165/200\n",
      "23963/23963 [==============================] - 0s - loss: 0.1197 - acc: 0.9693 - val_loss: 0.1223 - val_acc: 0.9687\n",
      "Epoch 166/200\n",
      "23963/23963 [==============================] - 0s - loss: 0.1182 - acc: 0.9693 - val_loss: 0.1301 - val_acc: 0.9690\n",
      "Epoch 167/200\n",
      "23963/23963 [==============================] - 0s - loss: 0.1214 - acc: 0.9694 - val_loss: 0.1183 - val_acc: 0.9690\n",
      "Epoch 168/200\n",
      "23963/23963 [==============================] - 0s - loss: 0.1182 - acc: 0.9694 - val_loss: 0.1246 - val_acc: 0.9686\n",
      "Epoch 169/200\n",
      "23963/23963 [==============================] - 0s - loss: 0.1195 - acc: 0.9693 - val_loss: 0.1239 - val_acc: 0.9687\n",
      "Epoch 170/200\n",
      "23963/23963 [==============================] - 0s - loss: 0.1199 - acc: 0.9693 - val_loss: 0.1209 - val_acc: 0.9687\n",
      "Epoch 171/200\n",
      "23963/23963 [==============================] - 0s - loss: 0.1211 - acc: 0.9694 - val_loss: 0.1184 - val_acc: 0.9690\n",
      "Epoch 172/200\n",
      "23963/23963 [==============================] - 0s - loss: 0.1216 - acc: 0.9692 - val_loss: 0.1180 - val_acc: 0.9690\n",
      "Epoch 173/200\n",
      "23963/23963 [==============================] - 0s - loss: 0.1184 - acc: 0.9694 - val_loss: 0.1199 - val_acc: 0.9689\n",
      "Epoch 174/200\n",
      "23963/23963 [==============================] - 0s - loss: 0.1205 - acc: 0.9693 - val_loss: 0.1229 - val_acc: 0.9690\n",
      "Epoch 175/200\n",
      "23963/23963 [==============================] - 0s - loss: 0.1198 - acc: 0.9692 - val_loss: 0.1190 - val_acc: 0.9690\n",
      "Epoch 176/200\n",
      "23963/23963 [==============================] - 0s - loss: 0.1218 - acc: 0.9693 - val_loss: 0.1228 - val_acc: 0.9690\n",
      "Epoch 177/200\n",
      "23963/23963 [==============================] - 0s - loss: 0.1181 - acc: 0.9695 - val_loss: 0.1195 - val_acc: 0.9690\n",
      "Epoch 178/200\n",
      "23963/23963 [==============================] - 0s - loss: 0.1208 - acc: 0.9691 - val_loss: 0.1181 - val_acc: 0.9690\n",
      "Epoch 179/200\n",
      "23963/23963 [==============================] - 0s - loss: 0.1187 - acc: 0.9694 - val_loss: 0.1180 - val_acc: 0.9690\n",
      "Epoch 180/200\n",
      "23963/23963 [==============================] - 0s - loss: 0.1216 - acc: 0.9690 - val_loss: 0.1192 - val_acc: 0.9690\n",
      "Epoch 181/200\n",
      "23963/23963 [==============================] - 0s - loss: 0.1236 - acc: 0.9690 - val_loss: 0.1186 - val_acc: 0.9689\n",
      "Epoch 182/200\n",
      "23963/23963 [==============================] - 0s - loss: 0.1209 - acc: 0.9691 - val_loss: 0.1194 - val_acc: 0.9690\n",
      "Epoch 183/200\n",
      "23963/23963 [==============================] - 0s - loss: 0.1180 - acc: 0.9694 - val_loss: 0.1282 - val_acc: 0.9683\n",
      "Epoch 184/200\n",
      "23963/23963 [==============================] - 0s - loss: 0.1209 - acc: 0.9691 - val_loss: 0.1178 - val_acc: 0.9690\n",
      "Epoch 185/200\n",
      "23963/23963 [==============================] - 0s - loss: 0.1192 - acc: 0.9694 - val_loss: 0.1215 - val_acc: 0.9690\n",
      "Epoch 186/200\n",
      "23963/23963 [==============================] - 0s - loss: 0.1204 - acc: 0.9692 - val_loss: 0.1257 - val_acc: 0.9690\n",
      "Epoch 187/200\n",
      "23963/23963 [==============================] - 0s - loss: 0.1201 - acc: 0.9693 - val_loss: 0.1181 - val_acc: 0.9690\n",
      "Epoch 188/200\n",
      "23963/23963 [==============================] - 0s - loss: 0.1228 - acc: 0.9692 - val_loss: 0.1193 - val_acc: 0.9690\n",
      "Epoch 189/200\n",
      "23963/23963 [==============================] - 0s - loss: 0.1203 - acc: 0.9691 - val_loss: 0.1234 - val_acc: 0.9687\n",
      "Epoch 190/200\n"
     ]
    },
    {
     "name": "stdout",
     "output_type": "stream",
     "text": [
      "23963/23963 [==============================] - 0s - loss: 0.1198 - acc: 0.9693 - val_loss: 0.1214 - val_acc: 0.9690\n",
      "Epoch 191/200\n",
      "23963/23963 [==============================] - 0s - loss: 0.1196 - acc: 0.9694 - val_loss: 0.1180 - val_acc: 0.9690\n",
      "Epoch 192/200\n",
      "23963/23963 [==============================] - 0s - loss: 0.1228 - acc: 0.9690 - val_loss: 0.1209 - val_acc: 0.9687\n",
      "Epoch 193/200\n",
      "23963/23963 [==============================] - 0s - loss: 0.1183 - acc: 0.9695 - val_loss: 0.1220 - val_acc: 0.9687\n",
      "Epoch 194/200\n",
      "23963/23963 [==============================] - 0s - loss: 0.1207 - acc: 0.9694 - val_loss: 0.1185 - val_acc: 0.9689\n",
      "Epoch 195/200\n",
      "23963/23963 [==============================] - 0s - loss: 0.1182 - acc: 0.9694 - val_loss: 0.1546 - val_acc: 0.9690\n",
      "Epoch 196/200\n",
      "23963/23963 [==============================] - 0s - loss: 0.1212 - acc: 0.9691 - val_loss: 0.1189 - val_acc: 0.9690\n",
      "Epoch 197/200\n",
      "23963/23963 [==============================] - 0s - loss: 0.1211 - acc: 0.9692 - val_loss: 0.1402 - val_acc: 0.9657\n",
      "Epoch 198/200\n",
      "23963/23963 [==============================] - 0s - loss: 0.1208 - acc: 0.9690 - val_loss: 0.1191 - val_acc: 0.9687\n",
      "Epoch 199/200\n",
      "23963/23963 [==============================] - 0s - loss: 0.1184 - acc: 0.9694 - val_loss: 0.1183 - val_acc: 0.9690\n",
      "Epoch 200/200\n",
      "23963/23963 [==============================] - 0s - loss: 0.1183 - acc: 0.9694 - val_loss: 0.1186 - val_acc: 0.9690\n"
     ]
    },
    {
     "data": {
      "text/plain": [
       "<keras.callbacks.History at 0x11b314550>"
      ]
     },
     "execution_count": 23,
     "metadata": {},
     "output_type": "execute_result"
    }
   ],
   "source": [
    "batch_size = 200\n",
    "epochs = 200\n",
    "model.fit(x_train,y_train,callbacks=[history_cb],validation_data=(x_test,y_test),verbose=1,epochs=epochs,batch_size=batch_size)"
   ]
  },
  {
   "cell_type": "code",
   "execution_count": 24,
   "metadata": {},
   "outputs": [
    {
     "name": "stdout",
     "output_type": "stream",
     "text": [
      "Validation score: 0.9689935615045747\n"
     ]
    }
   ],
   "source": [
    "# Measure accuracy\n",
    "pred = model.predict(x_test)\n",
    "pred = np.argmax(pred,axis=1)\n",
    "y_eval = np.argmax(y_test,axis=1)\n",
    "score = metrics.accuracy_score(y_eval, pred)\n",
    "print(\"Validation score: {}\".format(score))"
   ]
  },
  {
   "cell_type": "code",
   "execution_count": 25,
   "metadata": {},
   "outputs": [
    {
     "name": "stdout",
     "output_type": "stream",
     "text": [
      "Confusion Matrix:\n",
      "[[ 0.5026  0.0001]\n",
      " [ 0.0309  0.4664]]\n"
     ]
    }
   ],
   "source": [
    "from sklearn.metrics import classification_report,confusion_matrix\n",
    "Cm = confusion_matrix(y_eval,pred)\n",
    "C = np.sum(Cm)\n",
    "Cm = Cm/C\n",
    "print('Confusion Matrix:')\n",
    "print(np.array_str(Cm, precision=4, suppress_small=True))"
   ]
  },
  {
   "cell_type": "code",
   "execution_count": 26,
   "metadata": {},
   "outputs": [
    {
     "data": {
      "image/png": "[encoded data removed]",
      "text/plain": [
       "<matplotlib.figure.Figure at 0x11bc32fd0>"
      ]
     },
     "metadata": {},
     "output_type": "display_data"
    }
   ],
   "source": [
    "valAcc = history_cb.val_acc\n",
    "valLoss = history_cb.val_loss\n",
    "epoch_it = np.arange(1,201)\n",
    "plt.subplot(121)\n",
    "plt.plot(epoch_it, valAcc)\n",
    "plt.grid()\n",
    "plt.xlabel('Epoch')\n",
    "plt.ylabel('Validation accuracy')\n",
    "plt.tight_layout()\n",
    "plt.subplot(122)\n",
    "plt.plot(epoch_it, valLoss)\n",
    "plt.grid()\n",
    "plt.xlabel('Epoch')\n",
    "plt.ylabel('Validation loss')\n",
    "plt.tight_layout()\n",
    "plt.show()"
   ]
  },
  {
   "cell_type": "code",
   "execution_count": 28,
   "metadata": {},
   "outputs": [
    {
     "data": {
      "image/png": "[encoded data removed]",
      "text/plain": [
       "<matplotlib.figure.Figure at 0x11fb78c50>"
      ]
     },
     "metadata": {},
     "output_type": "display_data"
    }
   ],
   "source": [
    "Ls = history_cb.losses\n",
    "Acc = history_cb.accs\n",
    "ntr = np.shape(x_train)[0]\n",
    "epochNum = []\n",
    "for i in range(24000):\n",
    "    epochNum.append(i*100/ntr)\n",
    "\n",
    "matplotlib.pyplot.semilogy(epochNum, Ls)\n",
    "plt.grid()\n",
    "plt.xlabel('Epoch')\n",
    "plt.ylabel('Training Loss')\n",
    "plt.tight_layout()\n",
    "plt.show()"
   ]
  },
  {
   "cell_type": "code",
   "execution_count": 29,
   "metadata": {},
   "outputs": [
    {
     "data": {
      "image/png": "[encoded data removed]",
      "text/plain": [
       "<matplotlib.figure.Figure at 0x120567c18>"
      ]
     },
     "metadata": {},
     "output_type": "display_data"
    }
   ],
   "source": [
    "matplotlib.pyplot.semilogy(epochNum, Acc)\n",
    "# plt.plot(epochNum, Acc)\n",
    "plt.grid()\n",
    "plt.xlabel('Epoch')\n",
    "plt.ylabel('Training Accuracy')\n",
    "plt.tight_layout()\n",
    "# plt.axis([0.3,3,0.96,1])\n",
    "plt.show()\n",
    "\n"
   ]
  },
  {
   "cell_type": "code",
   "execution_count": null,
   "metadata": {
    "collapsed": true
   },
   "outputs": [],
   "source": []
  },
  {
   "cell_type": "code",
   "execution_count": null,
   "metadata": {
    "collapsed": true
   },
   "outputs": [],
   "source": [
    "# # Save & Load result\n",
    "# import os\n",
    "# import tensorflow as tf\n",
    "# saver = tf.train.Saver()"
   ]
  },
  {
   "cell_type": "code",
   "execution_count": null,
   "metadata": {
    "collapsed": true
   },
   "outputs": [],
   "source": [
    "# save_dir = 'checkpoints/' "
   ]
  },
  {
   "cell_type": "code",
   "execution_count": null,
   "metadata": {
    "collapsed": true
   },
   "outputs": [],
   "source": [
    "# if not os.path.exists(save_dir):\n",
    "#     os.makedirs(save_dir)"
   ]
  },
  {
   "cell_type": "code",
   "execution_count": null,
   "metadata": {
    "collapsed": true
   },
   "outputs": [],
   "source": [
    "# save_path = os.path.join(save_dir, 'best_validation')"
   ]
  },
  {
   "cell_type": "code",
   "execution_count": null,
   "metadata": {
    "collapsed": true
   },
   "outputs": [],
   "source": [
    "# saver.save(sess=session, save_path=save_path)"
   ]
  },
  {
   "cell_type": "code",
   "execution_count": null,
   "metadata": {
    "collapsed": true
   },
   "outputs": [],
   "source": [
    "# saver.restore(sess=session, save_path=save_path)"
   ]
  },
  {
   "cell_type": "code",
   "execution_count": null,
   "metadata": {
    "collapsed": true
   },
   "outputs": [],
   "source": [
    "# session.run(tf.global_variables_initializer())"
   ]
  },
  {
   "cell_type": "code",
   "execution_count": null,
   "metadata": {
    "collapsed": true
   },
   "outputs": [],
   "source": [
    "# print_test_accuracy(show_example_errors=True)"
   ]
  },
  {
   "cell_type": "code",
   "execution_count": null,
   "metadata": {
    "collapsed": true
   },
   "outputs": [],
   "source": []
  },
  {
   "cell_type": "code",
   "execution_count": null,
   "metadata": {
    "collapsed": true
   },
   "outputs": [],
   "source": []
  }
 ],
 "metadata": {
  "kernelspec": {
   "display_name": "Python 3",
   "language": "python",
   "name": "python3"
  },
  "language_info": {
   "codemirror_mode": {
    "name": "ipython",
    "version": 3
   },
   "file_extension": ".py",
   "mimetype": "text/x-python",
   "name": "python",
   "nbconvert_exporter": "python",
   "pygments_lexer": "ipython3",
   "version": "3.6.1"
  }
 },
 "nbformat": 4,
 "nbformat_minor": 2
}
