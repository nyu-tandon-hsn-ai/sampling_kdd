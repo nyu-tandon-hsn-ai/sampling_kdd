{
 "cells": [
  {
   "cell_type": "code",
   "execution_count": 1,
   "metadata": {},
   "outputs": [
    {
     "name": "stderr",
     "output_type": "stream",
     "text": [
      "Using TensorFlow backend.\n"
     ]
    }
   ],
   "source": [
    "import pandas as pd\n",
    "from sklearn import preprocessing\n",
    "from sklearn.model_selection import train_test_split\n",
    "from sklearn import metrics\n",
    "from keras.models import Sequential\n",
    "from keras.layers.core import Dense, Activation\n",
    "from keras.callbacks import EarlyStopping"
   ]
  },
  {
   "cell_type": "code",
   "execution_count": 2,
   "metadata": {
    "collapsed": true
   },
   "outputs": [],
   "source": [
    "from sklearn import preprocessing\n",
    "import matplotlib.pyplot as plt\n",
    "import numpy as np\n",
    "import pandas as pd\n",
    "import shutil\n",
    "import os\n",
    "import keras\n",
    "import matplotlib\n",
    "import matplotlib.pyplot as plt\n",
    "%matplotlib inline"
   ]
  },
  {
   "cell_type": "code",
   "execution_count": 3,
   "metadata": {
    "collapsed": true
   },
   "outputs": [],
   "source": [
    "\n",
    "# Encode text values to dummy variables(i.e. [1,0,0],[0,1,0],[0,0,1] for red,green,blue)\n",
    "def encode_text_dummy(df, name):\n",
    "    dummies = pd.get_dummies(df[name])\n",
    "    for x in dummies.columns:\n",
    "        dummy_name = \"{}-{}\".format(name, x)\n",
    "        df[dummy_name] = dummies[x]\n",
    "    df.drop(name, axis=1, inplace=True)\n",
    "\n",
    "\n",
    "# Encode text values to a single dummy variable.  The new columns (which do not replace the old) will have a 1\n",
    "# at every location where the original column (name) matches each of the target_values.  One column is added for\n",
    "# each target value.\n",
    "def encode_text_single_dummy(df, name, target_values):\n",
    "    for tv in target_values:\n",
    "        l = list(df[name].astype(str))\n",
    "        l = [1 if str(x) == str(tv) else 0 for x in l]\n",
    "        name2 = \"{}-{}\".format(name, tv)\n",
    "        df[name2] = l\n",
    "\n",
    "\n",
    "# Encode text values to indexes(i.e. [1],[2],[3] for red,green,blue).\n",
    "def encode_text_index(df, name):\n",
    "    le = preprocessing.LabelEncoder()\n",
    "    df[name] = le.fit_transform(df[name])\n",
    "    return le.classes_\n",
    "\n",
    "\n",
    "# Encode a numeric column as zscores\n",
    "def encode_numeric_zscore(df, name, mean=None, sd=None):\n",
    "    if mean is None:\n",
    "        mean = np.asarray(df[name], dtype = np.float).mean()\n",
    "\n",
    "    if sd is None:\n",
    "        sd = np.asarray(df[name], dtype = np.float).std()\n",
    "\n",
    "    df[name] = (np.asarray(df[name], dtype = np.float) - mean) / sd\n",
    "\n",
    "\n",
    "# Convert all missing values in the specified column to the median\n",
    "def missing_median(df, name):\n",
    "    med = df[name].median()\n",
    "    df[name] = df[name].fillna(med)\n",
    "\n",
    "\n",
    "# Convert all missing values in the specified column to the default\n",
    "def missing_default(df, name, default_value):\n",
    "    df[name] = df[name].fillna(default_value)\n",
    "\n",
    "\n",
    "# Convert a Pandas dataframe to the x,y inputs that TensorFlow needs\n",
    "def to_xy(df, target):\n",
    "    result = []\n",
    "    for x in df.columns:\n",
    "        if x != target:\n",
    "            result.append(x)\n",
    "    # find out the type of the target column.  Is it really this hard? :(\n",
    "    target_type = df[target].dtypes\n",
    "    target_type = target_type[0] if hasattr(target_type, '__iter__') else target_type\n",
    "    # Encode to int for classification, float otherwise. TensorFlow likes 32 bits.\n",
    "    if target_type in (np.int64, np.int32):\n",
    "        # Classification\n",
    "        dummies = pd.get_dummies(df[target])\n",
    "        return df.as_matrix(result).astype(np.float32), dummies.as_matrix().astype(np.float32)\n",
    "    else:\n",
    "        # Regression\n",
    "        return df.as_matrix(result).astype(np.float32), df.as_matrix([target]).astype(np.float32)\n",
    "\n",
    "# Nicely formatted time string\n",
    "def hms_string(sec_elapsed):\n",
    "    h = int(sec_elapsed / (60 * 60))\n",
    "    m = int((sec_elapsed % (60 * 60)) / 60)\n",
    "    s = sec_elapsed % 60\n",
    "    return \"{}:{:>02}:{:>05.2f}\".format(h, m, s)\n",
    "\n",
    "\n",
    "# Regression chart.\n",
    "def chart_regression(pred,y,sort=True):\n",
    "    t = pd.DataFrame({'pred' : pred, 'y' : y.flatten()})\n",
    "    if sort:\n",
    "        t.sort_values(by=['y'],inplace=True)\n",
    "    a = plt.plot(t['y'].tolist(),label='expected')\n",
    "    b = plt.plot(t['pred'].tolist(),label='prediction')\n",
    "    plt.ylabel('output')\n",
    "    plt.legend()\n",
    "    plt.show()\n",
    "\n",
    "# Remove all rows where the specified column is +/- sd standard deviations\n",
    "def remove_outliers(df, name, sd):\n",
    "    drop_rows = df.index[(np.abs(df[name] - df[name].mean()) >= (sd * df[name].std()))]\n",
    "    df.drop(drop_rows, axis=0, inplace=True)\n",
    "\n",
    "\n",
    "# Encode a column to a range between normalized_low and normalized_high.\n",
    "def encode_numeric_range(df, name, normalized_low=-1, normalized_high=1,\n",
    "                         data_low=None, data_high=None):\n",
    "    if data_low is None:\n",
    "        data_low = min(df[name])\n",
    "        data_high = max(df[name])\n",
    "\n",
    "    df[name] = ((df[name] - data_low) / (data_high - data_low)) \\\n",
    "               * (normalized_high - normalized_low) + normalized_low"
   ]
  },
  {
   "cell_type": "code",
   "execution_count": 5,
   "metadata": {},
   "outputs": [
    {
     "name": "stdout",
     "output_type": "stream",
     "text": [
      "Read 32457 rows.\n"
     ]
    }
   ],
   "source": [
    "\n",
    "# This file is a CSV, just no CSV extension or headers\n",
    "# Download from: http://kdd.ics.uci.edu/databases/kddcup99/kddcup99.html\n",
    "df_ = pd.read_csv(\"/Users/tsaiflow/Desktop/NN&Sampling/data_ddos_kdd/train_PKT_sampling@20_50%.csv\")\n",
    "\n",
    "print(\"Read {} rows.\".format(len(df_)))\n",
    "#print(\"Read {} rows.\".format(len(df1)))\n",
    "# df = df.sample(frac=0.1, replace=False) # Uncomment this line to sample only 10% of the dataset\n",
    "df_.dropna(inplace=True,axis=1) # For now, just drop NA's (rows with missing values)\n",
    "# df1.dropna(inplace=True,axis=1)\n",
    "\n",
    "# The CSV file has no column heads, so add them\n",
    "# df.columns = [\n",
    "#     'duration',\n",
    "#     'forw_bytes',\n",
    "#     'back_bytes',\n",
    "#     'total_bytes',\n",
    "    \n",
    "#     'outcome'\n",
    "# ]"
   ]
  },
  {
   "cell_type": "code",
   "execution_count": 6,
   "metadata": {},
   "outputs": [
    {
     "data": {
      "text/html": [
       "<div>\n",
       "<style>\n",
       "    .dataframe thead tr:only-child th {\n",
       "        text-align: right;\n",
       "    }\n",
       "\n",
       "    .dataframe thead th {\n",
       "        text-align: left;\n",
       "    }\n",
       "\n",
       "    .dataframe tbody tr th {\n",
       "        vertical-align: top;\n",
       "    }\n",
       "</style>\n",
       "<table border=\"1\" class=\"dataframe\">\n",
       "  <thead>\n",
       "    <tr style=\"text-align: right;\">\n",
       "      <th></th>\n",
       "      <th>Unnamed: 0</th>\n",
       "      <th>duration</th>\n",
       "      <th>forw_byte</th>\n",
       "      <th>back_byte</th>\n",
       "      <th>tot_byte</th>\n",
       "      <th>outcome</th>\n",
       "    </tr>\n",
       "  </thead>\n",
       "  <tbody>\n",
       "    <tr>\n",
       "      <th>0</th>\n",
       "      <td>0</td>\n",
       "      <td>0.0</td>\n",
       "      <td>520</td>\n",
       "      <td>0</td>\n",
       "      <td>520</td>\n",
       "      <td>dos</td>\n",
       "    </tr>\n",
       "    <tr>\n",
       "      <th>1</th>\n",
       "      <td>1</td>\n",
       "      <td>0.0</td>\n",
       "      <td>1032</td>\n",
       "      <td>0</td>\n",
       "      <td>1032</td>\n",
       "      <td>dos</td>\n",
       "    </tr>\n",
       "    <tr>\n",
       "      <th>2</th>\n",
       "      <td>2</td>\n",
       "      <td>0.0</td>\n",
       "      <td>1032</td>\n",
       "      <td>0</td>\n",
       "      <td>1032</td>\n",
       "      <td>dos</td>\n",
       "    </tr>\n",
       "    <tr>\n",
       "      <th>3</th>\n",
       "      <td>3</td>\n",
       "      <td>0.0</td>\n",
       "      <td>1032</td>\n",
       "      <td>0</td>\n",
       "      <td>1032</td>\n",
       "      <td>dos</td>\n",
       "    </tr>\n",
       "    <tr>\n",
       "      <th>4</th>\n",
       "      <td>4</td>\n",
       "      <td>0.0</td>\n",
       "      <td>1032</td>\n",
       "      <td>0</td>\n",
       "      <td>1032</td>\n",
       "      <td>dos</td>\n",
       "    </tr>\n",
       "  </tbody>\n",
       "</table>\n",
       "</div>"
      ],
      "text/plain": [
       "   Unnamed: 0  duration  forw_byte  back_byte  tot_byte outcome\n",
       "0           0       0.0        520          0       520     dos\n",
       "1           1       0.0       1032          0      1032     dos\n",
       "2           2       0.0       1032          0      1032     dos\n",
       "3           3       0.0       1032          0      1032     dos\n",
       "4           4       0.0       1032          0      1032     dos"
      ]
     },
     "execution_count": 6,
     "metadata": {},
     "output_type": "execute_result"
    }
   ],
   "source": [
    "df_.head(5)"
   ]
  },
  {
   "cell_type": "code",
   "execution_count": 7,
   "metadata": {
    "collapsed": true
   },
   "outputs": [],
   "source": [
    "cols = ['duration', 'forw_byte', 'back_byte','tot_byte','outcome']\n",
    "df = df_[cols]"
   ]
  },
  {
   "cell_type": "code",
   "execution_count": 8,
   "metadata": {
    "collapsed": true
   },
   "outputs": [],
   "source": [
    "# df.drop(df.head(1).index, inplace = True)"
   ]
  },
  {
   "cell_type": "code",
   "execution_count": 9,
   "metadata": {},
   "outputs": [
    {
     "data": {
      "text/html": [
       "<div>\n",
       "<style>\n",
       "    .dataframe thead tr:only-child th {\n",
       "        text-align: right;\n",
       "    }\n",
       "\n",
       "    .dataframe thead th {\n",
       "        text-align: left;\n",
       "    }\n",
       "\n",
       "    .dataframe tbody tr th {\n",
       "        vertical-align: top;\n",
       "    }\n",
       "</style>\n",
       "<table border=\"1\" class=\"dataframe\">\n",
       "  <thead>\n",
       "    <tr style=\"text-align: right;\">\n",
       "      <th></th>\n",
       "      <th>duration</th>\n",
       "      <th>forw_byte</th>\n",
       "      <th>back_byte</th>\n",
       "      <th>tot_byte</th>\n",
       "      <th>outcome</th>\n",
       "    </tr>\n",
       "  </thead>\n",
       "  <tbody>\n",
       "    <tr>\n",
       "      <th>0</th>\n",
       "      <td>0.0</td>\n",
       "      <td>520</td>\n",
       "      <td>0</td>\n",
       "      <td>520</td>\n",
       "      <td>dos</td>\n",
       "    </tr>\n",
       "    <tr>\n",
       "      <th>1</th>\n",
       "      <td>0.0</td>\n",
       "      <td>1032</td>\n",
       "      <td>0</td>\n",
       "      <td>1032</td>\n",
       "      <td>dos</td>\n",
       "    </tr>\n",
       "    <tr>\n",
       "      <th>2</th>\n",
       "      <td>0.0</td>\n",
       "      <td>1032</td>\n",
       "      <td>0</td>\n",
       "      <td>1032</td>\n",
       "      <td>dos</td>\n",
       "    </tr>\n",
       "    <tr>\n",
       "      <th>3</th>\n",
       "      <td>0.0</td>\n",
       "      <td>1032</td>\n",
       "      <td>0</td>\n",
       "      <td>1032</td>\n",
       "      <td>dos</td>\n",
       "    </tr>\n",
       "    <tr>\n",
       "      <th>4</th>\n",
       "      <td>0.0</td>\n",
       "      <td>1032</td>\n",
       "      <td>0</td>\n",
       "      <td>1032</td>\n",
       "      <td>dos</td>\n",
       "    </tr>\n",
       "  </tbody>\n",
       "</table>\n",
       "</div>"
      ],
      "text/plain": [
       "   duration  forw_byte  back_byte  tot_byte outcome\n",
       "0       0.0        520          0       520     dos\n",
       "1       0.0       1032          0      1032     dos\n",
       "2       0.0       1032          0      1032     dos\n",
       "3       0.0       1032          0      1032     dos\n",
       "4       0.0       1032          0      1032     dos"
      ]
     },
     "execution_count": 9,
     "metadata": {},
     "output_type": "execute_result"
    }
   ],
   "source": [
    "df.head(5)"
   ]
  },
  {
   "cell_type": "code",
   "execution_count": 10,
   "metadata": {
    "collapsed": true
   },
   "outputs": [],
   "source": [
    "# np.asarray(df['duration'], dtype = np.float).mean()\n",
    "# # df[name].mean()"
   ]
  },
  {
   "cell_type": "code",
   "execution_count": 11,
   "metadata": {
    "collapsed": true
   },
   "outputs": [],
   "source": [
    "# np.asarray(df['duration'], dtype = np.float).std()"
   ]
  },
  {
   "cell_type": "code",
   "execution_count": null,
   "metadata": {
    "collapsed": true
   },
   "outputs": [],
   "source": []
  },
  {
   "cell_type": "code",
   "execution_count": 12,
   "metadata": {},
   "outputs": [
    {
     "name": "stderr",
     "output_type": "stream",
     "text": [
      "/anaconda/lib/python3.6/site-packages/ipykernel_launcher.py:37: SettingWithCopyWarning: \n",
      "A value is trying to be set on a copy of a slice from a DataFrame.\n",
      "Try using .loc[row_indexer,col_indexer] = value instead\n",
      "\n",
      "See the caveats in the documentation: http://pandas.pydata.org/pandas-docs/stable/indexing.html#indexing-view-versus-copy\n",
      "/anaconda/lib/python3.6/site-packages/ipykernel_launcher.py:25: SettingWithCopyWarning: \n",
      "A value is trying to be set on a copy of a slice from a DataFrame.\n",
      "Try using .loc[row_indexer,col_indexer] = value instead\n",
      "\n",
      "See the caveats in the documentation: http://pandas.pydata.org/pandas-docs/stable/indexing.html#indexing-view-versus-copy\n",
      "/anaconda/lib/python3.6/site-packages/ipykernel_launcher.py:51: SettingWithCopyWarning: \n",
      "A value is trying to be set on a copy of a slice from a DataFrame\n",
      "\n",
      "See the caveats in the documentation: http://pandas.pydata.org/pandas-docs/stable/indexing.html#indexing-view-versus-copy\n"
     ]
    },
    {
     "data": {
      "text/html": [
       "<div>\n",
       "<style>\n",
       "    .dataframe thead tr:only-child th {\n",
       "        text-align: right;\n",
       "    }\n",
       "\n",
       "    .dataframe thead th {\n",
       "        text-align: left;\n",
       "    }\n",
       "\n",
       "    .dataframe tbody tr th {\n",
       "        vertical-align: top;\n",
       "    }\n",
       "</style>\n",
       "<table border=\"1\" class=\"dataframe\">\n",
       "  <thead>\n",
       "    <tr style=\"text-align: right;\">\n",
       "      <th></th>\n",
       "      <th>duration</th>\n",
       "      <th>forw_byte</th>\n",
       "      <th>back_byte</th>\n",
       "      <th>tot_byte</th>\n",
       "      <th>outcome</th>\n",
       "    </tr>\n",
       "  </thead>\n",
       "  <tbody>\n",
       "    <tr>\n",
       "      <th>0</th>\n",
       "      <td>0.0</td>\n",
       "      <td>-0.007216</td>\n",
       "      <td>-0.00646</td>\n",
       "      <td>-0.009673</td>\n",
       "      <td>0</td>\n",
       "    </tr>\n",
       "    <tr>\n",
       "      <th>1</th>\n",
       "      <td>0.0</td>\n",
       "      <td>-0.006887</td>\n",
       "      <td>-0.00646</td>\n",
       "      <td>-0.009428</td>\n",
       "      <td>0</td>\n",
       "    </tr>\n",
       "    <tr>\n",
       "      <th>2</th>\n",
       "      <td>0.0</td>\n",
       "      <td>-0.006887</td>\n",
       "      <td>-0.00646</td>\n",
       "      <td>-0.009428</td>\n",
       "      <td>0</td>\n",
       "    </tr>\n",
       "    <tr>\n",
       "      <th>3</th>\n",
       "      <td>0.0</td>\n",
       "      <td>-0.006887</td>\n",
       "      <td>-0.00646</td>\n",
       "      <td>-0.009428</td>\n",
       "      <td>0</td>\n",
       "    </tr>\n",
       "    <tr>\n",
       "      <th>4</th>\n",
       "      <td>0.0</td>\n",
       "      <td>-0.006887</td>\n",
       "      <td>-0.00646</td>\n",
       "      <td>-0.009428</td>\n",
       "      <td>0</td>\n",
       "    </tr>\n",
       "  </tbody>\n",
       "</table>\n",
       "</div>"
      ],
      "text/plain": [
       "   duration  forw_byte  back_byte  tot_byte  outcome\n",
       "0       0.0  -0.007216   -0.00646 -0.009673        0\n",
       "1       0.0  -0.006887   -0.00646 -0.009428        0\n",
       "2       0.0  -0.006887   -0.00646 -0.009428        0\n",
       "3       0.0  -0.006887   -0.00646 -0.009428        0\n",
       "4       0.0  -0.006887   -0.00646 -0.009428        0"
      ]
     },
     "execution_count": 12,
     "metadata": {},
     "output_type": "execute_result"
    }
   ],
   "source": [
    "# Now encode the feature vector\n",
    "\n",
    "#encode_numeric_zscore(df, 'duration')\n",
    "\n",
    "# encode_text_dummy(df, 'protocol_type')\n",
    "# encode_text_dummy(df, 'service')\n",
    "# encode_text_dummy(df, 'flag')\n",
    "encode_numeric_zscore(df, 'forw_byte')\n",
    "encode_numeric_zscore(df, 'back_byte')\n",
    "encode_numeric_zscore(df, 'tot_byte')\n",
    "# encode_text_dummy(df, 'land')\n",
    "# encode_numeric_zscore(df, 'wrong_fragment')\n",
    "# encode_numeric_zscore(df, 'urgent')\n",
    "# encode_numeric_zscore(df, 'hot')\n",
    "# encode_numeric_zscore(df, 'num_failed_logins')\n",
    "# encode_text_dummy(df, 'logged_in')\n",
    "# encode_numeric_zscore(df, 'num_compromised')\n",
    "# encode_numeric_zscore(df, 'root_shell')\n",
    "# encode_numeric_zscore(df, 'su_attempted')\n",
    "# encode_numeric_zscore(df, 'num_root')\n",
    "# encode_numeric_zscore(df, 'num_file_creations')\n",
    "# encode_numeric_zscore(df, 'num_shells')\n",
    "# encode_numeric_zscore(df, 'num_access_files')\n",
    "# encode_numeric_zscore(df, 'num_outbound_cmds')\n",
    "# encode_text_dummy(df, 'is_host_login')\n",
    "# encode_text_dummy(df, 'is_guest_login')\n",
    "# encode_numeric_zscore(df, 'count')\n",
    "# encode_numeric_zscore(df, 'srv_count')\n",
    "# encode_numeric_zscore(df, 'serror_rate')\n",
    "# encode_numeric_zscore(df, 'srv_serror_rate')\n",
    "# encode_numeric_zscore(df, 'rerror_rate')\n",
    "# encode_numeric_zscore(df, 'srv_rerror_rate')\n",
    "# encode_numeric_zscore(df, 'same_srv_rate')\n",
    "# encode_numeric_zscore(df, 'diff_srv_rate')\n",
    "# encode_numeric_zscore(df, 'srv_diff_host_rate')\n",
    "# encode_numeric_zscore(df, 'dst_host_count')\n",
    "# encode_numeric_zscore(df, 'dst_host_srv_count')\n",
    "# encode_numeric_zscore(df, 'dst_host_same_srv_rate')\n",
    "# encode_numeric_zscore(df, 'dst_host_diff_srv_rate')\n",
    "# encode_numeric_zscore(df, 'dst_host_same_src_port_rate')\n",
    "# encode_numeric_zscore(df, 'dst_host_srv_diff_host_rate')\n",
    "# encode_numeric_zscore(df, 'dst_host_serror_rate')\n",
    "# encode_numeric_zscore(df, 'dst_host_srv_serror_rate')\n",
    "# encode_numeric_zscore(df, 'dst_host_rerror_rate')\n",
    "# encode_numeric_zscore(df, 'dst_host_srv_rerror_rate')\n",
    "outcomes = encode_text_index(df, 'outcome')\n",
    "num_classes = len(outcomes)\n",
    "\n",
    "# display 5 rows\n",
    "\n",
    "df.dropna(inplace=True,axis=1)\n",
    "df[0:5]\n",
    "# This is the numeric feature vector, as it goes to the neural net"
   ]
  },
  {
   "cell_type": "code",
   "execution_count": 13,
   "metadata": {
    "collapsed": true
   },
   "outputs": [],
   "source": [
    "x, y = to_xy(df,'outcome')"
   ]
  },
  {
   "cell_type": "code",
   "execution_count": 14,
   "metadata": {},
   "outputs": [],
   "source": [
    "# df.head(5)"
   ]
  },
  {
   "cell_type": "code",
   "execution_count": 15,
   "metadata": {
    "collapsed": true
   },
   "outputs": [],
   "source": [
    "# Create a test/train split.  33% test\n",
    "# Split into train/test\n",
    "x_train, x_test, y_train, y_test = train_test_split(\n",
    "    x, y, test_size=0.33, random_state=42)"
   ]
  },
  {
   "cell_type": "code",
   "execution_count": null,
   "metadata": {
    "collapsed": true
   },
   "outputs": [],
   "source": []
  },
  {
   "cell_type": "code",
   "execution_count": 16,
   "metadata": {
    "collapsed": true
   },
   "outputs": [],
   "source": [
    "import keras.backend as K\n",
    "K.clear_session()"
   ]
  },
  {
   "cell_type": "code",
   "execution_count": 17,
   "metadata": {
    "collapsed": true
   },
   "outputs": [],
   "source": [
    "# Create neural net\n",
    "model = Sequential()\n",
    "\n",
    "# Used relu for activation function\n",
    "model.add(Dense(10, input_dim=x.shape[1], kernel_initializer='normal', activation='relu'))\n",
    "model.add(Dense(50, input_dim=x.shape[1], kernel_initializer='normal', activation='relu'))\n",
    "model.add(Dense(10, input_dim=x.shape[1], kernel_initializer='normal', activation='relu'))\n",
    "\n",
    "# output layer \n",
    "model.add(Dense(1, kernel_initializer='normal'))\n",
    "model.add(Dense(y.shape[1],activation='softmax'))\n",
    "# model.add(Dense(y.shape[1],activation = 'sigmoid'))"
   ]
  },
  {
   "cell_type": "code",
   "execution_count": 18,
   "metadata": {},
   "outputs": [
    {
     "name": "stdout",
     "output_type": "stream",
     "text": [
      "_________________________________________________________________\n",
      "Layer (type)                 Output Shape              Param #   \n",
      "=================================================================\n",
      "dense_1 (Dense)              (None, 10)                50        \n",
      "_________________________________________________________________\n",
      "dense_2 (Dense)              (None, 50)                550       \n",
      "_________________________________________________________________\n",
      "dense_3 (Dense)              (None, 10)                510       \n",
      "_________________________________________________________________\n",
      "dense_4 (Dense)              (None, 1)                 11        \n",
      "_________________________________________________________________\n",
      "dense_5 (Dense)              (None, 2)                 4         \n",
      "=================================================================\n",
      "Total params: 1,125\n",
      "Trainable params: 1,125\n",
      "Non-trainable params: 0\n",
      "_________________________________________________________________\n"
     ]
    }
   ],
   "source": [
    "# Print the model summary\n",
    "model.summary()"
   ]
  },
  {
   "cell_type": "code",
   "execution_count": 19,
   "metadata": {
    "collapsed": true
   },
   "outputs": [],
   "source": [
    "class LossHistory(keras.callbacks.Callback):\n",
    "    def on_train_begin(self, logs={}):\n",
    "        # TODO:  Create two empty lists, self.loss and self.val_acc\n",
    "        self.losses = []\n",
    "        self.accs = []\n",
    "        self.val_acc = []\n",
    "        self.val_loss = []\n",
    "    def on_batch_end(self, batch, logs={}):\n",
    "        # TODO:  This is called at the end of each batch.  \n",
    "        # Add the loss in logs.get('loss') to the loss list\n",
    "        loss = logs.get('loss')\n",
    "        acc = logs.get('acc')\n",
    "        self.losses.append(loss)\n",
    "        self.accs.append(acc)\n",
    "    def on_epoch_end(self, epoch, logs):\n",
    "        # TODO:  This is called at the end of each epoch.  \n",
    "        # Add the test accuracy in logs.get('loss') to the val_acc list\n",
    "        val_acc = logs.get('val_acc')\n",
    "        val_loss = logs.get('val_loss')\n",
    "        self.val_acc.append(val_acc)\n",
    "        self.val_loss.append(val_loss)\n",
    "\n",
    "# Create an instance of the history callback\n",
    "history_cb = LossHistory()"
   ]
  },
  {
   "cell_type": "code",
   "execution_count": 20,
   "metadata": {
    "collapsed": true
   },
   "outputs": [],
   "source": [
    "from keras import optimizers\n",
    "\n",
    "# optimizer defined\n",
    "opt = optimizers.Adam(lr=0.001, beta_1=0.9, beta_2=0.999, epsilon=1e-08, decay=0.0)"
   ]
  },
  {
   "cell_type": "code",
   "execution_count": 21,
   "metadata": {
    "collapsed": true
   },
   "outputs": [],
   "source": [
    "## compile model\n",
    "model.compile(optimizer='adam',\n",
    "              loss='categorical_crossentropy',\n",
    "              metrics=['accuracy'])\n",
    "monitor = EarlyStopping(monitor='val_loss', min_delta=1e-3, patience=5, verbose=1, mode='auto')\n"
   ]
  },
  {
   "cell_type": "code",
   "execution_count": 22,
   "metadata": {},
   "outputs": [],
   "source": [
    "# model.fit(x,y,validation_data=(x_test,y_test),callbacks=[monitor],verbose=2,epochs=1000)"
   ]
  },
  {
   "cell_type": "code",
   "execution_count": 23,
   "metadata": {},
   "outputs": [
    {
     "name": "stdout",
     "output_type": "stream",
     "text": [
      "Train on 21746 samples, validate on 10711 samples\n",
      "Epoch 1/200\n",
      "21746/21746 [==============================] - 0s - loss: 0.6529 - acc: 0.6247 - val_loss: 0.6173 - val_acc: 0.6398\n",
      "Epoch 2/200\n",
      "21746/21746 [==============================] - 0s - loss: 0.6123 - acc: 0.6446 - val_loss: 0.6019 - val_acc: 0.6584\n",
      "Epoch 3/200\n",
      "21746/21746 [==============================] - 0s - loss: 0.5930 - acc: 0.6659 - val_loss: 0.5812 - val_acc: 0.6688\n",
      "Epoch 4/200\n",
      "21746/21746 [==============================] - 0s - loss: 0.5648 - acc: 0.7009 - val_loss: 0.5428 - val_acc: 0.7224\n",
      "Epoch 5/200\n",
      "21746/21746 [==============================] - 0s - loss: 0.5301 - acc: 0.7392 - val_loss: 0.5087 - val_acc: 0.7447\n",
      "Epoch 6/200\n",
      "21746/21746 [==============================] - 0s - loss: 0.5001 - acc: 0.7590 - val_loss: 0.4793 - val_acc: 0.7682\n",
      "Epoch 7/200\n",
      "21746/21746 [==============================] - 0s - loss: 0.4756 - acc: 0.7768 - val_loss: 0.4606 - val_acc: 0.7763\n",
      "Epoch 8/200\n",
      "21746/21746 [==============================] - 0s - loss: 0.4566 - acc: 0.7910 - val_loss: 0.4572 - val_acc: 0.7790\n",
      "Epoch 9/200\n",
      "21746/21746 [==============================] - 0s - loss: 0.4482 - acc: 0.8016 - val_loss: 0.4294 - val_acc: 0.8102\n",
      "Epoch 10/200\n",
      "21746/21746 [==============================] - 0s - loss: 0.4323 - acc: 0.8110 - val_loss: 0.4178 - val_acc: 0.8162\n",
      "Epoch 11/200\n",
      "21746/21746 [==============================] - 0s - loss: 0.4210 - acc: 0.8173 - val_loss: 0.4113 - val_acc: 0.8156\n",
      "Epoch 12/200\n",
      "21746/21746 [==============================] - 0s - loss: 0.4132 - acc: 0.8219 - val_loss: 0.4377 - val_acc: 0.8466\n",
      "Epoch 13/200\n",
      "21746/21746 [==============================] - 0s - loss: 0.4110 - acc: 0.8262 - val_loss: 0.3962 - val_acc: 0.8333\n",
      "Epoch 14/200\n",
      "21746/21746 [==============================] - 0s - loss: 0.4001 - acc: 0.8293 - val_loss: 0.3967 - val_acc: 0.8249\n",
      "Epoch 15/200\n",
      "21746/21746 [==============================] - 0s - loss: 0.3981 - acc: 0.8319 - val_loss: 0.3837 - val_acc: 0.8349\n",
      "Epoch 16/200\n",
      "21746/21746 [==============================] - 0s - loss: 0.3871 - acc: 0.8346 - val_loss: 0.3805 - val_acc: 0.8347\n",
      "Epoch 17/200\n",
      "21746/21746 [==============================] - 0s - loss: 0.3894 - acc: 0.8363 - val_loss: 0.3823 - val_acc: 0.8334\n",
      "Epoch 18/200\n",
      "21746/21746 [==============================] - 0s - loss: 0.3831 - acc: 0.8377 - val_loss: 0.3872 - val_acc: 0.8331\n",
      "Epoch 19/200\n",
      "21746/21746 [==============================] - 0s - loss: 0.3764 - acc: 0.8406 - val_loss: 0.3733 - val_acc: 0.8465\n",
      "Epoch 20/200\n",
      "21746/21746 [==============================] - 0s - loss: 0.3761 - acc: 0.8423 - val_loss: 0.3952 - val_acc: 0.8344\n",
      "Epoch 21/200\n",
      "21746/21746 [==============================] - 0s - loss: 0.3821 - acc: 0.8428 - val_loss: 0.3633 - val_acc: 0.8416\n",
      "Epoch 22/200\n",
      "21746/21746 [==============================] - 0s - loss: 0.3727 - acc: 0.8434 - val_loss: 0.3596 - val_acc: 0.8446\n",
      "Epoch 23/200\n",
      "21746/21746 [==============================] - 0s - loss: 0.3669 - acc: 0.8459 - val_loss: 0.3581 - val_acc: 0.8474\n",
      "Epoch 24/200\n",
      "21746/21746 [==============================] - 0s - loss: 0.3719 - acc: 0.8464 - val_loss: 0.3636 - val_acc: 0.8418\n",
      "Epoch 25/200\n",
      "21746/21746 [==============================] - 0s - loss: 0.3712 - acc: 0.8456 - val_loss: 0.3621 - val_acc: 0.8532\n",
      "Epoch 26/200\n",
      "21746/21746 [==============================] - 0s - loss: 0.3622 - acc: 0.8483 - val_loss: 0.3525 - val_acc: 0.8465\n",
      "Epoch 27/200\n",
      "21746/21746 [==============================] - 0s - loss: 0.3578 - acc: 0.8491 - val_loss: 0.3495 - val_acc: 0.8473\n",
      "Epoch 28/200\n",
      "21746/21746 [==============================] - 0s - loss: 0.3647 - acc: 0.8492 - val_loss: 0.3739 - val_acc: 0.8434\n",
      "Epoch 29/200\n",
      "21746/21746 [==============================] - 0s - loss: 0.3537 - acc: 0.8518 - val_loss: 0.3799 - val_acc: 0.8428\n",
      "Epoch 30/200\n",
      "21746/21746 [==============================] - 0s - loss: 0.3606 - acc: 0.8504 - val_loss: 0.3457 - val_acc: 0.8482\n",
      "Epoch 31/200\n",
      "21746/21746 [==============================] - 0s - loss: 0.3518 - acc: 0.8528 - val_loss: 0.3421 - val_acc: 0.8504\n",
      "Epoch 32/200\n",
      "21746/21746 [==============================] - 0s - loss: 0.3456 - acc: 0.8532 - val_loss: 0.3383 - val_acc: 0.8527\n",
      "Epoch 33/200\n",
      "21746/21746 [==============================] - 0s - loss: 0.3533 - acc: 0.8527 - val_loss: 0.3371 - val_acc: 0.8544\n",
      "Epoch 34/200\n",
      "21746/21746 [==============================] - 0s - loss: 0.3509 - acc: 0.8529 - val_loss: 0.3810 - val_acc: 0.8456\n",
      "Epoch 35/200\n",
      "21746/21746 [==============================] - 0s - loss: 0.3502 - acc: 0.8540 - val_loss: 0.3820 - val_acc: 0.8460\n",
      "Epoch 36/200\n",
      "21746/21746 [==============================] - 0s - loss: 0.3622 - acc: 0.8505 - val_loss: 0.3478 - val_acc: 0.8530\n",
      "Epoch 37/200\n",
      "21746/21746 [==============================] - 0s - loss: 0.3576 - acc: 0.8529 - val_loss: 0.3728 - val_acc: 0.8468\n",
      "Epoch 38/200\n",
      "21746/21746 [==============================] - 0s - loss: 0.3465 - acc: 0.8545 - val_loss: 0.3323 - val_acc: 0.8555\n",
      "Epoch 39/200\n",
      "21746/21746 [==============================] - 0s - loss: 0.3429 - acc: 0.8556 - val_loss: 0.3276 - val_acc: 0.8558\n",
      "Epoch 40/200\n",
      "21746/21746 [==============================] - 0s - loss: 0.3363 - acc: 0.8568 - val_loss: 0.3506 - val_acc: 0.8530\n",
      "Epoch 41/200\n",
      "21746/21746 [==============================] - 0s - loss: 0.3367 - acc: 0.8565 - val_loss: 0.3510 - val_acc: 0.8619\n",
      "Epoch 42/200\n",
      "21746/21746 [==============================] - 0s - loss: 0.3532 - acc: 0.8542 - val_loss: 0.3274 - val_acc: 0.8612\n",
      "Epoch 43/200\n",
      "21746/21746 [==============================] - 0s - loss: 0.3344 - acc: 0.8580 - val_loss: 0.3458 - val_acc: 0.8544\n",
      "Epoch 44/200\n",
      "21746/21746 [==============================] - 0s - loss: 0.3393 - acc: 0.8578 - val_loss: 0.3311 - val_acc: 0.8558\n",
      "Epoch 45/200\n",
      "21746/21746 [==============================] - 0s - loss: 0.3341 - acc: 0.8582 - val_loss: 0.3465 - val_acc: 0.8620\n",
      "Epoch 46/200\n",
      "21746/21746 [==============================] - 0s - loss: 0.3299 - acc: 0.8591 - val_loss: 0.3159 - val_acc: 0.8601\n",
      "Epoch 47/200\n",
      "21746/21746 [==============================] - 0s - loss: 0.3337 - acc: 0.8575 - val_loss: 0.3164 - val_acc: 0.8613\n",
      "Epoch 48/200\n",
      "21746/21746 [==============================] - 0s - loss: 0.3323 - acc: 0.8568 - val_loss: 0.3159 - val_acc: 0.8615\n",
      "Epoch 49/200\n",
      "21746/21746 [==============================] - 0s - loss: 0.3281 - acc: 0.8590 - val_loss: 0.4162 - val_acc: 0.8231\n",
      "Epoch 50/200\n",
      "21746/21746 [==============================] - 0s - loss: 0.3295 - acc: 0.8575 - val_loss: 0.3882 - val_acc: 0.8535\n",
      "Epoch 51/200\n",
      "21746/21746 [==============================] - 0s - loss: 0.3466 - acc: 0.8556 - val_loss: 0.3176 - val_acc: 0.8594\n",
      "Epoch 52/200\n",
      "21746/21746 [==============================] - 0s - loss: 0.3301 - acc: 0.8591 - val_loss: 0.3205 - val_acc: 0.8599\n",
      "Epoch 53/200\n",
      "21746/21746 [==============================] - 0s - loss: 0.3273 - acc: 0.8583 - val_loss: 0.3328 - val_acc: 0.8624\n",
      "Epoch 54/200\n",
      "21746/21746 [==============================] - 0s - loss: 0.3354 - acc: 0.8570 - val_loss: 0.3226 - val_acc: 0.8621\n",
      "Epoch 55/200\n",
      "21746/21746 [==============================] - 0s - loss: 0.3168 - acc: 0.8603 - val_loss: 0.3880 - val_acc: 0.8533\n",
      "Epoch 56/200\n",
      "21746/21746 [==============================] - 0s - loss: 0.3319 - acc: 0.8580 - val_loss: 0.3143 - val_acc: 0.8609\n",
      "Epoch 57/200\n",
      "21746/21746 [==============================] - 0s - loss: 0.3155 - acc: 0.8588 - val_loss: 0.3175 - val_acc: 0.8605\n",
      "Epoch 58/200\n",
      "21746/21746 [==============================] - 0s - loss: 0.3263 - acc: 0.8550 - val_loss: 0.3334 - val_acc: 0.8636\n",
      "Epoch 59/200\n",
      "21746/21746 [==============================] - 0s - loss: 0.3293 - acc: 0.8581 - val_loss: 0.3086 - val_acc: 0.8616\n",
      "Epoch 60/200\n",
      "21746/21746 [==============================] - 0s - loss: 0.3246 - acc: 0.8585 - val_loss: 0.3210 - val_acc: 0.8630\n",
      "Epoch 61/200\n",
      "21746/21746 [==============================] - 0s - loss: 0.3159 - acc: 0.8595 - val_loss: 0.3118 - val_acc: 0.8626\n",
      "Epoch 62/200\n",
      "21746/21746 [==============================] - 0s - loss: 0.3173 - acc: 0.8591 - val_loss: 0.4133 - val_acc: 0.8246\n",
      "Epoch 63/200\n",
      "21746/21746 [==============================] - 0s - loss: 0.3211 - acc: 0.8594 - val_loss: 0.2990 - val_acc: 0.8621\n",
      "Epoch 64/200\n"
     ]
    },
    {
     "name": "stdout",
     "output_type": "stream",
     "text": [
      "21746/21746 [==============================] - 0s - loss: 0.3151 - acc: 0.8585 - val_loss: 0.3182 - val_acc: 0.8615\n",
      "Epoch 65/200\n",
      "21746/21746 [==============================] - 0s - loss: 0.3260 - acc: 0.8566 - val_loss: 0.2964 - val_acc: 0.8622\n",
      "Epoch 66/200\n",
      "21746/21746 [==============================] - 0s - loss: 0.3100 - acc: 0.8598 - val_loss: 0.2959 - val_acc: 0.8623\n",
      "Epoch 67/200\n",
      "21746/21746 [==============================] - 0s - loss: 0.3094 - acc: 0.8588 - val_loss: 0.2962 - val_acc: 0.8624\n",
      "Epoch 68/200\n",
      "21746/21746 [==============================] - 0s - loss: 0.3278 - acc: 0.8534 - val_loss: 0.3002 - val_acc: 0.8623\n",
      "Epoch 69/200\n",
      "21746/21746 [==============================] - 0s - loss: 0.3190 - acc: 0.8594 - val_loss: 0.3038 - val_acc: 0.8620\n",
      "Epoch 70/200\n",
      "21746/21746 [==============================] - 0s - loss: 0.3101 - acc: 0.8623 - val_loss: 0.3011 - val_acc: 0.8623\n",
      "Epoch 71/200\n",
      "21746/21746 [==============================] - 0s - loss: 0.3112 - acc: 0.8606 - val_loss: 0.3179 - val_acc: 0.8617\n",
      "Epoch 72/200\n",
      "21746/21746 [==============================] - 0s - loss: 0.3130 - acc: 0.8612 - val_loss: 0.3001 - val_acc: 0.8622\n",
      "Epoch 73/200\n",
      "21746/21746 [==============================] - 0s - loss: 0.3106 - acc: 0.8602 - val_loss: 0.3024 - val_acc: 0.8626\n",
      "Epoch 74/200\n",
      "21746/21746 [==============================] - 0s - loss: 0.3080 - acc: 0.8614 - val_loss: 0.3100 - val_acc: 0.8633\n",
      "Epoch 75/200\n",
      "21746/21746 [==============================] - 0s - loss: 0.3253 - acc: 0.8570 - val_loss: 0.3182 - val_acc: 0.8618\n",
      "Epoch 76/200\n",
      "21746/21746 [==============================] - 0s - loss: 0.3369 - acc: 0.8576 - val_loss: 0.3640 - val_acc: 0.8509\n",
      "Epoch 77/200\n",
      "21746/21746 [==============================] - 0s - loss: 0.3445 - acc: 0.8538 - val_loss: 0.3456 - val_acc: 0.8570\n",
      "Epoch 78/200\n",
      "21746/21746 [==============================] - 0s - loss: 0.3304 - acc: 0.8590 - val_loss: 0.3534 - val_acc: 0.8031\n",
      "Epoch 79/200\n",
      "21746/21746 [==============================] - 0s - loss: 0.3265 - acc: 0.8568 - val_loss: 0.3080 - val_acc: 0.8626\n",
      "Epoch 80/200\n",
      "21746/21746 [==============================] - 0s - loss: 0.3104 - acc: 0.8610 - val_loss: 0.3187 - val_acc: 0.8621\n",
      "Epoch 81/200\n",
      "21746/21746 [==============================] - 0s - loss: 0.3178 - acc: 0.8584 - val_loss: 0.3780 - val_acc: 0.8577\n",
      "Epoch 82/200\n",
      "21746/21746 [==============================] - 0s - loss: 0.3269 - acc: 0.8600 - val_loss: 0.3059 - val_acc: 0.8629\n",
      "Epoch 83/200\n",
      "21746/21746 [==============================] - 0s - loss: 0.3131 - acc: 0.8611 - val_loss: 0.3136 - val_acc: 0.8635\n",
      "Epoch 84/200\n",
      "21746/21746 [==============================] - 0s - loss: 0.3161 - acc: 0.8604 - val_loss: 0.3469 - val_acc: 0.7960\n",
      "Epoch 85/200\n",
      "21746/21746 [==============================] - 0s - loss: 0.3056 - acc: 0.8621 - val_loss: 0.3046 - val_acc: 0.8635\n",
      "Epoch 86/200\n",
      "21746/21746 [==============================] - 0s - loss: 0.3152 - acc: 0.8588 - val_loss: 0.2983 - val_acc: 0.8624\n",
      "Epoch 87/200\n",
      "21746/21746 [==============================] - 0s - loss: 0.3196 - acc: 0.8596 - val_loss: 0.3013 - val_acc: 0.8624\n",
      "Epoch 88/200\n",
      "21746/21746 [==============================] - 0s - loss: 0.3097 - acc: 0.8597 - val_loss: 0.3880 - val_acc: 0.8577\n",
      "Epoch 89/200\n",
      "21746/21746 [==============================] - 0s - loss: 0.3194 - acc: 0.8590 - val_loss: 0.3558 - val_acc: 0.8612\n",
      "Epoch 90/200\n",
      "21746/21746 [==============================] - 0s - loss: 0.3262 - acc: 0.8548 - val_loss: 0.3040 - val_acc: 0.8636\n",
      "Epoch 91/200\n",
      "21746/21746 [==============================] - 0s - loss: 0.3049 - acc: 0.8614 - val_loss: 0.2939 - val_acc: 0.8630\n",
      "Epoch 92/200\n",
      "21746/21746 [==============================] - 0s - loss: 0.2997 - acc: 0.8632 - val_loss: 0.3219 - val_acc: 0.8624\n",
      "Epoch 93/200\n",
      "21746/21746 [==============================] - 0s - loss: 0.3078 - acc: 0.8597 - val_loss: 0.2926 - val_acc: 0.8631\n",
      "Epoch 94/200\n",
      "21746/21746 [==============================] - 0s - loss: 0.3078 - acc: 0.8602 - val_loss: 0.3113 - val_acc: 0.8624\n",
      "Epoch 95/200\n",
      "21746/21746 [==============================] - 0s - loss: 0.3073 - acc: 0.8599 - val_loss: 0.3148 - val_acc: 0.8624\n",
      "Epoch 96/200\n",
      "21746/21746 [==============================] - 0s - loss: 0.3100 - acc: 0.8585 - val_loss: 0.3016 - val_acc: 0.8638\n",
      "Epoch 97/200\n",
      "21746/21746 [==============================] - 0s - loss: 0.3017 - acc: 0.8597 - val_loss: 0.3183 - val_acc: 0.8624\n",
      "Epoch 98/200\n",
      "21746/21746 [==============================] - 0s - loss: 0.3246 - acc: 0.8540 - val_loss: 0.2965 - val_acc: 0.8629\n",
      "Epoch 99/200\n",
      "21746/21746 [==============================] - 0s - loss: 0.3053 - acc: 0.8557 - val_loss: 0.3166 - val_acc: 0.8624\n",
      "Epoch 100/200\n",
      "21746/21746 [==============================] - 0s - loss: 0.3120 - acc: 0.8540 - val_loss: 0.2900 - val_acc: 0.8632\n",
      "Epoch 101/200\n",
      "21746/21746 [==============================] - 0s - loss: 0.3104 - acc: 0.8555 - val_loss: 0.2972 - val_acc: 0.8638\n",
      "Epoch 102/200\n",
      "21746/21746 [==============================] - 0s - loss: 0.3001 - acc: 0.8594 - val_loss: 0.2957 - val_acc: 0.8638\n",
      "Epoch 103/200\n",
      "21746/21746 [==============================] - 0s - loss: 0.3206 - acc: 0.8573 - val_loss: 0.3746 - val_acc: 0.8592\n",
      "Epoch 104/200\n",
      "21746/21746 [==============================] - 0s - loss: 0.3306 - acc: 0.8585 - val_loss: 0.3090 - val_acc: 0.8630\n",
      "Epoch 105/200\n",
      "21746/21746 [==============================] - 0s - loss: 0.2964 - acc: 0.8631 - val_loss: 0.3194 - val_acc: 0.7954\n",
      "Epoch 106/200\n",
      "21746/21746 [==============================] - 0s - loss: 0.3050 - acc: 0.8562 - val_loss: 0.2892 - val_acc: 0.8637\n",
      "Epoch 107/200\n",
      "21746/21746 [==============================] - 0s - loss: 0.3003 - acc: 0.8618 - val_loss: 0.2966 - val_acc: 0.8632\n",
      "Epoch 108/200\n",
      "21746/21746 [==============================] - 0s - loss: 0.2996 - acc: 0.8591 - val_loss: 0.4302 - val_acc: 0.8269\n",
      "Epoch 109/200\n",
      "21746/21746 [==============================] - 0s - loss: 0.3024 - acc: 0.8587 - val_loss: 0.2853 - val_acc: 0.8636\n",
      "Epoch 110/200\n",
      "21746/21746 [==============================] - 0s - loss: 0.3242 - acc: 0.8548 - val_loss: 0.4148 - val_acc: 0.8563\n",
      "Epoch 111/200\n",
      "21746/21746 [==============================] - 0s - loss: 0.3107 - acc: 0.8592 - val_loss: 0.2851 - val_acc: 0.8637\n",
      "Epoch 112/200\n",
      "21746/21746 [==============================] - 0s - loss: 0.2944 - acc: 0.8622 - val_loss: 0.3008 - val_acc: 0.8648\n",
      "Epoch 113/200\n",
      "21746/21746 [==============================] - 0s - loss: 0.3028 - acc: 0.8603 - val_loss: 0.2889 - val_acc: 0.8635\n",
      "Epoch 114/200\n",
      "21746/21746 [==============================] - 0s - loss: 0.2960 - acc: 0.8596 - val_loss: 0.2840 - val_acc: 0.8637\n",
      "Epoch 115/200\n",
      "21746/21746 [==============================] - 0s - loss: 0.2991 - acc: 0.8578 - val_loss: 0.2845 - val_acc: 0.8638\n",
      "Epoch 116/200\n",
      "21746/21746 [==============================] - 0s - loss: 0.2984 - acc: 0.8593 - val_loss: 0.2992 - val_acc: 0.8648\n",
      "Epoch 117/200\n",
      "21746/21746 [==============================] - 0s - loss: 0.2987 - acc: 0.8577 - val_loss: 0.2834 - val_acc: 0.8638\n",
      "Epoch 118/200\n",
      "21746/21746 [==============================] - 0s - loss: 0.2964 - acc: 0.8586 - val_loss: 0.3081 - val_acc: 0.7966\n",
      "Epoch 119/200\n",
      "21746/21746 [==============================] - 0s - loss: 0.2959 - acc: 0.8573 - val_loss: 0.3158 - val_acc: 0.7968\n",
      "Epoch 120/200\n",
      "21746/21746 [==============================] - 0s - loss: 0.2963 - acc: 0.8587 - val_loss: 0.2820 - val_acc: 0.8639\n",
      "Epoch 121/200\n",
      "21746/21746 [==============================] - 0s - loss: 0.3077 - acc: 0.8539 - val_loss: 0.3211 - val_acc: 0.8632\n",
      "Epoch 122/200\n",
      "21746/21746 [==============================] - 0s - loss: 0.3061 - acc: 0.8564 - val_loss: 0.2881 - val_acc: 0.8636\n",
      "Epoch 123/200\n",
      "21746/21746 [==============================] - 0s - loss: 0.3101 - acc: 0.8506 - val_loss: 0.2951 - val_acc: 0.8636\n",
      "Epoch 124/200\n",
      "21746/21746 [==============================] - 0s - loss: 0.2943 - acc: 0.8587 - val_loss: 0.2933 - val_acc: 0.8647\n",
      "Epoch 125/200\n",
      "21746/21746 [==============================] - 0s - loss: 0.2963 - acc: 0.8571 - val_loss: 0.2816 - val_acc: 0.8640\n",
      "Epoch 126/200\n",
      "21746/21746 [==============================] - 0s - loss: 0.2926 - acc: 0.8596 - val_loss: 0.2811 - val_acc: 0.8639\n",
      "Epoch 127/200\n"
     ]
    },
    {
     "name": "stdout",
     "output_type": "stream",
     "text": [
      "21746/21746 [==============================] - 0s - loss: 0.2885 - acc: 0.8613 - val_loss: 0.2869 - val_acc: 0.8637\n",
      "Epoch 128/200\n",
      "21746/21746 [==============================] - 0s - loss: 0.2987 - acc: 0.8573 - val_loss: 0.3120 - val_acc: 0.8634\n",
      "Epoch 129/200\n",
      "21746/21746 [==============================] - 0s - loss: 0.3182 - acc: 0.8531 - val_loss: 0.2814 - val_acc: 0.8641\n",
      "Epoch 130/200\n",
      "21746/21746 [==============================] - 0s - loss: 0.2890 - acc: 0.8622 - val_loss: 0.2925 - val_acc: 0.8648\n",
      "Epoch 131/200\n",
      "21746/21746 [==============================] - 0s - loss: 0.2957 - acc: 0.8559 - val_loss: 0.3108 - val_acc: 0.8635\n",
      "Epoch 132/200\n",
      "21746/21746 [==============================] - 0s - loss: 0.2967 - acc: 0.8533 - val_loss: 0.2878 - val_acc: 0.8647\n",
      "Epoch 133/200\n",
      "21746/21746 [==============================] - 0s - loss: 0.3012 - acc: 0.8540 - val_loss: 0.2829 - val_acc: 0.8643\n",
      "Epoch 134/200\n",
      "21746/21746 [==============================] - 0s - loss: 0.2964 - acc: 0.8594 - val_loss: 0.3250 - val_acc: 0.8633\n",
      "Epoch 135/200\n",
      "21746/21746 [==============================] - 0s - loss: 0.2972 - acc: 0.8560 - val_loss: 0.3229 - val_acc: 0.8038\n",
      "Epoch 136/200\n",
      "21746/21746 [==============================] - 0s - loss: 0.3430 - acc: 0.8558 - val_loss: 0.3022 - val_acc: 0.8639\n",
      "Epoch 137/200\n",
      "21746/21746 [==============================] - 0s - loss: 0.2977 - acc: 0.8625 - val_loss: 0.2997 - val_acc: 0.8634\n",
      "Epoch 138/200\n",
      "21746/21746 [==============================] - 0s - loss: 0.3025 - acc: 0.8597 - val_loss: 0.2932 - val_acc: 0.8639\n",
      "Epoch 139/200\n",
      "21746/21746 [==============================] - 0s - loss: 0.3039 - acc: 0.8601 - val_loss: 0.3229 - val_acc: 0.7958\n",
      "Epoch 140/200\n",
      "21746/21746 [==============================] - 0s - loss: 0.2993 - acc: 0.8619 - val_loss: 0.2907 - val_acc: 0.8636\n",
      "Epoch 141/200\n",
      "21746/21746 [==============================] - 0s - loss: 0.3003 - acc: 0.8617 - val_loss: 0.2912 - val_acc: 0.8636\n",
      "Epoch 142/200\n",
      "21746/21746 [==============================] - 0s - loss: 0.2974 - acc: 0.8618 - val_loss: 0.3046 - val_acc: 0.8634\n",
      "Epoch 143/200\n",
      "21746/21746 [==============================] - 0s - loss: 0.2926 - acc: 0.8642 - val_loss: 0.2860 - val_acc: 0.8638\n",
      "Epoch 144/200\n",
      "21746/21746 [==============================] - 0s - loss: 0.2964 - acc: 0.8623 - val_loss: 0.2906 - val_acc: 0.8637\n",
      "Epoch 145/200\n",
      "21746/21746 [==============================] - 0s - loss: 0.3012 - acc: 0.8582 - val_loss: 0.2897 - val_acc: 0.8643\n",
      "Epoch 146/200\n",
      "21746/21746 [==============================] - 0s - loss: 0.3060 - acc: 0.8567 - val_loss: 0.2895 - val_acc: 0.8643\n",
      "Epoch 147/200\n",
      "21746/21746 [==============================] - 0s - loss: 0.2959 - acc: 0.8621 - val_loss: 0.3092 - val_acc: 0.8661\n",
      "Epoch 148/200\n",
      "21746/21746 [==============================] - 0s - loss: 0.3112 - acc: 0.8552 - val_loss: 0.3380 - val_acc: 0.8103\n",
      "Epoch 149/200\n",
      "21746/21746 [==============================] - 0s - loss: 0.3040 - acc: 0.8570 - val_loss: 0.3390 - val_acc: 0.8112\n",
      "Epoch 150/200\n",
      "21746/21746 [==============================] - 0s - loss: 0.2940 - acc: 0.8609 - val_loss: 0.2869 - val_acc: 0.8639\n",
      "Epoch 151/200\n",
      "21746/21746 [==============================] - 0s - loss: 0.3028 - acc: 0.8573 - val_loss: 0.3035 - val_acc: 0.8636\n",
      "Epoch 152/200\n",
      "21746/21746 [==============================] - 0s - loss: 0.2932 - acc: 0.8621 - val_loss: 0.2927 - val_acc: 0.8638\n",
      "Epoch 153/200\n",
      "21746/21746 [==============================] - 0s - loss: 0.2940 - acc: 0.8603 - val_loss: 0.3105 - val_acc: 0.7958\n",
      "Epoch 154/200\n",
      "21746/21746 [==============================] - 0s - loss: 0.3204 - acc: 0.8579 - val_loss: 0.2888 - val_acc: 0.8641\n",
      "Epoch 155/200\n",
      "21746/21746 [==============================] - 0s - loss: 0.3008 - acc: 0.8592 - val_loss: 0.2991 - val_acc: 0.8652\n",
      "Epoch 156/200\n",
      "21746/21746 [==============================] - 0s - loss: 0.2972 - acc: 0.8576 - val_loss: 0.2866 - val_acc: 0.8639\n",
      "Epoch 157/200\n",
      "21746/21746 [==============================] - 0s - loss: 0.2910 - acc: 0.8614 - val_loss: 0.3158 - val_acc: 0.7971\n",
      "Epoch 158/200\n",
      "21746/21746 [==============================] - 0s - loss: 0.2929 - acc: 0.8614 - val_loss: 0.2824 - val_acc: 0.8641\n",
      "Epoch 159/200\n",
      "21746/21746 [==============================] - 0s - loss: 0.3244 - acc: 0.8555 - val_loss: 0.3631 - val_acc: 0.8629\n",
      "Epoch 160/200\n",
      "21746/21746 [==============================] - 0s - loss: 0.3234 - acc: 0.8553 - val_loss: 0.2910 - val_acc: 0.8639\n",
      "Epoch 161/200\n",
      "21746/21746 [==============================] - 0s - loss: 0.2917 - acc: 0.8625 - val_loss: 0.2866 - val_acc: 0.8645\n",
      "Epoch 162/200\n",
      "21746/21746 [==============================] - 0s - loss: 0.2943 - acc: 0.8603 - val_loss: 0.3250 - val_acc: 0.8637\n",
      "Epoch 163/200\n",
      "21746/21746 [==============================] - 0s - loss: 0.3233 - acc: 0.8537 - val_loss: 0.3182 - val_acc: 0.7993\n",
      "Epoch 164/200\n",
      "21746/21746 [==============================] - 0s - loss: 0.2961 - acc: 0.8574 - val_loss: 0.3202 - val_acc: 0.8637\n",
      "Epoch 165/200\n",
      "21746/21746 [==============================] - 0s - loss: 0.3103 - acc: 0.8556 - val_loss: 0.2861 - val_acc: 0.8644\n",
      "Epoch 166/200\n",
      "21746/21746 [==============================] - 0s - loss: 0.2888 - acc: 0.8635 - val_loss: 0.2841 - val_acc: 0.8643\n",
      "Epoch 167/200\n",
      "21746/21746 [==============================] - 0s - loss: 0.2932 - acc: 0.8621 - val_loss: 0.2947 - val_acc: 0.8652\n",
      "Epoch 168/200\n",
      "21746/21746 [==============================] - 0s - loss: 0.2983 - acc: 0.8562 - val_loss: 0.3621 - val_acc: 0.8191\n",
      "Epoch 169/200\n",
      "21746/21746 [==============================] - 0s - loss: 0.2895 - acc: 0.8620 - val_loss: 0.2818 - val_acc: 0.8642\n",
      "Epoch 170/200\n",
      "21746/21746 [==============================] - 0s - loss: 0.3086 - acc: 0.8565 - val_loss: 0.3345 - val_acc: 0.8637\n",
      "Epoch 171/200\n",
      "21746/21746 [==============================] - 0s - loss: 0.2989 - acc: 0.8550 - val_loss: 0.2805 - val_acc: 0.8643\n",
      "Epoch 172/200\n",
      "21746/21746 [==============================] - 0s - loss: 0.2897 - acc: 0.8613 - val_loss: 0.2835 - val_acc: 0.8642\n",
      "Epoch 173/200\n",
      "21746/21746 [==============================] - 0s - loss: 0.3039 - acc: 0.8539 - val_loss: 0.2800 - val_acc: 0.8643\n",
      "Epoch 174/200\n",
      "21746/21746 [==============================] - 0s - loss: 0.2947 - acc: 0.8595 - val_loss: 0.2974 - val_acc: 0.8640\n",
      "Epoch 175/200\n",
      "21746/21746 [==============================] - 0s - loss: 0.3042 - acc: 0.8517 - val_loss: 0.2927 - val_acc: 0.8654\n",
      "Epoch 176/200\n",
      "21746/21746 [==============================] - 0s - loss: 0.2887 - acc: 0.8596 - val_loss: 0.2830 - val_acc: 0.8642\n",
      "Epoch 177/200\n",
      "21746/21746 [==============================] - 0s - loss: 0.2908 - acc: 0.8580 - val_loss: 0.2838 - val_acc: 0.8642\n",
      "Epoch 178/200\n",
      "21746/21746 [==============================] - 0s - loss: 0.2884 - acc: 0.8597 - val_loss: 0.3254 - val_acc: 0.8638\n",
      "Epoch 179/200\n",
      "21746/21746 [==============================] - 0s - loss: 0.2981 - acc: 0.8551 - val_loss: 0.3065 - val_acc: 0.7967\n",
      "Epoch 180/200\n",
      "21746/21746 [==============================] - 0s - loss: 0.2920 - acc: 0.8568 - val_loss: 0.2838 - val_acc: 0.8642\n",
      "Epoch 181/200\n",
      "21746/21746 [==============================] - 0s - loss: 0.2923 - acc: 0.8598 - val_loss: 0.3045 - val_acc: 0.8639\n",
      "Epoch 182/200\n",
      "21746/21746 [==============================] - 0s - loss: 0.3098 - acc: 0.8591 - val_loss: 0.2893 - val_acc: 0.8641\n",
      "Epoch 183/200\n",
      "21746/21746 [==============================] - 0s - loss: 0.2980 - acc: 0.8574 - val_loss: 0.2910 - val_acc: 0.8641\n",
      "Epoch 184/200\n",
      "21746/21746 [==============================] - 0s - loss: 0.3083 - acc: 0.8482 - val_loss: 0.2837 - val_acc: 0.8642\n",
      "Epoch 185/200\n",
      "21746/21746 [==============================] - 0s - loss: 0.2898 - acc: 0.8585 - val_loss: 0.2848 - val_acc: 0.8650\n",
      "Epoch 186/200\n",
      "21746/21746 [==============================] - 0s - loss: 0.3007 - acc: 0.8541 - val_loss: 0.3390 - val_acc: 0.8638\n",
      "Epoch 187/200\n",
      "21746/21746 [==============================] - 0s - loss: 0.2909 - acc: 0.8592 - val_loss: 0.2786 - val_acc: 0.8643\n",
      "Epoch 188/200\n",
      "21746/21746 [==============================] - 0s - loss: 0.2897 - acc: 0.8578 - val_loss: 0.2914 - val_acc: 0.8641\n",
      "Epoch 189/200\n",
      "21746/21746 [==============================] - 0s - loss: 0.2873 - acc: 0.8597 - val_loss: 0.2829 - val_acc: 0.8643\n",
      "Epoch 190/200\n"
     ]
    },
    {
     "name": "stdout",
     "output_type": "stream",
     "text": [
      "21746/21746 [==============================] - 0s - loss: 0.2927 - acc: 0.8590 - val_loss: 0.2855 - val_acc: 0.8642\n",
      "Epoch 191/200\n",
      "21746/21746 [==============================] - 0s - loss: 0.2904 - acc: 0.8571 - val_loss: 0.2912 - val_acc: 0.8641\n",
      "Epoch 192/200\n",
      "21746/21746 [==============================] - 0s - loss: 0.3015 - acc: 0.8550 - val_loss: 0.3657 - val_acc: 0.8637\n",
      "Epoch 193/200\n",
      "21746/21746 [==============================] - 0s - loss: 0.2941 - acc: 0.8586 - val_loss: 0.2828 - val_acc: 0.8643\n",
      "Epoch 194/200\n",
      "21746/21746 [==============================] - 0s - loss: 0.2894 - acc: 0.8575 - val_loss: 0.3421 - val_acc: 0.8174\n",
      "Epoch 195/200\n",
      "21746/21746 [==============================] - 0s - loss: 0.2898 - acc: 0.8569 - val_loss: 0.3023 - val_acc: 0.8640\n",
      "Epoch 196/200\n",
      "21746/21746 [==============================] - 0s - loss: 0.2889 - acc: 0.8597 - val_loss: 0.2774 - val_acc: 0.8644\n",
      "Epoch 197/200\n",
      "21746/21746 [==============================] - 0s - loss: 0.2883 - acc: 0.8574 - val_loss: 0.2931 - val_acc: 0.7954\n",
      "Epoch 198/200\n",
      "21746/21746 [==============================] - 0s - loss: 0.2909 - acc: 0.8599 - val_loss: 0.2837 - val_acc: 0.8643\n",
      "Epoch 199/200\n",
      "21746/21746 [==============================] - 0s - loss: 0.2918 - acc: 0.8584 - val_loss: 0.2774 - val_acc: 0.8645\n",
      "Epoch 200/200\n",
      "21746/21746 [==============================] - 0s - loss: 0.2968 - acc: 0.8567 - val_loss: 0.3487 - val_acc: 0.8639\n"
     ]
    },
    {
     "data": {
      "text/plain": [
       "<keras.callbacks.History at 0x123818f98>"
      ]
     },
     "execution_count": 23,
     "metadata": {},
     "output_type": "execute_result"
    }
   ],
   "source": [
    "batch_size = 200\n",
    "epochs = 200\n",
    "model.fit(x_train,y_train,callbacks=[history_cb],validation_data=(x_test,y_test),verbose=1,epochs=epochs,batch_size=batch_size)"
   ]
  },
  {
   "cell_type": "code",
   "execution_count": 24,
   "metadata": {},
   "outputs": [
    {
     "name": "stdout",
     "output_type": "stream",
     "text": [
      "Validation score: 0.8638782559985062\n"
     ]
    }
   ],
   "source": [
    "# Measure accuracy\n",
    "pred = model.predict(x_test)\n",
    "pred = np.argmax(pred,axis=1)\n",
    "y_eval = np.argmax(y_test,axis=1)\n",
    "score = metrics.accuracy_score(y_eval, pred)\n",
    "print(\"Validation score: {}\".format(score))"
   ]
  },
  {
   "cell_type": "code",
   "execution_count": 25,
   "metadata": {},
   "outputs": [
    {
     "name": "stdout",
     "output_type": "stream",
     "text": [
      "Confusion Matrix:\n",
      "[[ 0.5552  0.    ]\n",
      " [ 0.1361  0.3087]]\n"
     ]
    }
   ],
   "source": [
    "from sklearn.metrics import classification_report,confusion_matrix\n",
    "Cm = confusion_matrix(y_eval,pred)\n",
    "C = np.sum(Cm)\n",
    "Cm = Cm/C\n",
    "print('Confusion Matrix:')\n",
    "print(np.array_str(Cm, precision=4, suppress_small=True))"
   ]
  },
  {
   "cell_type": "code",
   "execution_count": 26,
   "metadata": {},
   "outputs": [
    {
     "ename": "ValueError",
     "evalue": "x and y must have same first dimension, but have shapes (5,) and (200,)",
     "output_type": "error",
     "traceback": [
      "\u001b[0;31m---------------------------------------------------------------------------\u001b[0m",
      "\u001b[0;31mValueError\u001b[0m                                Traceback (most recent call last)",
      "\u001b[0;32m<ipython-input-26-39f30993c78a>\u001b[0m in \u001b[0;36m<module>\u001b[0;34m()\u001b[0m\n\u001b[1;32m      3\u001b[0m \u001b[0mepoch_it\u001b[0m \u001b[0;34m=\u001b[0m \u001b[0mnp\u001b[0m\u001b[0;34m.\u001b[0m\u001b[0marange\u001b[0m\u001b[0;34m(\u001b[0m\u001b[0;36m1\u001b[0m\u001b[0;34m,\u001b[0m\u001b[0;36m6\u001b[0m\u001b[0;34m)\u001b[0m\u001b[0;34m\u001b[0m\u001b[0m\n\u001b[1;32m      4\u001b[0m \u001b[0mplt\u001b[0m\u001b[0;34m.\u001b[0m\u001b[0msubplot\u001b[0m\u001b[0;34m(\u001b[0m\u001b[0;36m121\u001b[0m\u001b[0;34m)\u001b[0m\u001b[0;34m\u001b[0m\u001b[0m\n\u001b[0;32m----> 5\u001b[0;31m \u001b[0mplt\u001b[0m\u001b[0;34m.\u001b[0m\u001b[0mplot\u001b[0m\u001b[0;34m(\u001b[0m\u001b[0mepoch_it\u001b[0m\u001b[0;34m,\u001b[0m \u001b[0mvalAcc\u001b[0m\u001b[0;34m)\u001b[0m\u001b[0;34m\u001b[0m\u001b[0m\n\u001b[0m\u001b[1;32m      6\u001b[0m \u001b[0mplt\u001b[0m\u001b[0;34m.\u001b[0m\u001b[0mgrid\u001b[0m\u001b[0;34m(\u001b[0m\u001b[0;34m)\u001b[0m\u001b[0;34m\u001b[0m\u001b[0m\n\u001b[1;32m      7\u001b[0m \u001b[0mplt\u001b[0m\u001b[0;34m.\u001b[0m\u001b[0mxlabel\u001b[0m\u001b[0;34m(\u001b[0m\u001b[0;34m'Epoch'\u001b[0m\u001b[0;34m)\u001b[0m\u001b[0;34m\u001b[0m\u001b[0m\n",
      "\u001b[0;32m/anaconda/lib/python3.6/site-packages/matplotlib/pyplot.py\u001b[0m in \u001b[0;36mplot\u001b[0;34m(*args, **kwargs)\u001b[0m\n\u001b[1;32m   3315\u001b[0m                       mplDeprecation)\n\u001b[1;32m   3316\u001b[0m     \u001b[0;32mtry\u001b[0m\u001b[0;34m:\u001b[0m\u001b[0;34m\u001b[0m\u001b[0m\n\u001b[0;32m-> 3317\u001b[0;31m         \u001b[0mret\u001b[0m \u001b[0;34m=\u001b[0m \u001b[0max\u001b[0m\u001b[0;34m.\u001b[0m\u001b[0mplot\u001b[0m\u001b[0;34m(\u001b[0m\u001b[0;34m*\u001b[0m\u001b[0margs\u001b[0m\u001b[0;34m,\u001b[0m \u001b[0;34m**\u001b[0m\u001b[0mkwargs\u001b[0m\u001b[0;34m)\u001b[0m\u001b[0;34m\u001b[0m\u001b[0m\n\u001b[0m\u001b[1;32m   3318\u001b[0m     \u001b[0;32mfinally\u001b[0m\u001b[0;34m:\u001b[0m\u001b[0;34m\u001b[0m\u001b[0m\n\u001b[1;32m   3319\u001b[0m         \u001b[0max\u001b[0m\u001b[0;34m.\u001b[0m\u001b[0m_hold\u001b[0m \u001b[0;34m=\u001b[0m \u001b[0mwashold\u001b[0m\u001b[0;34m\u001b[0m\u001b[0m\n",
      "\u001b[0;32m/anaconda/lib/python3.6/site-packages/matplotlib/__init__.py\u001b[0m in \u001b[0;36minner\u001b[0;34m(ax, *args, **kwargs)\u001b[0m\n\u001b[1;32m   1896\u001b[0m                     warnings.warn(msg % (label_namer, func.__name__),\n\u001b[1;32m   1897\u001b[0m                                   RuntimeWarning, stacklevel=2)\n\u001b[0;32m-> 1898\u001b[0;31m             \u001b[0;32mreturn\u001b[0m \u001b[0mfunc\u001b[0m\u001b[0;34m(\u001b[0m\u001b[0max\u001b[0m\u001b[0;34m,\u001b[0m \u001b[0;34m*\u001b[0m\u001b[0margs\u001b[0m\u001b[0;34m,\u001b[0m \u001b[0;34m**\u001b[0m\u001b[0mkwargs\u001b[0m\u001b[0;34m)\u001b[0m\u001b[0;34m\u001b[0m\u001b[0m\n\u001b[0m\u001b[1;32m   1899\u001b[0m         \u001b[0mpre_doc\u001b[0m \u001b[0;34m=\u001b[0m \u001b[0minner\u001b[0m\u001b[0;34m.\u001b[0m\u001b[0m__doc__\u001b[0m\u001b[0;34m\u001b[0m\u001b[0m\n\u001b[1;32m   1900\u001b[0m         \u001b[0;32mif\u001b[0m \u001b[0mpre_doc\u001b[0m \u001b[0;32mis\u001b[0m \u001b[0;32mNone\u001b[0m\u001b[0;34m:\u001b[0m\u001b[0;34m\u001b[0m\u001b[0m\n",
      "\u001b[0;32m/anaconda/lib/python3.6/site-packages/matplotlib/axes/_axes.py\u001b[0m in \u001b[0;36mplot\u001b[0;34m(self, *args, **kwargs)\u001b[0m\n\u001b[1;32m   1404\u001b[0m         \u001b[0mkwargs\u001b[0m \u001b[0;34m=\u001b[0m \u001b[0mcbook\u001b[0m\u001b[0;34m.\u001b[0m\u001b[0mnormalize_kwargs\u001b[0m\u001b[0;34m(\u001b[0m\u001b[0mkwargs\u001b[0m\u001b[0;34m,\u001b[0m \u001b[0m_alias_map\u001b[0m\u001b[0;34m)\u001b[0m\u001b[0;34m\u001b[0m\u001b[0m\n\u001b[1;32m   1405\u001b[0m \u001b[0;34m\u001b[0m\u001b[0m\n\u001b[0;32m-> 1406\u001b[0;31m         \u001b[0;32mfor\u001b[0m \u001b[0mline\u001b[0m \u001b[0;32min\u001b[0m \u001b[0mself\u001b[0m\u001b[0;34m.\u001b[0m\u001b[0m_get_lines\u001b[0m\u001b[0;34m(\u001b[0m\u001b[0;34m*\u001b[0m\u001b[0margs\u001b[0m\u001b[0;34m,\u001b[0m \u001b[0;34m**\u001b[0m\u001b[0mkwargs\u001b[0m\u001b[0;34m)\u001b[0m\u001b[0;34m:\u001b[0m\u001b[0;34m\u001b[0m\u001b[0m\n\u001b[0m\u001b[1;32m   1407\u001b[0m             \u001b[0mself\u001b[0m\u001b[0;34m.\u001b[0m\u001b[0madd_line\u001b[0m\u001b[0;34m(\u001b[0m\u001b[0mline\u001b[0m\u001b[0;34m)\u001b[0m\u001b[0;34m\u001b[0m\u001b[0m\n\u001b[1;32m   1408\u001b[0m             \u001b[0mlines\u001b[0m\u001b[0;34m.\u001b[0m\u001b[0mappend\u001b[0m\u001b[0;34m(\u001b[0m\u001b[0mline\u001b[0m\u001b[0;34m)\u001b[0m\u001b[0;34m\u001b[0m\u001b[0m\n",
      "\u001b[0;32m/anaconda/lib/python3.6/site-packages/matplotlib/axes/_base.py\u001b[0m in \u001b[0;36m_grab_next_args\u001b[0;34m(self, *args, **kwargs)\u001b[0m\n\u001b[1;32m    405\u001b[0m                 \u001b[0;32mreturn\u001b[0m\u001b[0;34m\u001b[0m\u001b[0m\n\u001b[1;32m    406\u001b[0m             \u001b[0;32mif\u001b[0m \u001b[0mlen\u001b[0m\u001b[0;34m(\u001b[0m\u001b[0mremaining\u001b[0m\u001b[0;34m)\u001b[0m \u001b[0;34m<=\u001b[0m \u001b[0;36m3\u001b[0m\u001b[0;34m:\u001b[0m\u001b[0;34m\u001b[0m\u001b[0m\n\u001b[0;32m--> 407\u001b[0;31m                 \u001b[0;32mfor\u001b[0m \u001b[0mseg\u001b[0m \u001b[0;32min\u001b[0m \u001b[0mself\u001b[0m\u001b[0;34m.\u001b[0m\u001b[0m_plot_args\u001b[0m\u001b[0;34m(\u001b[0m\u001b[0mremaining\u001b[0m\u001b[0;34m,\u001b[0m \u001b[0mkwargs\u001b[0m\u001b[0;34m)\u001b[0m\u001b[0;34m:\u001b[0m\u001b[0;34m\u001b[0m\u001b[0m\n\u001b[0m\u001b[1;32m    408\u001b[0m                     \u001b[0;32myield\u001b[0m \u001b[0mseg\u001b[0m\u001b[0;34m\u001b[0m\u001b[0m\n\u001b[1;32m    409\u001b[0m                 \u001b[0;32mreturn\u001b[0m\u001b[0;34m\u001b[0m\u001b[0m\n",
      "\u001b[0;32m/anaconda/lib/python3.6/site-packages/matplotlib/axes/_base.py\u001b[0m in \u001b[0;36m_plot_args\u001b[0;34m(self, tup, kwargs)\u001b[0m\n\u001b[1;32m    383\u001b[0m             \u001b[0mx\u001b[0m\u001b[0;34m,\u001b[0m \u001b[0my\u001b[0m \u001b[0;34m=\u001b[0m \u001b[0mindex_of\u001b[0m\u001b[0;34m(\u001b[0m\u001b[0mtup\u001b[0m\u001b[0;34m[\u001b[0m\u001b[0;34m-\u001b[0m\u001b[0;36m1\u001b[0m\u001b[0;34m]\u001b[0m\u001b[0;34m)\u001b[0m\u001b[0;34m\u001b[0m\u001b[0m\n\u001b[1;32m    384\u001b[0m \u001b[0;34m\u001b[0m\u001b[0m\n\u001b[0;32m--> 385\u001b[0;31m         \u001b[0mx\u001b[0m\u001b[0;34m,\u001b[0m \u001b[0my\u001b[0m \u001b[0;34m=\u001b[0m \u001b[0mself\u001b[0m\u001b[0;34m.\u001b[0m\u001b[0m_xy_from_xy\u001b[0m\u001b[0;34m(\u001b[0m\u001b[0mx\u001b[0m\u001b[0;34m,\u001b[0m \u001b[0my\u001b[0m\u001b[0;34m)\u001b[0m\u001b[0;34m\u001b[0m\u001b[0m\n\u001b[0m\u001b[1;32m    386\u001b[0m \u001b[0;34m\u001b[0m\u001b[0m\n\u001b[1;32m    387\u001b[0m         \u001b[0;32mif\u001b[0m \u001b[0mself\u001b[0m\u001b[0;34m.\u001b[0m\u001b[0mcommand\u001b[0m \u001b[0;34m==\u001b[0m \u001b[0;34m'plot'\u001b[0m\u001b[0;34m:\u001b[0m\u001b[0;34m\u001b[0m\u001b[0m\n",
      "\u001b[0;32m/anaconda/lib/python3.6/site-packages/matplotlib/axes/_base.py\u001b[0m in \u001b[0;36m_xy_from_xy\u001b[0;34m(self, x, y)\u001b[0m\n\u001b[1;32m    242\u001b[0m         \u001b[0;32mif\u001b[0m \u001b[0mx\u001b[0m\u001b[0;34m.\u001b[0m\u001b[0mshape\u001b[0m\u001b[0;34m[\u001b[0m\u001b[0;36m0\u001b[0m\u001b[0;34m]\u001b[0m \u001b[0;34m!=\u001b[0m \u001b[0my\u001b[0m\u001b[0;34m.\u001b[0m\u001b[0mshape\u001b[0m\u001b[0;34m[\u001b[0m\u001b[0;36m0\u001b[0m\u001b[0;34m]\u001b[0m\u001b[0;34m:\u001b[0m\u001b[0;34m\u001b[0m\u001b[0m\n\u001b[1;32m    243\u001b[0m             raise ValueError(\"x and y must have same first dimension, but \"\n\u001b[0;32m--> 244\u001b[0;31m                              \"have shapes {} and {}\".format(x.shape, y.shape))\n\u001b[0m\u001b[1;32m    245\u001b[0m         \u001b[0;32mif\u001b[0m \u001b[0mx\u001b[0m\u001b[0;34m.\u001b[0m\u001b[0mndim\u001b[0m \u001b[0;34m>\u001b[0m \u001b[0;36m2\u001b[0m \u001b[0;32mor\u001b[0m \u001b[0my\u001b[0m\u001b[0;34m.\u001b[0m\u001b[0mndim\u001b[0m \u001b[0;34m>\u001b[0m \u001b[0;36m2\u001b[0m\u001b[0;34m:\u001b[0m\u001b[0;34m\u001b[0m\u001b[0m\n\u001b[1;32m    246\u001b[0m             raise ValueError(\"x and y can be no greater than 2-D, but have \"\n",
      "\u001b[0;31mValueError\u001b[0m: x and y must have same first dimension, but have shapes (5,) and (200,)"
     ]
    },
    {
     "data": {
      "image/png": "[encoded data removed]",
      "text/plain": [
       "<matplotlib.figure.Figure at 0x123c2d630>"
      ]
     },
     "metadata": {},
     "output_type": "display_data"
    }
   ],
   "source": [
    "valAcc = history_cb.val_acc\n",
    "valLoss = history_cb.val_loss\n",
    "epoch_it = np.arange(1,6)\n",
    "plt.subplot(121)\n",
    "plt.plot(epoch_it, valAcc)\n",
    "plt.grid()\n",
    "plt.xlabel('Epoch')\n",
    "plt.ylabel('Validation accuracy')\n",
    "plt.tight_layout()\n",
    "plt.subplot(122)\n",
    "plt.plot(epoch_it, valLoss)\n",
    "plt.grid()\n",
    "plt.xlabel('Epoch')\n",
    "plt.ylabel('Validation loss')\n",
    "plt.tight_layout()\n",
    "plt.show()"
   ]
  },
  {
   "cell_type": "code",
   "execution_count": null,
   "metadata": {},
   "outputs": [],
   "source": [
    "Ls = history_cb.losses\n",
    "Acc = history_cb.accs\n",
    "ntr = np.shape(x_train)[0]\n",
    "epochNum = []\n",
    "for i in range(390):\n",
    "    epochNum.append(i*100/ntr)\n",
    "\n",
    "matplotlib.pyplot.semilogy(epochNum, Ls)\n",
    "plt.grid()\n",
    "plt.xlabel('Epoch')\n",
    "plt.ylabel('Training Loss')\n",
    "plt.tight_layout()\n",
    "plt.show()"
   ]
  },
  {
   "cell_type": "code",
   "execution_count": null,
   "metadata": {},
   "outputs": [],
   "source": [
    "matplotlib.pyplot.semilogy(epochNum, Acc)\n",
    "# plt.plot(epochNum, Acc)\n",
    "plt.grid()\n",
    "plt.xlabel('Epoch')\n",
    "plt.ylabel('Training Accuracy')\n",
    "plt.tight_layout()\n",
    "# plt.axis([0.3,3,0.96,1])\n",
    "plt.show()\n",
    "\n"
   ]
  },
  {
   "cell_type": "code",
   "execution_count": null,
   "metadata": {
    "collapsed": true
   },
   "outputs": [],
   "source": []
  },
  {
   "cell_type": "code",
   "execution_count": null,
   "metadata": {
    "collapsed": true
   },
   "outputs": [],
   "source": [
    "# # Save & Load result\n",
    "# import os\n",
    "# import tensorflow as tf\n",
    "# saver = tf.train.Saver()"
   ]
  },
  {
   "cell_type": "code",
   "execution_count": null,
   "metadata": {
    "collapsed": true
   },
   "outputs": [],
   "source": [
    "# save_dir = 'checkpoints/' "
   ]
  },
  {
   "cell_type": "code",
   "execution_count": null,
   "metadata": {
    "collapsed": true
   },
   "outputs": [],
   "source": [
    "# if not os.path.exists(save_dir):\n",
    "#     os.makedirs(save_dir)"
   ]
  },
  {
   "cell_type": "code",
   "execution_count": null,
   "metadata": {
    "collapsed": true
   },
   "outputs": [],
   "source": [
    "# save_path = os.path.join(save_dir, 'best_validation')"
   ]
  },
  {
   "cell_type": "code",
   "execution_count": null,
   "metadata": {
    "collapsed": true
   },
   "outputs": [],
   "source": [
    "# saver.save(sess=session, save_path=save_path)"
   ]
  },
  {
   "cell_type": "code",
   "execution_count": null,
   "metadata": {
    "collapsed": true
   },
   "outputs": [],
   "source": [
    "# saver.restore(sess=session, save_path=save_path)"
   ]
  },
  {
   "cell_type": "code",
   "execution_count": null,
   "metadata": {
    "collapsed": true
   },
   "outputs": [],
   "source": [
    "# session.run(tf.global_variables_initializer())"
   ]
  },
  {
   "cell_type": "code",
   "execution_count": null,
   "metadata": {
    "collapsed": true
   },
   "outputs": [],
   "source": [
    "# print_test_accuracy(show_example_errors=True)"
   ]
  },
  {
   "cell_type": "code",
   "execution_count": null,
   "metadata": {
    "collapsed": true
   },
   "outputs": [],
   "source": []
  },
  {
   "cell_type": "code",
   "execution_count": null,
   "metadata": {
    "collapsed": true
   },
   "outputs": [],
   "source": []
  }
 ],
 "metadata": {
  "kernelspec": {
   "display_name": "Python 3",
   "language": "python",
   "name": "python3"
  },
  "language_info": {
   "codemirror_mode": {
    "name": "ipython",
    "version": 3
   },
   "file_extension": ".py",
   "mimetype": "text/x-python",
   "name": "python",
   "nbconvert_exporter": "python",
   "pygments_lexer": "ipython3",
   "version": "3.6.1"
  }
 },
 "nbformat": 4,
 "nbformat_minor": 2
}
